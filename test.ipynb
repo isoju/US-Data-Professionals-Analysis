{
 "cells": [
  {
   "cell_type": "code",
   "execution_count": 5,
   "source": [
    "import os\r\n",
    "import requests\r\n",
    "from splinter import Browser\r\n",
    "from bs4 import BeautifulSoup\r\n",
    "from webdriver_manager.chrome import ChromeDriverManager\r\n",
    "import pandas as pd"
   ],
   "outputs": [],
   "metadata": {}
  },
  {
   "cell_type": "code",
   "execution_count": 10,
   "source": [
    "url=\"https://money.cnn.com/news/specials/jobs/\"\r\n",
    "executable_path = {'executable_path': ChromeDriverManager().install()}\r\n",
    "browser = Browser('chrome', **executable_path, headless=False)\r\n",
    "browser.visit(url)\r\n",
    "html=browser.html\r\n",
    "soup = BeautifulSoup(html, 'html.parser')\r\n",
    "result=soup.find_all('div',class_='cnnHeadline')\r\n",
    "img=soup.find_all('a',class_='summaryImg')[0].find('img')['src']\r\n",
    "latest=result[0].find('a').text\r\n",
    "url=result[0].find('a')['href']\r\n",
    "print(\"https://money.cnn.com/\"+url)\r\n",
    "print(latest)\r\n",
    "print(img)\r\n",
    "browser.quit()\r\n"
   ],
   "outputs": [
    {
     "output_type": "stream",
     "name": "stderr",
     "text": [
      "\n",
      "\n",
      "====== WebDriver manager ======\n",
      "Current google-chrome version is 94.0.4606\n",
      "Get LATEST driver version for 94.0.4606\n",
      "Driver [C:\\Users\\frank\\.wdm\\drivers\\chromedriver\\win32\\94.0.4606.61\\chromedriver.exe] found in cache\n"
     ]
    },
    {
     "output_type": "stream",
     "name": "stdout",
     "text": [
      "https://money.cnn.com//2017/11/03/investing/wages-jobs/index.html\n",
      "\n",
      "Americans still waiting for a bigger raise\n",
      "\n",
      "https://i2.cdn.turner.com/money/dam/assets/170309103427-construction-workers-capitol-jobs-620xa.jpg\n"
     ]
    }
   ],
   "metadata": {}
  },
  {
   "cell_type": "code",
   "execution_count": null,
   "source": [],
   "outputs": [],
   "metadata": {}
  }
 ],
 "metadata": {
  "orig_nbformat": 4,
  "language_info": {
   "name": "python",
   "version": "3.8.5",
   "mimetype": "text/x-python",
   "codemirror_mode": {
    "name": "ipython",
    "version": 3
   },
   "pygments_lexer": "ipython3",
   "nbconvert_exporter": "python",
   "file_extension": ".py"
  },
  "kernelspec": {
   "name": "python3",
   "display_name": "Python 3.8.5 64-bit ('base': conda)"
  },
  "interpreter": {
   "hash": "0507ca4863d74825e19143f64061a0d98fde3c42611721bd9ba5ee5b8cfcb010"
  }
 },
 "nbformat": 4,
 "nbformat_minor": 2
}