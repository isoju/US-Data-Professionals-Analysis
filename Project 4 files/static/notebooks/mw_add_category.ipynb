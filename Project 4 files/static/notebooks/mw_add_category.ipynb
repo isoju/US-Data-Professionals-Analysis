{
 "cells": [
  {
   "cell_type": "code",
   "execution_count": 1,
   "metadata": {},
   "outputs": [],
   "source": [
    "import pandas as pd"
   ]
  },
  {
   "cell_type": "code",
   "execution_count": 2,
   "metadata": {},
   "outputs": [
    {
     "data": {
      "text/html": [
       "<div>\n",
       "<style scoped>\n",
       "    .dataframe tbody tr th:only-of-type {\n",
       "        vertical-align: middle;\n",
       "    }\n",
       "\n",
       "    .dataframe tbody tr th {\n",
       "        vertical-align: top;\n",
       "    }\n",
       "\n",
       "    .dataframe thead th {\n",
       "        text-align: right;\n",
       "    }\n",
       "</style>\n",
       "<table border=\"1\" class=\"dataframe\">\n",
       "  <thead>\n",
       "    <tr style=\"text-align: right;\">\n",
       "      <th></th>\n",
       "      <th>job_titles</th>\n",
       "    </tr>\n",
       "  </thead>\n",
       "  <tbody>\n",
       "    <tr>\n",
       "      <th>0</th>\n",
       "      <td>Data Analyst</td>\n",
       "    </tr>\n",
       "    <tr>\n",
       "      <th>1</th>\n",
       "      <td>Data Engineer</td>\n",
       "    </tr>\n",
       "    <tr>\n",
       "      <th>2</th>\n",
       "      <td>Data Scientist</td>\n",
       "    </tr>\n",
       "    <tr>\n",
       "      <th>3</th>\n",
       "      <td>Data Architect</td>\n",
       "    </tr>\n",
       "    <tr>\n",
       "      <th>4</th>\n",
       "      <td>Big Data Software Engineer</td>\n",
       "    </tr>\n",
       "    <tr>\n",
       "      <th>5</th>\n",
       "      <td>Machine Learning Engineer</td>\n",
       "    </tr>\n",
       "    <tr>\n",
       "      <th>6</th>\n",
       "      <td>Business Intelligence Analyst</td>\n",
       "    </tr>\n",
       "    <tr>\n",
       "      <th>7</th>\n",
       "      <td>Logistics Analyst</td>\n",
       "    </tr>\n",
       "    <tr>\n",
       "      <th>8</th>\n",
       "      <td>Business Systems Analyst</td>\n",
       "    </tr>\n",
       "    <tr>\n",
       "      <th>9</th>\n",
       "      <td>Marketing Analyst</td>\n",
       "    </tr>\n",
       "    <tr>\n",
       "      <th>10</th>\n",
       "      <td>Data Warehouse Manager</td>\n",
       "    </tr>\n",
       "    <tr>\n",
       "      <th>11</th>\n",
       "      <td>Database Manager</td>\n",
       "    </tr>\n",
       "    <tr>\n",
       "      <th>12</th>\n",
       "      <td>Data Modeler</td>\n",
       "    </tr>\n",
       "    <tr>\n",
       "      <th>13</th>\n",
       "      <td>Database Administrator</td>\n",
       "    </tr>\n",
       "    <tr>\n",
       "      <th>14</th>\n",
       "      <td>Quantitative Analyst</td>\n",
       "    </tr>\n",
       "    <tr>\n",
       "      <th>15</th>\n",
       "      <td>IT Systems Analyst</td>\n",
       "    </tr>\n",
       "    <tr>\n",
       "      <th>16</th>\n",
       "      <td>Statistician</td>\n",
       "    </tr>\n",
       "    <tr>\n",
       "      <th>17</th>\n",
       "      <td>Data Storyteller</td>\n",
       "    </tr>\n",
       "    <tr>\n",
       "      <th>18</th>\n",
       "      <td>Machine Learning Scientist</td>\n",
       "    </tr>\n",
       "    <tr>\n",
       "      <th>19</th>\n",
       "      <td>Business Intelligence Developer</td>\n",
       "    </tr>\n",
       "  </tbody>\n",
       "</table>\n",
       "</div>"
      ],
      "text/plain": [
       "                         job_titles\n",
       "0                      Data Analyst\n",
       "1                     Data Engineer\n",
       "2                    Data Scientist\n",
       "3                    Data Architect\n",
       "4        Big Data Software Engineer\n",
       "5         Machine Learning Engineer\n",
       "6     Business Intelligence Analyst\n",
       "7                 Logistics Analyst\n",
       "8          Business Systems Analyst\n",
       "9                 Marketing Analyst\n",
       "10           Data Warehouse Manager\n",
       "11                 Database Manager\n",
       "12                     Data Modeler\n",
       "13           Database Administrator\n",
       "14             Quantitative Analyst\n",
       "15               IT Systems Analyst\n",
       "16                     Statistician\n",
       "17                 Data Storyteller\n",
       "18       Machine Learning Scientist\n",
       "19  Business Intelligence Developer"
      ]
     },
     "execution_count": 2,
     "metadata": {},
     "output_type": "execute_result"
    }
   ],
   "source": [
    "# Job titles loading\n",
    "job_titles_df = pd.read_csv('../resources/job_titles.csv')\n",
    "job_titles_df"
   ]
  },
  {
   "cell_type": "code",
   "execution_count": 3,
   "metadata": {},
   "outputs": [
    {
     "data": {
      "text/plain": [
       "['Data Analyst',\n",
       " 'Data Engineer',\n",
       " 'Data Scientist',\n",
       " 'Data Architect',\n",
       " 'Big Data Software Engineer',\n",
       " 'Machine Learning Engineer',\n",
       " 'Business Intelligence Analyst',\n",
       " 'Logistics Analyst',\n",
       " 'Business Systems Analyst',\n",
       " 'Marketing Analyst',\n",
       " 'Data Warehouse Manager',\n",
       " 'Database Manager',\n",
       " 'Data Modeler',\n",
       " 'Database Administrator',\n",
       " 'Quantitative Analyst',\n",
       " 'IT Systems Analyst',\n",
       " 'Statistician',\n",
       " 'Data Storyteller',\n",
       " 'Machine Learning Scientist',\n",
       " 'Business Intelligence Developer']"
      ]
     },
     "execution_count": 3,
     "metadata": {},
     "output_type": "execute_result"
    }
   ],
   "source": [
    "categories = job_titles_df['job_titles'].to_list()\n",
    "filenames = job_titles_df['job_titles'].to_list()\n",
    "filenames =  list(map(lambda x: x.replace(' ', '_'), filenames))\n",
    "filenames =  list(map(lambda x: \"../resources/individual_job_listings/\" + x, filenames))\n",
    "filenames =  list(map(lambda x: x + \"_jobs.csv\", filenames))\n",
    "categories"
   ]
  },
  {
   "cell_type": "code",
   "execution_count": 4,
   "metadata": {},
   "outputs": [],
   "source": [
    "for index in range(len(categories)):\n",
    "    df = pd.read_csv(filenames[index])\n",
    "    df['Category']= categories[index]\n",
    "    df.to_csv(filenames[index],index=False)"
   ]
  },
  {
   "cell_type": "code",
   "execution_count": null,
   "metadata": {},
   "outputs": [],
   "source": []
  }
 ],
 "metadata": {
  "kernelspec": {
   "display_name": "Python 3",
   "language": "python",
   "name": "python3"
  },
  "language_info": {
   "codemirror_mode": {
    "name": "ipython",
    "version": 3
   },
   "file_extension": ".py",
   "mimetype": "text/x-python",
   "name": "python",
   "nbconvert_exporter": "python",
   "pygments_lexer": "ipython3",
   "version": "3.8.5"
  }
 },
 "nbformat": 4,
 "nbformat_minor": 4
}
