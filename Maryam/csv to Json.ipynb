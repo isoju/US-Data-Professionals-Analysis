{
 "cells": [
  {
   "cell_type": "code",
   "execution_count": 23,
   "id": "1c36561b",
   "metadata": {},
   "outputs": [],
   "source": [
    "import csv\n",
    "import json\n",
    " "
   ]
  },
  {
   "cell_type": "code",
   "execution_count": 24,
   "id": "90508877",
   "metadata": {},
   "outputs": [],
   "source": [
    "with open(\"Best_Jobs.csv\",\"r\") as f:\n",
    "        reader = csv.reader(f)\n",
    "        next(reader)\n",
    "        data={\"BestJobs\":[]}\n",
    "        for row in reader:\n",
    "            data[\"BestJobs\"].append({\"salary\":row[0],\"education\":row[1],\"crawled_at\":row[2],\n",
    "                                     \"description\":row[3],\"title\":row[4],\"skills\":row[5],\"country\":row[6],\n",
    "                                     \"locality\":row[7],\"posted_at\":row[8],\"longitude\":row[9],\n",
    "                                     \"postalCode\":row[10],\"experience\":row[11],\"address\":row[12],\n",
    "                                     \"latitude\":row[13],\"_id\":row[14],\"company\":row[15],\"region\":row[16],\n",
    "                                     \"employment_type\":row[17]})\n",
    "            \n",
    "        \n",
    "        "
   ]
  },
  {
   "cell_type": "code",
   "execution_count": 25,
   "id": "25398eea",
   "metadata": {},
   "outputs": [],
   "source": [
    "with open(\"names.json\",\"w\")as f:\n",
    "    json.dump(data,f,indent=4)"
   ]
  },
  {
   "cell_type": "code",
   "execution_count": null,
   "id": "50430c74",
   "metadata": {},
   "outputs": [],
   "source": []
  }
 ],
 "metadata": {
  "kernelspec": {
   "display_name": "Python 3",
   "language": "python",
   "name": "python3"
  },
  "language_info": {
   "codemirror_mode": {
    "name": "ipython",
    "version": 3
   },
   "file_extension": ".py",
   "mimetype": "text/x-python",
   "name": "python",
   "nbconvert_exporter": "python",
   "pygments_lexer": "ipython3",
   "version": "3.8.8"
  }
 },
 "nbformat": 4,
 "nbformat_minor": 5
}
