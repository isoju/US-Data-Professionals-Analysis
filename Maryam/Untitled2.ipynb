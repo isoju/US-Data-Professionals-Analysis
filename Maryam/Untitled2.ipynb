{
 "cells": [
  {
   "cell_type": "code",
   "execution_count": 1,
   "id": "117f77ce",
   "metadata": {},
   "outputs": [],
   "source": [
    "import pandas as pd"
   ]
  },
  {
   "cell_type": "code",
   "execution_count": 54,
   "id": "36d8e798",
   "metadata": {},
   "outputs": [
    {
     "data": {
      "text/plain": [
       "Scheduling                    2503\n",
       "Communication                 2070\n",
       "Customer Service              1949\n",
       "Sales                         1670\n",
       "Management                    1560\n",
       "Training                      1555\n",
       "Hardworking And Dedicated     1202\n",
       "Complex Problem Solving       1062\n",
       "Operations                     881\n",
       "Attention To Detail            876\n",
       "Self Motivation                842\n",
       "Coordinating                   840\n",
       "Leadership                     839\n",
       "Maintenance                    829\n",
       "Merchandising                  814\n",
       "Retailing                      765\n",
       "Health Care                    756\n",
       "Reports                        737\n",
       "Finance                        712\n",
       "Testing                        679\n",
       "Recruitment                    673\n",
       "Team-working                   667\n",
       "Nursing                        664\n",
       "Information Security           619\n",
       "Microsoft Excel                612\n",
       "English Language               607\n",
       "Verbal Communication           606\n",
       "Trustworthy                    595\n",
       "Administration                 575\n",
       "Registered Nurse Certified     559\n",
       "Accounting                     538\n",
       "Name: Skill, dtype: int64"
      ]
     },
     "execution_count": 54,
     "metadata": {},
     "output_type": "execute_result"
    }
   ],
   "source": [
    "file = \"Best_Jobs.csv\"\n",
    "\n",
    "\n",
    "df = pd.read_csv(file)\n",
    "skills_df=pd.read_csv(\"Top_Skills.csv\")\n",
    "skills_df['Skill']=skills_df['Skill'].str.strip()\n",
    "\n",
    "skills_df['Skill'].value_counts().head(31)\n"
   ]
  },
  {
   "cell_type": "code",
   "execution_count": 58,
   "id": "2f6eba8b",
   "metadata": {},
   "outputs": [
    {
     "data": {
      "text/plain": [
       "High School                                                                                                                                                                                   3024\n",
       "Bachelor's Degree                                                                                                                                                                             1027\n",
       "Associate's Degree                                                                                                                                                                             601\n",
       "4 Year Degree                                                                                                                                                                                  524\n",
       "Other                                                                                                                                                                                          381\n",
       "Vocational Certificate                                                                                                                                                                         168\n",
       "2 Year Degree                                                                                                                                                                                  164\n",
       "None                                                                                                                                                                                           111\n",
       "Master's Degree                                                                                                                                                                                 79\n",
       "Graduate Degree                                                                                                                                                                                 51\n",
       "Ph.D.                                                                                                                                                                                           20\n",
       " Calibri_MSFontService                                                                                                                                                                           6\n",
       "Doctorate                                                                                                                                                                                        5\n",
       " Arial                                                                                                                                                                                           2\n",
       "Some College                                                                                                                                                                                     2\n",
       " sans-serif; vertical-align: baseline;\"\" role=\"\"listitem\"\" data-leveltext=\"\"\"\" data-font=\"\"Symbol\"\" data-listid=\"\"5\"\" aria-setsize=\"\"-1\"\" data-aria-posinset=\"\"3\"\" data-aria-level=\"\"1\"\">       2\n",
       " skills and contribution</span></p>                                                                                                                                                              1\n",
       " mentoring and providing technical direction to a team of Salesforce developers<br />Experienced in designing and developing Salesforce platform features such as custom objects                 1\n",
       "serif; mso-fareast-font-family: 'Times New Roman'; color: black; mso-ansi-language: EN;\"\">     </span><span style=\"\"font-size: 10.0pt; font-family: 'Verdana'                                    1\n",
       "2021-04-29T01:12:44Z                                                                                                                                                                             1\n",
       "Menlo Park                                                                                                                                                                                       1\n",
       " sans-serif; vertical-align: baseline;\"\" role=\"\"listitem\"\" data-leveltext=\"\"\"\" data-font=\"\"Symbol\"\" data-listid=\"\"5\"\" aria-setsize=\"\"-1\"\" data-aria-posinset=\"\"4\"\" data-aria-level=\"\"1\"\">       1\n",
       " including criminal check and fingerprinting                                                                                                                                                     1\n",
       "2021-04-27T20:14:24Z                                                                                                                                                                             1\n",
       "Hamilton Township                                                                                                                                                                                1\n",
       " Arial_MSFontService                                                                                                                                                                             1\n",
       "2021-04-09T12:06:19Z                                                                                                                                                                             1\n",
       " Qualifications                                                                                                                                                                                  1\n",
       " performance management                                                                                                                                                                          1\n",
       " sans-serif; vertical-align: baseline;\"\" role=\"\"listitem\"\" data-leveltext=\"\"\"\" data-font=\"\"Symbol\"\" data-listid=\"\"5\"\" aria-setsize=\"\"-1\"\" data-aria-posinset=\"\"1\"\" data-aria-level=\"\"1\"\">       1\n",
       " sans-serif; vertical-align: baseline;\"\" role=\"\"listitem\"\" data-leveltext=\"\"\"\" data-font=\"\"Symbol\"\" data-listid=\"\"5\"\" aria-setsize=\"\"-1\"\" data-aria-posinset=\"\"2\"\" data-aria-level=\"\"1\"\">       1\n",
       "2021-04-30T09:44:40Z                                                                                                                                                                             1\n",
       " ICONMA prides itself on creating an employment environment that supports and encourages the abilities of all persons regardless of race                                                         1\n",
       "2021-04-05T18:41:04Z                                                                                                                                                                             1\n",
       " insured’s                                                                                                                                                                                       1\n",
       " please send your resume along with a cover letter to: <strong style=\"\"mso-bidi-font-weight: normal;\"\">Christine DeHart                                                                          1\n",
       "Name: education, dtype: int64"
      ]
     },
     "execution_count": 58,
     "metadata": {},
     "output_type": "execute_result"
    }
   ],
   "source": [
    "df.head()\n",
    "df['education'].value_counts()"
   ]
  },
  {
   "cell_type": "code",
   "execution_count": 3,
   "id": "75723c23",
   "metadata": {},
   "outputs": [
    {
     "data": {
      "text/plain": [
       "05/05/2021, 03:22:32                                                                                                                                                                                                                                                                                                                                                                                                                                                                                                                                                                                                                                                                 12\n",
       "05/05/2021, 03:15:25                                                                                                                                                                                                                                                                                                                                                                                                                                                                                                                                                                                                                                                                 11\n",
       "05/05/2021, 03:23:31                                                                                                                                                                                                                                                                                                                                                                                                                                                                                                                                                                                                                                                                 11\n",
       "05/05/2021, 03:23:39                                                                                                                                                                                                                                                                                                                                                                                                                                                                                                                                                                                                                                                                 11\n",
       "05/05/2021, 03:26:36                                                                                                                                                                                                                                                                                                                                                                                                                                                                                                                                                                                                                                                                 11\n",
       "                                                                                                                                                                                                                                                                                                                                                                                                                                                                                                                                                                                                                                                                                     ..\n",
       "sans-serif; mso-fareast-font-family: 'Times New Roman'; mso-bidi-font-family: 'Times New Roman'; color: black;\"\">Participate in the full-cycle software development process</span></p>                                                                                                                                                                                                                                                                                                                                                                                                                                                                                                1\n",
       "-84.46452                                                                                                                                                                                                                                                                                                                                                                                                                                                                                                                                                                                                                                                                             1\n",
       " sans-serif; font-kerning: none; line-height: 20.5042px;\"\"  [ Link Removed ] \"\"EN-US\"\" data-contrast=\"\"auto\"\"><span class=\"\"NormalTextRun SCXW205534629 BCX0\"\" style=\"\"margin: 0px; padding: 0px; user-select: text; -webkit-user-drag: none; -webkit-tap-highlight-color: transparent; background-color: inherit;\"\">Excellent written and oral presentation skills and the ability to multi-task and work in a fast-paced environment</span></span><span class=\"\"EOP SCXW205534629 BCX0\"\" style=\"\"margin: 0px; padding: 0px; user-select: text; -webkit-user-drag: none; -webkit-tap-highlight-color: transparent; font-size: 12pt; line-height: 20.5042px; font-family: Calibri     1\n",
       " mandatory drug testing                                                                                                                                                                                                                                                                                                                                                                                                                                                                                                                                                                                                                                                               1\n",
       "-97.74306                                                                                                                                                                                                                                                                                                                                                                                                                                                                                                                                                                                                                                                                             1\n",
       "Name: crawled_at, Length: 1599, dtype: int64"
      ]
     },
     "execution_count": 3,
     "metadata": {},
     "output_type": "execute_result"
    }
   ],
   "source": [
    "df['crawled_at'].value_counts()"
   ]
  },
  {
   "cell_type": "code",
   "execution_count": 4,
   "id": "5ced1403",
   "metadata": {},
   "outputs": [
    {
     "data": {
      "text/plain": [
       "Atlanta          179\n",
       "Chicago          124\n",
       "Houston          102\n",
       "New York          95\n",
       "Dallas            93\n",
       "Charlotte         86\n",
       "Phoenix           85\n",
       "Orlando           80\n",
       "Tampa             74\n",
       "Los Angeles       74\n",
       "St. Louis         71\n",
       "Jacksonville      65\n",
       "Memphis           57\n",
       "San Diego         57\n",
       "Indianapolis      56\n",
       "San Antonio       55\n",
       "Columbus          53\n",
       "Seattle           48\n",
       "Austin            47\n",
       "Cincinnati        47\n",
       "Washington        46\n",
       "Miami             45\n",
       "Philadelphia      45\n",
       "San Francisco     45\n",
       "Knoxville         44\n",
       "Portland          43\n",
       "Marietta          43\n",
       "Madison           42\n",
       "Nashville         42\n",
       "Boston            41\n",
       "Name: locality, dtype: int64"
      ]
     },
     "execution_count": 4,
     "metadata": {},
     "output_type": "execute_result"
    }
   ],
   "source": [
    "df['locality'].value_counts().head(30)"
   ]
  },
  {
   "cell_type": "code",
   "execution_count": 5,
   "id": "6000be5d",
   "metadata": {},
   "outputs": [
    {
     "data": {
      "text/plain": [
       "CUSTOMER SERVICE REPRESENTATIVE                                                                           205\n",
       "SALES FLOOR ASSOCIATE                                                                                     200\n",
       "Flatbed Truck Driving Job - Rider Policy Available                                                        115\n",
       "Sales Representative                                                                                       84\n",
       "KFC Team Member                                                                                            79\n",
       "                                                                                                         ... \n",
       "Sales Reps: 150-250K: Looking for a coachable leader!                                                       1\n",
       "Vice President, Provider Network Management - AZ and TX                                                     1\n",
       "Outreach Client Service Representative                                                                      1\n",
       "Critical Care Nurse Educator                                                                                1\n",
       "✨✨English Teachers for young learners, Teach Remotely. 🍒🍒Make up to $26/hr, Get hired within a week!🎇🎇      1\n",
       "Name: title, Length: 6366, dtype: int64"
      ]
     },
     "execution_count": 5,
     "metadata": {},
     "output_type": "execute_result"
    }
   ],
   "source": [
    "df['title'].value_counts()"
   ]
  },
  {
   "cell_type": "code",
   "execution_count": 7,
   "id": "923df7ba",
   "metadata": {},
   "outputs": [],
   "source": [
    "unique_skills = [val.strip() for sublist in df.skills.dropna().str.split(\",\").tolist() for val in sublist]"
   ]
  },
  {
   "cell_type": "code",
   "execution_count": 35,
   "id": "a70fee95",
   "metadata": {},
   "outputs": [
    {
     "ename": "KeyError",
     "evalue": "'skills'",
     "output_type": "error",
     "traceback": [
      "\u001b[0;31m---------------------------------------------------------------------------\u001b[0m",
      "\u001b[0;31mKeyError\u001b[0m                                  Traceback (most recent call last)",
      "\u001b[0;32m<ipython-input-35-5d04e3084fb4>\u001b[0m in \u001b[0;36m<module>\u001b[0;34m\u001b[0m\n\u001b[1;32m      7\u001b[0m \u001b[0;31m#seprated_skills_df.value_counts().head(50)\u001b[0m\u001b[0;34m\u001b[0m\u001b[0;34m\u001b[0m\u001b[0;34m\u001b[0m\u001b[0m\n\u001b[1;32m      8\u001b[0m \u001b[0;34m\u001b[0m\u001b[0m\n\u001b[0;32m----> 9\u001b[0;31m \u001b[0mseprated_skills_df\u001b[0m \u001b[0;34m=\u001b[0m \u001b[0mseprated_skills_df\u001b[0m\u001b[0;34m.\u001b[0m\u001b[0mgroupby\u001b[0m\u001b[0;34m(\u001b[0m\u001b[0;34m[\u001b[0m\u001b[0;34m'skills'\u001b[0m\u001b[0;34m]\u001b[0m\u001b[0;34m)\u001b[0m\u001b[0;34m\u001b[0m\u001b[0;34m\u001b[0m\u001b[0m\n\u001b[0m\u001b[1;32m     10\u001b[0m \u001b[0mseprated_skills_df\u001b[0m\u001b[0;34m\u001b[0m\u001b[0;34m\u001b[0m\u001b[0m\n\u001b[1;32m     11\u001b[0m \u001b[0;31m#seprated_skills_df.to_csv('Top_Skills.csv')\u001b[0m\u001b[0;34m\u001b[0m\u001b[0;34m\u001b[0m\u001b[0;34m\u001b[0m\u001b[0m\n",
      "\u001b[0;32m~/opt/anaconda3/lib/python3.8/site-packages/pandas/core/frame.py\u001b[0m in \u001b[0;36mgroupby\u001b[0;34m(self, by, axis, level, as_index, sort, group_keys, squeeze, observed, dropna)\u001b[0m\n\u001b[1;32m   6715\u001b[0m         \u001b[0maxis\u001b[0m \u001b[0;34m=\u001b[0m \u001b[0mself\u001b[0m\u001b[0;34m.\u001b[0m\u001b[0m_get_axis_number\u001b[0m\u001b[0;34m(\u001b[0m\u001b[0maxis\u001b[0m\u001b[0;34m)\u001b[0m\u001b[0;34m\u001b[0m\u001b[0;34m\u001b[0m\u001b[0m\n\u001b[1;32m   6716\u001b[0m \u001b[0;34m\u001b[0m\u001b[0m\n\u001b[0;32m-> 6717\u001b[0;31m         return DataFrameGroupBy(\n\u001b[0m\u001b[1;32m   6718\u001b[0m             \u001b[0mobj\u001b[0m\u001b[0;34m=\u001b[0m\u001b[0mself\u001b[0m\u001b[0;34m,\u001b[0m\u001b[0;34m\u001b[0m\u001b[0;34m\u001b[0m\u001b[0m\n\u001b[1;32m   6719\u001b[0m             \u001b[0mkeys\u001b[0m\u001b[0;34m=\u001b[0m\u001b[0mby\u001b[0m\u001b[0;34m,\u001b[0m\u001b[0;34m\u001b[0m\u001b[0;34m\u001b[0m\u001b[0m\n",
      "\u001b[0;32m~/opt/anaconda3/lib/python3.8/site-packages/pandas/core/groupby/groupby.py\u001b[0m in \u001b[0;36m__init__\u001b[0;34m(self, obj, keys, axis, level, grouper, exclusions, selection, as_index, sort, group_keys, squeeze, observed, mutated, dropna)\u001b[0m\n\u001b[1;32m    558\u001b[0m             \u001b[0;32mfrom\u001b[0m \u001b[0mpandas\u001b[0m\u001b[0;34m.\u001b[0m\u001b[0mcore\u001b[0m\u001b[0;34m.\u001b[0m\u001b[0mgroupby\u001b[0m\u001b[0;34m.\u001b[0m\u001b[0mgrouper\u001b[0m \u001b[0;32mimport\u001b[0m \u001b[0mget_grouper\u001b[0m\u001b[0;34m\u001b[0m\u001b[0;34m\u001b[0m\u001b[0m\n\u001b[1;32m    559\u001b[0m \u001b[0;34m\u001b[0m\u001b[0m\n\u001b[0;32m--> 560\u001b[0;31m             grouper, exclusions, obj = get_grouper(\n\u001b[0m\u001b[1;32m    561\u001b[0m                 \u001b[0mobj\u001b[0m\u001b[0;34m,\u001b[0m\u001b[0;34m\u001b[0m\u001b[0;34m\u001b[0m\u001b[0m\n\u001b[1;32m    562\u001b[0m                 \u001b[0mkeys\u001b[0m\u001b[0;34m,\u001b[0m\u001b[0;34m\u001b[0m\u001b[0;34m\u001b[0m\u001b[0m\n",
      "\u001b[0;32m~/opt/anaconda3/lib/python3.8/site-packages/pandas/core/groupby/grouper.py\u001b[0m in \u001b[0;36mget_grouper\u001b[0;34m(obj, key, axis, level, sort, observed, mutated, validate, dropna)\u001b[0m\n\u001b[1;32m    809\u001b[0m                 \u001b[0min_axis\u001b[0m\u001b[0;34m,\u001b[0m \u001b[0mname\u001b[0m\u001b[0;34m,\u001b[0m \u001b[0mlevel\u001b[0m\u001b[0;34m,\u001b[0m \u001b[0mgpr\u001b[0m \u001b[0;34m=\u001b[0m \u001b[0;32mFalse\u001b[0m\u001b[0;34m,\u001b[0m \u001b[0;32mNone\u001b[0m\u001b[0;34m,\u001b[0m \u001b[0mgpr\u001b[0m\u001b[0;34m,\u001b[0m \u001b[0;32mNone\u001b[0m\u001b[0;34m\u001b[0m\u001b[0;34m\u001b[0m\u001b[0m\n\u001b[1;32m    810\u001b[0m             \u001b[0;32melse\u001b[0m\u001b[0;34m:\u001b[0m\u001b[0;34m\u001b[0m\u001b[0;34m\u001b[0m\u001b[0m\n\u001b[0;32m--> 811\u001b[0;31m                 \u001b[0;32mraise\u001b[0m \u001b[0mKeyError\u001b[0m\u001b[0;34m(\u001b[0m\u001b[0mgpr\u001b[0m\u001b[0;34m)\u001b[0m\u001b[0;34m\u001b[0m\u001b[0;34m\u001b[0m\u001b[0m\n\u001b[0m\u001b[1;32m    812\u001b[0m         \u001b[0;32melif\u001b[0m \u001b[0misinstance\u001b[0m\u001b[0;34m(\u001b[0m\u001b[0mgpr\u001b[0m\u001b[0;34m,\u001b[0m \u001b[0mGrouper\u001b[0m\u001b[0;34m)\u001b[0m \u001b[0;32mand\u001b[0m \u001b[0mgpr\u001b[0m\u001b[0;34m.\u001b[0m\u001b[0mkey\u001b[0m \u001b[0;32mis\u001b[0m \u001b[0;32mnot\u001b[0m \u001b[0;32mNone\u001b[0m\u001b[0;34m:\u001b[0m\u001b[0;34m\u001b[0m\u001b[0;34m\u001b[0m\u001b[0m\n\u001b[1;32m    813\u001b[0m             \u001b[0;31m# Add key to exclusions\u001b[0m\u001b[0;34m\u001b[0m\u001b[0;34m\u001b[0m\u001b[0;34m\u001b[0m\u001b[0m\n",
      "\u001b[0;31mKeyError\u001b[0m: 'skills'"
     ]
    }
   ],
   "source": [
    "Skills_expanded =df['skills'].str.split(',', expand=True)\n",
    "Skills_expanded.columns = ['skills'+str(i) for i in Skills_expanded.columns]\n",
    "\n",
    "Skills_expanded_concat = pd.concat([df,Skills_expanded], axis=1)\n",
    "\n",
    "seprated_skills_df = pd.melt(Skills_expanded_concat, value_vars=Skills_expanded.columns, value_name='Skill').dropna()\n",
    "#seprated_skills_df.value_counts().head(50)\n",
    "\n",
    "seprated_skills_df = seprated_skills_df.groupby(['skills'])\n",
    "seprated_skills_df\n",
    "#seprated_skills_df.to_csv('Top_Skills.csv')"
   ]
  },
  {
   "cell_type": "code",
   "execution_count": 24,
   "id": "dfb00cff",
   "metadata": {
    "scrolled": false
   },
   "outputs": [
    {
     "data": {
      "text/plain": [
       "High School                                                                                                                                                                                   3024\n",
       "Bachelor's Degree                                                                                                                                                                             1027\n",
       "Associate's Degree                                                                                                                                                                             601\n",
       "4 Year Degree                                                                                                                                                                                  524\n",
       "Other                                                                                                                                                                                          381\n",
       "Vocational Certificate                                                                                                                                                                         168\n",
       "2 Year Degree                                                                                                                                                                                  164\n",
       "None                                                                                                                                                                                           111\n",
       "Master's Degree                                                                                                                                                                                 79\n",
       "Graduate Degree                                                                                                                                                                                 51\n",
       "Ph.D.                                                                                                                                                                                           20\n",
       " Calibri_MSFontService                                                                                                                                                                           6\n",
       "Doctorate                                                                                                                                                                                        5\n",
       " Arial                                                                                                                                                                                           2\n",
       "Some College                                                                                                                                                                                     2\n",
       " sans-serif; vertical-align: baseline;\"\" role=\"\"listitem\"\" data-leveltext=\"\"\"\" data-font=\"\"Symbol\"\" data-listid=\"\"5\"\" aria-setsize=\"\"-1\"\" data-aria-posinset=\"\"3\"\" data-aria-level=\"\"1\"\">       2\n",
       " skills and contribution</span></p>                                                                                                                                                              1\n",
       " mentoring and providing technical direction to a team of Salesforce developers<br />Experienced in designing and developing Salesforce platform features such as custom objects                 1\n",
       "serif; mso-fareast-font-family: 'Times New Roman'; color: black; mso-ansi-language: EN;\"\">     </span><span style=\"\"font-size: 10.0pt; font-family: 'Verdana'                                    1\n",
       "2021-04-29T01:12:44Z                                                                                                                                                                             1\n",
       "Menlo Park                                                                                                                                                                                       1\n",
       " sans-serif; vertical-align: baseline;\"\" role=\"\"listitem\"\" data-leveltext=\"\"\"\" data-font=\"\"Symbol\"\" data-listid=\"\"5\"\" aria-setsize=\"\"-1\"\" data-aria-posinset=\"\"4\"\" data-aria-level=\"\"1\"\">       1\n",
       " including criminal check and fingerprinting                                                                                                                                                     1\n",
       "2021-04-27T20:14:24Z                                                                                                                                                                             1\n",
       "Hamilton Township                                                                                                                                                                                1\n",
       " Arial_MSFontService                                                                                                                                                                             1\n",
       "2021-04-09T12:06:19Z                                                                                                                                                                             1\n",
       " Qualifications                                                                                                                                                                                  1\n",
       " performance management                                                                                                                                                                          1\n",
       " sans-serif; vertical-align: baseline;\"\" role=\"\"listitem\"\" data-leveltext=\"\"\"\" data-font=\"\"Symbol\"\" data-listid=\"\"5\"\" aria-setsize=\"\"-1\"\" data-aria-posinset=\"\"1\"\" data-aria-level=\"\"1\"\">       1\n",
       " sans-serif; vertical-align: baseline;\"\" role=\"\"listitem\"\" data-leveltext=\"\"\"\" data-font=\"\"Symbol\"\" data-listid=\"\"5\"\" aria-setsize=\"\"-1\"\" data-aria-posinset=\"\"2\"\" data-aria-level=\"\"1\"\">       1\n",
       "2021-04-30T09:44:40Z                                                                                                                                                                             1\n",
       " ICONMA prides itself on creating an employment environment that supports and encourages the abilities of all persons regardless of race                                                         1\n",
       "2021-04-05T18:41:04Z                                                                                                                                                                             1\n",
       " insured’s                                                                                                                                                                                       1\n",
       " please send your resume along with a cover letter to: <strong style=\"\"mso-bidi-font-weight: normal;\"\">Christine DeHart                                                                          1\n",
       "Name: education, dtype: int64"
      ]
     },
     "execution_count": 24,
     "metadata": {},
     "output_type": "execute_result"
    }
   ],
   "source": [
    "df['education'].value_counts()"
   ]
  },
  {
   "cell_type": "code",
   "execution_count": null,
   "id": "6cc99a00",
   "metadata": {},
   "outputs": [],
   "source": [
    "#\\df['skills'].value_counts()\n",
    "\n",
    "new = df[\"skills\"]\n",
    "new\n"
   ]
  },
  {
   "cell_type": "code",
   "execution_count": null,
   "id": "a6abea3b",
   "metadata": {},
   "outputs": [],
   "source": [
    "df.str.split()\n",
    "df"
   ]
  },
  {
   "cell_type": "code",
   "execution_count": null,
   "id": "bf9ded4f",
   "metadata": {},
   "outputs": [],
   "source": [
    " \n",
    "# new data frame with split value columns\n",
    "\n",
    "new =df[\"skills\"].str.split()\n",
    "new"
   ]
  },
  {
   "cell_type": "code",
   "execution_count": 27,
   "id": "5a806167",
   "metadata": {},
   "outputs": [
    {
     "ename": "NameError",
     "evalue": "name 'new' is not defined",
     "output_type": "error",
     "traceback": [
      "\u001b[0;31m---------------------------------------------------------------------------\u001b[0m",
      "\u001b[0;31mNameError\u001b[0m                                 Traceback (most recent call last)",
      "\u001b[0;32m<ipython-input-27-1ba12c47abe1>\u001b[0m in \u001b[0;36m<module>\u001b[0;34m\u001b[0m\n\u001b[0;32m----> 1\u001b[0;31m \u001b[0mdf\u001b[0m\u001b[0;34m[\u001b[0m\u001b[0;34m\"Skills\"\u001b[0m\u001b[0;34m]\u001b[0m \u001b[0;34m=\u001b[0m \u001b[0mpd\u001b[0m\u001b[0;34m.\u001b[0m\u001b[0mDataFrame\u001b[0m\u001b[0;34m(\u001b[0m\u001b[0mnew\u001b[0m\u001b[0;34m)\u001b[0m\u001b[0;34m\u001b[0m\u001b[0;34m\u001b[0m\u001b[0m\n\u001b[0m\u001b[1;32m      2\u001b[0m \u001b[0mdf\u001b[0m\u001b[0;34m[\u001b[0m\u001b[0;34m\"Skills\"\u001b[0m\u001b[0;34m]\u001b[0m\u001b[0;34m.\u001b[0m\u001b[0mvalue_counts\u001b[0m\u001b[0;34m(\u001b[0m\u001b[0;34m)\u001b[0m\u001b[0;34m.\u001b[0m\u001b[0mhead\u001b[0m\u001b[0;34m(\u001b[0m\u001b[0;36m50\u001b[0m\u001b[0;34m)\u001b[0m\u001b[0;34m\u001b[0m\u001b[0;34m\u001b[0m\u001b[0m\n",
      "\u001b[0;31mNameError\u001b[0m: name 'new' is not defined"
     ]
    }
   ],
   "source": [
    "df[\"Skills\"] = pd.DataFrame(new)\n",
    "df[\"Skills\"].value_counts().head(50)"
   ]
  },
  {
   "cell_type": "code",
   "execution_count": null,
   "id": "723b8151",
   "metadata": {},
   "outputs": [],
   "source": []
  }
 ],
 "metadata": {
  "kernelspec": {
   "display_name": "Python 3",
   "language": "python",
   "name": "python3"
  },
  "language_info": {
   "codemirror_mode": {
    "name": "ipython",
    "version": 3
   },
   "file_extension": ".py",
   "mimetype": "text/x-python",
   "name": "python",
   "nbconvert_exporter": "python",
   "pygments_lexer": "ipython3",
   "version": "3.8.8"
  }
 },
 "nbformat": 4,
 "nbformat_minor": 5
}
