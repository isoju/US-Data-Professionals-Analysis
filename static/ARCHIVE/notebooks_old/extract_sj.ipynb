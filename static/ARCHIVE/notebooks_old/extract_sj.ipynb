{
 "cells": [
  {
   "cell_type": "code",
   "execution_count": 1,
   "source": [
    "import numpy as np # linear algebra\r\n",
    "import pandas as pd # data processing, CSV file I/O (e.g. pd.read_csv)\r\n",
    "import json\r\n",
    "path=\"C:/Users/frank/OneDrive/Desktop/data_extract\""
   ],
   "outputs": [],
   "metadata": {}
  },
  {
   "cell_type": "code",
   "execution_count": 8,
   "source": [
    "jobs = pd.DataFrame()\r\n",
    "with open(\"marketing_sample_for_indeed_usa_com-indeed_usa_com_job__20201001_20201231__30k_data.ldjson\", 'r', encoding=\"utf8\") as f:\r\n",
    "    for i, line in enumerate(f):\r\n",
    "        try:\r\n",
    "            data = json.loads(line.strip('\\n'))\r\n",
    "            temp = pd.DataFrame([data], columns = data.keys())\r\n",
    "            jobs = pd.concat([jobs, temp], axis = 0)\r\n",
    "        except Exception as e:\r\n",
    "            print(e)"
   ],
   "outputs": [
    {
     "output_type": "stream",
     "name": "stdout",
     "text": [
      "Extra data: line 1 column 5459 (char 5458)\n"
     ]
    }
   ],
   "metadata": {}
  },
  {
   "cell_type": "code",
   "execution_count": 9,
   "source": [
    "jobs = jobs.reset_index(drop = True)\r\n",
    "print(jobs.shape)\r\n",
    "jobs.to_csv('resources/Indeed_Jobs_2020.csv', index = False)"
   ],
   "outputs": [
    {
     "output_type": "stream",
     "name": "stdout",
     "text": [
      "(29996, 48)\n"
     ]
    }
   ],
   "metadata": {}
  },
  {
   "cell_type": "code",
   "execution_count": 2,
   "source": [
    "import numpy as np # linear algebra\r\n",
    "import pandas as pd # data processing, CSV file I/O (e.g. pd.read_csv)\r\n",
    "\r\n",
    "df=pd.read_csv(\"resources/Indeed_Jobs_2020.csv\")"
   ],
   "outputs": [],
   "metadata": {}
  },
  {
   "cell_type": "code",
   "execution_count": 3,
   "source": [
    "df=df[[\"job_title\",\"category\",\"company_name\",\"city\",\"state\",\"country\",\"post_date\",\"job_type\",\"is_remote\",\"salary_offered\"]]"
   ],
   "outputs": [],
   "metadata": {}
  },
  {
   "cell_type": "code",
   "execution_count": 4,
   "source": [
    "cat=df[\"category\"].unique()\r\n",
    "cat"
   ],
   "outputs": [
    {
     "output_type": "execute_result",
     "data": {
      "text/plain": [
       "array(['Transportation-or-logistics', 'Healthcare', 'Retail',\n",
       "       'Administrative', 'Sales', 'Computer-or-internet',\n",
       "       'Human-Resources', 'Manufacturing-or-mechanical',\n",
       "       'Banking-or-loans', 'Education-or-training',\n",
       "       'Construction-or-facilities', 'Hospitality-or-travel',\n",
       "       'Customer-Service', 'Accounting-or-finance',\n",
       "       'Restaurant-or-food-Service', 'Non-profit/volunteering',\n",
       "       'Arts-or-entertainment-or-publishing',\n",
       "       'Upper-Management-or-consulting', 'Real-Estate',\n",
       "       'Engineering-or-architecture', 'Law-Enforcement-or-security',\n",
       "       'Insurance', 'Government-or-military',\n",
       "       'Marketing-or-advertising-or-pr', 'Pharmaceutical/bio-tech',\n",
       "       'Telecommunications', 'Legal'], dtype=object)"
      ]
     },
     "metadata": {},
     "execution_count": 4
    }
   ],
   "metadata": {}
  },
  {
   "cell_type": "code",
   "execution_count": 6,
   "source": [
    "p1=\"resources/Bachelors_degree_CSV.csv\"\r\n",
    "p2=\"resources/Masters_degree_CSV.csv\"\r\n",
    "p3=\"resources/Doctrate_degree_CSV.csv\"\r\n",
    "\r\n",
    "df1=pd.read_csv(p1)\r\n",
    "df2=pd.read_csv(p2)\r\n",
    "df3=pd.read_csv(p3)\r\n",
    "\r\n",
    "df3.drop([1,2,34,35,36,37,38],0,inplace=True);\r\n",
    "df2.drop([1,2,36,37,38,39,40],0,inplace=True);\r\n",
    "df1.drop([1,2,36,37,38,39,40],0,inplace=True);\r\n",
    "\r\n",
    "df1=df1.rename(columns=df1.iloc[0]).drop(df1.index[0])\r\n",
    "df2=df2.rename(columns=df2.iloc[0]).drop(df2.index[0])\r\n",
    "df3=df3.rename(columns=df3.iloc[0]).drop(df3.index[0])\r\n",
    "\r\n",
    "df1=df1.fillna(0)\r\n",
    "df2=df2.fillna(0)\r\n",
    "df3=df3.fillna(0)\r\n",
    "\r\n",
    "df1 = df1.replace(',','', regex=True)\r\n",
    "df2 = df2.replace(',','', regex=True)\r\n",
    "df3 = df3.replace(',','', regex=True)\r\n",
    "\r\n",
    "def change_dtype(value):\r\n",
    "      try:\r\n",
    "          return int(value)\r\n",
    "      except ValueError:\r\n",
    "          try:\r\n",
    "              return float(value)\r\n",
    "          except ValueError:\r\n",
    "              return value\r\n",
    "\r\n",
    "for column in df1.columns:\r\n",
    "      df1.loc[:, column] = df1[column].apply(change_dtype)\r\n",
    "for column in df2.columns:\r\n",
    "     df2.loc[:, column] = df2[column].apply(change_dtype)\r\n",
    "for column in df3.columns:\r\n",
    "      df3.loc[:, column] = df3[column].apply(change_dtype)"
   ],
   "outputs": [],
   "metadata": {}
  },
  {
   "cell_type": "code",
   "execution_count": 26,
   "source": [
    "Mdf=pd.concat([df1, df2,df3]).groupby(['Field of study']).sum().reset_index()\r\n",
    "# Mdf = Mdf.set_index('Field of study').T\r\n",
    "Mdf=Mdf.set_index('Field of study')\r\n",
    "\r\n",
    "Mdf=Mdf.rename(index={\"Business\\\\2\\\\\":\"Business\",\"Agriculture and natural resources\\\\1\\\\\":\"Agriculture and natural resources\",\"Engineering technologies\\\\3\\\\\":\"Engineering technologies\"})\r\n",
    "\r\n",
    "Mdf=Mdf.reset_index()"
   ],
   "outputs": [],
   "metadata": {}
  },
  {
   "cell_type": "code",
   "execution_count": 16,
   "source": [
    "Mdf.reindex()\r\n",
    "\r\n",
    "Mdf=Mdf.rename( index={'1970-71': 1971,'1975-76':1976,'1980-81':1981,'1985-86':1986,'1990-91':1991,'1975-76':1976,'1995-96':1996,'2000-01':2001,'2005-06':2006,'2009-10':2010,'2011-12':2012,'2012-13':2013,'2013-14':2014,'2014-15':2015,'2015-16':2016,'2016-17':2017,'2017-18':2018,\"2018-19\":2019,\"2010-11\":2011})"
   ],
   "outputs": [],
   "metadata": {}
  },
  {
   "cell_type": "code",
   "execution_count": 27,
   "source": [
    "Mdf['sum']=Mdf.sum(axis=1)"
   ],
   "outputs": [],
   "metadata": {}
  },
  {
   "cell_type": "code",
   "execution_count": 28,
   "source": [
    "Mdf=Mdf[[\"Field of study\",\"sum\"]]"
   ],
   "outputs": [],
   "metadata": {}
  },
  {
   "cell_type": "code",
   "execution_count": 29,
   "source": [
    "\r\n",
    "Mdict={\"Healthcare\":\"Health professions and related programs\",\"Retail\":\"Business\",\"Administrative\":\"Public administration and social services\",\"Transportation-or-logistics\":\"Transportation and materials moving\",\"Sales\":\"Business\",\"Computer-or-internet\":\"Computer and information sciences\",\"Human-Resources\":\"Public administration and social services\",\"Manufacturing-or-mechanical\":\"Engineering\",\"Banking-or-loans\":\"Business\",\"Education-or-training\":\"Education\",\"Construction-or-facilities\":\"Precision production\",\"Hospitality-or-travel\":\"Business\",\"Customer-Service\":\"Communication journalism and related programs \",\"Accounting-or-finance\":\"Business\",\"Restaurant-or-food-Service\":\"Business\",\"Non-profit/volunteering\":\"Public administration and social services\",\"Arts-or-entertainment-or-publishing\":\"English language and literature/letters\",\"Upper-Management-or-consulting\":\"Multi/interdisciplinary studies \",\"Real-Estate\":\"Family and consumer sciences/human sciences\",\"Engineering-or-architecture\":\"Architecture and related services\",\"Law-Enforcement-or-security\":\"Homeland security law enforcement and\\n   firefighting\",\"Insurance\":\"Business\",\"Government-or-military\":\"Homeland security law enforcement and\\n   firefighting \",\"Marketing-or-advertising-or-pr\":\"Business\",\"Pharmaceutical/bio-tech\":\"Biological and biomedical sciences\",\"Telecommunications\":\"Communications technologies\",\"Legal\":\"Legal professions and studies\"}\r\n",
    "keys=Mdict.keys()\r\n",
    "keys"
   ],
   "outputs": [
    {
     "output_type": "execute_result",
     "data": {
      "text/plain": [
       "dict_keys(['Healthcare', 'Retail', 'Administrative', 'Transportation-or-logistics', 'Sales', 'Computer-or-internet', 'Human-Resources', 'Manufacturing-or-mechanical', 'Banking-or-loans', 'Education-or-training', 'Construction-or-facilities', 'Hospitality-or-travel', 'Customer-Service', 'Accounting-or-finance', 'Restaurant-or-food-Service', 'Non-profit/volunteering', 'Arts-or-entertainment-or-publishing', 'Upper-Management-or-consulting', 'Real-Estate', 'Engineering-or-architecture', 'Law-Enforcement-or-security', 'Insurance', 'Government-or-military', 'Marketing-or-advertising-or-pr', 'Pharmaceutical/bio-tech', 'Telecommunications', 'Legal'])"
      ]
     },
     "metadata": {},
     "execution_count": 29
    }
   ],
   "metadata": {}
  },
  {
   "cell_type": "code",
   "execution_count": 30,
   "source": [
    "Mdf.columns\r\n"
   ],
   "outputs": [
    {
     "output_type": "execute_result",
     "data": {
      "text/plain": [
       "Index(['Field of study', 'sum'], dtype='object')"
      ]
     },
     "metadata": {},
     "execution_count": 30
    }
   ],
   "metadata": {}
  },
  {
   "cell_type": "code",
   "execution_count": 31,
   "source": [
    "df[\"Field of study\"]=\"\""
   ],
   "outputs": [],
   "metadata": {}
  },
  {
   "cell_type": "code",
   "execution_count": 32,
   "source": [
    "for key in keys:\r\n",
    "    df.loc[df[\"category\"]==key,\"Field of study\"]=Mdict[key]"
   ],
   "outputs": [],
   "metadata": {}
  },
  {
   "cell_type": "code",
   "execution_count": 33,
   "source": [
    "Merged_df=pd.merge(Mdf,df,on=\"Field of study\")"
   ],
   "outputs": [],
   "metadata": {}
  },
  {
   "cell_type": "code",
   "execution_count": 34,
   "source": [
    "Merged_df"
   ],
   "outputs": [
    {
     "output_type": "execute_result",
     "data": {
      "text/html": [
       "<div>\n",
       "<style scoped>\n",
       "    .dataframe tbody tr th:only-of-type {\n",
       "        vertical-align: middle;\n",
       "    }\n",
       "\n",
       "    .dataframe tbody tr th {\n",
       "        vertical-align: top;\n",
       "    }\n",
       "\n",
       "    .dataframe thead th {\n",
       "        text-align: right;\n",
       "    }\n",
       "</style>\n",
       "<table border=\"1\" class=\"dataframe\">\n",
       "  <thead>\n",
       "    <tr style=\"text-align: right;\">\n",
       "      <th></th>\n",
       "      <th>Field of study</th>\n",
       "      <th>sum</th>\n",
       "      <th>job_title</th>\n",
       "      <th>category</th>\n",
       "      <th>company_name</th>\n",
       "      <th>city</th>\n",
       "      <th>state</th>\n",
       "      <th>country</th>\n",
       "      <th>post_date</th>\n",
       "      <th>job_type</th>\n",
       "      <th>is_remote</th>\n",
       "      <th>salary_offered</th>\n",
       "    </tr>\n",
       "  </thead>\n",
       "  <tbody>\n",
       "    <tr>\n",
       "      <th>0</th>\n",
       "      <td>Architecture and related services</td>\n",
       "      <td>272090</td>\n",
       "      <td>Engineer I (Trans)</td>\n",
       "      <td>Engineering-or-architecture</td>\n",
       "      <td>Entergy</td>\n",
       "      <td>Little Rock</td>\n",
       "      <td>AR</td>\n",
       "      <td>US</td>\n",
       "      <td>2020-12-16</td>\n",
       "      <td>Full-time</td>\n",
       "      <td>False</td>\n",
       "      <td>NaN</td>\n",
       "    </tr>\n",
       "    <tr>\n",
       "      <th>1</th>\n",
       "      <td>Architecture and related services</td>\n",
       "      <td>272090</td>\n",
       "      <td>Research Technician</td>\n",
       "      <td>Engineering-or-architecture</td>\n",
       "      <td>Lydall</td>\n",
       "      <td>Rochester</td>\n",
       "      <td>NH</td>\n",
       "      <td>US</td>\n",
       "      <td>2020-11-23</td>\n",
       "      <td>Full-time</td>\n",
       "      <td>False</td>\n",
       "      <td>NaN</td>\n",
       "    </tr>\n",
       "    <tr>\n",
       "      <th>2</th>\n",
       "      <td>Architecture and related services</td>\n",
       "      <td>272090</td>\n",
       "      <td>Minerals Processing Engineer</td>\n",
       "      <td>Engineering-or-architecture</td>\n",
       "      <td>Barr Engineering</td>\n",
       "      <td>Salt Lake City</td>\n",
       "      <td>UT</td>\n",
       "      <td>US</td>\n",
       "      <td>2020-11-06</td>\n",
       "      <td>Full-time</td>\n",
       "      <td>False</td>\n",
       "      <td>NaN</td>\n",
       "    </tr>\n",
       "    <tr>\n",
       "      <th>3</th>\n",
       "      <td>Architecture and related services</td>\n",
       "      <td>272090</td>\n",
       "      <td>Dimensional Engineer --8784-3</td>\n",
       "      <td>Engineering-or-architecture</td>\n",
       "      <td>Solize USA Corporation</td>\n",
       "      <td>Warren</td>\n",
       "      <td>MI</td>\n",
       "      <td>US</td>\n",
       "      <td>2020-11-06</td>\n",
       "      <td>Full-time</td>\n",
       "      <td>True</td>\n",
       "      <td>NaN</td>\n",
       "    </tr>\n",
       "    <tr>\n",
       "      <th>4</th>\n",
       "      <td>Architecture and related services</td>\n",
       "      <td>272090</td>\n",
       "      <td>Senior Project Manager- City of Charlotte</td>\n",
       "      <td>Engineering-or-architecture</td>\n",
       "      <td>South Carolina Chapter of the American Plannin...</td>\n",
       "      <td>(function(_){_.__JS_ERROR__=[];_.onerror=funct...</td>\n",
       "      <td>'+'pageId:'+e+'</td>\n",
       "      <td>US</td>\n",
       "      <td>2020-12-08</td>\n",
       "      <td>Full-time</td>\n",
       "      <td>False</td>\n",
       "      <td>NaN</td>\n",
       "    </tr>\n",
       "    <tr>\n",
       "      <th>...</th>\n",
       "      <td>...</td>\n",
       "      <td>...</td>\n",
       "      <td>...</td>\n",
       "      <td>...</td>\n",
       "      <td>...</td>\n",
       "      <td>...</td>\n",
       "      <td>...</td>\n",
       "      <td>...</td>\n",
       "      <td>...</td>\n",
       "      <td>...</td>\n",
       "      <td>...</td>\n",
       "      <td>...</td>\n",
       "    </tr>\n",
       "    <tr>\n",
       "      <th>19582</th>\n",
       "      <td>Transportation and materials moving</td>\n",
       "      <td>80159</td>\n",
       "      <td>Receiving Clerk</td>\n",
       "      <td>Transportation-or-logistics</td>\n",
       "      <td>El Super Markets | El Super</td>\n",
       "      <td>(function(_){_.__JS_ERROR__=[];_.onerror=funct...</td>\n",
       "      <td>'+'pageId:'+e+'</td>\n",
       "      <td>US</td>\n",
       "      <td>2020-12-05</td>\n",
       "      <td>Full-time</td>\n",
       "      <td>False</td>\n",
       "      <td>NaN</td>\n",
       "    </tr>\n",
       "    <tr>\n",
       "      <th>19583</th>\n",
       "      <td>Transportation and materials moving</td>\n",
       "      <td>80159</td>\n",
       "      <td>Routing/Logistics Coordinator</td>\n",
       "      <td>Transportation-or-logistics</td>\n",
       "      <td>Mr. Brands, LLC.</td>\n",
       "      <td>Bristol</td>\n",
       "      <td>PA</td>\n",
       "      <td>US</td>\n",
       "      <td>2020-10-05</td>\n",
       "      <td>Full-time</td>\n",
       "      <td>False</td>\n",
       "      <td>Salary:</td>\n",
       "    </tr>\n",
       "    <tr>\n",
       "      <th>19584</th>\n",
       "      <td>Transportation and materials moving</td>\n",
       "      <td>80159</td>\n",
       "      <td>Starbucks Clerk</td>\n",
       "      <td>Transportation-or-logistics</td>\n",
       "      <td>Kroger Stores</td>\n",
       "      <td>Dallas</td>\n",
       "      <td>GA</td>\n",
       "      <td>US</td>\n",
       "      <td>2020-11-01</td>\n",
       "      <td>Part-time</td>\n",
       "      <td>False</td>\n",
       "      <td>NaN</td>\n",
       "    </tr>\n",
       "    <tr>\n",
       "      <th>19585</th>\n",
       "      <td>Transportation and materials moving</td>\n",
       "      <td>80159</td>\n",
       "      <td>Manager, Operations - Transportation</td>\n",
       "      <td>Transportation-or-logistics</td>\n",
       "      <td>FedEx Supply Chain</td>\n",
       "      <td>Columbus</td>\n",
       "      <td>OH</td>\n",
       "      <td>US</td>\n",
       "      <td>2020-11-06</td>\n",
       "      <td>Full-time</td>\n",
       "      <td>False</td>\n",
       "      <td>NaN</td>\n",
       "    </tr>\n",
       "    <tr>\n",
       "      <th>19586</th>\n",
       "      <td>Transportation and materials moving</td>\n",
       "      <td>80159</td>\n",
       "      <td>Hotel Part time Houseman/Shuttle Van Driver</td>\n",
       "      <td>Transportation-or-logistics</td>\n",
       "      <td>Fairfield by Marriott</td>\n",
       "      <td>Manchester</td>\n",
       "      <td>NH</td>\n",
       "      <td>US</td>\n",
       "      <td>2020-10-05</td>\n",
       "      <td>Part-time</td>\n",
       "      <td>False</td>\n",
       "      <td>Pay: $10.00 - $11.00 per hour</td>\n",
       "    </tr>\n",
       "  </tbody>\n",
       "</table>\n",
       "<p>19587 rows × 12 columns</p>\n",
       "</div>"
      ],
      "text/plain": [
       "                            Field of study     sum  \\\n",
       "0        Architecture and related services  272090   \n",
       "1        Architecture and related services  272090   \n",
       "2        Architecture and related services  272090   \n",
       "3        Architecture and related services  272090   \n",
       "4        Architecture and related services  272090   \n",
       "...                                    ...     ...   \n",
       "19582  Transportation and materials moving   80159   \n",
       "19583  Transportation and materials moving   80159   \n",
       "19584  Transportation and materials moving   80159   \n",
       "19585  Transportation and materials moving   80159   \n",
       "19586  Transportation and materials moving   80159   \n",
       "\n",
       "                                         job_title  \\\n",
       "0                               Engineer I (Trans)   \n",
       "1                              Research Technician   \n",
       "2                     Minerals Processing Engineer   \n",
       "3                    Dimensional Engineer --8784-3   \n",
       "4        Senior Project Manager- City of Charlotte   \n",
       "...                                            ...   \n",
       "19582                              Receiving Clerk   \n",
       "19583                Routing/Logistics Coordinator   \n",
       "19584                              Starbucks Clerk   \n",
       "19585         Manager, Operations - Transportation   \n",
       "19586  Hotel Part time Houseman/Shuttle Van Driver   \n",
       "\n",
       "                          category  \\\n",
       "0      Engineering-or-architecture   \n",
       "1      Engineering-or-architecture   \n",
       "2      Engineering-or-architecture   \n",
       "3      Engineering-or-architecture   \n",
       "4      Engineering-or-architecture   \n",
       "...                            ...   \n",
       "19582  Transportation-or-logistics   \n",
       "19583  Transportation-or-logistics   \n",
       "19584  Transportation-or-logistics   \n",
       "19585  Transportation-or-logistics   \n",
       "19586  Transportation-or-logistics   \n",
       "\n",
       "                                            company_name  \\\n",
       "0                                                Entergy   \n",
       "1                                                 Lydall   \n",
       "2                                       Barr Engineering   \n",
       "3                                 Solize USA Corporation   \n",
       "4      South Carolina Chapter of the American Plannin...   \n",
       "...                                                  ...   \n",
       "19582                        El Super Markets | El Super   \n",
       "19583                                   Mr. Brands, LLC.   \n",
       "19584                                      Kroger Stores   \n",
       "19585                                 FedEx Supply Chain   \n",
       "19586                              Fairfield by Marriott   \n",
       "\n",
       "                                                    city            state  \\\n",
       "0                                            Little Rock               AR   \n",
       "1                                              Rochester               NH   \n",
       "2                                         Salt Lake City               UT   \n",
       "3                                                 Warren               MI   \n",
       "4      (function(_){_.__JS_ERROR__=[];_.onerror=funct...  '+'pageId:'+e+'   \n",
       "...                                                  ...              ...   \n",
       "19582  (function(_){_.__JS_ERROR__=[];_.onerror=funct...  '+'pageId:'+e+'   \n",
       "19583                                            Bristol               PA   \n",
       "19584                                             Dallas               GA   \n",
       "19585                                           Columbus               OH   \n",
       "19586                                         Manchester               NH   \n",
       "\n",
       "      country   post_date   job_type  is_remote                 salary_offered  \n",
       "0          US  2020-12-16  Full-time      False                            NaN  \n",
       "1          US  2020-11-23  Full-time      False                            NaN  \n",
       "2          US  2020-11-06  Full-time      False                            NaN  \n",
       "3          US  2020-11-06  Full-time       True                            NaN  \n",
       "4          US  2020-12-08  Full-time      False                            NaN  \n",
       "...       ...         ...        ...        ...                            ...  \n",
       "19582      US  2020-12-05  Full-time      False                            NaN  \n",
       "19583      US  2020-10-05  Full-time      False                        Salary:  \n",
       "19584      US  2020-11-01  Part-time      False                            NaN  \n",
       "19585      US  2020-11-06  Full-time      False                            NaN  \n",
       "19586      US  2020-10-05  Part-time      False  Pay: $10.00 - $11.00 per hour  \n",
       "\n",
       "[19587 rows x 12 columns]"
      ]
     },
     "metadata": {},
     "execution_count": 34
    }
   ],
   "metadata": {}
  },
  {
   "cell_type": "code",
   "execution_count": 35,
   "source": [
    "Merged_df.to_csv('./Indeed_Jobs_with_major_2020.csv', index = False)"
   ],
   "outputs": [],
   "metadata": {}
  },
  {
   "cell_type": "code",
   "execution_count": null,
   "source": [],
   "outputs": [],
   "metadata": {}
  }
 ],
 "metadata": {
  "orig_nbformat": 4,
  "language_info": {
   "name": "python",
   "version": "3.8.5",
   "mimetype": "text/x-python",
   "codemirror_mode": {
    "name": "ipython",
    "version": 3
   },
   "pygments_lexer": "ipython3",
   "nbconvert_exporter": "python",
   "file_extension": ".py"
  },
  "kernelspec": {
   "name": "python3",
   "display_name": "Python 3.8.5 64-bit ('base': conda)"
  },
  "interpreter": {
   "hash": "0507ca4863d74825e19143f64061a0d98fde3c42611721bd9ba5ee5b8cfcb010"
  }
 },
 "nbformat": 4,
 "nbformat_minor": 2
}