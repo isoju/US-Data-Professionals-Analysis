{
 "cells": [
  {
   "cell_type": "code",
   "execution_count": 2,
   "metadata": {},
   "outputs": [],
   "source": [
    "import pandas as pd\n",
    "import numpy as np\n",
    "import plotly.express as px"
   ]
  },
  {
   "cell_type": "markdown",
   "metadata": {},
   "source": [
    "### Showing the cleaning steps for Best_jobs csv file"
   ]
  },
  {
   "cell_type": "code",
   "execution_count": 9,
   "metadata": {},
   "outputs": [],
   "source": [
    "df1 = pd.read_csv(\"../resources/Best_jobs.csv\")\n",
    "del df1['crawled_at']\n",
    "del df1['salary']\n",
    "df1['education'] = df1['education'].str.replace(\"4 Year Degree\",\"Bachelor's Degree\")\n",
    "df1['education'] = df1['education'].str.replace(\"2 Year Degree\",\"Associate's Degree\")\n",
    "df1['education'] = df1['education'].str.replace(\"None\",\"Other\")\n",
    "df1['education'] = df1['education'].str.replace(\"Some College\",\"Associate's Degree\")\n",
    "df1['education'] = df1['education'].str.replace(\"Ph.D.\",\"Doctorate\")\n",
    "df1['region'] = df1['region'].str.replace(\"Vega Baja\",\"PR\")\n",
    "df1['region'] = df1['region'].str.replace(\"Gurabo\",\"PR\")\n",
    "df1['region'] = df1['region'].str.replace(\"Juana Díaz\",\"PR\")\n",
    "df1['region'] = df1['region'].str.replace(\"San Juan\",\"PR\")\n",
    "df1['region'] = df1['region'].str.replace(\"Guaynabo\",\"PR\")\n",
    "df1['region'] = df1['region'].str.replace(\"St Croix\",\"US Virgin Islands\")\n",
    "df1['region'] = df1['region'].str.replace(\"St. Croix\",\"US Virgin Islands\")\n",
    "df1['region'] = df1['region'].str.replace(\"Vega Baja\",\"PR\")\n",
    "df1['region'] = df1['region'].str.replace(\"St. Thomas\",\"US Virgin Islands\")\n",
    "df1['education'] = df1['education'].str.replace(\"Graduate Degree\",\"Master's Degree\")\n",
    "df1 = df1.replace(np.nan, '', regex=True)\n",
    "df1.dropna(subset = [\"education\"], inplace=True)"
   ]
  },
  {
   "cell_type": "code",
   "execution_count": 11,
   "metadata": {},
   "outputs": [],
   "source": [
    "#Reading the Cleaned_Best_Jobs file \n",
    "degree_df = pd.read_csv('../resources/Cleaned_Best_Jobs.csv')"
   ]
  },
  {
   "cell_type": "code",
   "execution_count": 12,
   "metadata": {},
   "outputs": [],
   "source": [
    "#Deleting the rows that are not needed for this ananlysis\n",
    "del degree_df['Unnamed: 0']\n",
    "del degree_df['country']\n",
    "del degree_df['address']\n",
    "del degree_df['description']\n",
    "del degree_df['postalCode']\n",
    "del degree_df['experience']\n",
    "del degree_df['_id']\n"
   ]
  },
  {
   "cell_type": "code",
   "execution_count": 28,
   "metadata": {},
   "outputs": [
    {
     "data": {
      "text/html": [
       "<div>\n",
       "<style scoped>\n",
       "    .dataframe tbody tr th:only-of-type {\n",
       "        vertical-align: middle;\n",
       "    }\n",
       "\n",
       "    .dataframe tbody tr th {\n",
       "        vertical-align: top;\n",
       "    }\n",
       "\n",
       "    .dataframe thead th {\n",
       "        text-align: right;\n",
       "    }\n",
       "</style>\n",
       "<table border=\"1\" class=\"dataframe\">\n",
       "  <thead>\n",
       "    <tr style=\"text-align: right;\">\n",
       "      <th></th>\n",
       "      <th>education</th>\n",
       "      <th>title</th>\n",
       "      <th>skills</th>\n",
       "      <th>locality</th>\n",
       "      <th>posted_at</th>\n",
       "      <th>longitude</th>\n",
       "      <th>latitude</th>\n",
       "      <th>company</th>\n",
       "      <th>region</th>\n",
       "      <th>employment_type</th>\n",
       "    </tr>\n",
       "  </thead>\n",
       "  <tbody>\n",
       "    <tr>\n",
       "      <th>0</th>\n",
       "      <td>Bachelor's Degree</td>\n",
       "      <td>Head Start Teacher</td>\n",
       "      <td>Emergency Handling</td>\n",
       "      <td>Rochester</td>\n",
       "      <td>2021-04-21T20:20Z</td>\n",
       "      <td>-77.59785</td>\n",
       "      <td>43.15929</td>\n",
       "      <td>Action for a Better Community, Inc.</td>\n",
       "      <td>NY</td>\n",
       "      <td>FULL_TIME</td>\n",
       "    </tr>\n",
       "    <tr>\n",
       "      <th>1</th>\n",
       "      <td>Master's Degree</td>\n",
       "      <td>Teacher of English for Online Groups!</td>\n",
       "      <td>Vocabularies, Grammars, Teaching, Lesson Plann...</td>\n",
       "      <td>Atlanta</td>\n",
       "      <td>2021-04-16T04:49:23Z</td>\n",
       "      <td>-84.38799</td>\n",
       "      <td>33.74900</td>\n",
       "      <td>Magic Ears</td>\n",
       "      <td>GA</td>\n",
       "      <td>PART_TIME</td>\n",
       "    </tr>\n",
       "    <tr>\n",
       "      <th>2</th>\n",
       "      <td>Bachelor's Degree</td>\n",
       "      <td>CRM / PHP Developer</td>\n",
       "      <td>PHP (Scripting Language), Debugging, Web Servi...</td>\n",
       "      <td>Duluth</td>\n",
       "      <td>2021-04-29T13:59:47Z</td>\n",
       "      <td>-84.17516</td>\n",
       "      <td>34.04884</td>\n",
       "      <td>ExecuSource</td>\n",
       "      <td>GA</td>\n",
       "      <td>FULL_TIME</td>\n",
       "    </tr>\n",
       "    <tr>\n",
       "      <th>3</th>\n",
       "      <td>High School</td>\n",
       "      <td>Automotive Service Advisor / Driver</td>\n",
       "      <td>Driving, Service Delivery, Customer Service, A...</td>\n",
       "      <td>Topeka</td>\n",
       "      <td>2021-04-19T01:05:50Z</td>\n",
       "      <td>-95.68294</td>\n",
       "      <td>39.01264</td>\n",
       "      <td>Briggs Dodge Ram Fiat</td>\n",
       "      <td>KS</td>\n",
       "      <td>FULL_TIME</td>\n",
       "    </tr>\n",
       "    <tr>\n",
       "      <th>4</th>\n",
       "      <td>Bachelor's Degree</td>\n",
       "      <td>Licensed Nursing Home Administrator</td>\n",
       "      <td>Emergency Handling, Training, Accounting, Heal...</td>\n",
       "      <td>Harlingen</td>\n",
       "      <td>2021-04-13T14:38:05Z</td>\n",
       "      <td>-97.65767</td>\n",
       "      <td>26.16793</td>\n",
       "      <td>Regency Integrated Health Services</td>\n",
       "      <td>TX</td>\n",
       "      <td>FULL_TIME</td>\n",
       "    </tr>\n",
       "    <tr>\n",
       "      <th>...</th>\n",
       "      <td>...</td>\n",
       "      <td>...</td>\n",
       "      <td>...</td>\n",
       "      <td>...</td>\n",
       "      <td>...</td>\n",
       "      <td>...</td>\n",
       "      <td>...</td>\n",
       "      <td>...</td>\n",
       "      <td>...</td>\n",
       "      <td>...</td>\n",
       "    </tr>\n",
       "    <tr>\n",
       "      <th>10483</th>\n",
       "      <td>Bachelor's Degree</td>\n",
       "      <td>Network Administrator</td>\n",
       "      <td>Storage (Computing), Networking, Maintenance, ...</td>\n",
       "      <td>Troy</td>\n",
       "      <td>2021-04-23T11:58:48Z</td>\n",
       "      <td>-83.14977</td>\n",
       "      <td>42.60641</td>\n",
       "      <td>ICONMA</td>\n",
       "      <td>MI</td>\n",
       "      <td>FULL_TIME</td>\n",
       "    </tr>\n",
       "    <tr>\n",
       "      <th>10484</th>\n",
       "      <td></td>\n",
       "      <td>Lead Direct Support Professional - LDSP</td>\n",
       "      <td>Developmental Disabilities, Intellectual Disab...</td>\n",
       "      <td>Portland</td>\n",
       "      <td>2021-04-23T16:25:12Z</td>\n",
       "      <td>-122.82470</td>\n",
       "      <td>45.52726</td>\n",
       "      <td>Community Services Inc.</td>\n",
       "      <td>OR</td>\n",
       "      <td>FULL_TIME</td>\n",
       "    </tr>\n",
       "    <tr>\n",
       "      <th>10485</th>\n",
       "      <td>High School</td>\n",
       "      <td>Student Dorm Advisor</td>\n",
       "      <td></td>\n",
       "      <td>Manchester</td>\n",
       "      <td>2021-04-12T16:45:38Z</td>\n",
       "      <td>-71.50194</td>\n",
       "      <td>43.02410</td>\n",
       "      <td>Adams and Associates, Inc.</td>\n",
       "      <td>NH</td>\n",
       "      <td>FULL_TIME</td>\n",
       "    </tr>\n",
       "    <tr>\n",
       "      <th>10486</th>\n",
       "      <td></td>\n",
       "      <td>Life Insurance Sales Position</td>\n",
       "      <td>Life Insurance, Insurance, Success Driven, Mor...</td>\n",
       "      <td>Peoria</td>\n",
       "      <td>2021-04-15T01:07:38Z</td>\n",
       "      <td>-89.58899</td>\n",
       "      <td>40.69365</td>\n",
       "      <td>Family First Life Compassion</td>\n",
       "      <td>IL</td>\n",
       "      <td>FULL_TIME</td>\n",
       "    </tr>\n",
       "    <tr>\n",
       "      <th>10487</th>\n",
       "      <td></td>\n",
       "      <td>Collections Specialist</td>\n",
       "      <td>Loans, Mortgage Loans, Loss Mitigation, Custom...</td>\n",
       "      <td>Boise</td>\n",
       "      <td>2021-04-28T13:13:42Z</td>\n",
       "      <td>-116.20590</td>\n",
       "      <td>43.61970</td>\n",
       "      <td>Idaho Housing and Finance Association</td>\n",
       "      <td>ID</td>\n",
       "      <td>FULL_TIME</td>\n",
       "    </tr>\n",
       "  </tbody>\n",
       "</table>\n",
       "<p>10488 rows × 10 columns</p>\n",
       "</div>"
      ],
      "text/plain": [
       "               education                                    title  \\\n",
       "0      Bachelor's Degree                       Head Start Teacher   \n",
       "1        Master's Degree    Teacher of English for Online Groups!   \n",
       "2      Bachelor's Degree                      CRM / PHP Developer   \n",
       "3            High School      Automotive Service Advisor / Driver   \n",
       "4      Bachelor's Degree      Licensed Nursing Home Administrator   \n",
       "...                  ...                                      ...   \n",
       "10483  Bachelor's Degree                    Network Administrator   \n",
       "10484                     Lead Direct Support Professional - LDSP   \n",
       "10485        High School                     Student Dorm Advisor   \n",
       "10486                               Life Insurance Sales Position   \n",
       "10487                                      Collections Specialist   \n",
       "\n",
       "                                                  skills    locality  \\\n",
       "0                                     Emergency Handling   Rochester   \n",
       "1      Vocabularies, Grammars, Teaching, Lesson Plann...     Atlanta   \n",
       "2      PHP (Scripting Language), Debugging, Web Servi...      Duluth   \n",
       "3      Driving, Service Delivery, Customer Service, A...      Topeka   \n",
       "4      Emergency Handling, Training, Accounting, Heal...   Harlingen   \n",
       "...                                                  ...         ...   \n",
       "10483  Storage (Computing), Networking, Maintenance, ...        Troy   \n",
       "10484  Developmental Disabilities, Intellectual Disab...    Portland   \n",
       "10485                                                     Manchester   \n",
       "10486  Life Insurance, Insurance, Success Driven, Mor...      Peoria   \n",
       "10487  Loans, Mortgage Loans, Loss Mitigation, Custom...       Boise   \n",
       "\n",
       "                  posted_at  longitude  latitude  \\\n",
       "0         2021-04-21T20:20Z  -77.59785  43.15929   \n",
       "1      2021-04-16T04:49:23Z  -84.38799  33.74900   \n",
       "2      2021-04-29T13:59:47Z  -84.17516  34.04884   \n",
       "3      2021-04-19T01:05:50Z  -95.68294  39.01264   \n",
       "4      2021-04-13T14:38:05Z  -97.65767  26.16793   \n",
       "...                     ...        ...       ...   \n",
       "10483  2021-04-23T11:58:48Z  -83.14977  42.60641   \n",
       "10484  2021-04-23T16:25:12Z -122.82470  45.52726   \n",
       "10485  2021-04-12T16:45:38Z  -71.50194  43.02410   \n",
       "10486  2021-04-15T01:07:38Z  -89.58899  40.69365   \n",
       "10487  2021-04-28T13:13:42Z -116.20590  43.61970   \n",
       "\n",
       "                                     company region employment_type  \n",
       "0        Action for a Better Community, Inc.     NY       FULL_TIME  \n",
       "1                                 Magic Ears     GA       PART_TIME  \n",
       "2                                ExecuSource     GA       FULL_TIME  \n",
       "3                      Briggs Dodge Ram Fiat     KS       FULL_TIME  \n",
       "4         Regency Integrated Health Services     TX       FULL_TIME  \n",
       "...                                      ...    ...             ...  \n",
       "10483                                 ICONMA     MI       FULL_TIME  \n",
       "10484                Community Services Inc.     OR       FULL_TIME  \n",
       "10485             Adams and Associates, Inc.     NH       FULL_TIME  \n",
       "10486           Family First Life Compassion     IL       FULL_TIME  \n",
       "10487  Idaho Housing and Finance Association     ID       FULL_TIME  \n",
       "\n",
       "[10488 rows x 10 columns]"
      ]
     },
     "execution_count": 28,
     "metadata": {},
     "output_type": "execute_result"
    }
   ],
   "source": [
    "degree_df = degree_df.replace(np.nan, '', regex=True)\n",
    "degree_df"
   ]
  },
  {
   "cell_type": "code",
   "execution_count": 29,
   "metadata": {},
   "outputs": [
    {
     "data": {
      "text/plain": [
       "array([\"Bachelor's Degree\", \"Master's Degree\", 'High School', '', 'Other',\n",
       "       \"Associate's Degree\", 'Doctorate', 'Vocational Certificate'],\n",
       "      dtype=object)"
      ]
     },
     "execution_count": 29,
     "metadata": {},
     "output_type": "execute_result"
    }
   ],
   "source": [
    "#Showing Unique Degrees \n",
    "degree_df.education.unique()"
   ]
  },
  {
   "cell_type": "code",
   "execution_count": 30,
   "metadata": {},
   "outputs": [
    {
     "data": {
      "text/plain": [
       "education\n",
       "                          4338\n",
       "Associate's Degree         767\n",
       "Bachelor's Degree         1547\n",
       "Doctorate                   25\n",
       "High School               3023\n",
       "Master's Degree            128\n",
       "Other                      492\n",
       "Vocational Certificate     168\n",
       "Name: title, dtype: int64"
      ]
     },
     "execution_count": 30,
     "metadata": {},
     "output_type": "execute_result"
    }
   ],
   "source": [
    "degree_df.groupby('education')['title'].count()"
   ]
  },
  {
   "cell_type": "markdown",
   "metadata": {},
   "source": [
    "### Bar chart of job opening based on the education"
   ]
  },
  {
   "cell_type": "code",
   "execution_count": 31,
   "metadata": {},
   "outputs": [
    {
     "data": {
      "text/plain": [
       "<AxesSubplot:xlabel='education'>"
      ]
     },
     "execution_count": 31,
     "metadata": {},
     "output_type": "execute_result"
    },
    {
     "data": {
      "image/png": "[encoded data removed]",
      "text/plain": [
       "<Figure size 432x288 with 1 Axes>"
      ]
     },
     "metadata": {
      "needs_background": "light"
     },
     "output_type": "display_data"
    }
   ],
   "source": [
    "degree_df.groupby(['education']).size().plot(kind = \"bar\", color='r', edgecolor='g')"
   ]
  },
  {
   "cell_type": "code",
   "execution_count": 32,
   "metadata": {},
   "outputs": [
    {
     "data": {
      "text/plain": [
       "array(['FULL_TIME', 'PART_TIME', 'CONTRACTOR', 'OTHER', 'TEMPORARY',\n",
       "       'PER_DIEM', 'FULL_TIME, PART_TIME', 'INTERN'], dtype=object)"
      ]
     },
     "execution_count": 32,
     "metadata": {},
     "output_type": "execute_result"
    }
   ],
   "source": [
    "degree_df['employment_type'].unique()"
   ]
  },
  {
   "cell_type": "code",
   "execution_count": 33,
   "metadata": {},
   "outputs": [
    {
     "data": {
      "text/plain": [
       "FULL_TIME               8810\n",
       "CONTRACTOR               589\n",
       "PART_TIME                377\n",
       "TEMPORARY                318\n",
       "FULL_TIME, PART_TIME     298\n",
       "PER_DIEM                  86\n",
       "INTERN                     9\n",
       "OTHER                      1\n",
       "Name: employment_type, dtype: int64"
      ]
     },
     "execution_count": 33,
     "metadata": {},
     "output_type": "execute_result"
    }
   ],
   "source": [
    "degree_df['employment_type'].value_counts()"
   ]
  },
  {
   "cell_type": "markdown",
   "metadata": {},
   "source": [
    "### Bar chart of job openings based on employment_type"
   ]
  },
  {
   "cell_type": "code",
   "execution_count": 34,
   "metadata": {},
   "outputs": [
    {
     "data": {
      "image/png": "[encoded data removed]",
      "text/plain": [
       "<Figure size 432x288 with 1 Axes>"
      ]
     },
     "metadata": {
      "needs_background": "light"
     },
     "output_type": "display_data"
    }
   ],
   "source": [
    "degree_df['employment_type'].value_counts().plot(kind='bar', color='g', edgecolor='r');"
   ]
  },
  {
   "cell_type": "code",
   "execution_count": 35,
   "metadata": {},
   "outputs": [
    {
     "data": {
      "application/vnd.plotly.v1+json": {
       "config": {
        "plotlyServerURL": "https://plot.ly"
       },
       "data": [
        {
         "alignmentgroup": "True",
         "hovertemplate": "region=%{x}<br>y=%{y}<extra></extra>",
         "legendgroup": "",
         "marker": {
          "color": "#636efa",
          "pattern": {
           "shape": ""
          }
         },
         "name": "",
         "offsetgroup": "",
         "orientation": "v",
         "showlegend": false,
         "textposition": "auto",
         "type": "bar",
         "x": [
          ""
         ],
         "xaxis": "x",
         "y": [
          2
         ],
         "yaxis": "y"
        },
        {
         "alignmentgroup": "True",
         "hovertemplate": "region=%{x}<br>y=%{y}<extra></extra>",
         "legendgroup": "AK",
         "marker": {
          "color": "#EF553B",
          "pattern": {
           "shape": ""
          }
         },
         "name": "AK",
         "offsetgroup": "AK",
         "orientation": "v",
         "showlegend": true,
         "textposition": "auto",
         "type": "bar",
         "x": [
          "AK"
         ],
         "xaxis": "x",
         "y": [
          12
         ],
         "yaxis": "y"
        },
        {
         "alignmentgroup": "True",
         "hovertemplate": "region=%{x}<br>y=%{y}<extra></extra>",
         "legendgroup": "AL",
         "marker": {
          "color": "#00cc96",
          "pattern": {
           "shape": ""
          }
         },
         "name": "AL",
         "offsetgroup": "AL",
         "orientation": "v",
         "showlegend": true,
         "textposition": "auto",
         "type": "bar",
         "x": [
          "AL"
         ],
         "xaxis": "x",
         "y": [
          141
         ],
         "yaxis": "y"
        },
        {
         "alignmentgroup": "True",
         "hovertemplate": "region=%{x}<br>y=%{y}<extra></extra>",
         "legendgroup": "AR",
         "marker": {
          "color": "#ab63fa",
          "pattern": {
           "shape": ""
          }
         },
         "name": "AR",
         "offsetgroup": "AR",
         "orientation": "v",
         "showlegend": true,
         "textposition": "auto",
         "type": "bar",
         "x": [
          "AR"
         ],
         "xaxis": "x",
         "y": [
          83
         ],
         "yaxis": "y"
        },
        {
         "alignmentgroup": "True",
         "hovertemplate": "region=%{x}<br>y=%{y}<extra></extra>",
         "legendgroup": "AZ",
         "marker": {
          "color": "#FFA15A",
          "pattern": {
           "shape": ""
          }
         },
         "name": "AZ",
         "offsetgroup": "AZ",
         "orientation": "v",
         "showlegend": true,
         "textposition": "auto",
         "type": "bar",
         "x": [
          "AZ"
         ],
         "xaxis": "x",
         "y": [
          296
         ],
         "yaxis": "y"
        },
        {
         "alignmentgroup": "True",
         "hovertemplate": "region=%{x}<br>y=%{y}<extra></extra>",
         "legendgroup": "CA",
         "marker": {
          "color": "#19d3f3",
          "pattern": {
           "shape": ""
          }
         },
         "name": "CA",
         "offsetgroup": "CA",
         "orientation": "v",
         "showlegend": true,
         "textposition": "auto",
         "type": "bar",
         "x": [
          "CA"
         ],
         "xaxis": "x",
         "y": [
          833
         ],
         "yaxis": "y"
        },
        {
         "alignmentgroup": "True",
         "hovertemplate": "region=%{x}<br>y=%{y}<extra></extra>",
         "legendgroup": "CO",
         "marker": {
          "color": "#FF6692",
          "pattern": {
           "shape": ""
          }
         },
         "name": "CO",
         "offsetgroup": "CO",
         "orientation": "v",
         "showlegend": true,
         "textposition": "auto",
         "type": "bar",
         "x": [
          "CO"
         ],
         "xaxis": "x",
         "y": [
          115
         ],
         "yaxis": "y"
        },
        {
         "alignmentgroup": "True",
         "hovertemplate": "region=%{x}<br>y=%{y}<extra></extra>",
         "legendgroup": "CT",
         "marker": {
          "color": "#B6E880",
          "pattern": {
           "shape": ""
          }
         },
         "name": "CT",
         "offsetgroup": "CT",
         "orientation": "v",
         "showlegend": true,
         "textposition": "auto",
         "type": "bar",
         "x": [
          "CT"
         ],
         "xaxis": "x",
         "y": [
          117
         ],
         "yaxis": "y"
        },
        {
         "alignmentgroup": "True",
         "hovertemplate": "region=%{x}<br>y=%{y}<extra></extra>",
         "legendgroup": "DC",
         "marker": {
          "color": "#FF97FF",
          "pattern": {
           "shape": ""
          }
         },
         "name": "DC",
         "offsetgroup": "DC",
         "orientation": "v",
         "showlegend": true,
         "textposition": "auto",
         "type": "bar",
         "x": [
          "DC"
         ],
         "xaxis": "x",
         "y": [
          43
         ],
         "yaxis": "y"
        },
        {
         "alignmentgroup": "True",
         "hovertemplate": "region=%{x}<br>y=%{y}<extra></extra>",
         "legendgroup": "DE",
         "marker": {
          "color": "#FECB52",
          "pattern": {
           "shape": ""
          }
         },
         "name": "DE",
         "offsetgroup": "DE",
         "orientation": "v",
         "showlegend": true,
         "textposition": "auto",
         "type": "bar",
         "x": [
          "DE"
         ],
         "xaxis": "x",
         "y": [
          34
         ],
         "yaxis": "y"
        },
        {
         "alignmentgroup": "True",
         "hovertemplate": "region=%{x}<br>y=%{y}<extra></extra>",
         "legendgroup": "FL",
         "marker": {
          "color": "#636efa",
          "pattern": {
           "shape": ""
          }
         },
         "name": "FL",
         "offsetgroup": "FL",
         "orientation": "v",
         "showlegend": true,
         "textposition": "auto",
         "type": "bar",
         "x": [
          "FL"
         ],
         "xaxis": "x",
         "y": [
          762
         ],
         "yaxis": "y"
        },
        {
         "alignmentgroup": "True",
         "hovertemplate": "region=%{x}<br>y=%{y}<extra></extra>",
         "legendgroup": "GA",
         "marker": {
          "color": "#EF553B",
          "pattern": {
           "shape": ""
          }
         },
         "name": "GA",
         "offsetgroup": "GA",
         "orientation": "v",
         "showlegend": true,
         "textposition": "auto",
         "type": "bar",
         "x": [
          "GA"
         ],
         "xaxis": "x",
         "y": [
          554
         ],
         "yaxis": "y"
        },
        {
         "alignmentgroup": "True",
         "hovertemplate": "region=%{x}<br>y=%{y}<extra></extra>",
         "legendgroup": "HI",
         "marker": {
          "color": "#00cc96",
          "pattern": {
           "shape": ""
          }
         },
         "name": "HI",
         "offsetgroup": "HI",
         "orientation": "v",
         "showlegend": true,
         "textposition": "auto",
         "type": "bar",
         "x": [
          "HI"
         ],
         "xaxis": "x",
         "y": [
          20
         ],
         "yaxis": "y"
        },
        {
         "alignmentgroup": "True",
         "hovertemplate": "region=%{x}<br>y=%{y}<extra></extra>",
         "legendgroup": "IA",
         "marker": {
          "color": "#ab63fa",
          "pattern": {
           "shape": ""
          }
         },
         "name": "IA",
         "offsetgroup": "IA",
         "orientation": "v",
         "showlegend": true,
         "textposition": "auto",
         "type": "bar",
         "x": [
          "IA"
         ],
         "xaxis": "x",
         "y": [
          113
         ],
         "yaxis": "y"
        },
        {
         "alignmentgroup": "True",
         "hovertemplate": "region=%{x}<br>y=%{y}<extra></extra>",
         "legendgroup": "ID",
         "marker": {
          "color": "#FFA15A",
          "pattern": {
           "shape": ""
          }
         },
         "name": "ID",
         "offsetgroup": "ID",
         "orientation": "v",
         "showlegend": true,
         "textposition": "auto",
         "type": "bar",
         "x": [
          "ID"
         ],
         "xaxis": "x",
         "y": [
          45
         ],
         "yaxis": "y"
        },
        {
         "alignmentgroup": "True",
         "hovertemplate": "region=%{x}<br>y=%{y}<extra></extra>",
         "legendgroup": "IL",
         "marker": {
          "color": "#19d3f3",
          "pattern": {
           "shape": ""
          }
         },
         "name": "IL",
         "offsetgroup": "IL",
         "orientation": "v",
         "showlegend": true,
         "textposition": "auto",
         "type": "bar",
         "x": [
          "IL"
         ],
         "xaxis": "x",
         "y": [
          440
         ],
         "yaxis": "y"
        },
        {
         "alignmentgroup": "True",
         "hovertemplate": "region=%{x}<br>y=%{y}<extra></extra>",
         "legendgroup": "IN",
         "marker": {
          "color": "#FF6692",
          "pattern": {
           "shape": ""
          }
         },
         "name": "IN",
         "offsetgroup": "IN",
         "orientation": "v",
         "showlegend": true,
         "textposition": "auto",
         "type": "bar",
         "x": [
          "IN"
         ],
         "xaxis": "x",
         "y": [
          267
         ],
         "yaxis": "y"
        },
        {
         "alignmentgroup": "True",
         "hovertemplate": "region=%{x}<br>y=%{y}<extra></extra>",
         "legendgroup": "KS",
         "marker": {
          "color": "#B6E880",
          "pattern": {
           "shape": ""
          }
         },
         "name": "KS",
         "offsetgroup": "KS",
         "orientation": "v",
         "showlegend": true,
         "textposition": "auto",
         "type": "bar",
         "x": [
          "KS"
         ],
         "xaxis": "x",
         "y": [
          108
         ],
         "yaxis": "y"
        },
        {
         "alignmentgroup": "True",
         "hovertemplate": "region=%{x}<br>y=%{y}<extra></extra>",
         "legendgroup": "KY",
         "marker": {
          "color": "#FF97FF",
          "pattern": {
           "shape": ""
          }
         },
         "name": "KY",
         "offsetgroup": "KY",
         "orientation": "v",
         "showlegend": true,
         "textposition": "auto",
         "type": "bar",
         "x": [
          "KY"
         ],
         "xaxis": "x",
         "y": [
          149
         ],
         "yaxis": "y"
        },
        {
         "alignmentgroup": "True",
         "hovertemplate": "region=%{x}<br>y=%{y}<extra></extra>",
         "legendgroup": "LA",
         "marker": {
          "color": "#FECB52",
          "pattern": {
           "shape": ""
          }
         },
         "name": "LA",
         "offsetgroup": "LA",
         "orientation": "v",
         "showlegend": true,
         "textposition": "auto",
         "type": "bar",
         "x": [
          "LA"
         ],
         "xaxis": "x",
         "y": [
          80
         ],
         "yaxis": "y"
        },
        {
         "alignmentgroup": "True",
         "hovertemplate": "region=%{x}<br>y=%{y}<extra></extra>",
         "legendgroup": "MA",
         "marker": {
          "color": "#636efa",
          "pattern": {
           "shape": ""
          }
         },
         "name": "MA",
         "offsetgroup": "MA",
         "orientation": "v",
         "showlegend": true,
         "textposition": "auto",
         "type": "bar",
         "x": [
          "MA"
         ],
         "xaxis": "x",
         "y": [
          267
         ],
         "yaxis": "y"
        },
        {
         "alignmentgroup": "True",
         "hovertemplate": "region=%{x}<br>y=%{y}<extra></extra>",
         "legendgroup": "MD",
         "marker": {
          "color": "#EF553B",
          "pattern": {
           "shape": ""
          }
         },
         "name": "MD",
         "offsetgroup": "MD",
         "orientation": "v",
         "showlegend": true,
         "textposition": "auto",
         "type": "bar",
         "x": [
          "MD"
         ],
         "xaxis": "x",
         "y": [
          230
         ],
         "yaxis": "y"
        },
        {
         "alignmentgroup": "True",
         "hovertemplate": "region=%{x}<br>y=%{y}<extra></extra>",
         "legendgroup": "ME",
         "marker": {
          "color": "#00cc96",
          "pattern": {
           "shape": ""
          }
         },
         "name": "ME",
         "offsetgroup": "ME",
         "orientation": "v",
         "showlegend": true,
         "textposition": "auto",
         "type": "bar",
         "x": [
          "ME"
         ],
         "xaxis": "x",
         "y": [
          32
         ],
         "yaxis": "y"
        },
        {
         "alignmentgroup": "True",
         "hovertemplate": "region=%{x}<br>y=%{y}<extra></extra>",
         "legendgroup": "MI",
         "marker": {
          "color": "#ab63fa",
          "pattern": {
           "shape": ""
          }
         },
         "name": "MI",
         "offsetgroup": "MI",
         "orientation": "v",
         "showlegend": true,
         "textposition": "auto",
         "type": "bar",
         "x": [
          "MI"
         ],
         "xaxis": "x",
         "y": [
          285
         ],
         "yaxis": "y"
        },
        {
         "alignmentgroup": "True",
         "hovertemplate": "region=%{x}<br>y=%{y}<extra></extra>",
         "legendgroup": "MN",
         "marker": {
          "color": "#FFA15A",
          "pattern": {
           "shape": ""
          }
         },
         "name": "MN",
         "offsetgroup": "MN",
         "orientation": "v",
         "showlegend": true,
         "textposition": "auto",
         "type": "bar",
         "x": [
          "MN"
         ],
         "xaxis": "x",
         "y": [
          235
         ],
         "yaxis": "y"
        },
        {
         "alignmentgroup": "True",
         "hovertemplate": "region=%{x}<br>y=%{y}<extra></extra>",
         "legendgroup": "MO",
         "marker": {
          "color": "#19d3f3",
          "pattern": {
           "shape": ""
          }
         },
         "name": "MO",
         "offsetgroup": "MO",
         "orientation": "v",
         "showlegend": true,
         "textposition": "auto",
         "type": "bar",
         "x": [
          "MO"
         ],
         "xaxis": "x",
         "y": [
          217
         ],
         "yaxis": "y"
        },
        {
         "alignmentgroup": "True",
         "hovertemplate": "region=%{x}<br>y=%{y}<extra></extra>",
         "legendgroup": "MS",
         "marker": {
          "color": "#FF6692",
          "pattern": {
           "shape": ""
          }
         },
         "name": "MS",
         "offsetgroup": "MS",
         "orientation": "v",
         "showlegend": true,
         "textposition": "auto",
         "type": "bar",
         "x": [
          "MS"
         ],
         "xaxis": "x",
         "y": [
          119
         ],
         "yaxis": "y"
        },
        {
         "alignmentgroup": "True",
         "hovertemplate": "region=%{x}<br>y=%{y}<extra></extra>",
         "legendgroup": "MT",
         "marker": {
          "color": "#B6E880",
          "pattern": {
           "shape": ""
          }
         },
         "name": "MT",
         "offsetgroup": "MT",
         "orientation": "v",
         "showlegend": true,
         "textposition": "auto",
         "type": "bar",
         "x": [
          "MT"
         ],
         "xaxis": "x",
         "y": [
          15
         ],
         "yaxis": "y"
        },
        {
         "alignmentgroup": "True",
         "hovertemplate": "region=%{x}<br>y=%{y}<extra></extra>",
         "legendgroup": "NC",
         "marker": {
          "color": "#FF97FF",
          "pattern": {
           "shape": ""
          }
         },
         "name": "NC",
         "offsetgroup": "NC",
         "orientation": "v",
         "showlegend": true,
         "textposition": "auto",
         "type": "bar",
         "x": [
          "NC"
         ],
         "xaxis": "x",
         "y": [
          399
         ],
         "yaxis": "y"
        },
        {
         "alignmentgroup": "True",
         "hovertemplate": "region=%{x}<br>y=%{y}<extra></extra>",
         "legendgroup": "ND",
         "marker": {
          "color": "#FECB52",
          "pattern": {
           "shape": ""
          }
         },
         "name": "ND",
         "offsetgroup": "ND",
         "orientation": "v",
         "showlegend": true,
         "textposition": "auto",
         "type": "bar",
         "x": [
          "ND"
         ],
         "xaxis": "x",
         "y": [
          33
         ],
         "yaxis": "y"
        },
        {
         "alignmentgroup": "True",
         "hovertemplate": "region=%{x}<br>y=%{y}<extra></extra>",
         "legendgroup": "NE",
         "marker": {
          "color": "#636efa",
          "pattern": {
           "shape": ""
          }
         },
         "name": "NE",
         "offsetgroup": "NE",
         "orientation": "v",
         "showlegend": true,
         "textposition": "auto",
         "type": "bar",
         "x": [
          "NE"
         ],
         "xaxis": "x",
         "y": [
          54
         ],
         "yaxis": "y"
        },
        {
         "alignmentgroup": "True",
         "hovertemplate": "region=%{x}<br>y=%{y}<extra></extra>",
         "legendgroup": "NH",
         "marker": {
          "color": "#EF553B",
          "pattern": {
           "shape": ""
          }
         },
         "name": "NH",
         "offsetgroup": "NH",
         "orientation": "v",
         "showlegend": true,
         "textposition": "auto",
         "type": "bar",
         "x": [
          "NH"
         ],
         "xaxis": "x",
         "y": [
          91
         ],
         "yaxis": "y"
        },
        {
         "alignmentgroup": "True",
         "hovertemplate": "region=%{x}<br>y=%{y}<extra></extra>",
         "legendgroup": "NJ",
         "marker": {
          "color": "#00cc96",
          "pattern": {
           "shape": ""
          }
         },
         "name": "NJ",
         "offsetgroup": "NJ",
         "orientation": "v",
         "showlegend": true,
         "textposition": "auto",
         "type": "bar",
         "x": [
          "NJ"
         ],
         "xaxis": "x",
         "y": [
          312
         ],
         "yaxis": "y"
        },
        {
         "alignmentgroup": "True",
         "hovertemplate": "region=%{x}<br>y=%{y}<extra></extra>",
         "legendgroup": "NM",
         "marker": {
          "color": "#ab63fa",
          "pattern": {
           "shape": ""
          }
         },
         "name": "NM",
         "offsetgroup": "NM",
         "orientation": "v",
         "showlegend": true,
         "textposition": "auto",
         "type": "bar",
         "x": [
          "NM"
         ],
         "xaxis": "x",
         "y": [
          94
         ],
         "yaxis": "y"
        },
        {
         "alignmentgroup": "True",
         "hovertemplate": "region=%{x}<br>y=%{y}<extra></extra>",
         "legendgroup": "NV",
         "marker": {
          "color": "#FFA15A",
          "pattern": {
           "shape": ""
          }
         },
         "name": "NV",
         "offsetgroup": "NV",
         "orientation": "v",
         "showlegend": true,
         "textposition": "auto",
         "type": "bar",
         "x": [
          "NV"
         ],
         "xaxis": "x",
         "y": [
          81
         ],
         "yaxis": "y"
        },
        {
         "alignmentgroup": "True",
         "hovertemplate": "region=%{x}<br>y=%{y}<extra></extra>",
         "legendgroup": "NY",
         "marker": {
          "color": "#19d3f3",
          "pattern": {
           "shape": ""
          }
         },
         "name": "NY",
         "offsetgroup": "NY",
         "orientation": "v",
         "showlegend": true,
         "textposition": "auto",
         "type": "bar",
         "x": [
          "NY"
         ],
         "xaxis": "x",
         "y": [
          401
         ],
         "yaxis": "y"
        },
        {
         "alignmentgroup": "True",
         "hovertemplate": "region=%{x}<br>y=%{y}<extra></extra>",
         "legendgroup": "OH",
         "marker": {
          "color": "#FF6692",
          "pattern": {
           "shape": ""
          }
         },
         "name": "OH",
         "offsetgroup": "OH",
         "orientation": "v",
         "showlegend": true,
         "textposition": "auto",
         "type": "bar",
         "x": [
          "OH"
         ],
         "xaxis": "x",
         "y": [
          441
         ],
         "yaxis": "y"
        },
        {
         "alignmentgroup": "True",
         "hovertemplate": "region=%{x}<br>y=%{y}<extra></extra>",
         "legendgroup": "OK",
         "marker": {
          "color": "#B6E880",
          "pattern": {
           "shape": ""
          }
         },
         "name": "OK",
         "offsetgroup": "OK",
         "orientation": "v",
         "showlegend": true,
         "textposition": "auto",
         "type": "bar",
         "x": [
          "OK"
         ],
         "xaxis": "x",
         "y": [
          136
         ],
         "yaxis": "y"
        },
        {
         "alignmentgroup": "True",
         "hovertemplate": "region=%{x}<br>y=%{y}<extra></extra>",
         "legendgroup": "OR",
         "marker": {
          "color": "#FF97FF",
          "pattern": {
           "shape": ""
          }
         },
         "name": "OR",
         "offsetgroup": "OR",
         "orientation": "v",
         "showlegend": true,
         "textposition": "auto",
         "type": "bar",
         "x": [
          "OR"
         ],
         "xaxis": "x",
         "y": [
          122
         ],
         "yaxis": "y"
        },
        {
         "alignmentgroup": "True",
         "hovertemplate": "region=%{x}<br>y=%{y}<extra></extra>",
         "legendgroup": "PA",
         "marker": {
          "color": "#FECB52",
          "pattern": {
           "shape": ""
          }
         },
         "name": "PA",
         "offsetgroup": "PA",
         "orientation": "v",
         "showlegend": true,
         "textposition": "auto",
         "type": "bar",
         "x": [
          "PA"
         ],
         "xaxis": "x",
         "y": [
          434
         ],
         "yaxis": "y"
        },
        {
         "alignmentgroup": "True",
         "hovertemplate": "region=%{x}<br>y=%{y}<extra></extra>",
         "legendgroup": "PR",
         "marker": {
          "color": "#636efa",
          "pattern": {
           "shape": ""
          }
         },
         "name": "PR",
         "offsetgroup": "PR",
         "orientation": "v",
         "showlegend": true,
         "textposition": "auto",
         "type": "bar",
         "x": [
          "PR"
         ],
         "xaxis": "x",
         "y": [
          9
         ],
         "yaxis": "y"
        },
        {
         "alignmentgroup": "True",
         "hovertemplate": "region=%{x}<br>y=%{y}<extra></extra>",
         "legendgroup": "RI",
         "marker": {
          "color": "#EF553B",
          "pattern": {
           "shape": ""
          }
         },
         "name": "RI",
         "offsetgroup": "RI",
         "orientation": "v",
         "showlegend": true,
         "textposition": "auto",
         "type": "bar",
         "x": [
          "RI"
         ],
         "xaxis": "x",
         "y": [
          24
         ],
         "yaxis": "y"
        },
        {
         "alignmentgroup": "True",
         "hovertemplate": "region=%{x}<br>y=%{y}<extra></extra>",
         "legendgroup": "SC",
         "marker": {
          "color": "#00cc96",
          "pattern": {
           "shape": ""
          }
         },
         "name": "SC",
         "offsetgroup": "SC",
         "orientation": "v",
         "showlegend": true,
         "textposition": "auto",
         "type": "bar",
         "x": [
          "SC"
         ],
         "xaxis": "x",
         "y": [
          168
         ],
         "yaxis": "y"
        },
        {
         "alignmentgroup": "True",
         "hovertemplate": "region=%{x}<br>y=%{y}<extra></extra>",
         "legendgroup": "SD",
         "marker": {
          "color": "#ab63fa",
          "pattern": {
           "shape": ""
          }
         },
         "name": "SD",
         "offsetgroup": "SD",
         "orientation": "v",
         "showlegend": true,
         "textposition": "auto",
         "type": "bar",
         "x": [
          "SD"
         ],
         "xaxis": "x",
         "y": [
          28
         ],
         "yaxis": "y"
        },
        {
         "alignmentgroup": "True",
         "hovertemplate": "region=%{x}<br>y=%{y}<extra></extra>",
         "legendgroup": "TN",
         "marker": {
          "color": "#FFA15A",
          "pattern": {
           "shape": ""
          }
         },
         "name": "TN",
         "offsetgroup": "TN",
         "orientation": "v",
         "showlegend": true,
         "textposition": "auto",
         "type": "bar",
         "x": [
          "TN"
         ],
         "xaxis": "x",
         "y": [
          325
         ],
         "yaxis": "y"
        },
        {
         "alignmentgroup": "True",
         "hovertemplate": "region=%{x}<br>y=%{y}<extra></extra>",
         "legendgroup": "TX",
         "marker": {
          "color": "#19d3f3",
          "pattern": {
           "shape": ""
          }
         },
         "name": "TX",
         "offsetgroup": "TX",
         "orientation": "v",
         "showlegend": true,
         "textposition": "auto",
         "type": "bar",
         "x": [
          "TX"
         ],
         "xaxis": "x",
         "y": [
          851
         ],
         "yaxis": "y"
        },
        {
         "alignmentgroup": "True",
         "hovertemplate": "region=%{x}<br>y=%{y}<extra></extra>",
         "legendgroup": "US Virgin Islands",
         "marker": {
          "color": "#FF6692",
          "pattern": {
           "shape": ""
          }
         },
         "name": "US Virgin Islands",
         "offsetgroup": "US Virgin Islands",
         "orientation": "v",
         "showlegend": true,
         "textposition": "auto",
         "type": "bar",
         "x": [
          "US Virgin Islands"
         ],
         "xaxis": "x",
         "y": [
          2
         ],
         "yaxis": "y"
        },
        {
         "alignmentgroup": "True",
         "hovertemplate": "region=%{x}<br>y=%{y}<extra></extra>",
         "legendgroup": "UT",
         "marker": {
          "color": "#B6E880",
          "pattern": {
           "shape": ""
          }
         },
         "name": "UT",
         "offsetgroup": "UT",
         "orientation": "v",
         "showlegend": true,
         "textposition": "auto",
         "type": "bar",
         "x": [
          "UT"
         ],
         "xaxis": "x",
         "y": [
          58
         ],
         "yaxis": "y"
        },
        {
         "alignmentgroup": "True",
         "hovertemplate": "region=%{x}<br>y=%{y}<extra></extra>",
         "legendgroup": "VA",
         "marker": {
          "color": "#FF97FF",
          "pattern": {
           "shape": ""
          }
         },
         "name": "VA",
         "offsetgroup": "VA",
         "orientation": "v",
         "showlegend": true,
         "textposition": "auto",
         "type": "bar",
         "x": [
          "VA"
         ],
         "xaxis": "x",
         "y": [
          235
         ],
         "yaxis": "y"
        },
        {
         "alignmentgroup": "True",
         "hovertemplate": "region=%{x}<br>y=%{y}<extra></extra>",
         "legendgroup": "VT",
         "marker": {
          "color": "#FECB52",
          "pattern": {
           "shape": ""
          }
         },
         "name": "VT",
         "offsetgroup": "VT",
         "orientation": "v",
         "showlegend": true,
         "textposition": "auto",
         "type": "bar",
         "x": [
          "VT"
         ],
         "xaxis": "x",
         "y": [
          20
         ],
         "yaxis": "y"
        },
        {
         "alignmentgroup": "True",
         "hovertemplate": "region=%{x}<br>y=%{y}<extra></extra>",
         "legendgroup": "WA",
         "marker": {
          "color": "#636efa",
          "pattern": {
           "shape": ""
          }
         },
         "name": "WA",
         "offsetgroup": "WA",
         "orientation": "v",
         "showlegend": true,
         "textposition": "auto",
         "type": "bar",
         "x": [
          "WA"
         ],
         "xaxis": "x",
         "y": [
          293
         ],
         "yaxis": "y"
        },
        {
         "alignmentgroup": "True",
         "hovertemplate": "region=%{x}<br>y=%{y}<extra></extra>",
         "legendgroup": "WI",
         "marker": {
          "color": "#EF553B",
          "pattern": {
           "shape": ""
          }
         },
         "name": "WI",
         "offsetgroup": "WI",
         "orientation": "v",
         "showlegend": true,
         "textposition": "auto",
         "type": "bar",
         "x": [
          "WI"
         ],
         "xaxis": "x",
         "y": [
          208
         ],
         "yaxis": "y"
        },
        {
         "alignmentgroup": "True",
         "hovertemplate": "region=%{x}<br>y=%{y}<extra></extra>",
         "legendgroup": "WV",
         "marker": {
          "color": "#00cc96",
          "pattern": {
           "shape": ""
          }
         },
         "name": "WV",
         "offsetgroup": "WV",
         "orientation": "v",
         "showlegend": true,
         "textposition": "auto",
         "type": "bar",
         "x": [
          "WV"
         ],
         "xaxis": "x",
         "y": [
          42
         ],
         "yaxis": "y"
        },
        {
         "alignmentgroup": "True",
         "hovertemplate": "region=%{x}<br>y=%{y}<extra></extra>",
         "legendgroup": "WY",
         "marker": {
          "color": "#ab63fa",
          "pattern": {
           "shape": ""
          }
         },
         "name": "WY",
         "offsetgroup": "WY",
         "orientation": "v",
         "showlegend": true,
         "textposition": "auto",
         "type": "bar",
         "x": [
          "WY"
         ],
         "xaxis": "x",
         "y": [
          13
         ],
         "yaxis": "y"
        }
       ],
       "layout": {
        "barmode": "relative",
        "legend": {
         "title": {
          "text": "region"
         },
         "tracegroupgap": 0
        },
        "margin": {
         "t": 60
        },
        "template": {
         "data": {
          "bar": [
           {
            "error_x": {
             "color": "#2a3f5f"
            },
            "error_y": {
             "color": "#2a3f5f"
            },
            "marker": {
             "line": {
              "color": "#E5ECF6",
              "width": 0.5
             },
             "pattern": {
              "fillmode": "overlay",
              "size": 10,
              "solidity": 0.2
             }
            },
            "type": "bar"
           }
          ],
          "barpolar": [
           {
            "marker": {
             "line": {
              "color": "#E5ECF6",
              "width": 0.5
             },
             "pattern": {
              "fillmode": "overlay",
              "size": 10,
              "solidity": 0.2
             }
            },
            "type": "barpolar"
           }
          ],
          "carpet": [
           {
            "aaxis": {
             "endlinecolor": "#2a3f5f",
             "gridcolor": "white",
             "linecolor": "white",
             "minorgridcolor": "white",
             "startlinecolor": "#2a3f5f"
            },
            "baxis": {
             "endlinecolor": "#2a3f5f",
             "gridcolor": "white",
             "linecolor": "white",
             "minorgridcolor": "white",
             "startlinecolor": "#2a3f5f"
            },
            "type": "carpet"
           }
          ],
          "choropleth": [
           {
            "colorbar": {
             "outlinewidth": 0,
             "ticks": ""
            },
            "type": "choropleth"
           }
          ],
          "contour": [
           {
            "colorbar": {
             "outlinewidth": 0,
             "ticks": ""
            },
            "colorscale": [
             [
              0,
              "#0d0887"
             ],
             [
              0.1111111111111111,
              "#46039f"
             ],
             [
              0.2222222222222222,
              "#7201a8"
             ],
             [
              0.3333333333333333,
              "#9c179e"
             ],
             [
              0.4444444444444444,
              "#bd3786"
             ],
             [
              0.5555555555555556,
              "#d8576b"
             ],
             [
              0.6666666666666666,
              "#ed7953"
             ],
             [
              0.7777777777777778,
              "#fb9f3a"
             ],
             [
              0.8888888888888888,
              "#fdca26"
             ],
             [
              1,
              "#f0f921"
             ]
            ],
            "type": "contour"
           }
          ],
          "contourcarpet": [
           {
            "colorbar": {
             "outlinewidth": 0,
             "ticks": ""
            },
            "type": "contourcarpet"
           }
          ],
          "heatmap": [
           {
            "colorbar": {
             "outlinewidth": 0,
             "ticks": ""
            },
            "colorscale": [
             [
              0,
              "#0d0887"
             ],
             [
              0.1111111111111111,
              "#46039f"
             ],
             [
              0.2222222222222222,
              "#7201a8"
             ],
             [
              0.3333333333333333,
              "#9c179e"
             ],
             [
              0.4444444444444444,
              "#bd3786"
             ],
             [
              0.5555555555555556,
              "#d8576b"
             ],
             [
              0.6666666666666666,
              "#ed7953"
             ],
             [
              0.7777777777777778,
              "#fb9f3a"
             ],
             [
              0.8888888888888888,
              "#fdca26"
             ],
             [
              1,
              "#f0f921"
             ]
            ],
            "type": "heatmap"
           }
          ],
          "heatmapgl": [
           {
            "colorbar": {
             "outlinewidth": 0,
             "ticks": ""
            },
            "colorscale": [
             [
              0,
              "#0d0887"
             ],
             [
              0.1111111111111111,
              "#46039f"
             ],
             [
              0.2222222222222222,
              "#7201a8"
             ],
             [
              0.3333333333333333,
              "#9c179e"
             ],
             [
              0.4444444444444444,
              "#bd3786"
             ],
             [
              0.5555555555555556,
              "#d8576b"
             ],
             [
              0.6666666666666666,
              "#ed7953"
             ],
             [
              0.7777777777777778,
              "#fb9f3a"
             ],
             [
              0.8888888888888888,
              "#fdca26"
             ],
             [
              1,
              "#f0f921"
             ]
            ],
            "type": "heatmapgl"
           }
          ],
          "histogram": [
           {
            "marker": {
             "pattern": {
              "fillmode": "overlay",
              "size": 10,
              "solidity": 0.2
             }
            },
            "type": "histogram"
           }
          ],
          "histogram2d": [
           {
            "colorbar": {
             "outlinewidth": 0,
             "ticks": ""
            },
            "colorscale": [
             [
              0,
              "#0d0887"
             ],
             [
              0.1111111111111111,
              "#46039f"
             ],
             [
              0.2222222222222222,
              "#7201a8"
             ],
             [
              0.3333333333333333,
              "#9c179e"
             ],
             [
              0.4444444444444444,
              "#bd3786"
             ],
             [
              0.5555555555555556,
              "#d8576b"
             ],
             [
              0.6666666666666666,
              "#ed7953"
             ],
             [
              0.7777777777777778,
              "#fb9f3a"
             ],
             [
              0.8888888888888888,
              "#fdca26"
             ],
             [
              1,
              "#f0f921"
             ]
            ],
            "type": "histogram2d"
           }
          ],
          "histogram2dcontour": [
           {
            "colorbar": {
             "outlinewidth": 0,
             "ticks": ""
            },
            "colorscale": [
             [
              0,
              "#0d0887"
             ],
             [
              0.1111111111111111,
              "#46039f"
             ],
             [
              0.2222222222222222,
              "#7201a8"
             ],
             [
              0.3333333333333333,
              "#9c179e"
             ],
             [
              0.4444444444444444,
              "#bd3786"
             ],
             [
              0.5555555555555556,
              "#d8576b"
             ],
             [
              0.6666666666666666,
              "#ed7953"
             ],
             [
              0.7777777777777778,
              "#fb9f3a"
             ],
             [
              0.8888888888888888,
              "#fdca26"
             ],
             [
              1,
              "#f0f921"
             ]
            ],
            "type": "histogram2dcontour"
           }
          ],
          "mesh3d": [
           {
            "colorbar": {
             "outlinewidth": 0,
             "ticks": ""
            },
            "type": "mesh3d"
           }
          ],
          "parcoords": [
           {
            "line": {
             "colorbar": {
              "outlinewidth": 0,
              "ticks": ""
             }
            },
            "type": "parcoords"
           }
          ],
          "pie": [
           {
            "automargin": true,
            "type": "pie"
           }
          ],
          "scatter": [
           {
            "marker": {
             "colorbar": {
              "outlinewidth": 0,
              "ticks": ""
             }
            },
            "type": "scatter"
           }
          ],
          "scatter3d": [
           {
            "line": {
             "colorbar": {
              "outlinewidth": 0,
              "ticks": ""
             }
            },
            "marker": {
             "colorbar": {
              "outlinewidth": 0,
              "ticks": ""
             }
            },
            "type": "scatter3d"
           }
          ],
          "scattercarpet": [
           {
            "marker": {
             "colorbar": {
              "outlinewidth": 0,
              "ticks": ""
             }
            },
            "type": "scattercarpet"
           }
          ],
          "scattergeo": [
           {
            "marker": {
             "colorbar": {
              "outlinewidth": 0,
              "ticks": ""
             }
            },
            "type": "scattergeo"
           }
          ],
          "scattergl": [
           {
            "marker": {
             "colorbar": {
              "outlinewidth": 0,
              "ticks": ""
             }
            },
            "type": "scattergl"
           }
          ],
          "scattermapbox": [
           {
            "marker": {
             "colorbar": {
              "outlinewidth": 0,
              "ticks": ""
             }
            },
            "type": "scattermapbox"
           }
          ],
          "scatterpolar": [
           {
            "marker": {
             "colorbar": {
              "outlinewidth": 0,
              "ticks": ""
             }
            },
            "type": "scatterpolar"
           }
          ],
          "scatterpolargl": [
           {
            "marker": {
             "colorbar": {
              "outlinewidth": 0,
              "ticks": ""
             }
            },
            "type": "scatterpolargl"
           }
          ],
          "scatterternary": [
           {
            "marker": {
             "colorbar": {
              "outlinewidth": 0,
              "ticks": ""
             }
            },
            "type": "scatterternary"
           }
          ],
          "surface": [
           {
            "colorbar": {
             "outlinewidth": 0,
             "ticks": ""
            },
            "colorscale": [
             [
              0,
              "#0d0887"
             ],
             [
              0.1111111111111111,
              "#46039f"
             ],
             [
              0.2222222222222222,
              "#7201a8"
             ],
             [
              0.3333333333333333,
              "#9c179e"
             ],
             [
              0.4444444444444444,
              "#bd3786"
             ],
             [
              0.5555555555555556,
              "#d8576b"
             ],
             [
              0.6666666666666666,
              "#ed7953"
             ],
             [
              0.7777777777777778,
              "#fb9f3a"
             ],
             [
              0.8888888888888888,
              "#fdca26"
             ],
             [
              1,
              "#f0f921"
             ]
            ],
            "type": "surface"
           }
          ],
          "table": [
           {
            "cells": {
             "fill": {
              "color": "#EBF0F8"
             },
             "line": {
              "color": "white"
             }
            },
            "header": {
             "fill": {
              "color": "#C8D4E3"
             },
             "line": {
              "color": "white"
             }
            },
            "type": "table"
           }
          ]
         },
         "layout": {
          "annotationdefaults": {
           "arrowcolor": "#2a3f5f",
           "arrowhead": 0,
           "arrowwidth": 1
          },
          "autotypenumbers": "strict",
          "coloraxis": {
           "colorbar": {
            "outlinewidth": 0,
            "ticks": ""
           }
          },
          "colorscale": {
           "diverging": [
            [
             0,
             "#8e0152"
            ],
            [
             0.1,
             "#c51b7d"
            ],
            [
             0.2,
             "#de77ae"
            ],
            [
             0.3,
             "#f1b6da"
            ],
            [
             0.4,
             "#fde0ef"
            ],
            [
             0.5,
             "#f7f7f7"
            ],
            [
             0.6,
             "#e6f5d0"
            ],
            [
             0.7,
             "#b8e186"
            ],
            [
             0.8,
             "#7fbc41"
            ],
            [
             0.9,
             "#4d9221"
            ],
            [
             1,
             "#276419"
            ]
           ],
           "sequential": [
            [
             0,
             "#0d0887"
            ],
            [
             0.1111111111111111,
             "#46039f"
            ],
            [
             0.2222222222222222,
             "#7201a8"
            ],
            [
             0.3333333333333333,
             "#9c179e"
            ],
            [
             0.4444444444444444,
             "#bd3786"
            ],
            [
             0.5555555555555556,
             "#d8576b"
            ],
            [
             0.6666666666666666,
             "#ed7953"
            ],
            [
             0.7777777777777778,
             "#fb9f3a"
            ],
            [
             0.8888888888888888,
             "#fdca26"
            ],
            [
             1,
             "#f0f921"
            ]
           ],
           "sequentialminus": [
            [
             0,
             "#0d0887"
            ],
            [
             0.1111111111111111,
             "#46039f"
            ],
            [
             0.2222222222222222,
             "#7201a8"
            ],
            [
             0.3333333333333333,
             "#9c179e"
            ],
            [
             0.4444444444444444,
             "#bd3786"
            ],
            [
             0.5555555555555556,
             "#d8576b"
            ],
            [
             0.6666666666666666,
             "#ed7953"
            ],
            [
             0.7777777777777778,
             "#fb9f3a"
            ],
            [
             0.8888888888888888,
             "#fdca26"
            ],
            [
             1,
             "#f0f921"
            ]
           ]
          },
          "colorway": [
           "#636efa",
           "#EF553B",
           "#00cc96",
           "#ab63fa",
           "#FFA15A",
           "#19d3f3",
           "#FF6692",
           "#B6E880",
           "#FF97FF",
           "#FECB52"
          ],
          "font": {
           "color": "#2a3f5f"
          },
          "geo": {
           "bgcolor": "white",
           "lakecolor": "white",
           "landcolor": "#E5ECF6",
           "showlakes": true,
           "showland": true,
           "subunitcolor": "white"
          },
          "hoverlabel": {
           "align": "left"
          },
          "hovermode": "closest",
          "mapbox": {
           "style": "light"
          },
          "paper_bgcolor": "white",
          "plot_bgcolor": "#E5ECF6",
          "polar": {
           "angularaxis": {
            "gridcolor": "white",
            "linecolor": "white",
            "ticks": ""
           },
           "bgcolor": "#E5ECF6",
           "radialaxis": {
            "gridcolor": "white",
            "linecolor": "white",
            "ticks": ""
           }
          },
          "scene": {
           "xaxis": {
            "backgroundcolor": "#E5ECF6",
            "gridcolor": "white",
            "gridwidth": 2,
            "linecolor": "white",
            "showbackground": true,
            "ticks": "",
            "zerolinecolor": "white"
           },
           "yaxis": {
            "backgroundcolor": "#E5ECF6",
            "gridcolor": "white",
            "gridwidth": 2,
            "linecolor": "white",
            "showbackground": true,
            "ticks": "",
            "zerolinecolor": "white"
           },
           "zaxis": {
            "backgroundcolor": "#E5ECF6",
            "gridcolor": "white",
            "gridwidth": 2,
            "linecolor": "white",
            "showbackground": true,
            "ticks": "",
            "zerolinecolor": "white"
           }
          },
          "shapedefaults": {
           "line": {
            "color": "#2a3f5f"
           }
          },
          "ternary": {
           "aaxis": {
            "gridcolor": "white",
            "linecolor": "white",
            "ticks": ""
           },
           "baxis": {
            "gridcolor": "white",
            "linecolor": "white",
            "ticks": ""
           },
           "bgcolor": "#E5ECF6",
           "caxis": {
            "gridcolor": "white",
            "linecolor": "white",
            "ticks": ""
           }
          },
          "title": {
           "x": 0.05
          },
          "xaxis": {
           "automargin": true,
           "gridcolor": "white",
           "linecolor": "white",
           "ticks": "",
           "title": {
            "standoff": 15
           },
           "zerolinecolor": "white",
           "zerolinewidth": 2
          },
          "yaxis": {
           "automargin": true,
           "gridcolor": "white",
           "linecolor": "white",
           "ticks": "",
           "title": {
            "standoff": 15
           },
           "zerolinecolor": "white",
           "zerolinewidth": 2
          }
         }
        },
        "xaxis": {
         "anchor": "y",
         "categoryarray": [
          "",
          "AK",
          "AL",
          "AR",
          "AZ",
          "CA",
          "CO",
          "CT",
          "DC",
          "DE",
          "FL",
          "GA",
          "HI",
          "IA",
          "ID",
          "IL",
          "IN",
          "KS",
          "KY",
          "LA",
          "MA",
          "MD",
          "ME",
          "MI",
          "MN",
          "MO",
          "MS",
          "MT",
          "NC",
          "ND",
          "NE",
          "NH",
          "NJ",
          "NM",
          "NV",
          "NY",
          "OH",
          "OK",
          "OR",
          "PA",
          "PR",
          "RI",
          "SC",
          "SD",
          "TN",
          "TX",
          "US Virgin Islands",
          "UT",
          "VA",
          "VT",
          "WA",
          "WI",
          "WV",
          "WY"
         ],
         "categoryorder": "array",
         "domain": [
          0,
          1
         ],
         "title": {
          "text": "region"
         }
        },
        "yaxis": {
         "anchor": "x",
         "domain": [
          0,
          1
         ],
         "title": {
          "text": "y"
         }
        }
       }
      },
      "text/html": [
       "<div>                            <div id=\"d6d44210-5048-4bc1-a81e-321a00226ddf\" class=\"plotly-graph-div\" style=\"height:525px; width:100%;\"></div>            <script type=\"text/javascript\">                require([\"plotly\"], function(Plotly) {                    window.PLOTLYENV=window.PLOTLYENV || {};                                    if (document.getElementById(\"d6d44210-5048-4bc1-a81e-321a00226ddf\")) {                    Plotly.newPlot(                        \"d6d44210-5048-4bc1-a81e-321a00226ddf\",                        [{\"alignmentgroup\":\"True\",\"hovertemplate\":\"region=%{x}<br>y=%{y}<extra></extra>\",\"legendgroup\":\"\",\"marker\":{\"color\":\"#636efa\",\"pattern\":{\"shape\":\"\"}},\"name\":\"\",\"offsetgroup\":\"\",\"orientation\":\"v\",\"showlegend\":false,\"textposition\":\"auto\",\"type\":\"bar\",\"x\":[\"\"],\"xaxis\":\"x\",\"y\":[2],\"yaxis\":\"y\"},{\"alignmentgroup\":\"True\",\"hovertemplate\":\"region=%{x}<br>y=%{y}<extra></extra>\",\"legendgroup\":\"AK\",\"marker\":{\"color\":\"#EF553B\",\"pattern\":{\"shape\":\"\"}},\"name\":\"AK\",\"offsetgroup\":\"AK\",\"orientation\":\"v\",\"showlegend\":true,\"textposition\":\"auto\",\"type\":\"bar\",\"x\":[\"AK\"],\"xaxis\":\"x\",\"y\":[12],\"yaxis\":\"y\"},{\"alignmentgroup\":\"True\",\"hovertemplate\":\"region=%{x}<br>y=%{y}<extra></extra>\",\"legendgroup\":\"AL\",\"marker\":{\"color\":\"#00cc96\",\"pattern\":{\"shape\":\"\"}},\"name\":\"AL\",\"offsetgroup\":\"AL\",\"orientation\":\"v\",\"showlegend\":true,\"textposition\":\"auto\",\"type\":\"bar\",\"x\":[\"AL\"],\"xaxis\":\"x\",\"y\":[141],\"yaxis\":\"y\"},{\"alignmentgroup\":\"True\",\"hovertemplate\":\"region=%{x}<br>y=%{y}<extra></extra>\",\"legendgroup\":\"AR\",\"marker\":{\"color\":\"#ab63fa\",\"pattern\":{\"shape\":\"\"}},\"name\":\"AR\",\"offsetgroup\":\"AR\",\"orientation\":\"v\",\"showlegend\":true,\"textposition\":\"auto\",\"type\":\"bar\",\"x\":[\"AR\"],\"xaxis\":\"x\",\"y\":[83],\"yaxis\":\"y\"},{\"alignmentgroup\":\"True\",\"hovertemplate\":\"region=%{x}<br>y=%{y}<extra></extra>\",\"legendgroup\":\"AZ\",\"marker\":{\"color\":\"#FFA15A\",\"pattern\":{\"shape\":\"\"}},\"name\":\"AZ\",\"offsetgroup\":\"AZ\",\"orientation\":\"v\",\"showlegend\":true,\"textposition\":\"auto\",\"type\":\"bar\",\"x\":[\"AZ\"],\"xaxis\":\"x\",\"y\":[296],\"yaxis\":\"y\"},{\"alignmentgroup\":\"True\",\"hovertemplate\":\"region=%{x}<br>y=%{y}<extra></extra>\",\"legendgroup\":\"CA\",\"marker\":{\"color\":\"#19d3f3\",\"pattern\":{\"shape\":\"\"}},\"name\":\"CA\",\"offsetgroup\":\"CA\",\"orientation\":\"v\",\"showlegend\":true,\"textposition\":\"auto\",\"type\":\"bar\",\"x\":[\"CA\"],\"xaxis\":\"x\",\"y\":[833],\"yaxis\":\"y\"},{\"alignmentgroup\":\"True\",\"hovertemplate\":\"region=%{x}<br>y=%{y}<extra></extra>\",\"legendgroup\":\"CO\",\"marker\":{\"color\":\"#FF6692\",\"pattern\":{\"shape\":\"\"}},\"name\":\"CO\",\"offsetgroup\":\"CO\",\"orientation\":\"v\",\"showlegend\":true,\"textposition\":\"auto\",\"type\":\"bar\",\"x\":[\"CO\"],\"xaxis\":\"x\",\"y\":[115],\"yaxis\":\"y\"},{\"alignmentgroup\":\"True\",\"hovertemplate\":\"region=%{x}<br>y=%{y}<extra></extra>\",\"legendgroup\":\"CT\",\"marker\":{\"color\":\"#B6E880\",\"pattern\":{\"shape\":\"\"}},\"name\":\"CT\",\"offsetgroup\":\"CT\",\"orientation\":\"v\",\"showlegend\":true,\"textposition\":\"auto\",\"type\":\"bar\",\"x\":[\"CT\"],\"xaxis\":\"x\",\"y\":[117],\"yaxis\":\"y\"},{\"alignmentgroup\":\"True\",\"hovertemplate\":\"region=%{x}<br>y=%{y}<extra></extra>\",\"legendgroup\":\"DC\",\"marker\":{\"color\":\"#FF97FF\",\"pattern\":{\"shape\":\"\"}},\"name\":\"DC\",\"offsetgroup\":\"DC\",\"orientation\":\"v\",\"showlegend\":true,\"textposition\":\"auto\",\"type\":\"bar\",\"x\":[\"DC\"],\"xaxis\":\"x\",\"y\":[43],\"yaxis\":\"y\"},{\"alignmentgroup\":\"True\",\"hovertemplate\":\"region=%{x}<br>y=%{y}<extra></extra>\",\"legendgroup\":\"DE\",\"marker\":{\"color\":\"#FECB52\",\"pattern\":{\"shape\":\"\"}},\"name\":\"DE\",\"offsetgroup\":\"DE\",\"orientation\":\"v\",\"showlegend\":true,\"textposition\":\"auto\",\"type\":\"bar\",\"x\":[\"DE\"],\"xaxis\":\"x\",\"y\":[34],\"yaxis\":\"y\"},{\"alignmentgroup\":\"True\",\"hovertemplate\":\"region=%{x}<br>y=%{y}<extra></extra>\",\"legendgroup\":\"FL\",\"marker\":{\"color\":\"#636efa\",\"pattern\":{\"shape\":\"\"}},\"name\":\"FL\",\"offsetgroup\":\"FL\",\"orientation\":\"v\",\"showlegend\":true,\"textposition\":\"auto\",\"type\":\"bar\",\"x\":[\"FL\"],\"xaxis\":\"x\",\"y\":[762],\"yaxis\":\"y\"},{\"alignmentgroup\":\"True\",\"hovertemplate\":\"region=%{x}<br>y=%{y}<extra></extra>\",\"legendgroup\":\"GA\",\"marker\":{\"color\":\"#EF553B\",\"pattern\":{\"shape\":\"\"}},\"name\":\"GA\",\"offsetgroup\":\"GA\",\"orientation\":\"v\",\"showlegend\":true,\"textposition\":\"auto\",\"type\":\"bar\",\"x\":[\"GA\"],\"xaxis\":\"x\",\"y\":[554],\"yaxis\":\"y\"},{\"alignmentgroup\":\"True\",\"hovertemplate\":\"region=%{x}<br>y=%{y}<extra></extra>\",\"legendgroup\":\"HI\",\"marker\":{\"color\":\"#00cc96\",\"pattern\":{\"shape\":\"\"}},\"name\":\"HI\",\"offsetgroup\":\"HI\",\"orientation\":\"v\",\"showlegend\":true,\"textposition\":\"auto\",\"type\":\"bar\",\"x\":[\"HI\"],\"xaxis\":\"x\",\"y\":[20],\"yaxis\":\"y\"},{\"alignmentgroup\":\"True\",\"hovertemplate\":\"region=%{x}<br>y=%{y}<extra></extra>\",\"legendgroup\":\"IA\",\"marker\":{\"color\":\"#ab63fa\",\"pattern\":{\"shape\":\"\"}},\"name\":\"IA\",\"offsetgroup\":\"IA\",\"orientation\":\"v\",\"showlegend\":true,\"textposition\":\"auto\",\"type\":\"bar\",\"x\":[\"IA\"],\"xaxis\":\"x\",\"y\":[113],\"yaxis\":\"y\"},{\"alignmentgroup\":\"True\",\"hovertemplate\":\"region=%{x}<br>y=%{y}<extra></extra>\",\"legendgroup\":\"ID\",\"marker\":{\"color\":\"#FFA15A\",\"pattern\":{\"shape\":\"\"}},\"name\":\"ID\",\"offsetgroup\":\"ID\",\"orientation\":\"v\",\"showlegend\":true,\"textposition\":\"auto\",\"type\":\"bar\",\"x\":[\"ID\"],\"xaxis\":\"x\",\"y\":[45],\"yaxis\":\"y\"},{\"alignmentgroup\":\"True\",\"hovertemplate\":\"region=%{x}<br>y=%{y}<extra></extra>\",\"legendgroup\":\"IL\",\"marker\":{\"color\":\"#19d3f3\",\"pattern\":{\"shape\":\"\"}},\"name\":\"IL\",\"offsetgroup\":\"IL\",\"orientation\":\"v\",\"showlegend\":true,\"textposition\":\"auto\",\"type\":\"bar\",\"x\":[\"IL\"],\"xaxis\":\"x\",\"y\":[440],\"yaxis\":\"y\"},{\"alignmentgroup\":\"True\",\"hovertemplate\":\"region=%{x}<br>y=%{y}<extra></extra>\",\"legendgroup\":\"IN\",\"marker\":{\"color\":\"#FF6692\",\"pattern\":{\"shape\":\"\"}},\"name\":\"IN\",\"offsetgroup\":\"IN\",\"orientation\":\"v\",\"showlegend\":true,\"textposition\":\"auto\",\"type\":\"bar\",\"x\":[\"IN\"],\"xaxis\":\"x\",\"y\":[267],\"yaxis\":\"y\"},{\"alignmentgroup\":\"True\",\"hovertemplate\":\"region=%{x}<br>y=%{y}<extra></extra>\",\"legendgroup\":\"KS\",\"marker\":{\"color\":\"#B6E880\",\"pattern\":{\"shape\":\"\"}},\"name\":\"KS\",\"offsetgroup\":\"KS\",\"orientation\":\"v\",\"showlegend\":true,\"textposition\":\"auto\",\"type\":\"bar\",\"x\":[\"KS\"],\"xaxis\":\"x\",\"y\":[108],\"yaxis\":\"y\"},{\"alignmentgroup\":\"True\",\"hovertemplate\":\"region=%{x}<br>y=%{y}<extra></extra>\",\"legendgroup\":\"KY\",\"marker\":{\"color\":\"#FF97FF\",\"pattern\":{\"shape\":\"\"}},\"name\":\"KY\",\"offsetgroup\":\"KY\",\"orientation\":\"v\",\"showlegend\":true,\"textposition\":\"auto\",\"type\":\"bar\",\"x\":[\"KY\"],\"xaxis\":\"x\",\"y\":[149],\"yaxis\":\"y\"},{\"alignmentgroup\":\"True\",\"hovertemplate\":\"region=%{x}<br>y=%{y}<extra></extra>\",\"legendgroup\":\"LA\",\"marker\":{\"color\":\"#FECB52\",\"pattern\":{\"shape\":\"\"}},\"name\":\"LA\",\"offsetgroup\":\"LA\",\"orientation\":\"v\",\"showlegend\":true,\"textposition\":\"auto\",\"type\":\"bar\",\"x\":[\"LA\"],\"xaxis\":\"x\",\"y\":[80],\"yaxis\":\"y\"},{\"alignmentgroup\":\"True\",\"hovertemplate\":\"region=%{x}<br>y=%{y}<extra></extra>\",\"legendgroup\":\"MA\",\"marker\":{\"color\":\"#636efa\",\"pattern\":{\"shape\":\"\"}},\"name\":\"MA\",\"offsetgroup\":\"MA\",\"orientation\":\"v\",\"showlegend\":true,\"textposition\":\"auto\",\"type\":\"bar\",\"x\":[\"MA\"],\"xaxis\":\"x\",\"y\":[267],\"yaxis\":\"y\"},{\"alignmentgroup\":\"True\",\"hovertemplate\":\"region=%{x}<br>y=%{y}<extra></extra>\",\"legendgroup\":\"MD\",\"marker\":{\"color\":\"#EF553B\",\"pattern\":{\"shape\":\"\"}},\"name\":\"MD\",\"offsetgroup\":\"MD\",\"orientation\":\"v\",\"showlegend\":true,\"textposition\":\"auto\",\"type\":\"bar\",\"x\":[\"MD\"],\"xaxis\":\"x\",\"y\":[230],\"yaxis\":\"y\"},{\"alignmentgroup\":\"True\",\"hovertemplate\":\"region=%{x}<br>y=%{y}<extra></extra>\",\"legendgroup\":\"ME\",\"marker\":{\"color\":\"#00cc96\",\"pattern\":{\"shape\":\"\"}},\"name\":\"ME\",\"offsetgroup\":\"ME\",\"orientation\":\"v\",\"showlegend\":true,\"textposition\":\"auto\",\"type\":\"bar\",\"x\":[\"ME\"],\"xaxis\":\"x\",\"y\":[32],\"yaxis\":\"y\"},{\"alignmentgroup\":\"True\",\"hovertemplate\":\"region=%{x}<br>y=%{y}<extra></extra>\",\"legendgroup\":\"MI\",\"marker\":{\"color\":\"#ab63fa\",\"pattern\":{\"shape\":\"\"}},\"name\":\"MI\",\"offsetgroup\":\"MI\",\"orientation\":\"v\",\"showlegend\":true,\"textposition\":\"auto\",\"type\":\"bar\",\"x\":[\"MI\"],\"xaxis\":\"x\",\"y\":[285],\"yaxis\":\"y\"},{\"alignmentgroup\":\"True\",\"hovertemplate\":\"region=%{x}<br>y=%{y}<extra></extra>\",\"legendgroup\":\"MN\",\"marker\":{\"color\":\"#FFA15A\",\"pattern\":{\"shape\":\"\"}},\"name\":\"MN\",\"offsetgroup\":\"MN\",\"orientation\":\"v\",\"showlegend\":true,\"textposition\":\"auto\",\"type\":\"bar\",\"x\":[\"MN\"],\"xaxis\":\"x\",\"y\":[235],\"yaxis\":\"y\"},{\"alignmentgroup\":\"True\",\"hovertemplate\":\"region=%{x}<br>y=%{y}<extra></extra>\",\"legendgroup\":\"MO\",\"marker\":{\"color\":\"#19d3f3\",\"pattern\":{\"shape\":\"\"}},\"name\":\"MO\",\"offsetgroup\":\"MO\",\"orientation\":\"v\",\"showlegend\":true,\"textposition\":\"auto\",\"type\":\"bar\",\"x\":[\"MO\"],\"xaxis\":\"x\",\"y\":[217],\"yaxis\":\"y\"},{\"alignmentgroup\":\"True\",\"hovertemplate\":\"region=%{x}<br>y=%{y}<extra></extra>\",\"legendgroup\":\"MS\",\"marker\":{\"color\":\"#FF6692\",\"pattern\":{\"shape\":\"\"}},\"name\":\"MS\",\"offsetgroup\":\"MS\",\"orientation\":\"v\",\"showlegend\":true,\"textposition\":\"auto\",\"type\":\"bar\",\"x\":[\"MS\"],\"xaxis\":\"x\",\"y\":[119],\"yaxis\":\"y\"},{\"alignmentgroup\":\"True\",\"hovertemplate\":\"region=%{x}<br>y=%{y}<extra></extra>\",\"legendgroup\":\"MT\",\"marker\":{\"color\":\"#B6E880\",\"pattern\":{\"shape\":\"\"}},\"name\":\"MT\",\"offsetgroup\":\"MT\",\"orientation\":\"v\",\"showlegend\":true,\"textposition\":\"auto\",\"type\":\"bar\",\"x\":[\"MT\"],\"xaxis\":\"x\",\"y\":[15],\"yaxis\":\"y\"},{\"alignmentgroup\":\"True\",\"hovertemplate\":\"region=%{x}<br>y=%{y}<extra></extra>\",\"legendgroup\":\"NC\",\"marker\":{\"color\":\"#FF97FF\",\"pattern\":{\"shape\":\"\"}},\"name\":\"NC\",\"offsetgroup\":\"NC\",\"orientation\":\"v\",\"showlegend\":true,\"textposition\":\"auto\",\"type\":\"bar\",\"x\":[\"NC\"],\"xaxis\":\"x\",\"y\":[399],\"yaxis\":\"y\"},{\"alignmentgroup\":\"True\",\"hovertemplate\":\"region=%{x}<br>y=%{y}<extra></extra>\",\"legendgroup\":\"ND\",\"marker\":{\"color\":\"#FECB52\",\"pattern\":{\"shape\":\"\"}},\"name\":\"ND\",\"offsetgroup\":\"ND\",\"orientation\":\"v\",\"showlegend\":true,\"textposition\":\"auto\",\"type\":\"bar\",\"x\":[\"ND\"],\"xaxis\":\"x\",\"y\":[33],\"yaxis\":\"y\"},{\"alignmentgroup\":\"True\",\"hovertemplate\":\"region=%{x}<br>y=%{y}<extra></extra>\",\"legendgroup\":\"NE\",\"marker\":{\"color\":\"#636efa\",\"pattern\":{\"shape\":\"\"}},\"name\":\"NE\",\"offsetgroup\":\"NE\",\"orientation\":\"v\",\"showlegend\":true,\"textposition\":\"auto\",\"type\":\"bar\",\"x\":[\"NE\"],\"xaxis\":\"x\",\"y\":[54],\"yaxis\":\"y\"},{\"alignmentgroup\":\"True\",\"hovertemplate\":\"region=%{x}<br>y=%{y}<extra></extra>\",\"legendgroup\":\"NH\",\"marker\":{\"color\":\"#EF553B\",\"pattern\":{\"shape\":\"\"}},\"name\":\"NH\",\"offsetgroup\":\"NH\",\"orientation\":\"v\",\"showlegend\":true,\"textposition\":\"auto\",\"type\":\"bar\",\"x\":[\"NH\"],\"xaxis\":\"x\",\"y\":[91],\"yaxis\":\"y\"},{\"alignmentgroup\":\"True\",\"hovertemplate\":\"region=%{x}<br>y=%{y}<extra></extra>\",\"legendgroup\":\"NJ\",\"marker\":{\"color\":\"#00cc96\",\"pattern\":{\"shape\":\"\"}},\"name\":\"NJ\",\"offsetgroup\":\"NJ\",\"orientation\":\"v\",\"showlegend\":true,\"textposition\":\"auto\",\"type\":\"bar\",\"x\":[\"NJ\"],\"xaxis\":\"x\",\"y\":[312],\"yaxis\":\"y\"},{\"alignmentgroup\":\"True\",\"hovertemplate\":\"region=%{x}<br>y=%{y}<extra></extra>\",\"legendgroup\":\"NM\",\"marker\":{\"color\":\"#ab63fa\",\"pattern\":{\"shape\":\"\"}},\"name\":\"NM\",\"offsetgroup\":\"NM\",\"orientation\":\"v\",\"showlegend\":true,\"textposition\":\"auto\",\"type\":\"bar\",\"x\":[\"NM\"],\"xaxis\":\"x\",\"y\":[94],\"yaxis\":\"y\"},{\"alignmentgroup\":\"True\",\"hovertemplate\":\"region=%{x}<br>y=%{y}<extra></extra>\",\"legendgroup\":\"NV\",\"marker\":{\"color\":\"#FFA15A\",\"pattern\":{\"shape\":\"\"}},\"name\":\"NV\",\"offsetgroup\":\"NV\",\"orientation\":\"v\",\"showlegend\":true,\"textposition\":\"auto\",\"type\":\"bar\",\"x\":[\"NV\"],\"xaxis\":\"x\",\"y\":[81],\"yaxis\":\"y\"},{\"alignmentgroup\":\"True\",\"hovertemplate\":\"region=%{x}<br>y=%{y}<extra></extra>\",\"legendgroup\":\"NY\",\"marker\":{\"color\":\"#19d3f3\",\"pattern\":{\"shape\":\"\"}},\"name\":\"NY\",\"offsetgroup\":\"NY\",\"orientation\":\"v\",\"showlegend\":true,\"textposition\":\"auto\",\"type\":\"bar\",\"x\":[\"NY\"],\"xaxis\":\"x\",\"y\":[401],\"yaxis\":\"y\"},{\"alignmentgroup\":\"True\",\"hovertemplate\":\"region=%{x}<br>y=%{y}<extra></extra>\",\"legendgroup\":\"OH\",\"marker\":{\"color\":\"#FF6692\",\"pattern\":{\"shape\":\"\"}},\"name\":\"OH\",\"offsetgroup\":\"OH\",\"orientation\":\"v\",\"showlegend\":true,\"textposition\":\"auto\",\"type\":\"bar\",\"x\":[\"OH\"],\"xaxis\":\"x\",\"y\":[441],\"yaxis\":\"y\"},{\"alignmentgroup\":\"True\",\"hovertemplate\":\"region=%{x}<br>y=%{y}<extra></extra>\",\"legendgroup\":\"OK\",\"marker\":{\"color\":\"#B6E880\",\"pattern\":{\"shape\":\"\"}},\"name\":\"OK\",\"offsetgroup\":\"OK\",\"orientation\":\"v\",\"showlegend\":true,\"textposition\":\"auto\",\"type\":\"bar\",\"x\":[\"OK\"],\"xaxis\":\"x\",\"y\":[136],\"yaxis\":\"y\"},{\"alignmentgroup\":\"True\",\"hovertemplate\":\"region=%{x}<br>y=%{y}<extra></extra>\",\"legendgroup\":\"OR\",\"marker\":{\"color\":\"#FF97FF\",\"pattern\":{\"shape\":\"\"}},\"name\":\"OR\",\"offsetgroup\":\"OR\",\"orientation\":\"v\",\"showlegend\":true,\"textposition\":\"auto\",\"type\":\"bar\",\"x\":[\"OR\"],\"xaxis\":\"x\",\"y\":[122],\"yaxis\":\"y\"},{\"alignmentgroup\":\"True\",\"hovertemplate\":\"region=%{x}<br>y=%{y}<extra></extra>\",\"legendgroup\":\"PA\",\"marker\":{\"color\":\"#FECB52\",\"pattern\":{\"shape\":\"\"}},\"name\":\"PA\",\"offsetgroup\":\"PA\",\"orientation\":\"v\",\"showlegend\":true,\"textposition\":\"auto\",\"type\":\"bar\",\"x\":[\"PA\"],\"xaxis\":\"x\",\"y\":[434],\"yaxis\":\"y\"},{\"alignmentgroup\":\"True\",\"hovertemplate\":\"region=%{x}<br>y=%{y}<extra></extra>\",\"legendgroup\":\"PR\",\"marker\":{\"color\":\"#636efa\",\"pattern\":{\"shape\":\"\"}},\"name\":\"PR\",\"offsetgroup\":\"PR\",\"orientation\":\"v\",\"showlegend\":true,\"textposition\":\"auto\",\"type\":\"bar\",\"x\":[\"PR\"],\"xaxis\":\"x\",\"y\":[9],\"yaxis\":\"y\"},{\"alignmentgroup\":\"True\",\"hovertemplate\":\"region=%{x}<br>y=%{y}<extra></extra>\",\"legendgroup\":\"RI\",\"marker\":{\"color\":\"#EF553B\",\"pattern\":{\"shape\":\"\"}},\"name\":\"RI\",\"offsetgroup\":\"RI\",\"orientation\":\"v\",\"showlegend\":true,\"textposition\":\"auto\",\"type\":\"bar\",\"x\":[\"RI\"],\"xaxis\":\"x\",\"y\":[24],\"yaxis\":\"y\"},{\"alignmentgroup\":\"True\",\"hovertemplate\":\"region=%{x}<br>y=%{y}<extra></extra>\",\"legendgroup\":\"SC\",\"marker\":{\"color\":\"#00cc96\",\"pattern\":{\"shape\":\"\"}},\"name\":\"SC\",\"offsetgroup\":\"SC\",\"orientation\":\"v\",\"showlegend\":true,\"textposition\":\"auto\",\"type\":\"bar\",\"x\":[\"SC\"],\"xaxis\":\"x\",\"y\":[168],\"yaxis\":\"y\"},{\"alignmentgroup\":\"True\",\"hovertemplate\":\"region=%{x}<br>y=%{y}<extra></extra>\",\"legendgroup\":\"SD\",\"marker\":{\"color\":\"#ab63fa\",\"pattern\":{\"shape\":\"\"}},\"name\":\"SD\",\"offsetgroup\":\"SD\",\"orientation\":\"v\",\"showlegend\":true,\"textposition\":\"auto\",\"type\":\"bar\",\"x\":[\"SD\"],\"xaxis\":\"x\",\"y\":[28],\"yaxis\":\"y\"},{\"alignmentgroup\":\"True\",\"hovertemplate\":\"region=%{x}<br>y=%{y}<extra></extra>\",\"legendgroup\":\"TN\",\"marker\":{\"color\":\"#FFA15A\",\"pattern\":{\"shape\":\"\"}},\"name\":\"TN\",\"offsetgroup\":\"TN\",\"orientation\":\"v\",\"showlegend\":true,\"textposition\":\"auto\",\"type\":\"bar\",\"x\":[\"TN\"],\"xaxis\":\"x\",\"y\":[325],\"yaxis\":\"y\"},{\"alignmentgroup\":\"True\",\"hovertemplate\":\"region=%{x}<br>y=%{y}<extra></extra>\",\"legendgroup\":\"TX\",\"marker\":{\"color\":\"#19d3f3\",\"pattern\":{\"shape\":\"\"}},\"name\":\"TX\",\"offsetgroup\":\"TX\",\"orientation\":\"v\",\"showlegend\":true,\"textposition\":\"auto\",\"type\":\"bar\",\"x\":[\"TX\"],\"xaxis\":\"x\",\"y\":[851],\"yaxis\":\"y\"},{\"alignmentgroup\":\"True\",\"hovertemplate\":\"region=%{x}<br>y=%{y}<extra></extra>\",\"legendgroup\":\"US Virgin Islands\",\"marker\":{\"color\":\"#FF6692\",\"pattern\":{\"shape\":\"\"}},\"name\":\"US Virgin Islands\",\"offsetgroup\":\"US Virgin Islands\",\"orientation\":\"v\",\"showlegend\":true,\"textposition\":\"auto\",\"type\":\"bar\",\"x\":[\"US Virgin Islands\"],\"xaxis\":\"x\",\"y\":[2],\"yaxis\":\"y\"},{\"alignmentgroup\":\"True\",\"hovertemplate\":\"region=%{x}<br>y=%{y}<extra></extra>\",\"legendgroup\":\"UT\",\"marker\":{\"color\":\"#B6E880\",\"pattern\":{\"shape\":\"\"}},\"name\":\"UT\",\"offsetgroup\":\"UT\",\"orientation\":\"v\",\"showlegend\":true,\"textposition\":\"auto\",\"type\":\"bar\",\"x\":[\"UT\"],\"xaxis\":\"x\",\"y\":[58],\"yaxis\":\"y\"},{\"alignmentgroup\":\"True\",\"hovertemplate\":\"region=%{x}<br>y=%{y}<extra></extra>\",\"legendgroup\":\"VA\",\"marker\":{\"color\":\"#FF97FF\",\"pattern\":{\"shape\":\"\"}},\"name\":\"VA\",\"offsetgroup\":\"VA\",\"orientation\":\"v\",\"showlegend\":true,\"textposition\":\"auto\",\"type\":\"bar\",\"x\":[\"VA\"],\"xaxis\":\"x\",\"y\":[235],\"yaxis\":\"y\"},{\"alignmentgroup\":\"True\",\"hovertemplate\":\"region=%{x}<br>y=%{y}<extra></extra>\",\"legendgroup\":\"VT\",\"marker\":{\"color\":\"#FECB52\",\"pattern\":{\"shape\":\"\"}},\"name\":\"VT\",\"offsetgroup\":\"VT\",\"orientation\":\"v\",\"showlegend\":true,\"textposition\":\"auto\",\"type\":\"bar\",\"x\":[\"VT\"],\"xaxis\":\"x\",\"y\":[20],\"yaxis\":\"y\"},{\"alignmentgroup\":\"True\",\"hovertemplate\":\"region=%{x}<br>y=%{y}<extra></extra>\",\"legendgroup\":\"WA\",\"marker\":{\"color\":\"#636efa\",\"pattern\":{\"shape\":\"\"}},\"name\":\"WA\",\"offsetgroup\":\"WA\",\"orientation\":\"v\",\"showlegend\":true,\"textposition\":\"auto\",\"type\":\"bar\",\"x\":[\"WA\"],\"xaxis\":\"x\",\"y\":[293],\"yaxis\":\"y\"},{\"alignmentgroup\":\"True\",\"hovertemplate\":\"region=%{x}<br>y=%{y}<extra></extra>\",\"legendgroup\":\"WI\",\"marker\":{\"color\":\"#EF553B\",\"pattern\":{\"shape\":\"\"}},\"name\":\"WI\",\"offsetgroup\":\"WI\",\"orientation\":\"v\",\"showlegend\":true,\"textposition\":\"auto\",\"type\":\"bar\",\"x\":[\"WI\"],\"xaxis\":\"x\",\"y\":[208],\"yaxis\":\"y\"},{\"alignmentgroup\":\"True\",\"hovertemplate\":\"region=%{x}<br>y=%{y}<extra></extra>\",\"legendgroup\":\"WV\",\"marker\":{\"color\":\"#00cc96\",\"pattern\":{\"shape\":\"\"}},\"name\":\"WV\",\"offsetgroup\":\"WV\",\"orientation\":\"v\",\"showlegend\":true,\"textposition\":\"auto\",\"type\":\"bar\",\"x\":[\"WV\"],\"xaxis\":\"x\",\"y\":[42],\"yaxis\":\"y\"},{\"alignmentgroup\":\"True\",\"hovertemplate\":\"region=%{x}<br>y=%{y}<extra></extra>\",\"legendgroup\":\"WY\",\"marker\":{\"color\":\"#ab63fa\",\"pattern\":{\"shape\":\"\"}},\"name\":\"WY\",\"offsetgroup\":\"WY\",\"orientation\":\"v\",\"showlegend\":true,\"textposition\":\"auto\",\"type\":\"bar\",\"x\":[\"WY\"],\"xaxis\":\"x\",\"y\":[13],\"yaxis\":\"y\"}],                        {\"barmode\":\"relative\",\"legend\":{\"title\":{\"text\":\"region\"},\"tracegroupgap\":0},\"margin\":{\"t\":60},\"template\":{\"data\":{\"bar\":[{\"error_x\":{\"color\":\"#2a3f5f\"},\"error_y\":{\"color\":\"#2a3f5f\"},\"marker\":{\"line\":{\"color\":\"#E5ECF6\",\"width\":0.5},\"pattern\":{\"fillmode\":\"overlay\",\"size\":10,\"solidity\":0.2}},\"type\":\"bar\"}],\"barpolar\":[{\"marker\":{\"line\":{\"color\":\"#E5ECF6\",\"width\":0.5},\"pattern\":{\"fillmode\":\"overlay\",\"size\":10,\"solidity\":0.2}},\"type\":\"barpolar\"}],\"carpet\":[{\"aaxis\":{\"endlinecolor\":\"#2a3f5f\",\"gridcolor\":\"white\",\"linecolor\":\"white\",\"minorgridcolor\":\"white\",\"startlinecolor\":\"#2a3f5f\"},\"baxis\":{\"endlinecolor\":\"#2a3f5f\",\"gridcolor\":\"white\",\"linecolor\":\"white\",\"minorgridcolor\":\"white\",\"startlinecolor\":\"#2a3f5f\"},\"type\":\"carpet\"}],\"choropleth\":[{\"colorbar\":{\"outlinewidth\":0,\"ticks\":\"\"},\"type\":\"choropleth\"}],\"contour\":[{\"colorbar\":{\"outlinewidth\":0,\"ticks\":\"\"},\"colorscale\":[[0.0,\"#0d0887\"],[0.1111111111111111,\"#46039f\"],[0.2222222222222222,\"#7201a8\"],[0.3333333333333333,\"#9c179e\"],[0.4444444444444444,\"#bd3786\"],[0.5555555555555556,\"#d8576b\"],[0.6666666666666666,\"#ed7953\"],[0.7777777777777778,\"#fb9f3a\"],[0.8888888888888888,\"#fdca26\"],[1.0,\"#f0f921\"]],\"type\":\"contour\"}],\"contourcarpet\":[{\"colorbar\":{\"outlinewidth\":0,\"ticks\":\"\"},\"type\":\"contourcarpet\"}],\"heatmap\":[{\"colorbar\":{\"outlinewidth\":0,\"ticks\":\"\"},\"colorscale\":[[0.0,\"#0d0887\"],[0.1111111111111111,\"#46039f\"],[0.2222222222222222,\"#7201a8\"],[0.3333333333333333,\"#9c179e\"],[0.4444444444444444,\"#bd3786\"],[0.5555555555555556,\"#d8576b\"],[0.6666666666666666,\"#ed7953\"],[0.7777777777777778,\"#fb9f3a\"],[0.8888888888888888,\"#fdca26\"],[1.0,\"#f0f921\"]],\"type\":\"heatmap\"}],\"heatmapgl\":[{\"colorbar\":{\"outlinewidth\":0,\"ticks\":\"\"},\"colorscale\":[[0.0,\"#0d0887\"],[0.1111111111111111,\"#46039f\"],[0.2222222222222222,\"#7201a8\"],[0.3333333333333333,\"#9c179e\"],[0.4444444444444444,\"#bd3786\"],[0.5555555555555556,\"#d8576b\"],[0.6666666666666666,\"#ed7953\"],[0.7777777777777778,\"#fb9f3a\"],[0.8888888888888888,\"#fdca26\"],[1.0,\"#f0f921\"]],\"type\":\"heatmapgl\"}],\"histogram\":[{\"marker\":{\"pattern\":{\"fillmode\":\"overlay\",\"size\":10,\"solidity\":0.2}},\"type\":\"histogram\"}],\"histogram2d\":[{\"colorbar\":{\"outlinewidth\":0,\"ticks\":\"\"},\"colorscale\":[[0.0,\"#0d0887\"],[0.1111111111111111,\"#46039f\"],[0.2222222222222222,\"#7201a8\"],[0.3333333333333333,\"#9c179e\"],[0.4444444444444444,\"#bd3786\"],[0.5555555555555556,\"#d8576b\"],[0.6666666666666666,\"#ed7953\"],[0.7777777777777778,\"#fb9f3a\"],[0.8888888888888888,\"#fdca26\"],[1.0,\"#f0f921\"]],\"type\":\"histogram2d\"}],\"histogram2dcontour\":[{\"colorbar\":{\"outlinewidth\":0,\"ticks\":\"\"},\"colorscale\":[[0.0,\"#0d0887\"],[0.1111111111111111,\"#46039f\"],[0.2222222222222222,\"#7201a8\"],[0.3333333333333333,\"#9c179e\"],[0.4444444444444444,\"#bd3786\"],[0.5555555555555556,\"#d8576b\"],[0.6666666666666666,\"#ed7953\"],[0.7777777777777778,\"#fb9f3a\"],[0.8888888888888888,\"#fdca26\"],[1.0,\"#f0f921\"]],\"type\":\"histogram2dcontour\"}],\"mesh3d\":[{\"colorbar\":{\"outlinewidth\":0,\"ticks\":\"\"},\"type\":\"mesh3d\"}],\"parcoords\":[{\"line\":{\"colorbar\":{\"outlinewidth\":0,\"ticks\":\"\"}},\"type\":\"parcoords\"}],\"pie\":[{\"automargin\":true,\"type\":\"pie\"}],\"scatter\":[{\"marker\":{\"colorbar\":{\"outlinewidth\":0,\"ticks\":\"\"}},\"type\":\"scatter\"}],\"scatter3d\":[{\"line\":{\"colorbar\":{\"outlinewidth\":0,\"ticks\":\"\"}},\"marker\":{\"colorbar\":{\"outlinewidth\":0,\"ticks\":\"\"}},\"type\":\"scatter3d\"}],\"scattercarpet\":[{\"marker\":{\"colorbar\":{\"outlinewidth\":0,\"ticks\":\"\"}},\"type\":\"scattercarpet\"}],\"scattergeo\":[{\"marker\":{\"colorbar\":{\"outlinewidth\":0,\"ticks\":\"\"}},\"type\":\"scattergeo\"}],\"scattergl\":[{\"marker\":{\"colorbar\":{\"outlinewidth\":0,\"ticks\":\"\"}},\"type\":\"scattergl\"}],\"scattermapbox\":[{\"marker\":{\"colorbar\":{\"outlinewidth\":0,\"ticks\":\"\"}},\"type\":\"scattermapbox\"}],\"scatterpolar\":[{\"marker\":{\"colorbar\":{\"outlinewidth\":0,\"ticks\":\"\"}},\"type\":\"scatterpolar\"}],\"scatterpolargl\":[{\"marker\":{\"colorbar\":{\"outlinewidth\":0,\"ticks\":\"\"}},\"type\":\"scatterpolargl\"}],\"scatterternary\":[{\"marker\":{\"colorbar\":{\"outlinewidth\":0,\"ticks\":\"\"}},\"type\":\"scatterternary\"}],\"surface\":[{\"colorbar\":{\"outlinewidth\":0,\"ticks\":\"\"},\"colorscale\":[[0.0,\"#0d0887\"],[0.1111111111111111,\"#46039f\"],[0.2222222222222222,\"#7201a8\"],[0.3333333333333333,\"#9c179e\"],[0.4444444444444444,\"#bd3786\"],[0.5555555555555556,\"#d8576b\"],[0.6666666666666666,\"#ed7953\"],[0.7777777777777778,\"#fb9f3a\"],[0.8888888888888888,\"#fdca26\"],[1.0,\"#f0f921\"]],\"type\":\"surface\"}],\"table\":[{\"cells\":{\"fill\":{\"color\":\"#EBF0F8\"},\"line\":{\"color\":\"white\"}},\"header\":{\"fill\":{\"color\":\"#C8D4E3\"},\"line\":{\"color\":\"white\"}},\"type\":\"table\"}]},\"layout\":{\"annotationdefaults\":{\"arrowcolor\":\"#2a3f5f\",\"arrowhead\":0,\"arrowwidth\":1},\"autotypenumbers\":\"strict\",\"coloraxis\":{\"colorbar\":{\"outlinewidth\":0,\"ticks\":\"\"}},\"colorscale\":{\"diverging\":[[0,\"#8e0152\"],[0.1,\"#c51b7d\"],[0.2,\"#de77ae\"],[0.3,\"#f1b6da\"],[0.4,\"#fde0ef\"],[0.5,\"#f7f7f7\"],[0.6,\"#e6f5d0\"],[0.7,\"#b8e186\"],[0.8,\"#7fbc41\"],[0.9,\"#4d9221\"],[1,\"#276419\"]],\"sequential\":[[0.0,\"#0d0887\"],[0.1111111111111111,\"#46039f\"],[0.2222222222222222,\"#7201a8\"],[0.3333333333333333,\"#9c179e\"],[0.4444444444444444,\"#bd3786\"],[0.5555555555555556,\"#d8576b\"],[0.6666666666666666,\"#ed7953\"],[0.7777777777777778,\"#fb9f3a\"],[0.8888888888888888,\"#fdca26\"],[1.0,\"#f0f921\"]],\"sequentialminus\":[[0.0,\"#0d0887\"],[0.1111111111111111,\"#46039f\"],[0.2222222222222222,\"#7201a8\"],[0.3333333333333333,\"#9c179e\"],[0.4444444444444444,\"#bd3786\"],[0.5555555555555556,\"#d8576b\"],[0.6666666666666666,\"#ed7953\"],[0.7777777777777778,\"#fb9f3a\"],[0.8888888888888888,\"#fdca26\"],[1.0,\"#f0f921\"]]},\"colorway\":[\"#636efa\",\"#EF553B\",\"#00cc96\",\"#ab63fa\",\"#FFA15A\",\"#19d3f3\",\"#FF6692\",\"#B6E880\",\"#FF97FF\",\"#FECB52\"],\"font\":{\"color\":\"#2a3f5f\"},\"geo\":{\"bgcolor\":\"white\",\"lakecolor\":\"white\",\"landcolor\":\"#E5ECF6\",\"showlakes\":true,\"showland\":true,\"subunitcolor\":\"white\"},\"hoverlabel\":{\"align\":\"left\"},\"hovermode\":\"closest\",\"mapbox\":{\"style\":\"light\"},\"paper_bgcolor\":\"white\",\"plot_bgcolor\":\"#E5ECF6\",\"polar\":{\"angularaxis\":{\"gridcolor\":\"white\",\"linecolor\":\"white\",\"ticks\":\"\"},\"bgcolor\":\"#E5ECF6\",\"radialaxis\":{\"gridcolor\":\"white\",\"linecolor\":\"white\",\"ticks\":\"\"}},\"scene\":{\"xaxis\":{\"backgroundcolor\":\"#E5ECF6\",\"gridcolor\":\"white\",\"gridwidth\":2,\"linecolor\":\"white\",\"showbackground\":true,\"ticks\":\"\",\"zerolinecolor\":\"white\"},\"yaxis\":{\"backgroundcolor\":\"#E5ECF6\",\"gridcolor\":\"white\",\"gridwidth\":2,\"linecolor\":\"white\",\"showbackground\":true,\"ticks\":\"\",\"zerolinecolor\":\"white\"},\"zaxis\":{\"backgroundcolor\":\"#E5ECF6\",\"gridcolor\":\"white\",\"gridwidth\":2,\"linecolor\":\"white\",\"showbackground\":true,\"ticks\":\"\",\"zerolinecolor\":\"white\"}},\"shapedefaults\":{\"line\":{\"color\":\"#2a3f5f\"}},\"ternary\":{\"aaxis\":{\"gridcolor\":\"white\",\"linecolor\":\"white\",\"ticks\":\"\"},\"baxis\":{\"gridcolor\":\"white\",\"linecolor\":\"white\",\"ticks\":\"\"},\"bgcolor\":\"#E5ECF6\",\"caxis\":{\"gridcolor\":\"white\",\"linecolor\":\"white\",\"ticks\":\"\"}},\"title\":{\"x\":0.05},\"xaxis\":{\"automargin\":true,\"gridcolor\":\"white\",\"linecolor\":\"white\",\"ticks\":\"\",\"title\":{\"standoff\":15},\"zerolinecolor\":\"white\",\"zerolinewidth\":2},\"yaxis\":{\"automargin\":true,\"gridcolor\":\"white\",\"linecolor\":\"white\",\"ticks\":\"\",\"title\":{\"standoff\":15},\"zerolinecolor\":\"white\",\"zerolinewidth\":2}}},\"xaxis\":{\"anchor\":\"y\",\"categoryarray\":[\"\",\"AK\",\"AL\",\"AR\",\"AZ\",\"CA\",\"CO\",\"CT\",\"DC\",\"DE\",\"FL\",\"GA\",\"HI\",\"IA\",\"ID\",\"IL\",\"IN\",\"KS\",\"KY\",\"LA\",\"MA\",\"MD\",\"ME\",\"MI\",\"MN\",\"MO\",\"MS\",\"MT\",\"NC\",\"ND\",\"NE\",\"NH\",\"NJ\",\"NM\",\"NV\",\"NY\",\"OH\",\"OK\",\"OR\",\"PA\",\"PR\",\"RI\",\"SC\",\"SD\",\"TN\",\"TX\",\"US Virgin Islands\",\"UT\",\"VA\",\"VT\",\"WA\",\"WI\",\"WV\",\"WY\"],\"categoryorder\":\"array\",\"domain\":[0.0,1.0],\"title\":{\"text\":\"region\"}},\"yaxis\":{\"anchor\":\"x\",\"domain\":[0.0,1.0],\"title\":{\"text\":\"y\"}}},                        {\"responsive\": true}                    ).then(function(){\n",
       "                            \n",
       "var gd = document.getElementById('d6d44210-5048-4bc1-a81e-321a00226ddf');\n",
       "var x = new MutationObserver(function (mutations, observer) {{\n",
       "        var display = window.getComputedStyle(gd).display;\n",
       "        if (!display || display === 'none') {{\n",
       "            console.log([gd, 'removed!']);\n",
       "            Plotly.purge(gd);\n",
       "            observer.disconnect();\n",
       "        }}\n",
       "}});\n",
       "\n",
       "// Listen for the removal of the full notebook cells\n",
       "var notebookContainer = gd.closest('#notebook-container');\n",
       "if (notebookContainer) {{\n",
       "    x.observe(notebookContainer, {childList: true});\n",
       "}}\n",
       "\n",
       "// Listen for the clearing of the current output cell\n",
       "var outputEl = gd.closest('.output');\n",
       "if (outputEl) {{\n",
       "    x.observe(outputEl, {childList: true});\n",
       "}}\n",
       "\n",
       "                        })                };                });            </script>        </div>"
      ]
     },
     "metadata": {},
     "output_type": "display_data"
    }
   ],
   "source": [
    "dfg = degree_df.groupby(\"region\")['education'].count().reset_index()\n",
    "\n",
    "fig = px.bar(dfg,\n",
    "             y=degree_df.groupby(\"region\")['education'].size(),\n",
    "             x=\"region\",\n",
    "             color='region')\n",
    "fig.show()"
   ]
  },
  {
   "cell_type": "markdown",
   "metadata": {},
   "source": [
    "### Analysis of Master's and Doctorate degree openings "
   ]
  },
  {
   "cell_type": "code",
   "execution_count": 36,
   "metadata": {},
   "outputs": [],
   "source": [
    "filter_Doctorate_masters = [\"Master's Degree\", \"Doctorate\"]\n",
    "Doctorate_masters_df = degree_df[degree_df.education.isin(filter_Doctorate_masters)]\n",
    "# Doctorate_masters_df"
   ]
  },
  {
   "cell_type": "code",
   "execution_count": 37,
   "metadata": {},
   "outputs": [
    {
     "data": {
      "text/plain": [
       "education\n",
       "Doctorate           25\n",
       "Master's Degree    128\n",
       "Name: region, dtype: int64"
      ]
     },
     "execution_count": 37,
     "metadata": {},
     "output_type": "execute_result"
    }
   ],
   "source": [
    "Doctorate_masters_df.groupby('education')['region'].count()"
   ]
  },
  {
   "cell_type": "markdown",
   "metadata": {},
   "source": [
    "#### Bar Chart of job openings for Master's degree holders"
   ]
  },
  {
   "cell_type": "code",
   "execution_count": 38,
   "metadata": {},
   "outputs": [
    {
     "data": {
      "image/png": "[encoded data removed]",
      "text/plain": [
       "<Figure size 432x288 with 1 Axes>"
      ]
     },
     "metadata": {
      "needs_background": "light"
     },
     "output_type": "display_data"
    }
   ],
   "source": [
    "Masters_df = Doctorate_masters_df[Doctorate_masters_df[\"education\"] == \"Master's Degree\"]\n",
    "Masters_df['region'].value_counts().plot(kind='bar', color='r', edgecolor='b');"
   ]
  },
  {
   "cell_type": "markdown",
   "metadata": {},
   "source": [
    "#### Bar Chart of job openings for Doctorate degree holders"
   ]
  },
  {
   "cell_type": "code",
   "execution_count": 40,
   "metadata": {},
   "outputs": [
    {
     "data": {
      "image/png": "[encoded data removed]",
      "text/plain": [
       "<Figure size 432x288 with 1 Axes>"
      ]
     },
     "metadata": {
      "needs_background": "light"
     },
     "output_type": "display_data"
    }
   ],
   "source": [
    "Doctorate_df = Doctorate_masters_df[Doctorate_masters_df[\"education\"] == \"Doctorate\"]\n",
    "Doctorate_df['region'].value_counts().plot(kind='bar', color='r', edgecolor='b');"
   ]
  },
  {
   "cell_type": "markdown",
   "metadata": {},
   "source": [
    "#### Job openings for Master's and Doctorate degree holders in each state across US"
   ]
  },
  {
   "cell_type": "code",
   "execution_count": 42,
   "metadata": {
    "scrolled": true
   },
   "outputs": [
    {
     "data": {
      "application/vnd.plotly.v1+json": {
       "config": {
        "plotlyServerURL": "https://plot.ly"
       },
       "data": [
        {
         "alignmentgroup": "True",
         "customdata": [
          [
           "Teacher of English for Online Groups!"
          ],
          [
           "Android Developer"
          ],
          [
           "Psychologist - Primary Care"
          ],
          [
           "Quantitative Financial Analyst"
          ],
          [
           "English Teachers for young learners, Teach Remotely. Make up to $26/hr, Get hired within a week!"
          ],
          [
           "Teacher(English) - Online& High-paid Job - Easy hiring process"
          ],
          [
           "Product Designer"
          ],
          [
           "SLP Position - School"
          ],
          [
           "Redis Engineer (with Python )"
          ],
          [
           "Financial Systems Manager"
          ],
          [
           "NP or PA, Palliative Care"
          ],
          [
           "Senior Quantitative Financial Analyst"
          ],
          [
           "IT Project Manager"
          ],
          [
           "🚗English Teachers for young learners,🚗 Teach Remotely. Make up to $26/hr,🚗 Get hired within a week!"
          ],
          [
           "Quantitative Finance Analyst"
          ],
          [
           "Speech Language Pathologist"
          ],
          [
           "Telephonic Crisis Line Clinician - LMSW LCSW or LPC"
          ]
         ],
         "hovertemplate": "region=%{y}<br>education=%{x}<br>title=%{customdata[0]}<extra></extra>",
         "legendgroup": "GA",
         "marker": {
          "color": "#636efa",
          "pattern": {
           "shape": ""
          }
         },
         "name": "GA",
         "offsetgroup": "GA",
         "orientation": "v",
         "showlegend": true,
         "textposition": "auto",
         "type": "bar",
         "x": [
          "Master's Degree",
          "Master's Degree",
          "Master's Degree",
          "Master's Degree",
          "Master's Degree",
          "Master's Degree",
          "Master's Degree",
          "Master's Degree",
          "Master's Degree",
          "Master's Degree",
          "Master's Degree",
          "Master's Degree",
          "Master's Degree",
          "Master's Degree",
          "Master's Degree",
          "Master's Degree",
          "Master's Degree"
         ],
         "xaxis": "x",
         "y": [
          "GA",
          "GA",
          "GA",
          "GA",
          "GA",
          "GA",
          "GA",
          "GA",
          "GA",
          "GA",
          "GA",
          "GA",
          "GA",
          "GA",
          "GA",
          "GA",
          "GA"
         ],
         "yaxis": "y"
        },
        {
         "alignmentgroup": "True",
         "customdata": [
          [
           "Sales Representative"
          ]
         ],
         "hovertemplate": "region=%{y}<br>education=%{x}<br>title=%{customdata[0]}<extra></extra>",
         "legendgroup": "LA",
         "marker": {
          "color": "#EF553B",
          "pattern": {
           "shape": ""
          }
         },
         "name": "LA",
         "offsetgroup": "LA",
         "orientation": "v",
         "showlegend": true,
         "textposition": "auto",
         "type": "bar",
         "x": [
          "Doctorate"
         ],
         "xaxis": "x",
         "y": [
          "LA"
         ],
         "yaxis": "y"
        },
        {
         "alignmentgroup": "True",
         "customdata": [
          [
           "SLP - School"
          ],
          [
           "Clinical Development Scientist IV - Remote"
          ],
          [
           "Integrated Team Director - ACCS - Team 4"
          ],
          [
           "(Senior) Scientist, mRNA/Oligo Analytical Chemistry"
          ],
          [
           "Business Development Engineer"
          ],
          [
           "Clinical Supervisor - $3,000 Sign On Bonus"
          ]
         ],
         "hovertemplate": "region=%{y}<br>education=%{x}<br>title=%{customdata[0]}<extra></extra>",
         "legendgroup": "MA",
         "marker": {
          "color": "#00cc96",
          "pattern": {
           "shape": ""
          }
         },
         "name": "MA",
         "offsetgroup": "MA",
         "orientation": "v",
         "showlegend": true,
         "textposition": "auto",
         "type": "bar",
         "x": [
          "Master's Degree",
          "Master's Degree",
          "Master's Degree",
          "Doctorate",
          "Master's Degree",
          "Master's Degree"
         ],
         "xaxis": "x",
         "y": [
          "MA",
          "MA",
          "MA",
          "MA",
          "MA",
          "MA"
         ],
         "yaxis": "y"
        },
        {
         "alignmentgroup": "True",
         "customdata": [
          [
           "Social Worker - Gage Park Area"
          ],
          [
           "Specialist, Regulatory Compliance"
          ],
          [
           "Attorney - Commercial Banking"
          ],
          [
           "PRVIATE EQUITY FIRM SEEKS TRUST/ESTATE PLANNING ADVISOR!"
          ],
          [
           "Assets Controller"
          ],
          [
           "Unlicensed Juris Doctor Appeals Referee- 100% Remote"
          ],
          [
           "Speech-Language Pathologist"
          ],
          [
           "Litigation/L&E Associate Attorney (Midlevel to Senior)"
          ],
          [
           "✨✨English Teachers for young learners, Teach Remotely. 🍒🍒Make up to $26/hr, Get hired within a week!🎇🎇"
          ]
         ],
         "hovertemplate": "region=%{y}<br>education=%{x}<br>title=%{customdata[0]}<extra></extra>",
         "legendgroup": "IL",
         "marker": {
          "color": "#ab63fa",
          "pattern": {
           "shape": ""
          }
         },
         "name": "IL",
         "offsetgroup": "IL",
         "orientation": "v",
         "showlegend": true,
         "textposition": "auto",
         "type": "bar",
         "x": [
          "Master's Degree",
          "Master's Degree",
          "Doctorate",
          "Doctorate",
          "Master's Degree",
          "Doctorate",
          "Master's Degree",
          "Doctorate",
          "Master's Degree"
         ],
         "xaxis": "x",
         "y": [
          "IL",
          "IL",
          "IL",
          "IL",
          "IL",
          "IL",
          "IL",
          "IL",
          "IL"
         ],
         "yaxis": "y"
        },
        {
         "alignmentgroup": "True",
         "customdata": [
          [
           "School Occupational Therapist (OT)"
          ],
          [
           "Medical Assistant"
          ],
          [
           "Principal Data Scientist - Search"
          ],
          [
           "Licensed Social Worker (LCSW/LMFT) - SFMC Psych Adult"
          ],
          [
           "Quality Analyst"
          ],
          [
           "Health Program Manager II"
          ],
          [
           "Bilingual Speech Language Pathologist (SLP)"
          ],
          [
           "Social Service II"
          ],
          [
           "Clinician - Migrant Services"
          ],
          [
           "Senior Scientist, Assay Technology Innovation & Development"
          ],
          [
           "Sr Director Corporate Strategy"
          ],
          [
           "Hospital Psychology Intake Manager"
          ],
          [
           "Sr Director Strategy"
          ],
          [
           "Maritime Instructor (On-Call)"
          ],
          [
           "SLP - School"
          ],
          [
           "Therapist - Pool"
          ],
          [
           "PROFESSIONAL LIABILITY ATTORNEY"
          ],
          [
           "Senior Scientist - Burlingame, CA"
          ],
          [
           "School Psychologist"
          ],
          [
           "iOS Developer"
          ],
          [
           "Clinical Social Worker"
          ],
          [
           "Speech-Language Pathologist"
          ],
          [
           "Mechanical Engineer/Materials Scientist"
          ]
         ],
         "hovertemplate": "region=%{y}<br>education=%{x}<br>title=%{customdata[0]}<extra></extra>",
         "legendgroup": "CA",
         "marker": {
          "color": "#FFA15A",
          "pattern": {
           "shape": ""
          }
         },
         "name": "CA",
         "offsetgroup": "CA",
         "orientation": "v",
         "showlegend": true,
         "textposition": "auto",
         "type": "bar",
         "x": [
          "Master's Degree",
          "Master's Degree",
          "Master's Degree",
          "Master's Degree",
          "Master's Degree",
          "Master's Degree",
          "Master's Degree",
          "Master's Degree",
          "Master's Degree",
          "Doctorate",
          "Master's Degree",
          "Doctorate",
          "Master's Degree",
          "Master's Degree",
          "Master's Degree",
          "Master's Degree",
          "Doctorate",
          "Doctorate",
          "Master's Degree",
          "Master's Degree",
          "Master's Degree",
          "Master's Degree",
          "Doctorate"
         ],
         "xaxis": "x",
         "y": [
          "CA",
          "CA",
          "CA",
          "CA",
          "CA",
          "CA",
          "CA",
          "CA",
          "CA",
          "CA",
          "CA",
          "CA",
          "CA",
          "CA",
          "CA",
          "CA",
          "CA",
          "CA",
          "CA",
          "CA",
          "CA",
          "CA",
          "CA"
         ],
         "yaxis": "y"
        },
        {
         "alignmentgroup": "True",
         "customdata": [
          [
           "Social Worker, MSW"
          ],
          [
           "Pediatric ICU Pediatric Nurse Practitioner"
          ],
          [
           "CRITICAL: Therapist- Assertive Community Treatment Team"
          ],
          [
           "Adjunct Instructor - Online"
          ],
          [
           "Therapist/Open Access Leader"
          ],
          [
           "School Therapist - Elsberry & Winfield Districts"
          ],
          [
           "SLP Position - School"
          ]
         ],
         "hovertemplate": "region=%{y}<br>education=%{x}<br>title=%{customdata[0]}<extra></extra>",
         "legendgroup": "MO",
         "marker": {
          "color": "#19d3f3",
          "pattern": {
           "shape": ""
          }
         },
         "name": "MO",
         "offsetgroup": "MO",
         "orientation": "v",
         "showlegend": true,
         "textposition": "auto",
         "type": "bar",
         "x": [
          "Master's Degree",
          "Master's Degree",
          "Master's Degree",
          "Master's Degree",
          "Master's Degree",
          "Master's Degree",
          "Master's Degree"
         ],
         "xaxis": "x",
         "y": [
          "MO",
          "MO",
          "MO",
          "MO",
          "MO",
          "MO",
          "MO"
         ],
         "yaxis": "y"
        },
        {
         "alignmentgroup": "True",
         "customdata": [
          [
           "SLP - School"
          ],
          [
           "SLP - School"
          ]
         ],
         "hovertemplate": "region=%{y}<br>education=%{x}<br>title=%{customdata[0]}<extra></extra>",
         "legendgroup": "SC",
         "marker": {
          "color": "#FF6692",
          "pattern": {
           "shape": ""
          }
         },
         "name": "SC",
         "offsetgroup": "SC",
         "orientation": "v",
         "showlegend": true,
         "textposition": "auto",
         "type": "bar",
         "x": [
          "Master's Degree",
          "Master's Degree"
         ],
         "xaxis": "x",
         "y": [
          "SC",
          "SC"
         ],
         "yaxis": "y"
        },
        {
         "alignmentgroup": "True",
         "customdata": [
          [
           "Speech Language Pathologist for Early Intervention"
          ],
          [
           "Labor Relations Associate"
          ],
          [
           "Speech Language Pathologist SLP"
          ],
          [
           "Financial Analytics and Derivatives - Senior Associate"
          ],
          [
           "Education Director (Training and Development) - Middle School, Promise Academy"
          ],
          [
           "PHYSICAL THERAPIST PT"
          ]
         ],
         "hovertemplate": "region=%{y}<br>education=%{x}<br>title=%{customdata[0]}<extra></extra>",
         "legendgroup": "NY",
         "marker": {
          "color": "#B6E880",
          "pattern": {
           "shape": ""
          }
         },
         "name": "NY",
         "offsetgroup": "NY",
         "orientation": "v",
         "showlegend": true,
         "textposition": "auto",
         "type": "bar",
         "x": [
          "Master's Degree",
          "Master's Degree",
          "Master's Degree",
          "Master's Degree",
          "Master's Degree",
          "Master's Degree"
         ],
         "xaxis": "x",
         "y": [
          "NY",
          "NY",
          "NY",
          "NY",
          "NY",
          "NY"
         ],
         "yaxis": "y"
        },
        {
         "alignmentgroup": "True",
         "customdata": [
          [
           "SLP Position - Skilled Nursing Facility"
          ],
          [
           "AWS Systems Engineer"
          ],
          [
           "Senior Scientist"
          ],
          [
           "Test Engineer-TS/SCI REQUIRED"
          ],
          [
           "Data Engineer II"
          ]
         ],
         "hovertemplate": "region=%{y}<br>education=%{x}<br>title=%{customdata[0]}<extra></extra>",
         "legendgroup": "VA",
         "marker": {
          "color": "#FF97FF",
          "pattern": {
           "shape": ""
          }
         },
         "name": "VA",
         "offsetgroup": "VA",
         "orientation": "v",
         "showlegend": true,
         "textposition": "auto",
         "type": "bar",
         "x": [
          "Master's Degree",
          "Master's Degree",
          "Master's Degree",
          "Master's Degree",
          "Master's Degree"
         ],
         "xaxis": "x",
         "y": [
          "VA",
          "VA",
          "VA",
          "VA",
          "VA"
         ],
         "yaxis": "y"
        },
        {
         "alignmentgroup": "True",
         "customdata": [
          [
           "EAP Care Manager-Remote Position"
          ],
          [
           "Lead Athletic Trainer"
          ],
          [
           "Physical Therapist, NICU - Per Diem"
          ],
          [
           "Quality Improvement Specialist"
          ],
          [
           "Psychiatric/MH Registered Nurse Practitioner"
          ],
          [
           "Sales Representative"
          ],
          [
           "MH Outpatient Therapist"
          ]
         ],
         "hovertemplate": "region=%{y}<br>education=%{x}<br>title=%{customdata[0]}<extra></extra>",
         "legendgroup": "PA",
         "marker": {
          "color": "#FECB52",
          "pattern": {
           "shape": ""
          }
         },
         "name": "PA",
         "offsetgroup": "PA",
         "orientation": "v",
         "showlegend": true,
         "textposition": "auto",
         "type": "bar",
         "x": [
          "Master's Degree",
          "Master's Degree",
          "Master's Degree",
          "Master's Degree",
          "Master's Degree",
          "Doctorate",
          "Master's Degree"
         ],
         "xaxis": "x",
         "y": [
          "PA",
          "PA",
          "PA",
          "PA",
          "PA",
          "PA",
          "PA"
         ],
         "yaxis": "y"
        },
        {
         "alignmentgroup": "True",
         "customdata": [
          [
           "Manager, Talent Acquisition"
          ],
          [
           "SLP Position - School"
          ],
          [
           "Clinical Supervisor"
          ]
         ],
         "hovertemplate": "region=%{y}<br>education=%{x}<br>title=%{customdata[0]}<extra></extra>",
         "legendgroup": "OR",
         "marker": {
          "color": "#636efa",
          "pattern": {
           "shape": ""
          }
         },
         "name": "OR",
         "offsetgroup": "OR",
         "orientation": "v",
         "showlegend": true,
         "textposition": "auto",
         "type": "bar",
         "x": [
          "Master's Degree",
          "Master's Degree",
          "Master's Degree"
         ],
         "xaxis": "x",
         "y": [
          "OR",
          "OR",
          "OR"
         ],
         "yaxis": "y"
        },
        {
         "alignmentgroup": "True",
         "customdata": [
          [
           "Associate Scientist"
          ],
          [
           "Sr. Account Executive (IT Solutions and Services / Solution sales)"
          ],
          [
           "Psychologist"
          ],
          [
           "APN - Part Time"
          ],
          [
           "Bilingual Therapist"
          ],
          [
           "Quantitative Finance Analyst"
          ],
          [
           "Postdoctoral Scientist"
          ]
         ],
         "hovertemplate": "region=%{y}<br>education=%{x}<br>title=%{customdata[0]}<extra></extra>",
         "legendgroup": "NJ",
         "marker": {
          "color": "#EF553B",
          "pattern": {
           "shape": ""
          }
         },
         "name": "NJ",
         "offsetgroup": "NJ",
         "orientation": "v",
         "showlegend": true,
         "textposition": "auto",
         "type": "bar",
         "x": [
          "Master's Degree",
          "Master's Degree",
          "Doctorate",
          "Master's Degree",
          "Master's Degree",
          "Master's Degree",
          "Doctorate"
         ],
         "xaxis": "x",
         "y": [
          "NJ",
          "NJ",
          "NJ",
          "NJ",
          "NJ",
          "NJ",
          "NJ"
         ],
         "yaxis": "y"
        },
        {
         "alignmentgroup": "True",
         "customdata": [
          [
           "SLP - School"
          ]
         ],
         "hovertemplate": "region=%{y}<br>education=%{x}<br>title=%{customdata[0]}<extra></extra>",
         "legendgroup": "NM",
         "marker": {
          "color": "#00cc96",
          "pattern": {
           "shape": ""
          }
         },
         "name": "NM",
         "offsetgroup": "NM",
         "orientation": "v",
         "showlegend": true,
         "textposition": "auto",
         "type": "bar",
         "x": [
          "Master's Degree"
         ],
         "xaxis": "x",
         "y": [
          "NM"
         ],
         "yaxis": "y"
        },
        {
         "alignmentgroup": "True",
         "customdata": [
          [
           "Health Care Research Analyst (FT), Heart & Vascular Center"
          ],
          [
           "Continuing Care Manager - Social Worker(FT), Care Management"
          ]
         ],
         "hovertemplate": "region=%{y}<br>education=%{x}<br>title=%{customdata[0]}<extra></extra>",
         "legendgroup": "NH",
         "marker": {
          "color": "#ab63fa",
          "pattern": {
           "shape": ""
          }
         },
         "name": "NH",
         "offsetgroup": "NH",
         "orientation": "v",
         "showlegend": true,
         "textposition": "auto",
         "type": "bar",
         "x": [
          "Master's Degree",
          "Master's Degree"
         ],
         "xaxis": "x",
         "y": [
          "NH",
          "NH"
         ],
         "yaxis": "y"
        },
        {
         "alignmentgroup": "True",
         "customdata": [
          [
           "Small Engine Mechanic"
          ],
          [
           "Strategy& Healthcare Tech Strategy- Senior Associate"
          ]
         ],
         "hovertemplate": "region=%{y}<br>education=%{x}<br>title=%{customdata[0]}<extra></extra>",
         "legendgroup": "AL",
         "marker": {
          "color": "#FFA15A",
          "pattern": {
           "shape": ""
          }
         },
         "name": "AL",
         "offsetgroup": "AL",
         "orientation": "v",
         "showlegend": true,
         "textposition": "auto",
         "type": "bar",
         "x": [
          "Master's Degree",
          "Master's Degree"
         ],
         "xaxis": "x",
         "y": [
          "AL",
          "AL"
         ],
         "yaxis": "y"
        },
        {
         "alignmentgroup": "True",
         "customdata": [
          [
           "Chief Executive Officer"
          ],
          [
           "Master's Level Counselor /Licensed Therapist"
          ],
          [
           "Master's Level Therapist/ MSW"
          ],
          [
           "Desktop Support Analyst"
          ]
         ],
         "hovertemplate": "region=%{y}<br>education=%{x}<br>title=%{customdata[0]}<extra></extra>",
         "legendgroup": "IN",
         "marker": {
          "color": "#19d3f3",
          "pattern": {
           "shape": ""
          }
         },
         "name": "IN",
         "offsetgroup": "IN",
         "orientation": "v",
         "showlegend": true,
         "textposition": "auto",
         "type": "bar",
         "x": [
          "Master's Degree",
          "Master's Degree",
          "Master's Degree",
          "Master's Degree"
         ],
         "xaxis": "x",
         "y": [
          "IN",
          "IN",
          "IN",
          "IN"
         ],
         "yaxis": "y"
        },
        {
         "alignmentgroup": "True",
         "customdata": [
          [
           "ASSISTANT IN RESEARCH (ENERGY EFFICIENT BUILDINGS)"
          ],
          [
           "NURSING (OB/GYN) INSTRUCTOR - PT"
          ],
          [
           "Early Childhood Special Educator- Support U.S. Military Families in England!"
          ],
          [
           "Unit Therapist PRN"
          ],
          [
           "Nurse Practitioner (NP)"
          ],
          [
           "APRN AdventHealth Medical Group Walgreen’s Express PRN 49th Street"
          ],
          [
           "CRIMINAL JUSTICE / HOMELAND SECURITY INSTRUCTOR"
          ],
          [
           "Social Worker MSW FT Days"
          ],
          [
           "SPEECH INSTRUCTOR"
          ],
          [
           "ENGLISH & LITERATURE INSTRUCTOR"
          ],
          [
           "Chrysler Certified Master Technician"
          ],
          [
           "School Occupational Therapist (OT)"
          ]
         ],
         "hovertemplate": "region=%{y}<br>education=%{x}<br>title=%{customdata[0]}<extra></extra>",
         "legendgroup": "FL",
         "marker": {
          "color": "#FF6692",
          "pattern": {
           "shape": ""
          }
         },
         "name": "FL",
         "offsetgroup": "FL",
         "orientation": "v",
         "showlegend": true,
         "textposition": "auto",
         "type": "bar",
         "x": [
          "Master's Degree",
          "Master's Degree",
          "Master's Degree",
          "Master's Degree",
          "Master's Degree",
          "Master's Degree",
          "Master's Degree",
          "Master's Degree",
          "Master's Degree",
          "Master's Degree",
          "Master's Degree",
          "Master's Degree"
         ],
         "xaxis": "x",
         "y": [
          "FL",
          "FL",
          "FL",
          "FL",
          "FL",
          "FL",
          "FL",
          "FL",
          "FL",
          "FL",
          "FL",
          "FL"
         ],
         "yaxis": "y"
        },
        {
         "alignmentgroup": "True",
         "customdata": [
          [
           "Addiction  Counselor"
          ],
          [
           "Hospital Director of Pharmacy"
          ],
          [
           "Registered Nurse"
          ],
          [
           "Primary Therapist - Full Time"
          ],
          [
           "Test Engineer-TS/SCI REQUIRED"
          ]
         ],
         "hovertemplate": "region=%{y}<br>education=%{x}<br>title=%{customdata[0]}<extra></extra>",
         "legendgroup": "MD",
         "marker": {
          "color": "#B6E880",
          "pattern": {
           "shape": ""
          }
         },
         "name": "MD",
         "offsetgroup": "MD",
         "orientation": "v",
         "showlegend": true,
         "textposition": "auto",
         "type": "bar",
         "x": [
          "Master's Degree",
          "Doctorate",
          "Master's Degree",
          "Master's Degree",
          "Master's Degree"
         ],
         "xaxis": "x",
         "y": [
          "MD",
          "MD",
          "MD",
          "MD",
          "MD"
         ],
         "yaxis": "y"
        },
        {
         "alignmentgroup": "True",
         "customdata": [
          [
           "Capacity Planner"
          ],
          [
           "Scientific Director"
          ],
          [
           "Medical Director"
          ],
          [
           "Lead Clinician (Military Family Clinic)"
          ],
          [
           "Sr. QA Analyst"
          ],
          [
           "Master Data Coordinator"
          ],
          [
           "L1 Master Automotive Technician / Mechanic - White Rock"
          ],
          [
           "MFLC Counselor T4 School"
          ],
          [
           "SLP - School"
          ],
          [
           "Master Certified Technician / Automotive Mechanic"
          ]
         ],
         "hovertemplate": "region=%{y}<br>education=%{x}<br>title=%{customdata[0]}<extra></extra>",
         "legendgroup": "TX",
         "marker": {
          "color": "#FF97FF",
          "pattern": {
           "shape": ""
          }
         },
         "name": "TX",
         "offsetgroup": "TX",
         "orientation": "v",
         "showlegend": true,
         "textposition": "auto",
         "type": "bar",
         "x": [
          "Master's Degree",
          "Doctorate",
          "Doctorate",
          "Master's Degree",
          "Master's Degree",
          "Master's Degree",
          "Master's Degree",
          "Master's Degree",
          "Master's Degree",
          "Master's Degree"
         ],
         "xaxis": "x",
         "y": [
          "TX",
          "TX",
          "TX",
          "TX",
          "TX",
          "TX",
          "TX",
          "TX",
          "TX",
          "TX"
         ],
         "yaxis": "y"
        },
        {
         "alignmentgroup": "True",
         "customdata": [
          [
           "MFLC Counselor T4 School"
          ]
         ],
         "hovertemplate": "region=%{y}<br>education=%{x}<br>title=%{customdata[0]}<extra></extra>",
         "legendgroup": "AZ",
         "marker": {
          "color": "#FECB52",
          "pattern": {
           "shape": ""
          }
         },
         "name": "AZ",
         "offsetgroup": "AZ",
         "orientation": "v",
         "showlegend": true,
         "textposition": "auto",
         "type": "bar",
         "x": [
          "Master's Degree"
         ],
         "xaxis": "x",
         "y": [
          "AZ"
         ],
         "yaxis": "y"
        },
        {
         "alignmentgroup": "True",
         "customdata": [
          [
           "Operations Supervisor-Swing Shift"
          ],
          [
           "MFLC Counselor T4 General"
          ]
         ],
         "hovertemplate": "region=%{y}<br>education=%{x}<br>title=%{customdata[0]}<extra></extra>",
         "legendgroup": "CO",
         "marker": {
          "color": "#636efa",
          "pattern": {
           "shape": ""
          }
         },
         "name": "CO",
         "offsetgroup": "CO",
         "orientation": "v",
         "showlegend": true,
         "textposition": "auto",
         "type": "bar",
         "x": [
          "Master's Degree",
          "Master's Degree"
         ],
         "xaxis": "x",
         "y": [
          "CO",
          "CO"
         ],
         "yaxis": "y"
        },
        {
         "alignmentgroup": "True",
         "customdata": [
          [
           "Independent Life Insurance Sales Representative"
          ],
          [
           "Teach English Online for Chinese Kids! Work Remotely-Flexible Schedule-Without minimum teaching requirments!!!"
          ]
         ],
         "hovertemplate": "region=%{y}<br>education=%{x}<br>title=%{customdata[0]}<extra></extra>",
         "legendgroup": "ID",
         "marker": {
          "color": "#EF553B",
          "pattern": {
           "shape": ""
          }
         },
         "name": "ID",
         "offsetgroup": "ID",
         "orientation": "v",
         "showlegend": true,
         "textposition": "auto",
         "type": "bar",
         "x": [
          "Doctorate",
          "Master's Degree"
         ],
         "xaxis": "x",
         "y": [
          "ID",
          "ID"
         ],
         "yaxis": "y"
        },
        {
         "alignmentgroup": "True",
         "customdata": [
          [
           "Senior Commercial Development Director, Drug Product"
          ],
          [
           "Quantitative Finance Analyst - Charlotte, NC"
          ],
          [
           "Labor and Employment Attorney"
          ]
         ],
         "hovertemplate": "region=%{y}<br>education=%{x}<br>title=%{customdata[0]}<extra></extra>",
         "legendgroup": "NC",
         "marker": {
          "color": "#00cc96",
          "pattern": {
           "shape": ""
          }
         },
         "name": "NC",
         "offsetgroup": "NC",
         "orientation": "v",
         "showlegend": true,
         "textposition": "auto",
         "type": "bar",
         "x": [
          "Master's Degree",
          "Master's Degree",
          "Master's Degree"
         ],
         "xaxis": "x",
         "y": [
          "NC",
          "NC",
          "NC"
         ],
         "yaxis": "y"
        },
        {
         "alignmentgroup": "True",
         "customdata": [
          [
           "SLP Position - Skilled Nursing Facility"
          ],
          [
           "Product Development Scientist - Nutrition - Columbus, OH"
          ],
          [
           "Sales Representative"
          ]
         ],
         "hovertemplate": "region=%{y}<br>education=%{x}<br>title=%{customdata[0]}<extra></extra>",
         "legendgroup": "OH",
         "marker": {
          "color": "#ab63fa",
          "pattern": {
           "shape": ""
          }
         },
         "name": "OH",
         "offsetgroup": "OH",
         "orientation": "v",
         "showlegend": true,
         "textposition": "auto",
         "type": "bar",
         "x": [
          "Master's Degree",
          "Doctorate",
          "Doctorate"
         ],
         "xaxis": "x",
         "y": [
          "OH",
          "OH",
          "OH"
         ],
         "yaxis": "y"
        },
        {
         "alignmentgroup": "True",
         "customdata": [
          [
           "Attorney - Junior Associate Tax"
          ]
         ],
         "hovertemplate": "region=%{y}<br>education=%{x}<br>title=%{customdata[0]}<extra></extra>",
         "legendgroup": "PR",
         "marker": {
          "color": "#FFA15A",
          "pattern": {
           "shape": ""
          }
         },
         "name": "PR",
         "offsetgroup": "PR",
         "orientation": "v",
         "showlegend": true,
         "textposition": "auto",
         "type": "bar",
         "x": [
          "Doctorate"
         ],
         "xaxis": "x",
         "y": [
          "PR"
         ],
         "yaxis": "y"
        },
        {
         "alignmentgroup": "True",
         "customdata": [
          [
           "Crisis Response Counselor"
          ],
          [
           "Emergency Room Tech"
          ],
          [
           "Crisis Response Counselor"
          ]
         ],
         "hovertemplate": "region=%{y}<br>education=%{x}<br>title=%{customdata[0]}<extra></extra>",
         "legendgroup": "TN",
         "marker": {
          "color": "#19d3f3",
          "pattern": {
           "shape": ""
          }
         },
         "name": "TN",
         "offsetgroup": "TN",
         "orientation": "v",
         "showlegend": true,
         "textposition": "auto",
         "type": "bar",
         "x": [
          "Master's Degree",
          "Master's Degree",
          "Master's Degree"
         ],
         "xaxis": "x",
         "y": [
          "TN",
          "TN",
          "TN"
         ],
         "yaxis": "y"
        },
        {
         "alignmentgroup": "True",
         "customdata": [
          [
           "Crisis Specialist , Bilingual (English and Spanish)"
          ]
         ],
         "hovertemplate": "region=%{y}<br>education=%{x}<br>title=%{customdata[0]}<extra></extra>",
         "legendgroup": "DC",
         "marker": {
          "color": "#FF6692",
          "pattern": {
           "shape": ""
          }
         },
         "name": "DC",
         "offsetgroup": "DC",
         "orientation": "v",
         "showlegend": true,
         "textposition": "auto",
         "type": "bar",
         "x": [
          "Master's Degree"
         ],
         "xaxis": "x",
         "y": [
          "DC"
         ],
         "yaxis": "y"
        },
        {
         "alignmentgroup": "True",
         "customdata": [
          [
           "Sales Representative"
          ]
         ],
         "hovertemplate": "region=%{y}<br>education=%{x}<br>title=%{customdata[0]}<extra></extra>",
         "legendgroup": "OK",
         "marker": {
          "color": "#B6E880",
          "pattern": {
           "shape": ""
          }
         },
         "name": "OK",
         "offsetgroup": "OK",
         "orientation": "v",
         "showlegend": true,
         "textposition": "auto",
         "type": "bar",
         "x": [
          "Doctorate"
         ],
         "xaxis": "x",
         "y": [
          "OK"
         ],
         "yaxis": "y"
        },
        {
         "alignmentgroup": "True",
         "customdata": [
          [
           "Sales Representative"
          ],
          [
           "Social Service II Non-Exempt - LHMI"
          ],
          [
           "SLP Position - Hospital"
          ]
         ],
         "hovertemplate": "region=%{y}<br>education=%{x}<br>title=%{customdata[0]}<extra></extra>",
         "legendgroup": "MI",
         "marker": {
          "color": "#FF97FF",
          "pattern": {
           "shape": ""
          }
         },
         "name": "MI",
         "offsetgroup": "MI",
         "orientation": "v",
         "showlegend": true,
         "textposition": "auto",
         "type": "bar",
         "x": [
          "Doctorate",
          "Master's Degree",
          "Master's Degree"
         ],
         "xaxis": "x",
         "y": [
          "MI",
          "MI",
          "MI"
         ],
         "yaxis": "y"
        },
        {
         "alignmentgroup": "True",
         "customdata": [
          [
           "SLP Position - Skilled Nursing Facility"
          ]
         ],
         "hovertemplate": "region=%{y}<br>education=%{x}<br>title=%{customdata[0]}<extra></extra>",
         "legendgroup": "WA",
         "marker": {
          "color": "#FECB52",
          "pattern": {
           "shape": ""
          }
         },
         "name": "WA",
         "offsetgroup": "WA",
         "orientation": "v",
         "showlegend": true,
         "textposition": "auto",
         "type": "bar",
         "x": [
          "Master's Degree"
         ],
         "xaxis": "x",
         "y": [
          "WA"
         ],
         "yaxis": "y"
        },
        {
         "alignmentgroup": "True",
         "customdata": [
          [
           "SLP Position - Skilled Nursing Facility"
          ],
          [
           "Senior Human Factors Engineer"
          ]
         ],
         "hovertemplate": "region=%{y}<br>education=%{x}<br>title=%{customdata[0]}<extra></extra>",
         "legendgroup": "MN",
         "marker": {
          "color": "#636efa",
          "pattern": {
           "shape": ""
          }
         },
         "name": "MN",
         "offsetgroup": "MN",
         "orientation": "v",
         "showlegend": true,
         "textposition": "auto",
         "type": "bar",
         "x": [
          "Master's Degree",
          "Doctorate"
         ],
         "xaxis": "x",
         "y": [
          "MN",
          "MN"
         ],
         "yaxis": "y"
        },
        {
         "alignmentgroup": "True",
         "customdata": [
          [
           "General Dentist- Iowa (Sign on plus relocation)"
          ]
         ],
         "hovertemplate": "region=%{y}<br>education=%{x}<br>title=%{customdata[0]}<extra></extra>",
         "legendgroup": "IA",
         "marker": {
          "color": "#EF553B",
          "pattern": {
           "shape": ""
          }
         },
         "name": "IA",
         "offsetgroup": "IA",
         "orientation": "v",
         "showlegend": true,
         "textposition": "auto",
         "type": "bar",
         "x": [
          "Doctorate"
         ],
         "xaxis": "x",
         "y": [
          "IA"
         ],
         "yaxis": "y"
        }
       ],
       "layout": {
        "barmode": "relative",
        "legend": {
         "title": {
          "text": "region"
         },
         "tracegroupgap": 0
        },
        "margin": {
         "t": 60
        },
        "template": {
         "data": {
          "bar": [
           {
            "error_x": {
             "color": "#2a3f5f"
            },
            "error_y": {
             "color": "#2a3f5f"
            },
            "marker": {
             "line": {
              "color": "#E5ECF6",
              "width": 0.5
             },
             "pattern": {
              "fillmode": "overlay",
              "size": 10,
              "solidity": 0.2
             }
            },
            "type": "bar"
           }
          ],
          "barpolar": [
           {
            "marker": {
             "line": {
              "color": "#E5ECF6",
              "width": 0.5
             },
             "pattern": {
              "fillmode": "overlay",
              "size": 10,
              "solidity": 0.2
             }
            },
            "type": "barpolar"
           }
          ],
          "carpet": [
           {
            "aaxis": {
             "endlinecolor": "#2a3f5f",
             "gridcolor": "white",
             "linecolor": "white",
             "minorgridcolor": "white",
             "startlinecolor": "#2a3f5f"
            },
            "baxis": {
             "endlinecolor": "#2a3f5f",
             "gridcolor": "white",
             "linecolor": "white",
             "minorgridcolor": "white",
             "startlinecolor": "#2a3f5f"
            },
            "type": "carpet"
           }
          ],
          "choropleth": [
           {
            "colorbar": {
             "outlinewidth": 0,
             "ticks": ""
            },
            "type": "choropleth"
           }
          ],
          "contour": [
           {
            "colorbar": {
             "outlinewidth": 0,
             "ticks": ""
            },
            "colorscale": [
             [
              0,
              "#0d0887"
             ],
             [
              0.1111111111111111,
              "#46039f"
             ],
             [
              0.2222222222222222,
              "#7201a8"
             ],
             [
              0.3333333333333333,
              "#9c179e"
             ],
             [
              0.4444444444444444,
              "#bd3786"
             ],
             [
              0.5555555555555556,
              "#d8576b"
             ],
             [
              0.6666666666666666,
              "#ed7953"
             ],
             [
              0.7777777777777778,
              "#fb9f3a"
             ],
             [
              0.8888888888888888,
              "#fdca26"
             ],
             [
              1,
              "#f0f921"
             ]
            ],
            "type": "contour"
           }
          ],
          "contourcarpet": [
           {
            "colorbar": {
             "outlinewidth": 0,
             "ticks": ""
            },
            "type": "contourcarpet"
           }
          ],
          "heatmap": [
           {
            "colorbar": {
             "outlinewidth": 0,
             "ticks": ""
            },
            "colorscale": [
             [
              0,
              "#0d0887"
             ],
             [
              0.1111111111111111,
              "#46039f"
             ],
             [
              0.2222222222222222,
              "#7201a8"
             ],
             [
              0.3333333333333333,
              "#9c179e"
             ],
             [
              0.4444444444444444,
              "#bd3786"
             ],
             [
              0.5555555555555556,
              "#d8576b"
             ],
             [
              0.6666666666666666,
              "#ed7953"
             ],
             [
              0.7777777777777778,
              "#fb9f3a"
             ],
             [
              0.8888888888888888,
              "#fdca26"
             ],
             [
              1,
              "#f0f921"
             ]
            ],
            "type": "heatmap"
           }
          ],
          "heatmapgl": [
           {
            "colorbar": {
             "outlinewidth": 0,
             "ticks": ""
            },
            "colorscale": [
             [
              0,
              "#0d0887"
             ],
             [
              0.1111111111111111,
              "#46039f"
             ],
             [
              0.2222222222222222,
              "#7201a8"
             ],
             [
              0.3333333333333333,
              "#9c179e"
             ],
             [
              0.4444444444444444,
              "#bd3786"
             ],
             [
              0.5555555555555556,
              "#d8576b"
             ],
             [
              0.6666666666666666,
              "#ed7953"
             ],
             [
              0.7777777777777778,
              "#fb9f3a"
             ],
             [
              0.8888888888888888,
              "#fdca26"
             ],
             [
              1,
              "#f0f921"
             ]
            ],
            "type": "heatmapgl"
           }
          ],
          "histogram": [
           {
            "marker": {
             "pattern": {
              "fillmode": "overlay",
              "size": 10,
              "solidity": 0.2
             }
            },
            "type": "histogram"
           }
          ],
          "histogram2d": [
           {
            "colorbar": {
             "outlinewidth": 0,
             "ticks": ""
            },
            "colorscale": [
             [
              0,
              "#0d0887"
             ],
             [
              0.1111111111111111,
              "#46039f"
             ],
             [
              0.2222222222222222,
              "#7201a8"
             ],
             [
              0.3333333333333333,
              "#9c179e"
             ],
             [
              0.4444444444444444,
              "#bd3786"
             ],
             [
              0.5555555555555556,
              "#d8576b"
             ],
             [
              0.6666666666666666,
              "#ed7953"
             ],
             [
              0.7777777777777778,
              "#fb9f3a"
             ],
             [
              0.8888888888888888,
              "#fdca26"
             ],
             [
              1,
              "#f0f921"
             ]
            ],
            "type": "histogram2d"
           }
          ],
          "histogram2dcontour": [
           {
            "colorbar": {
             "outlinewidth": 0,
             "ticks": ""
            },
            "colorscale": [
             [
              0,
              "#0d0887"
             ],
             [
              0.1111111111111111,
              "#46039f"
             ],
             [
              0.2222222222222222,
              "#7201a8"
             ],
             [
              0.3333333333333333,
              "#9c179e"
             ],
             [
              0.4444444444444444,
              "#bd3786"
             ],
             [
              0.5555555555555556,
              "#d8576b"
             ],
             [
              0.6666666666666666,
              "#ed7953"
             ],
             [
              0.7777777777777778,
              "#fb9f3a"
             ],
             [
              0.8888888888888888,
              "#fdca26"
             ],
             [
              1,
              "#f0f921"
             ]
            ],
            "type": "histogram2dcontour"
           }
          ],
          "mesh3d": [
           {
            "colorbar": {
             "outlinewidth": 0,
             "ticks": ""
            },
            "type": "mesh3d"
           }
          ],
          "parcoords": [
           {
            "line": {
             "colorbar": {
              "outlinewidth": 0,
              "ticks": ""
             }
            },
            "type": "parcoords"
           }
          ],
          "pie": [
           {
            "automargin": true,
            "type": "pie"
           }
          ],
          "scatter": [
           {
            "marker": {
             "colorbar": {
              "outlinewidth": 0,
              "ticks": ""
             }
            },
            "type": "scatter"
           }
          ],
          "scatter3d": [
           {
            "line": {
             "colorbar": {
              "outlinewidth": 0,
              "ticks": ""
             }
            },
            "marker": {
             "colorbar": {
              "outlinewidth": 0,
              "ticks": ""
             }
            },
            "type": "scatter3d"
           }
          ],
          "scattercarpet": [
           {
            "marker": {
             "colorbar": {
              "outlinewidth": 0,
              "ticks": ""
             }
            },
            "type": "scattercarpet"
           }
          ],
          "scattergeo": [
           {
            "marker": {
             "colorbar": {
              "outlinewidth": 0,
              "ticks": ""
             }
            },
            "type": "scattergeo"
           }
          ],
          "scattergl": [
           {
            "marker": {
             "colorbar": {
              "outlinewidth": 0,
              "ticks": ""
             }
            },
            "type": "scattergl"
           }
          ],
          "scattermapbox": [
           {
            "marker": {
             "colorbar": {
              "outlinewidth": 0,
              "ticks": ""
             }
            },
            "type": "scattermapbox"
           }
          ],
          "scatterpolar": [
           {
            "marker": {
             "colorbar": {
              "outlinewidth": 0,
              "ticks": ""
             }
            },
            "type": "scatterpolar"
           }
          ],
          "scatterpolargl": [
           {
            "marker": {
             "colorbar": {
              "outlinewidth": 0,
              "ticks": ""
             }
            },
            "type": "scatterpolargl"
           }
          ],
          "scatterternary": [
           {
            "marker": {
             "colorbar": {
              "outlinewidth": 0,
              "ticks": ""
             }
            },
            "type": "scatterternary"
           }
          ],
          "surface": [
           {
            "colorbar": {
             "outlinewidth": 0,
             "ticks": ""
            },
            "colorscale": [
             [
              0,
              "#0d0887"
             ],
             [
              0.1111111111111111,
              "#46039f"
             ],
             [
              0.2222222222222222,
              "#7201a8"
             ],
             [
              0.3333333333333333,
              "#9c179e"
             ],
             [
              0.4444444444444444,
              "#bd3786"
             ],
             [
              0.5555555555555556,
              "#d8576b"
             ],
             [
              0.6666666666666666,
              "#ed7953"
             ],
             [
              0.7777777777777778,
              "#fb9f3a"
             ],
             [
              0.8888888888888888,
              "#fdca26"
             ],
             [
              1,
              "#f0f921"
             ]
            ],
            "type": "surface"
           }
          ],
          "table": [
           {
            "cells": {
             "fill": {
              "color": "#EBF0F8"
             },
             "line": {
              "color": "white"
             }
            },
            "header": {
             "fill": {
              "color": "#C8D4E3"
             },
             "line": {
              "color": "white"
             }
            },
            "type": "table"
           }
          ]
         },
         "layout": {
          "annotationdefaults": {
           "arrowcolor": "#2a3f5f",
           "arrowhead": 0,
           "arrowwidth": 1
          },
          "autotypenumbers": "strict",
          "coloraxis": {
           "colorbar": {
            "outlinewidth": 0,
            "ticks": ""
           }
          },
          "colorscale": {
           "diverging": [
            [
             0,
             "#8e0152"
            ],
            [
             0.1,
             "#c51b7d"
            ],
            [
             0.2,
             "#de77ae"
            ],
            [
             0.3,
             "#f1b6da"
            ],
            [
             0.4,
             "#fde0ef"
            ],
            [
             0.5,
             "#f7f7f7"
            ],
            [
             0.6,
             "#e6f5d0"
            ],
            [
             0.7,
             "#b8e186"
            ],
            [
             0.8,
             "#7fbc41"
            ],
            [
             0.9,
             "#4d9221"
            ],
            [
             1,
             "#276419"
            ]
           ],
           "sequential": [
            [
             0,
             "#0d0887"
            ],
            [
             0.1111111111111111,
             "#46039f"
            ],
            [
             0.2222222222222222,
             "#7201a8"
            ],
            [
             0.3333333333333333,
             "#9c179e"
            ],
            [
             0.4444444444444444,
             "#bd3786"
            ],
            [
             0.5555555555555556,
             "#d8576b"
            ],
            [
             0.6666666666666666,
             "#ed7953"
            ],
            [
             0.7777777777777778,
             "#fb9f3a"
            ],
            [
             0.8888888888888888,
             "#fdca26"
            ],
            [
             1,
             "#f0f921"
            ]
           ],
           "sequentialminus": [
            [
             0,
             "#0d0887"
            ],
            [
             0.1111111111111111,
             "#46039f"
            ],
            [
             0.2222222222222222,
             "#7201a8"
            ],
            [
             0.3333333333333333,
             "#9c179e"
            ],
            [
             0.4444444444444444,
             "#bd3786"
            ],
            [
             0.5555555555555556,
             "#d8576b"
            ],
            [
             0.6666666666666666,
             "#ed7953"
            ],
            [
             0.7777777777777778,
             "#fb9f3a"
            ],
            [
             0.8888888888888888,
             "#fdca26"
            ],
            [
             1,
             "#f0f921"
            ]
           ]
          },
          "colorway": [
           "#636efa",
           "#EF553B",
           "#00cc96",
           "#ab63fa",
           "#FFA15A",
           "#19d3f3",
           "#FF6692",
           "#B6E880",
           "#FF97FF",
           "#FECB52"
          ],
          "font": {
           "color": "#2a3f5f"
          },
          "geo": {
           "bgcolor": "white",
           "lakecolor": "white",
           "landcolor": "#E5ECF6",
           "showlakes": true,
           "showland": true,
           "subunitcolor": "white"
          },
          "hoverlabel": {
           "align": "left"
          },
          "hovermode": "closest",
          "mapbox": {
           "style": "light"
          },
          "paper_bgcolor": "white",
          "plot_bgcolor": "#E5ECF6",
          "polar": {
           "angularaxis": {
            "gridcolor": "white",
            "linecolor": "white",
            "ticks": ""
           },
           "bgcolor": "#E5ECF6",
           "radialaxis": {
            "gridcolor": "white",
            "linecolor": "white",
            "ticks": ""
           }
          },
          "scene": {
           "xaxis": {
            "backgroundcolor": "#E5ECF6",
            "gridcolor": "white",
            "gridwidth": 2,
            "linecolor": "white",
            "showbackground": true,
            "ticks": "",
            "zerolinecolor": "white"
           },
           "yaxis": {
            "backgroundcolor": "#E5ECF6",
            "gridcolor": "white",
            "gridwidth": 2,
            "linecolor": "white",
            "showbackground": true,
            "ticks": "",
            "zerolinecolor": "white"
           },
           "zaxis": {
            "backgroundcolor": "#E5ECF6",
            "gridcolor": "white",
            "gridwidth": 2,
            "linecolor": "white",
            "showbackground": true,
            "ticks": "",
            "zerolinecolor": "white"
           }
          },
          "shapedefaults": {
           "line": {
            "color": "#2a3f5f"
           }
          },
          "ternary": {
           "aaxis": {
            "gridcolor": "white",
            "linecolor": "white",
            "ticks": ""
           },
           "baxis": {
            "gridcolor": "white",
            "linecolor": "white",
            "ticks": ""
           },
           "bgcolor": "#E5ECF6",
           "caxis": {
            "gridcolor": "white",
            "linecolor": "white",
            "ticks": ""
           }
          },
          "title": {
           "x": 0.05
          },
          "xaxis": {
           "automargin": true,
           "gridcolor": "white",
           "linecolor": "white",
           "ticks": "",
           "title": {
            "standoff": 15
           },
           "zerolinecolor": "white",
           "zerolinewidth": 2
          },
          "yaxis": {
           "automargin": true,
           "gridcolor": "white",
           "linecolor": "white",
           "ticks": "",
           "title": {
            "standoff": 15
           },
           "zerolinecolor": "white",
           "zerolinewidth": 2
          }
         }
        },
        "xaxis": {
         "anchor": "y",
         "domain": [
          0,
          1
         ],
         "title": {
          "text": "education"
         }
        },
        "yaxis": {
         "anchor": "x",
         "categoryarray": [
          "IA",
          "MN",
          "WA",
          "MI",
          "OK",
          "DC",
          "TN",
          "PR",
          "OH",
          "NC",
          "ID",
          "CO",
          "AZ",
          "TX",
          "MD",
          "FL",
          "IN",
          "AL",
          "NH",
          "NM",
          "NJ",
          "OR",
          "PA",
          "VA",
          "NY",
          "SC",
          "MO",
          "CA",
          "IL",
          "MA",
          "LA",
          "GA"
         ],
         "categoryorder": "array",
         "domain": [
          0,
          1
         ],
         "title": {
          "text": "region"
         }
        }
       }
      },
      "text/html": [
       "<div>                            <div id=\"87000f98-08d9-4a52-af22-3ede0f7710f8\" class=\"plotly-graph-div\" style=\"height:525px; width:100%;\"></div>            <script type=\"text/javascript\">                require([\"plotly\"], function(Plotly) {                    window.PLOTLYENV=window.PLOTLYENV || {};                                    if (document.getElementById(\"87000f98-08d9-4a52-af22-3ede0f7710f8\")) {                    Plotly.newPlot(                        \"87000f98-08d9-4a52-af22-3ede0f7710f8\",                        [{\"alignmentgroup\":\"True\",\"customdata\":[[\"Teacher of English for Online Groups!\"],[\"Android Developer\"],[\"Psychologist - Primary Care\"],[\"Quantitative Financial Analyst\"],[\"English Teachers for young learners, Teach Remotely. Make up to $26/hr, Get hired within a week!\"],[\"Teacher(English) - Online& High-paid Job - Easy hiring process\"],[\"Product Designer\"],[\"SLP Position - School\"],[\"Redis Engineer (with Python )\"],[\"Financial Systems Manager\"],[\"NP or PA, Palliative Care\"],[\"Senior Quantitative Financial Analyst\"],[\"IT Project Manager\"],[\"\\ud83d\\ude97English Teachers for young learners,\\ud83d\\ude97 Teach Remotely. Make up to $26/hr,\\ud83d\\ude97 Get hired within a week!\"],[\"Quantitative Finance Analyst\"],[\"Speech Language Pathologist\"],[\"Telephonic Crisis Line Clinician - LMSW LCSW or LPC\"]],\"hovertemplate\":\"region=%{y}<br>education=%{x}<br>title=%{customdata[0]}<extra></extra>\",\"legendgroup\":\"GA\",\"marker\":{\"color\":\"#636efa\",\"pattern\":{\"shape\":\"\"}},\"name\":\"GA\",\"offsetgroup\":\"GA\",\"orientation\":\"v\",\"showlegend\":true,\"textposition\":\"auto\",\"type\":\"bar\",\"x\":[\"Master's Degree\",\"Master's Degree\",\"Master's Degree\",\"Master's Degree\",\"Master's Degree\",\"Master's Degree\",\"Master's Degree\",\"Master's Degree\",\"Master's Degree\",\"Master's Degree\",\"Master's Degree\",\"Master's Degree\",\"Master's Degree\",\"Master's Degree\",\"Master's Degree\",\"Master's Degree\",\"Master's Degree\"],\"xaxis\":\"x\",\"y\":[\"GA\",\"GA\",\"GA\",\"GA\",\"GA\",\"GA\",\"GA\",\"GA\",\"GA\",\"GA\",\"GA\",\"GA\",\"GA\",\"GA\",\"GA\",\"GA\",\"GA\"],\"yaxis\":\"y\"},{\"alignmentgroup\":\"True\",\"customdata\":[[\"Sales Representative\"]],\"hovertemplate\":\"region=%{y}<br>education=%{x}<br>title=%{customdata[0]}<extra></extra>\",\"legendgroup\":\"LA\",\"marker\":{\"color\":\"#EF553B\",\"pattern\":{\"shape\":\"\"}},\"name\":\"LA\",\"offsetgroup\":\"LA\",\"orientation\":\"v\",\"showlegend\":true,\"textposition\":\"auto\",\"type\":\"bar\",\"x\":[\"Doctorate\"],\"xaxis\":\"x\",\"y\":[\"LA\"],\"yaxis\":\"y\"},{\"alignmentgroup\":\"True\",\"customdata\":[[\"SLP - School\"],[\"Clinical Development Scientist IV - Remote\"],[\"Integrated Team Director - ACCS - Team 4\"],[\"(Senior) Scientist, mRNA/Oligo Analytical Chemistry\"],[\"Business Development Engineer\"],[\"Clinical Supervisor - $3,000 Sign On Bonus\"]],\"hovertemplate\":\"region=%{y}<br>education=%{x}<br>title=%{customdata[0]}<extra></extra>\",\"legendgroup\":\"MA\",\"marker\":{\"color\":\"#00cc96\",\"pattern\":{\"shape\":\"\"}},\"name\":\"MA\",\"offsetgroup\":\"MA\",\"orientation\":\"v\",\"showlegend\":true,\"textposition\":\"auto\",\"type\":\"bar\",\"x\":[\"Master's Degree\",\"Master's Degree\",\"Master's Degree\",\"Doctorate\",\"Master's Degree\",\"Master's Degree\"],\"xaxis\":\"x\",\"y\":[\"MA\",\"MA\",\"MA\",\"MA\",\"MA\",\"MA\"],\"yaxis\":\"y\"},{\"alignmentgroup\":\"True\",\"customdata\":[[\"Social Worker - Gage Park Area\"],[\"Specialist, Regulatory Compliance\"],[\"Attorney - Commercial Banking\"],[\"PRVIATE EQUITY FIRM SEEKS TRUST/ESTATE PLANNING ADVISOR!\"],[\"Assets Controller\"],[\"Unlicensed Juris Doctor Appeals Referee- 100% Remote\"],[\"Speech-Language Pathologist\"],[\"Litigation/L&E Associate Attorney (Midlevel to Senior)\"],[\"\\u2728\\u2728English Teachers for young learners, Teach Remotely. \\ud83c\\udf52\\ud83c\\udf52Make up to $26/hr, Get hired within a week!\\ud83c\\udf87\\ud83c\\udf87\"]],\"hovertemplate\":\"region=%{y}<br>education=%{x}<br>title=%{customdata[0]}<extra></extra>\",\"legendgroup\":\"IL\",\"marker\":{\"color\":\"#ab63fa\",\"pattern\":{\"shape\":\"\"}},\"name\":\"IL\",\"offsetgroup\":\"IL\",\"orientation\":\"v\",\"showlegend\":true,\"textposition\":\"auto\",\"type\":\"bar\",\"x\":[\"Master's Degree\",\"Master's Degree\",\"Doctorate\",\"Doctorate\",\"Master's Degree\",\"Doctorate\",\"Master's Degree\",\"Doctorate\",\"Master's Degree\"],\"xaxis\":\"x\",\"y\":[\"IL\",\"IL\",\"IL\",\"IL\",\"IL\",\"IL\",\"IL\",\"IL\",\"IL\"],\"yaxis\":\"y\"},{\"alignmentgroup\":\"True\",\"customdata\":[[\"School Occupational Therapist (OT)\"],[\"Medical Assistant\"],[\"Principal Data Scientist - Search\"],[\"Licensed Social Worker (LCSW/LMFT) - SFMC Psych Adult\"],[\"Quality Analyst\"],[\"Health Program Manager II\"],[\"Bilingual Speech Language Pathologist (SLP)\"],[\"Social Service II\"],[\"Clinician - Migrant Services\"],[\"Senior Scientist, Assay Technology Innovation & Development\"],[\"Sr Director Corporate Strategy\"],[\"Hospital Psychology Intake Manager\"],[\"Sr Director Strategy\"],[\"Maritime Instructor (On-Call)\"],[\"SLP - School\"],[\"Therapist - Pool\"],[\"PROFESSIONAL LIABILITY ATTORNEY\"],[\"Senior Scientist - Burlingame, CA\"],[\"School Psychologist\"],[\"iOS Developer\"],[\"Clinical Social Worker\"],[\"Speech-Language Pathologist\"],[\"Mechanical Engineer/Materials Scientist\"]],\"hovertemplate\":\"region=%{y}<br>education=%{x}<br>title=%{customdata[0]}<extra></extra>\",\"legendgroup\":\"CA\",\"marker\":{\"color\":\"#FFA15A\",\"pattern\":{\"shape\":\"\"}},\"name\":\"CA\",\"offsetgroup\":\"CA\",\"orientation\":\"v\",\"showlegend\":true,\"textposition\":\"auto\",\"type\":\"bar\",\"x\":[\"Master's Degree\",\"Master's Degree\",\"Master's Degree\",\"Master's Degree\",\"Master's Degree\",\"Master's Degree\",\"Master's Degree\",\"Master's Degree\",\"Master's Degree\",\"Doctorate\",\"Master's Degree\",\"Doctorate\",\"Master's Degree\",\"Master's Degree\",\"Master's Degree\",\"Master's Degree\",\"Doctorate\",\"Doctorate\",\"Master's Degree\",\"Master's Degree\",\"Master's Degree\",\"Master's Degree\",\"Doctorate\"],\"xaxis\":\"x\",\"y\":[\"CA\",\"CA\",\"CA\",\"CA\",\"CA\",\"CA\",\"CA\",\"CA\",\"CA\",\"CA\",\"CA\",\"CA\",\"CA\",\"CA\",\"CA\",\"CA\",\"CA\",\"CA\",\"CA\",\"CA\",\"CA\",\"CA\",\"CA\"],\"yaxis\":\"y\"},{\"alignmentgroup\":\"True\",\"customdata\":[[\"Social Worker, MSW\"],[\"Pediatric ICU Pediatric Nurse Practitioner\"],[\"CRITICAL: Therapist- Assertive Community Treatment Team\"],[\"Adjunct Instructor - Online\"],[\"Therapist/Open Access Leader\"],[\"School Therapist - Elsberry & Winfield Districts\"],[\"SLP Position - School\"]],\"hovertemplate\":\"region=%{y}<br>education=%{x}<br>title=%{customdata[0]}<extra></extra>\",\"legendgroup\":\"MO\",\"marker\":{\"color\":\"#19d3f3\",\"pattern\":{\"shape\":\"\"}},\"name\":\"MO\",\"offsetgroup\":\"MO\",\"orientation\":\"v\",\"showlegend\":true,\"textposition\":\"auto\",\"type\":\"bar\",\"x\":[\"Master's Degree\",\"Master's Degree\",\"Master's Degree\",\"Master's Degree\",\"Master's Degree\",\"Master's Degree\",\"Master's Degree\"],\"xaxis\":\"x\",\"y\":[\"MO\",\"MO\",\"MO\",\"MO\",\"MO\",\"MO\",\"MO\"],\"yaxis\":\"y\"},{\"alignmentgroup\":\"True\",\"customdata\":[[\"SLP - School\"],[\"SLP - School\"]],\"hovertemplate\":\"region=%{y}<br>education=%{x}<br>title=%{customdata[0]}<extra></extra>\",\"legendgroup\":\"SC\",\"marker\":{\"color\":\"#FF6692\",\"pattern\":{\"shape\":\"\"}},\"name\":\"SC\",\"offsetgroup\":\"SC\",\"orientation\":\"v\",\"showlegend\":true,\"textposition\":\"auto\",\"type\":\"bar\",\"x\":[\"Master's Degree\",\"Master's Degree\"],\"xaxis\":\"x\",\"y\":[\"SC\",\"SC\"],\"yaxis\":\"y\"},{\"alignmentgroup\":\"True\",\"customdata\":[[\"Speech Language Pathologist for Early Intervention\"],[\"Labor Relations Associate\"],[\"Speech Language Pathologist SLP\"],[\"Financial Analytics and Derivatives - Senior Associate\"],[\"Education Director (Training and Development) - Middle School, Promise Academy\"],[\"PHYSICAL THERAPIST PT\"]],\"hovertemplate\":\"region=%{y}<br>education=%{x}<br>title=%{customdata[0]}<extra></extra>\",\"legendgroup\":\"NY\",\"marker\":{\"color\":\"#B6E880\",\"pattern\":{\"shape\":\"\"}},\"name\":\"NY\",\"offsetgroup\":\"NY\",\"orientation\":\"v\",\"showlegend\":true,\"textposition\":\"auto\",\"type\":\"bar\",\"x\":[\"Master's Degree\",\"Master's Degree\",\"Master's Degree\",\"Master's Degree\",\"Master's Degree\",\"Master's Degree\"],\"xaxis\":\"x\",\"y\":[\"NY\",\"NY\",\"NY\",\"NY\",\"NY\",\"NY\"],\"yaxis\":\"y\"},{\"alignmentgroup\":\"True\",\"customdata\":[[\"SLP Position - Skilled Nursing Facility\"],[\"AWS Systems Engineer\"],[\"Senior Scientist\"],[\"Test Engineer-TS/SCI REQUIRED\"],[\"Data Engineer II\"]],\"hovertemplate\":\"region=%{y}<br>education=%{x}<br>title=%{customdata[0]}<extra></extra>\",\"legendgroup\":\"VA\",\"marker\":{\"color\":\"#FF97FF\",\"pattern\":{\"shape\":\"\"}},\"name\":\"VA\",\"offsetgroup\":\"VA\",\"orientation\":\"v\",\"showlegend\":true,\"textposition\":\"auto\",\"type\":\"bar\",\"x\":[\"Master's Degree\",\"Master's Degree\",\"Master's Degree\",\"Master's Degree\",\"Master's Degree\"],\"xaxis\":\"x\",\"y\":[\"VA\",\"VA\",\"VA\",\"VA\",\"VA\"],\"yaxis\":\"y\"},{\"alignmentgroup\":\"True\",\"customdata\":[[\"EAP Care Manager-Remote Position\"],[\"Lead Athletic Trainer\"],[\"Physical Therapist, NICU - Per Diem\"],[\"Quality Improvement Specialist\"],[\"Psychiatric/MH Registered Nurse Practitioner\"],[\"Sales Representative\"],[\"MH Outpatient Therapist\"]],\"hovertemplate\":\"region=%{y}<br>education=%{x}<br>title=%{customdata[0]}<extra></extra>\",\"legendgroup\":\"PA\",\"marker\":{\"color\":\"#FECB52\",\"pattern\":{\"shape\":\"\"}},\"name\":\"PA\",\"offsetgroup\":\"PA\",\"orientation\":\"v\",\"showlegend\":true,\"textposition\":\"auto\",\"type\":\"bar\",\"x\":[\"Master's Degree\",\"Master's Degree\",\"Master's Degree\",\"Master's Degree\",\"Master's Degree\",\"Doctorate\",\"Master's Degree\"],\"xaxis\":\"x\",\"y\":[\"PA\",\"PA\",\"PA\",\"PA\",\"PA\",\"PA\",\"PA\"],\"yaxis\":\"y\"},{\"alignmentgroup\":\"True\",\"customdata\":[[\"Manager, Talent Acquisition\"],[\"SLP Position - School\"],[\"Clinical Supervisor\"]],\"hovertemplate\":\"region=%{y}<br>education=%{x}<br>title=%{customdata[0]}<extra></extra>\",\"legendgroup\":\"OR\",\"marker\":{\"color\":\"#636efa\",\"pattern\":{\"shape\":\"\"}},\"name\":\"OR\",\"offsetgroup\":\"OR\",\"orientation\":\"v\",\"showlegend\":true,\"textposition\":\"auto\",\"type\":\"bar\",\"x\":[\"Master's Degree\",\"Master's Degree\",\"Master's Degree\"],\"xaxis\":\"x\",\"y\":[\"OR\",\"OR\",\"OR\"],\"yaxis\":\"y\"},{\"alignmentgroup\":\"True\",\"customdata\":[[\"Associate Scientist\"],[\"Sr. Account Executive (IT Solutions and Services / Solution sales)\"],[\"Psychologist\"],[\"APN - Part Time\"],[\"Bilingual Therapist\"],[\"Quantitative Finance Analyst\"],[\"Postdoctoral Scientist\"]],\"hovertemplate\":\"region=%{y}<br>education=%{x}<br>title=%{customdata[0]}<extra></extra>\",\"legendgroup\":\"NJ\",\"marker\":{\"color\":\"#EF553B\",\"pattern\":{\"shape\":\"\"}},\"name\":\"NJ\",\"offsetgroup\":\"NJ\",\"orientation\":\"v\",\"showlegend\":true,\"textposition\":\"auto\",\"type\":\"bar\",\"x\":[\"Master's Degree\",\"Master's Degree\",\"Doctorate\",\"Master's Degree\",\"Master's Degree\",\"Master's Degree\",\"Doctorate\"],\"xaxis\":\"x\",\"y\":[\"NJ\",\"NJ\",\"NJ\",\"NJ\",\"NJ\",\"NJ\",\"NJ\"],\"yaxis\":\"y\"},{\"alignmentgroup\":\"True\",\"customdata\":[[\"SLP - School\"]],\"hovertemplate\":\"region=%{y}<br>education=%{x}<br>title=%{customdata[0]}<extra></extra>\",\"legendgroup\":\"NM\",\"marker\":{\"color\":\"#00cc96\",\"pattern\":{\"shape\":\"\"}},\"name\":\"NM\",\"offsetgroup\":\"NM\",\"orientation\":\"v\",\"showlegend\":true,\"textposition\":\"auto\",\"type\":\"bar\",\"x\":[\"Master's Degree\"],\"xaxis\":\"x\",\"y\":[\"NM\"],\"yaxis\":\"y\"},{\"alignmentgroup\":\"True\",\"customdata\":[[\"Health Care Research Analyst (FT), Heart & Vascular Center\"],[\"Continuing Care Manager - Social Worker(FT), Care Management\"]],\"hovertemplate\":\"region=%{y}<br>education=%{x}<br>title=%{customdata[0]}<extra></extra>\",\"legendgroup\":\"NH\",\"marker\":{\"color\":\"#ab63fa\",\"pattern\":{\"shape\":\"\"}},\"name\":\"NH\",\"offsetgroup\":\"NH\",\"orientation\":\"v\",\"showlegend\":true,\"textposition\":\"auto\",\"type\":\"bar\",\"x\":[\"Master's Degree\",\"Master's Degree\"],\"xaxis\":\"x\",\"y\":[\"NH\",\"NH\"],\"yaxis\":\"y\"},{\"alignmentgroup\":\"True\",\"customdata\":[[\"Small Engine Mechanic\"],[\"Strategy& Healthcare Tech Strategy- Senior Associate\"]],\"hovertemplate\":\"region=%{y}<br>education=%{x}<br>title=%{customdata[0]}<extra></extra>\",\"legendgroup\":\"AL\",\"marker\":{\"color\":\"#FFA15A\",\"pattern\":{\"shape\":\"\"}},\"name\":\"AL\",\"offsetgroup\":\"AL\",\"orientation\":\"v\",\"showlegend\":true,\"textposition\":\"auto\",\"type\":\"bar\",\"x\":[\"Master's Degree\",\"Master's Degree\"],\"xaxis\":\"x\",\"y\":[\"AL\",\"AL\"],\"yaxis\":\"y\"},{\"alignmentgroup\":\"True\",\"customdata\":[[\"Chief Executive Officer\"],[\"Master's Level Counselor /Licensed Therapist\"],[\"Master's Level Therapist/ MSW\"],[\"Desktop Support Analyst\"]],\"hovertemplate\":\"region=%{y}<br>education=%{x}<br>title=%{customdata[0]}<extra></extra>\",\"legendgroup\":\"IN\",\"marker\":{\"color\":\"#19d3f3\",\"pattern\":{\"shape\":\"\"}},\"name\":\"IN\",\"offsetgroup\":\"IN\",\"orientation\":\"v\",\"showlegend\":true,\"textposition\":\"auto\",\"type\":\"bar\",\"x\":[\"Master's Degree\",\"Master's Degree\",\"Master's Degree\",\"Master's Degree\"],\"xaxis\":\"x\",\"y\":[\"IN\",\"IN\",\"IN\",\"IN\"],\"yaxis\":\"y\"},{\"alignmentgroup\":\"True\",\"customdata\":[[\"ASSISTANT IN RESEARCH (ENERGY EFFICIENT BUILDINGS)\"],[\"NURSING (OB/GYN) INSTRUCTOR - PT\"],[\"Early Childhood Special Educator- Support U.S. Military Families in England!\"],[\"Unit Therapist PRN\"],[\"Nurse Practitioner (NP)\"],[\"APRN AdventHealth Medical Group Walgreen\\u2019s Express PRN 49th Street\"],[\"CRIMINAL JUSTICE / HOMELAND SECURITY INSTRUCTOR\"],[\"Social Worker MSW FT Days\"],[\"SPEECH INSTRUCTOR\"],[\"ENGLISH & LITERATURE INSTRUCTOR\"],[\"Chrysler Certified Master Technician\"],[\"School Occupational Therapist (OT)\"]],\"hovertemplate\":\"region=%{y}<br>education=%{x}<br>title=%{customdata[0]}<extra></extra>\",\"legendgroup\":\"FL\",\"marker\":{\"color\":\"#FF6692\",\"pattern\":{\"shape\":\"\"}},\"name\":\"FL\",\"offsetgroup\":\"FL\",\"orientation\":\"v\",\"showlegend\":true,\"textposition\":\"auto\",\"type\":\"bar\",\"x\":[\"Master's Degree\",\"Master's Degree\",\"Master's Degree\",\"Master's Degree\",\"Master's Degree\",\"Master's Degree\",\"Master's Degree\",\"Master's Degree\",\"Master's Degree\",\"Master's Degree\",\"Master's Degree\",\"Master's Degree\"],\"xaxis\":\"x\",\"y\":[\"FL\",\"FL\",\"FL\",\"FL\",\"FL\",\"FL\",\"FL\",\"FL\",\"FL\",\"FL\",\"FL\",\"FL\"],\"yaxis\":\"y\"},{\"alignmentgroup\":\"True\",\"customdata\":[[\"Addiction  Counselor\"],[\"Hospital Director of Pharmacy\"],[\"Registered Nurse\"],[\"Primary Therapist - Full Time\"],[\"Test Engineer-TS/SCI REQUIRED\"]],\"hovertemplate\":\"region=%{y}<br>education=%{x}<br>title=%{customdata[0]}<extra></extra>\",\"legendgroup\":\"MD\",\"marker\":{\"color\":\"#B6E880\",\"pattern\":{\"shape\":\"\"}},\"name\":\"MD\",\"offsetgroup\":\"MD\",\"orientation\":\"v\",\"showlegend\":true,\"textposition\":\"auto\",\"type\":\"bar\",\"x\":[\"Master's Degree\",\"Doctorate\",\"Master's Degree\",\"Master's Degree\",\"Master's Degree\"],\"xaxis\":\"x\",\"y\":[\"MD\",\"MD\",\"MD\",\"MD\",\"MD\"],\"yaxis\":\"y\"},{\"alignmentgroup\":\"True\",\"customdata\":[[\"Capacity Planner\"],[\"Scientific Director\"],[\"Medical Director\"],[\"Lead Clinician (Military Family Clinic)\"],[\"Sr. QA Analyst\"],[\"Master Data Coordinator\"],[\"L1 Master Automotive Technician / Mechanic - White Rock\"],[\"MFLC Counselor T4 School\"],[\"SLP - School\"],[\"Master Certified Technician / Automotive Mechanic\"]],\"hovertemplate\":\"region=%{y}<br>education=%{x}<br>title=%{customdata[0]}<extra></extra>\",\"legendgroup\":\"TX\",\"marker\":{\"color\":\"#FF97FF\",\"pattern\":{\"shape\":\"\"}},\"name\":\"TX\",\"offsetgroup\":\"TX\",\"orientation\":\"v\",\"showlegend\":true,\"textposition\":\"auto\",\"type\":\"bar\",\"x\":[\"Master's Degree\",\"Doctorate\",\"Doctorate\",\"Master's Degree\",\"Master's Degree\",\"Master's Degree\",\"Master's Degree\",\"Master's Degree\",\"Master's Degree\",\"Master's Degree\"],\"xaxis\":\"x\",\"y\":[\"TX\",\"TX\",\"TX\",\"TX\",\"TX\",\"TX\",\"TX\",\"TX\",\"TX\",\"TX\"],\"yaxis\":\"y\"},{\"alignmentgroup\":\"True\",\"customdata\":[[\"MFLC Counselor T4 School\"]],\"hovertemplate\":\"region=%{y}<br>education=%{x}<br>title=%{customdata[0]}<extra></extra>\",\"legendgroup\":\"AZ\",\"marker\":{\"color\":\"#FECB52\",\"pattern\":{\"shape\":\"\"}},\"name\":\"AZ\",\"offsetgroup\":\"AZ\",\"orientation\":\"v\",\"showlegend\":true,\"textposition\":\"auto\",\"type\":\"bar\",\"x\":[\"Master's Degree\"],\"xaxis\":\"x\",\"y\":[\"AZ\"],\"yaxis\":\"y\"},{\"alignmentgroup\":\"True\",\"customdata\":[[\"Operations Supervisor-Swing Shift\"],[\"MFLC Counselor T4 General\"]],\"hovertemplate\":\"region=%{y}<br>education=%{x}<br>title=%{customdata[0]}<extra></extra>\",\"legendgroup\":\"CO\",\"marker\":{\"color\":\"#636efa\",\"pattern\":{\"shape\":\"\"}},\"name\":\"CO\",\"offsetgroup\":\"CO\",\"orientation\":\"v\",\"showlegend\":true,\"textposition\":\"auto\",\"type\":\"bar\",\"x\":[\"Master's Degree\",\"Master's Degree\"],\"xaxis\":\"x\",\"y\":[\"CO\",\"CO\"],\"yaxis\":\"y\"},{\"alignmentgroup\":\"True\",\"customdata\":[[\"Independent Life Insurance Sales Representative\"],[\"Teach English Online for Chinese Kids! Work Remotely-Flexible Schedule-Without minimum teaching requirments!!!\"]],\"hovertemplate\":\"region=%{y}<br>education=%{x}<br>title=%{customdata[0]}<extra></extra>\",\"legendgroup\":\"ID\",\"marker\":{\"color\":\"#EF553B\",\"pattern\":{\"shape\":\"\"}},\"name\":\"ID\",\"offsetgroup\":\"ID\",\"orientation\":\"v\",\"showlegend\":true,\"textposition\":\"auto\",\"type\":\"bar\",\"x\":[\"Doctorate\",\"Master's Degree\"],\"xaxis\":\"x\",\"y\":[\"ID\",\"ID\"],\"yaxis\":\"y\"},{\"alignmentgroup\":\"True\",\"customdata\":[[\"Senior Commercial Development Director, Drug Product\"],[\"Quantitative Finance Analyst - Charlotte, NC\"],[\"Labor and Employment Attorney\"]],\"hovertemplate\":\"region=%{y}<br>education=%{x}<br>title=%{customdata[0]}<extra></extra>\",\"legendgroup\":\"NC\",\"marker\":{\"color\":\"#00cc96\",\"pattern\":{\"shape\":\"\"}},\"name\":\"NC\",\"offsetgroup\":\"NC\",\"orientation\":\"v\",\"showlegend\":true,\"textposition\":\"auto\",\"type\":\"bar\",\"x\":[\"Master's Degree\",\"Master's Degree\",\"Master's Degree\"],\"xaxis\":\"x\",\"y\":[\"NC\",\"NC\",\"NC\"],\"yaxis\":\"y\"},{\"alignmentgroup\":\"True\",\"customdata\":[[\"SLP Position - Skilled Nursing Facility\"],[\"Product Development Scientist - Nutrition - Columbus, OH\"],[\"Sales Representative\"]],\"hovertemplate\":\"region=%{y}<br>education=%{x}<br>title=%{customdata[0]}<extra></extra>\",\"legendgroup\":\"OH\",\"marker\":{\"color\":\"#ab63fa\",\"pattern\":{\"shape\":\"\"}},\"name\":\"OH\",\"offsetgroup\":\"OH\",\"orientation\":\"v\",\"showlegend\":true,\"textposition\":\"auto\",\"type\":\"bar\",\"x\":[\"Master's Degree\",\"Doctorate\",\"Doctorate\"],\"xaxis\":\"x\",\"y\":[\"OH\",\"OH\",\"OH\"],\"yaxis\":\"y\"},{\"alignmentgroup\":\"True\",\"customdata\":[[\"Attorney - Junior Associate Tax\"]],\"hovertemplate\":\"region=%{y}<br>education=%{x}<br>title=%{customdata[0]}<extra></extra>\",\"legendgroup\":\"PR\",\"marker\":{\"color\":\"#FFA15A\",\"pattern\":{\"shape\":\"\"}},\"name\":\"PR\",\"offsetgroup\":\"PR\",\"orientation\":\"v\",\"showlegend\":true,\"textposition\":\"auto\",\"type\":\"bar\",\"x\":[\"Doctorate\"],\"xaxis\":\"x\",\"y\":[\"PR\"],\"yaxis\":\"y\"},{\"alignmentgroup\":\"True\",\"customdata\":[[\"Crisis Response Counselor\"],[\"Emergency Room Tech\"],[\"Crisis Response Counselor\"]],\"hovertemplate\":\"region=%{y}<br>education=%{x}<br>title=%{customdata[0]}<extra></extra>\",\"legendgroup\":\"TN\",\"marker\":{\"color\":\"#19d3f3\",\"pattern\":{\"shape\":\"\"}},\"name\":\"TN\",\"offsetgroup\":\"TN\",\"orientation\":\"v\",\"showlegend\":true,\"textposition\":\"auto\",\"type\":\"bar\",\"x\":[\"Master's Degree\",\"Master's Degree\",\"Master's Degree\"],\"xaxis\":\"x\",\"y\":[\"TN\",\"TN\",\"TN\"],\"yaxis\":\"y\"},{\"alignmentgroup\":\"True\",\"customdata\":[[\"Crisis Specialist , Bilingual (English and Spanish)\"]],\"hovertemplate\":\"region=%{y}<br>education=%{x}<br>title=%{customdata[0]}<extra></extra>\",\"legendgroup\":\"DC\",\"marker\":{\"color\":\"#FF6692\",\"pattern\":{\"shape\":\"\"}},\"name\":\"DC\",\"offsetgroup\":\"DC\",\"orientation\":\"v\",\"showlegend\":true,\"textposition\":\"auto\",\"type\":\"bar\",\"x\":[\"Master's Degree\"],\"xaxis\":\"x\",\"y\":[\"DC\"],\"yaxis\":\"y\"},{\"alignmentgroup\":\"True\",\"customdata\":[[\"Sales Representative\"]],\"hovertemplate\":\"region=%{y}<br>education=%{x}<br>title=%{customdata[0]}<extra></extra>\",\"legendgroup\":\"OK\",\"marker\":{\"color\":\"#B6E880\",\"pattern\":{\"shape\":\"\"}},\"name\":\"OK\",\"offsetgroup\":\"OK\",\"orientation\":\"v\",\"showlegend\":true,\"textposition\":\"auto\",\"type\":\"bar\",\"x\":[\"Doctorate\"],\"xaxis\":\"x\",\"y\":[\"OK\"],\"yaxis\":\"y\"},{\"alignmentgroup\":\"True\",\"customdata\":[[\"Sales Representative\"],[\"Social Service II Non-Exempt - LHMI\"],[\"SLP Position - Hospital\"]],\"hovertemplate\":\"region=%{y}<br>education=%{x}<br>title=%{customdata[0]}<extra></extra>\",\"legendgroup\":\"MI\",\"marker\":{\"color\":\"#FF97FF\",\"pattern\":{\"shape\":\"\"}},\"name\":\"MI\",\"offsetgroup\":\"MI\",\"orientation\":\"v\",\"showlegend\":true,\"textposition\":\"auto\",\"type\":\"bar\",\"x\":[\"Doctorate\",\"Master's Degree\",\"Master's Degree\"],\"xaxis\":\"x\",\"y\":[\"MI\",\"MI\",\"MI\"],\"yaxis\":\"y\"},{\"alignmentgroup\":\"True\",\"customdata\":[[\"SLP Position - Skilled Nursing Facility\"]],\"hovertemplate\":\"region=%{y}<br>education=%{x}<br>title=%{customdata[0]}<extra></extra>\",\"legendgroup\":\"WA\",\"marker\":{\"color\":\"#FECB52\",\"pattern\":{\"shape\":\"\"}},\"name\":\"WA\",\"offsetgroup\":\"WA\",\"orientation\":\"v\",\"showlegend\":true,\"textposition\":\"auto\",\"type\":\"bar\",\"x\":[\"Master's Degree\"],\"xaxis\":\"x\",\"y\":[\"WA\"],\"yaxis\":\"y\"},{\"alignmentgroup\":\"True\",\"customdata\":[[\"SLP Position - Skilled Nursing Facility\"],[\"Senior Human Factors Engineer\"]],\"hovertemplate\":\"region=%{y}<br>education=%{x}<br>title=%{customdata[0]}<extra></extra>\",\"legendgroup\":\"MN\",\"marker\":{\"color\":\"#636efa\",\"pattern\":{\"shape\":\"\"}},\"name\":\"MN\",\"offsetgroup\":\"MN\",\"orientation\":\"v\",\"showlegend\":true,\"textposition\":\"auto\",\"type\":\"bar\",\"x\":[\"Master's Degree\",\"Doctorate\"],\"xaxis\":\"x\",\"y\":[\"MN\",\"MN\"],\"yaxis\":\"y\"},{\"alignmentgroup\":\"True\",\"customdata\":[[\"General Dentist- Iowa (Sign on plus relocation)\"]],\"hovertemplate\":\"region=%{y}<br>education=%{x}<br>title=%{customdata[0]}<extra></extra>\",\"legendgroup\":\"IA\",\"marker\":{\"color\":\"#EF553B\",\"pattern\":{\"shape\":\"\"}},\"name\":\"IA\",\"offsetgroup\":\"IA\",\"orientation\":\"v\",\"showlegend\":true,\"textposition\":\"auto\",\"type\":\"bar\",\"x\":[\"Doctorate\"],\"xaxis\":\"x\",\"y\":[\"IA\"],\"yaxis\":\"y\"}],                        {\"barmode\":\"relative\",\"legend\":{\"title\":{\"text\":\"region\"},\"tracegroupgap\":0},\"margin\":{\"t\":60},\"template\":{\"data\":{\"bar\":[{\"error_x\":{\"color\":\"#2a3f5f\"},\"error_y\":{\"color\":\"#2a3f5f\"},\"marker\":{\"line\":{\"color\":\"#E5ECF6\",\"width\":0.5},\"pattern\":{\"fillmode\":\"overlay\",\"size\":10,\"solidity\":0.2}},\"type\":\"bar\"}],\"barpolar\":[{\"marker\":{\"line\":{\"color\":\"#E5ECF6\",\"width\":0.5},\"pattern\":{\"fillmode\":\"overlay\",\"size\":10,\"solidity\":0.2}},\"type\":\"barpolar\"}],\"carpet\":[{\"aaxis\":{\"endlinecolor\":\"#2a3f5f\",\"gridcolor\":\"white\",\"linecolor\":\"white\",\"minorgridcolor\":\"white\",\"startlinecolor\":\"#2a3f5f\"},\"baxis\":{\"endlinecolor\":\"#2a3f5f\",\"gridcolor\":\"white\",\"linecolor\":\"white\",\"minorgridcolor\":\"white\",\"startlinecolor\":\"#2a3f5f\"},\"type\":\"carpet\"}],\"choropleth\":[{\"colorbar\":{\"outlinewidth\":0,\"ticks\":\"\"},\"type\":\"choropleth\"}],\"contour\":[{\"colorbar\":{\"outlinewidth\":0,\"ticks\":\"\"},\"colorscale\":[[0.0,\"#0d0887\"],[0.1111111111111111,\"#46039f\"],[0.2222222222222222,\"#7201a8\"],[0.3333333333333333,\"#9c179e\"],[0.4444444444444444,\"#bd3786\"],[0.5555555555555556,\"#d8576b\"],[0.6666666666666666,\"#ed7953\"],[0.7777777777777778,\"#fb9f3a\"],[0.8888888888888888,\"#fdca26\"],[1.0,\"#f0f921\"]],\"type\":\"contour\"}],\"contourcarpet\":[{\"colorbar\":{\"outlinewidth\":0,\"ticks\":\"\"},\"type\":\"contourcarpet\"}],\"heatmap\":[{\"colorbar\":{\"outlinewidth\":0,\"ticks\":\"\"},\"colorscale\":[[0.0,\"#0d0887\"],[0.1111111111111111,\"#46039f\"],[0.2222222222222222,\"#7201a8\"],[0.3333333333333333,\"#9c179e\"],[0.4444444444444444,\"#bd3786\"],[0.5555555555555556,\"#d8576b\"],[0.6666666666666666,\"#ed7953\"],[0.7777777777777778,\"#fb9f3a\"],[0.8888888888888888,\"#fdca26\"],[1.0,\"#f0f921\"]],\"type\":\"heatmap\"}],\"heatmapgl\":[{\"colorbar\":{\"outlinewidth\":0,\"ticks\":\"\"},\"colorscale\":[[0.0,\"#0d0887\"],[0.1111111111111111,\"#46039f\"],[0.2222222222222222,\"#7201a8\"],[0.3333333333333333,\"#9c179e\"],[0.4444444444444444,\"#bd3786\"],[0.5555555555555556,\"#d8576b\"],[0.6666666666666666,\"#ed7953\"],[0.7777777777777778,\"#fb9f3a\"],[0.8888888888888888,\"#fdca26\"],[1.0,\"#f0f921\"]],\"type\":\"heatmapgl\"}],\"histogram\":[{\"marker\":{\"pattern\":{\"fillmode\":\"overlay\",\"size\":10,\"solidity\":0.2}},\"type\":\"histogram\"}],\"histogram2d\":[{\"colorbar\":{\"outlinewidth\":0,\"ticks\":\"\"},\"colorscale\":[[0.0,\"#0d0887\"],[0.1111111111111111,\"#46039f\"],[0.2222222222222222,\"#7201a8\"],[0.3333333333333333,\"#9c179e\"],[0.4444444444444444,\"#bd3786\"],[0.5555555555555556,\"#d8576b\"],[0.6666666666666666,\"#ed7953\"],[0.7777777777777778,\"#fb9f3a\"],[0.8888888888888888,\"#fdca26\"],[1.0,\"#f0f921\"]],\"type\":\"histogram2d\"}],\"histogram2dcontour\":[{\"colorbar\":{\"outlinewidth\":0,\"ticks\":\"\"},\"colorscale\":[[0.0,\"#0d0887\"],[0.1111111111111111,\"#46039f\"],[0.2222222222222222,\"#7201a8\"],[0.3333333333333333,\"#9c179e\"],[0.4444444444444444,\"#bd3786\"],[0.5555555555555556,\"#d8576b\"],[0.6666666666666666,\"#ed7953\"],[0.7777777777777778,\"#fb9f3a\"],[0.8888888888888888,\"#fdca26\"],[1.0,\"#f0f921\"]],\"type\":\"histogram2dcontour\"}],\"mesh3d\":[{\"colorbar\":{\"outlinewidth\":0,\"ticks\":\"\"},\"type\":\"mesh3d\"}],\"parcoords\":[{\"line\":{\"colorbar\":{\"outlinewidth\":0,\"ticks\":\"\"}},\"type\":\"parcoords\"}],\"pie\":[{\"automargin\":true,\"type\":\"pie\"}],\"scatter\":[{\"marker\":{\"colorbar\":{\"outlinewidth\":0,\"ticks\":\"\"}},\"type\":\"scatter\"}],\"scatter3d\":[{\"line\":{\"colorbar\":{\"outlinewidth\":0,\"ticks\":\"\"}},\"marker\":{\"colorbar\":{\"outlinewidth\":0,\"ticks\":\"\"}},\"type\":\"scatter3d\"}],\"scattercarpet\":[{\"marker\":{\"colorbar\":{\"outlinewidth\":0,\"ticks\":\"\"}},\"type\":\"scattercarpet\"}],\"scattergeo\":[{\"marker\":{\"colorbar\":{\"outlinewidth\":0,\"ticks\":\"\"}},\"type\":\"scattergeo\"}],\"scattergl\":[{\"marker\":{\"colorbar\":{\"outlinewidth\":0,\"ticks\":\"\"}},\"type\":\"scattergl\"}],\"scattermapbox\":[{\"marker\":{\"colorbar\":{\"outlinewidth\":0,\"ticks\":\"\"}},\"type\":\"scattermapbox\"}],\"scatterpolar\":[{\"marker\":{\"colorbar\":{\"outlinewidth\":0,\"ticks\":\"\"}},\"type\":\"scatterpolar\"}],\"scatterpolargl\":[{\"marker\":{\"colorbar\":{\"outlinewidth\":0,\"ticks\":\"\"}},\"type\":\"scatterpolargl\"}],\"scatterternary\":[{\"marker\":{\"colorbar\":{\"outlinewidth\":0,\"ticks\":\"\"}},\"type\":\"scatterternary\"}],\"surface\":[{\"colorbar\":{\"outlinewidth\":0,\"ticks\":\"\"},\"colorscale\":[[0.0,\"#0d0887\"],[0.1111111111111111,\"#46039f\"],[0.2222222222222222,\"#7201a8\"],[0.3333333333333333,\"#9c179e\"],[0.4444444444444444,\"#bd3786\"],[0.5555555555555556,\"#d8576b\"],[0.6666666666666666,\"#ed7953\"],[0.7777777777777778,\"#fb9f3a\"],[0.8888888888888888,\"#fdca26\"],[1.0,\"#f0f921\"]],\"type\":\"surface\"}],\"table\":[{\"cells\":{\"fill\":{\"color\":\"#EBF0F8\"},\"line\":{\"color\":\"white\"}},\"header\":{\"fill\":{\"color\":\"#C8D4E3\"},\"line\":{\"color\":\"white\"}},\"type\":\"table\"}]},\"layout\":{\"annotationdefaults\":{\"arrowcolor\":\"#2a3f5f\",\"arrowhead\":0,\"arrowwidth\":1},\"autotypenumbers\":\"strict\",\"coloraxis\":{\"colorbar\":{\"outlinewidth\":0,\"ticks\":\"\"}},\"colorscale\":{\"diverging\":[[0,\"#8e0152\"],[0.1,\"#c51b7d\"],[0.2,\"#de77ae\"],[0.3,\"#f1b6da\"],[0.4,\"#fde0ef\"],[0.5,\"#f7f7f7\"],[0.6,\"#e6f5d0\"],[0.7,\"#b8e186\"],[0.8,\"#7fbc41\"],[0.9,\"#4d9221\"],[1,\"#276419\"]],\"sequential\":[[0.0,\"#0d0887\"],[0.1111111111111111,\"#46039f\"],[0.2222222222222222,\"#7201a8\"],[0.3333333333333333,\"#9c179e\"],[0.4444444444444444,\"#bd3786\"],[0.5555555555555556,\"#d8576b\"],[0.6666666666666666,\"#ed7953\"],[0.7777777777777778,\"#fb9f3a\"],[0.8888888888888888,\"#fdca26\"],[1.0,\"#f0f921\"]],\"sequentialminus\":[[0.0,\"#0d0887\"],[0.1111111111111111,\"#46039f\"],[0.2222222222222222,\"#7201a8\"],[0.3333333333333333,\"#9c179e\"],[0.4444444444444444,\"#bd3786\"],[0.5555555555555556,\"#d8576b\"],[0.6666666666666666,\"#ed7953\"],[0.7777777777777778,\"#fb9f3a\"],[0.8888888888888888,\"#fdca26\"],[1.0,\"#f0f921\"]]},\"colorway\":[\"#636efa\",\"#EF553B\",\"#00cc96\",\"#ab63fa\",\"#FFA15A\",\"#19d3f3\",\"#FF6692\",\"#B6E880\",\"#FF97FF\",\"#FECB52\"],\"font\":{\"color\":\"#2a3f5f\"},\"geo\":{\"bgcolor\":\"white\",\"lakecolor\":\"white\",\"landcolor\":\"#E5ECF6\",\"showlakes\":true,\"showland\":true,\"subunitcolor\":\"white\"},\"hoverlabel\":{\"align\":\"left\"},\"hovermode\":\"closest\",\"mapbox\":{\"style\":\"light\"},\"paper_bgcolor\":\"white\",\"plot_bgcolor\":\"#E5ECF6\",\"polar\":{\"angularaxis\":{\"gridcolor\":\"white\",\"linecolor\":\"white\",\"ticks\":\"\"},\"bgcolor\":\"#E5ECF6\",\"radialaxis\":{\"gridcolor\":\"white\",\"linecolor\":\"white\",\"ticks\":\"\"}},\"scene\":{\"xaxis\":{\"backgroundcolor\":\"#E5ECF6\",\"gridcolor\":\"white\",\"gridwidth\":2,\"linecolor\":\"white\",\"showbackground\":true,\"ticks\":\"\",\"zerolinecolor\":\"white\"},\"yaxis\":{\"backgroundcolor\":\"#E5ECF6\",\"gridcolor\":\"white\",\"gridwidth\":2,\"linecolor\":\"white\",\"showbackground\":true,\"ticks\":\"\",\"zerolinecolor\":\"white\"},\"zaxis\":{\"backgroundcolor\":\"#E5ECF6\",\"gridcolor\":\"white\",\"gridwidth\":2,\"linecolor\":\"white\",\"showbackground\":true,\"ticks\":\"\",\"zerolinecolor\":\"white\"}},\"shapedefaults\":{\"line\":{\"color\":\"#2a3f5f\"}},\"ternary\":{\"aaxis\":{\"gridcolor\":\"white\",\"linecolor\":\"white\",\"ticks\":\"\"},\"baxis\":{\"gridcolor\":\"white\",\"linecolor\":\"white\",\"ticks\":\"\"},\"bgcolor\":\"#E5ECF6\",\"caxis\":{\"gridcolor\":\"white\",\"linecolor\":\"white\",\"ticks\":\"\"}},\"title\":{\"x\":0.05},\"xaxis\":{\"automargin\":true,\"gridcolor\":\"white\",\"linecolor\":\"white\",\"ticks\":\"\",\"title\":{\"standoff\":15},\"zerolinecolor\":\"white\",\"zerolinewidth\":2},\"yaxis\":{\"automargin\":true,\"gridcolor\":\"white\",\"linecolor\":\"white\",\"ticks\":\"\",\"title\":{\"standoff\":15},\"zerolinecolor\":\"white\",\"zerolinewidth\":2}}},\"xaxis\":{\"anchor\":\"y\",\"domain\":[0.0,1.0],\"title\":{\"text\":\"education\"}},\"yaxis\":{\"anchor\":\"x\",\"categoryarray\":[\"IA\",\"MN\",\"WA\",\"MI\",\"OK\",\"DC\",\"TN\",\"PR\",\"OH\",\"NC\",\"ID\",\"CO\",\"AZ\",\"TX\",\"MD\",\"FL\",\"IN\",\"AL\",\"NH\",\"NM\",\"NJ\",\"OR\",\"PA\",\"VA\",\"NY\",\"SC\",\"MO\",\"CA\",\"IL\",\"MA\",\"LA\",\"GA\"],\"categoryorder\":\"array\",\"domain\":[0.0,1.0],\"title\":{\"text\":\"region\"}}},                        {\"responsive\": true}                    ).then(function(){\n",
       "                            \n",
       "var gd = document.getElementById('87000f98-08d9-4a52-af22-3ede0f7710f8');\n",
       "var x = new MutationObserver(function (mutations, observer) {{\n",
       "        var display = window.getComputedStyle(gd).display;\n",
       "        if (!display || display === 'none') {{\n",
       "            console.log([gd, 'removed!']);\n",
       "            Plotly.purge(gd);\n",
       "            observer.disconnect();\n",
       "        }}\n",
       "}});\n",
       "\n",
       "// Listen for the removal of the full notebook cells\n",
       "var notebookContainer = gd.closest('#notebook-container');\n",
       "if (notebookContainer) {{\n",
       "    x.observe(notebookContainer, {childList: true});\n",
       "}}\n",
       "\n",
       "// Listen for the clearing of the current output cell\n",
       "var outputEl = gd.closest('.output');\n",
       "if (outputEl) {{\n",
       "    x.observe(outputEl, {childList: true});\n",
       "}}\n",
       "\n",
       "                        })                };                });            </script>        </div>"
      ]
     },
     "metadata": {},
     "output_type": "display_data"
    }
   ],
   "source": [
    "fig = px.bar(Doctorate_masters_df, x=\"education\", y=\"region\", color=\"region\",\n",
    "            hover_data=['title'])\n",
    " \n",
    "fig.show()"
   ]
  },
  {
   "cell_type": "code",
   "execution_count": 43,
   "metadata": {},
   "outputs": [
    {
     "data": {
      "text/html": [
       "<div>\n",
       "<style scoped>\n",
       "    .dataframe tbody tr th:only-of-type {\n",
       "        vertical-align: middle;\n",
       "    }\n",
       "\n",
       "    .dataframe tbody tr th {\n",
       "        vertical-align: top;\n",
       "    }\n",
       "\n",
       "    .dataframe thead th {\n",
       "        text-align: right;\n",
       "    }\n",
       "</style>\n",
       "<table border=\"1\" class=\"dataframe\">\n",
       "  <thead>\n",
       "    <tr style=\"text-align: right;\">\n",
       "      <th></th>\n",
       "      <th>education</th>\n",
       "      <th>title</th>\n",
       "      <th>skills</th>\n",
       "      <th>locality</th>\n",
       "      <th>posted_at</th>\n",
       "      <th>longitude</th>\n",
       "      <th>latitude</th>\n",
       "      <th>company</th>\n",
       "      <th>region</th>\n",
       "      <th>employment_type</th>\n",
       "    </tr>\n",
       "  </thead>\n",
       "  <tbody>\n",
       "    <tr>\n",
       "      <th>6372</th>\n",
       "      <td>Doctorate</td>\n",
       "      <td>Sales Representative</td>\n",
       "      <td>Insurance, Microsoft Access, Hardworking And D...</td>\n",
       "      <td>Livonia</td>\n",
       "      <td>2021-05-04T01:04:46Z</td>\n",
       "      <td>-83.36826</td>\n",
       "      <td>42.36919</td>\n",
       "      <td>Confidential</td>\n",
       "      <td>MI</td>\n",
       "      <td>FULL_TIME</td>\n",
       "    </tr>\n",
       "    <tr>\n",
       "      <th>9197</th>\n",
       "      <td>Doctorate</td>\n",
       "      <td>Postdoctoral Scientist</td>\n",
       "      <td>Nuclear Magnetic Resonance, Physical Chemistry...</td>\n",
       "      <td>New Brunswick</td>\n",
       "      <td>2021-04-16T11:48:52Z</td>\n",
       "      <td>-74.45182</td>\n",
       "      <td>40.48622</td>\n",
       "      <td>Analysts</td>\n",
       "      <td>NJ</td>\n",
       "      <td>CONTRACTOR</td>\n",
       "    </tr>\n",
       "    <tr>\n",
       "      <th>8962</th>\n",
       "      <td>Doctorate</td>\n",
       "      <td>Senior Human Factors Engineer</td>\n",
       "      <td>Usability, User Interface Design, Usability Te...</td>\n",
       "      <td>Saint Paul</td>\n",
       "      <td>2021-04-13T17:35:16Z</td>\n",
       "      <td>-93.08996</td>\n",
       "      <td>44.95370</td>\n",
       "      <td>Abbott Laboratories</td>\n",
       "      <td>MN</td>\n",
       "      <td>FULL_TIME</td>\n",
       "    </tr>\n",
       "    <tr>\n",
       "      <th>6354</th>\n",
       "      <td>Doctorate</td>\n",
       "      <td>PROFESSIONAL LIABILITY ATTORNEY</td>\n",
       "      <td>Professional Liability, Lawsuits, Civil Law, V...</td>\n",
       "      <td>Concord</td>\n",
       "      <td>2021-04-19T01:11:18Z</td>\n",
       "      <td>-122.03110</td>\n",
       "      <td>37.97798</td>\n",
       "      <td>Legal Specialists</td>\n",
       "      <td>CA</td>\n",
       "      <td>FULL_TIME</td>\n",
       "    </tr>\n",
       "    <tr>\n",
       "      <th>6388</th>\n",
       "      <td>Doctorate</td>\n",
       "      <td>Litigation/L&amp;E Associate Attorney (Midlevel to...</td>\n",
       "      <td>Attention Deficit Disorder (ADD), Team-working...</td>\n",
       "      <td>Chicago</td>\n",
       "      <td>2021-04-08T12:28:06Z</td>\n",
       "      <td>-87.63715</td>\n",
       "      <td>41.88177</td>\n",
       "      <td>Lucas Group</td>\n",
       "      <td>IL</td>\n",
       "      <td>FULL_TIME</td>\n",
       "    </tr>\n",
       "    <tr>\n",
       "      <th>...</th>\n",
       "      <td>...</td>\n",
       "      <td>...</td>\n",
       "      <td>...</td>\n",
       "      <td>...</td>\n",
       "      <td>...</td>\n",
       "      <td>...</td>\n",
       "      <td>...</td>\n",
       "      <td>...</td>\n",
       "      <td>...</td>\n",
       "      <td>...</td>\n",
       "    </tr>\n",
       "    <tr>\n",
       "      <th>3817</th>\n",
       "      <td>Master's Degree</td>\n",
       "      <td>Unit Therapist PRN</td>\n",
       "      <td>Mental Health, Social Work, Psychotherapy, Fam...</td>\n",
       "      <td>Orlando</td>\n",
       "      <td>2021-04-14T00:42:34Z</td>\n",
       "      <td>-81.37923</td>\n",
       "      <td>28.53834</td>\n",
       "      <td>AdventHealth Orlando</td>\n",
       "      <td>FL</td>\n",
       "      <td>PER_DIEM</td>\n",
       "    </tr>\n",
       "    <tr>\n",
       "      <th>4032</th>\n",
       "      <td>Master's Degree</td>\n",
       "      <td>Labor Relations Associate</td>\n",
       "      <td>Scheduling, Industrial Relations, Labor Relati...</td>\n",
       "      <td>New York</td>\n",
       "      <td>2021-04-29T18:14:30Z</td>\n",
       "      <td>-74.01000</td>\n",
       "      <td>40.71000</td>\n",
       "      <td>MetroPlus Health Plan</td>\n",
       "      <td>NY</td>\n",
       "      <td>FULL_TIME</td>\n",
       "    </tr>\n",
       "    <tr>\n",
       "      <th>4268</th>\n",
       "      <td>Master's Degree</td>\n",
       "      <td>Speech Language Pathologist SLP</td>\n",
       "      <td>Articulation, Disabilities, Public Speaking, P...</td>\n",
       "      <td>New York</td>\n",
       "      <td>2021-04-23T14:25:27Z</td>\n",
       "      <td>-74.00597</td>\n",
       "      <td>40.71278</td>\n",
       "      <td>Apex Therapeutics</td>\n",
       "      <td>NY</td>\n",
       "      <td>FULL_TIME</td>\n",
       "    </tr>\n",
       "    <tr>\n",
       "      <th>3621</th>\n",
       "      <td>Master's Degree</td>\n",
       "      <td>Operations Supervisor-Swing Shift</td>\n",
       "      <td>Client Rapport, Scheduling, Communication, Tim...</td>\n",
       "      <td>Aurora</td>\n",
       "      <td>2021-04-23T14:32:17Z</td>\n",
       "      <td>-104.78710</td>\n",
       "      <td>39.75425</td>\n",
       "      <td>Penske Truck Leasing</td>\n",
       "      <td>CO</td>\n",
       "      <td>FULL_TIME</td>\n",
       "    </tr>\n",
       "    <tr>\n",
       "      <th>10479</th>\n",
       "      <td>Master's Degree</td>\n",
       "      <td>Clinical Supervisor</td>\n",
       "      <td>Mental Health, Family Therapy, Licensed Clinic...</td>\n",
       "      <td>Portland</td>\n",
       "      <td>2021-04-18T01:03:53Z</td>\n",
       "      <td>-122.49490</td>\n",
       "      <td>45.52880</td>\n",
       "      <td>Albertina Kerr Centers</td>\n",
       "      <td>OR</td>\n",
       "      <td>FULL_TIME</td>\n",
       "    </tr>\n",
       "  </tbody>\n",
       "</table>\n",
       "<p>153 rows × 10 columns</p>\n",
       "</div>"
      ],
      "text/plain": [
       "             education                                              title  \\\n",
       "6372         Doctorate                               Sales Representative   \n",
       "9197         Doctorate                             Postdoctoral Scientist   \n",
       "8962         Doctorate                      Senior Human Factors Engineer   \n",
       "6354         Doctorate                    PROFESSIONAL LIABILITY ATTORNEY   \n",
       "6388         Doctorate  Litigation/L&E Associate Attorney (Midlevel to...   \n",
       "...                ...                                                ...   \n",
       "3817   Master's Degree                                 Unit Therapist PRN   \n",
       "4032   Master's Degree                          Labor Relations Associate   \n",
       "4268   Master's Degree                    Speech Language Pathologist SLP   \n",
       "3621   Master's Degree                  Operations Supervisor-Swing Shift   \n",
       "10479  Master's Degree                                Clinical Supervisor   \n",
       "\n",
       "                                                  skills       locality  \\\n",
       "6372   Insurance, Microsoft Access, Hardworking And D...        Livonia   \n",
       "9197   Nuclear Magnetic Resonance, Physical Chemistry...  New Brunswick   \n",
       "8962   Usability, User Interface Design, Usability Te...     Saint Paul   \n",
       "6354   Professional Liability, Lawsuits, Civil Law, V...        Concord   \n",
       "6388   Attention Deficit Disorder (ADD), Team-working...        Chicago   \n",
       "...                                                  ...            ...   \n",
       "3817   Mental Health, Social Work, Psychotherapy, Fam...        Orlando   \n",
       "4032   Scheduling, Industrial Relations, Labor Relati...       New York   \n",
       "4268   Articulation, Disabilities, Public Speaking, P...       New York   \n",
       "3621   Client Rapport, Scheduling, Communication, Tim...         Aurora   \n",
       "10479  Mental Health, Family Therapy, Licensed Clinic...       Portland   \n",
       "\n",
       "                  posted_at  longitude  latitude                 company  \\\n",
       "6372   2021-05-04T01:04:46Z  -83.36826  42.36919            Confidential   \n",
       "9197   2021-04-16T11:48:52Z  -74.45182  40.48622                Analysts   \n",
       "8962   2021-04-13T17:35:16Z  -93.08996  44.95370     Abbott Laboratories   \n",
       "6354   2021-04-19T01:11:18Z -122.03110  37.97798       Legal Specialists   \n",
       "6388   2021-04-08T12:28:06Z  -87.63715  41.88177             Lucas Group   \n",
       "...                     ...        ...       ...                     ...   \n",
       "3817   2021-04-14T00:42:34Z  -81.37923  28.53834    AdventHealth Orlando   \n",
       "4032   2021-04-29T18:14:30Z  -74.01000  40.71000   MetroPlus Health Plan   \n",
       "4268   2021-04-23T14:25:27Z  -74.00597  40.71278       Apex Therapeutics   \n",
       "3621   2021-04-23T14:32:17Z -104.78710  39.75425    Penske Truck Leasing   \n",
       "10479  2021-04-18T01:03:53Z -122.49490  45.52880  Albertina Kerr Centers   \n",
       "\n",
       "      region employment_type  \n",
       "6372      MI       FULL_TIME  \n",
       "9197      NJ      CONTRACTOR  \n",
       "8962      MN       FULL_TIME  \n",
       "6354      CA       FULL_TIME  \n",
       "6388      IL       FULL_TIME  \n",
       "...      ...             ...  \n",
       "3817      FL        PER_DIEM  \n",
       "4032      NY       FULL_TIME  \n",
       "4268      NY       FULL_TIME  \n",
       "3621      CO       FULL_TIME  \n",
       "10479     OR       FULL_TIME  \n",
       "\n",
       "[153 rows x 10 columns]"
      ]
     },
     "execution_count": 43,
     "metadata": {},
     "output_type": "execute_result"
    }
   ],
   "source": [
    "result_df = Doctorate_masters_df.sort_values(by = 'education')\n",
    "result_df"
   ]
  },
  {
   "cell_type": "code",
   "execution_count": 44,
   "metadata": {},
   "outputs": [
    {
     "data": {
      "application/vnd.plotly.v1+json": {
       "config": {
        "plotlyServerURL": "https://plot.ly"
       },
       "data": [
        {
         "alignmentgroup": "True",
         "customdata": [
          [
           "Sales Representative"
          ],
          [
           "Social Service II Non-Exempt - LHMI"
          ],
          [
           "SLP Position - Hospital"
          ]
         ],
         "hovertemplate": "region=%{x}<br>education=%{y}<br>title=%{customdata[0]}<extra></extra>",
         "legendgroup": "MI",
         "marker": {
          "color": "#636efa",
          "pattern": {
           "shape": ""
          }
         },
         "name": "MI",
         "offsetgroup": "MI",
         "orientation": "v",
         "showlegend": true,
         "textposition": "auto",
         "type": "bar",
         "x": [
          "MI",
          "MI",
          "MI"
         ],
         "xaxis": "x",
         "y": [
          "Doctorate",
          "Master's Degree",
          "Master's Degree"
         ],
         "yaxis": "y"
        },
        {
         "alignmentgroup": "True",
         "customdata": [
          [
           "Postdoctoral Scientist"
          ],
          [
           "Psychologist"
          ],
          [
           "Bilingual Therapist"
          ],
          [
           "Associate Scientist"
          ],
          [
           "Quantitative Finance Analyst"
          ],
          [
           "APN - Part Time"
          ],
          [
           "Sr. Account Executive (IT Solutions and Services / Solution sales)"
          ]
         ],
         "hovertemplate": "region=%{x}<br>education=%{y}<br>title=%{customdata[0]}<extra></extra>",
         "legendgroup": "NJ",
         "marker": {
          "color": "#EF553B",
          "pattern": {
           "shape": ""
          }
         },
         "name": "NJ",
         "offsetgroup": "NJ",
         "orientation": "v",
         "showlegend": true,
         "textposition": "auto",
         "type": "bar",
         "x": [
          "NJ",
          "NJ",
          "NJ",
          "NJ",
          "NJ",
          "NJ",
          "NJ"
         ],
         "xaxis": "x",
         "y": [
          "Doctorate",
          "Doctorate",
          "Master's Degree",
          "Master's Degree",
          "Master's Degree",
          "Master's Degree",
          "Master's Degree"
         ],
         "yaxis": "y"
        },
        {
         "alignmentgroup": "True",
         "customdata": [
          [
           "Senior Human Factors Engineer"
          ],
          [
           "SLP Position - Skilled Nursing Facility"
          ]
         ],
         "hovertemplate": "region=%{x}<br>education=%{y}<br>title=%{customdata[0]}<extra></extra>",
         "legendgroup": "MN",
         "marker": {
          "color": "#00cc96",
          "pattern": {
           "shape": ""
          }
         },
         "name": "MN",
         "offsetgroup": "MN",
         "orientation": "v",
         "showlegend": true,
         "textposition": "auto",
         "type": "bar",
         "x": [
          "MN",
          "MN"
         ],
         "xaxis": "x",
         "y": [
          "Doctorate",
          "Master's Degree"
         ],
         "yaxis": "y"
        },
        {
         "alignmentgroup": "True",
         "customdata": [
          [
           "PROFESSIONAL LIABILITY ATTORNEY"
          ],
          [
           "Senior Scientist - Burlingame, CA"
          ],
          [
           "Senior Scientist, Assay Technology Innovation & Development"
          ],
          [
           "Hospital Psychology Intake Manager"
          ],
          [
           "Mechanical Engineer/Materials Scientist"
          ],
          [
           "Therapist - Pool"
          ],
          [
           "Clinical Social Worker"
          ],
          [
           "Speech-Language Pathologist"
          ],
          [
           "iOS Developer"
          ],
          [
           "SLP - School"
          ],
          [
           "School Psychologist"
          ],
          [
           "Bilingual Speech Language Pathologist (SLP)"
          ],
          [
           "Health Program Manager II"
          ],
          [
           "Quality Analyst"
          ],
          [
           "Licensed Social Worker (LCSW/LMFT) - SFMC Psych Adult"
          ],
          [
           "School Occupational Therapist (OT)"
          ],
          [
           "Principal Data Scientist - Search"
          ],
          [
           "Medical Assistant"
          ],
          [
           "Maritime Instructor (On-Call)"
          ],
          [
           "Sr Director Strategy"
          ],
          [
           "Clinician - Migrant Services"
          ],
          [
           "Social Service II"
          ],
          [
           "Sr Director Corporate Strategy"
          ]
         ],
         "hovertemplate": "region=%{x}<br>education=%{y}<br>title=%{customdata[0]}<extra></extra>",
         "legendgroup": "CA",
         "marker": {
          "color": "#ab63fa",
          "pattern": {
           "shape": ""
          }
         },
         "name": "CA",
         "offsetgroup": "CA",
         "orientation": "v",
         "showlegend": true,
         "textposition": "auto",
         "type": "bar",
         "x": [
          "CA",
          "CA",
          "CA",
          "CA",
          "CA",
          "CA",
          "CA",
          "CA",
          "CA",
          "CA",
          "CA",
          "CA",
          "CA",
          "CA",
          "CA",
          "CA",
          "CA",
          "CA",
          "CA",
          "CA",
          "CA",
          "CA",
          "CA"
         ],
         "xaxis": "x",
         "y": [
          "Doctorate",
          "Doctorate",
          "Doctorate",
          "Doctorate",
          "Doctorate",
          "Master's Degree",
          "Master's Degree",
          "Master's Degree",
          "Master's Degree",
          "Master's Degree",
          "Master's Degree",
          "Master's Degree",
          "Master's Degree",
          "Master's Degree",
          "Master's Degree",
          "Master's Degree",
          "Master's Degree",
          "Master's Degree",
          "Master's Degree",
          "Master's Degree",
          "Master's Degree",
          "Master's Degree",
          "Master's Degree"
         ],
         "yaxis": "y"
        },
        {
         "alignmentgroup": "True",
         "customdata": [
          [
           "Litigation/L&E Associate Attorney (Midlevel to Senior)"
          ],
          [
           "Attorney - Commercial Banking"
          ],
          [
           "PRVIATE EQUITY FIRM SEEKS TRUST/ESTATE PLANNING ADVISOR!"
          ],
          [
           "Unlicensed Juris Doctor Appeals Referee- 100% Remote"
          ],
          [
           "Speech-Language Pathologist"
          ],
          [
           "✨✨English Teachers for young learners, Teach Remotely. 🍒🍒Make up to $26/hr, Get hired within a week!🎇🎇"
          ],
          [
           "Specialist, Regulatory Compliance"
          ],
          [
           "Social Worker - Gage Park Area"
          ],
          [
           "Assets Controller"
          ]
         ],
         "hovertemplate": "region=%{x}<br>education=%{y}<br>title=%{customdata[0]}<extra></extra>",
         "legendgroup": "IL",
         "marker": {
          "color": "#FFA15A",
          "pattern": {
           "shape": ""
          }
         },
         "name": "IL",
         "offsetgroup": "IL",
         "orientation": "v",
         "showlegend": true,
         "textposition": "auto",
         "type": "bar",
         "x": [
          "IL",
          "IL",
          "IL",
          "IL",
          "IL",
          "IL",
          "IL",
          "IL",
          "IL"
         ],
         "xaxis": "x",
         "y": [
          "Doctorate",
          "Doctorate",
          "Doctorate",
          "Doctorate",
          "Master's Degree",
          "Master's Degree",
          "Master's Degree",
          "Master's Degree",
          "Master's Degree"
         ],
         "yaxis": "y"
        },
        {
         "alignmentgroup": "True",
         "customdata": [
          [
           "Medical Director"
          ],
          [
           "Scientific Director"
          ],
          [
           "L1 Master Automotive Technician / Mechanic - White Rock"
          ],
          [
           "MFLC Counselor T4 School"
          ],
          [
           "Master Certified Technician / Automotive Mechanic"
          ],
          [
           "SLP - School"
          ],
          [
           "Master Data Coordinator"
          ],
          [
           "Capacity Planner"
          ],
          [
           "Sr. QA Analyst"
          ],
          [
           "Lead Clinician (Military Family Clinic)"
          ]
         ],
         "hovertemplate": "region=%{x}<br>education=%{y}<br>title=%{customdata[0]}<extra></extra>",
         "legendgroup": "TX",
         "marker": {
          "color": "#19d3f3",
          "pattern": {
           "shape": ""
          }
         },
         "name": "TX",
         "offsetgroup": "TX",
         "orientation": "v",
         "showlegend": true,
         "textposition": "auto",
         "type": "bar",
         "x": [
          "TX",
          "TX",
          "TX",
          "TX",
          "TX",
          "TX",
          "TX",
          "TX",
          "TX",
          "TX"
         ],
         "xaxis": "x",
         "y": [
          "Doctorate",
          "Doctorate",
          "Master's Degree",
          "Master's Degree",
          "Master's Degree",
          "Master's Degree",
          "Master's Degree",
          "Master's Degree",
          "Master's Degree",
          "Master's Degree"
         ],
         "yaxis": "y"
        },
        {
         "alignmentgroup": "True",
         "customdata": [
          [
           "Sales Representative"
          ]
         ],
         "hovertemplate": "region=%{x}<br>education=%{y}<br>title=%{customdata[0]}<extra></extra>",
         "legendgroup": "OK",
         "marker": {
          "color": "#FF6692",
          "pattern": {
           "shape": ""
          }
         },
         "name": "OK",
         "offsetgroup": "OK",
         "orientation": "v",
         "showlegend": true,
         "textposition": "auto",
         "type": "bar",
         "x": [
          "OK"
         ],
         "xaxis": "x",
         "y": [
          "Doctorate"
         ],
         "yaxis": "y"
        },
        {
         "alignmentgroup": "True",
         "customdata": [
          [
           "Independent Life Insurance Sales Representative"
          ],
          [
           "Teach English Online for Chinese Kids! Work Remotely-Flexible Schedule-Without minimum teaching requirments!!!"
          ]
         ],
         "hovertemplate": "region=%{x}<br>education=%{y}<br>title=%{customdata[0]}<extra></extra>",
         "legendgroup": "ID",
         "marker": {
          "color": "#B6E880",
          "pattern": {
           "shape": ""
          }
         },
         "name": "ID",
         "offsetgroup": "ID",
         "orientation": "v",
         "showlegend": true,
         "textposition": "auto",
         "type": "bar",
         "x": [
          "ID",
          "ID"
         ],
         "xaxis": "x",
         "y": [
          "Doctorate",
          "Master's Degree"
         ],
         "yaxis": "y"
        },
        {
         "alignmentgroup": "True",
         "customdata": [
          [
           "Hospital Director of Pharmacy"
          ],
          [
           "Primary Therapist - Full Time"
          ],
          [
           "Test Engineer-TS/SCI REQUIRED"
          ],
          [
           "Addiction  Counselor"
          ],
          [
           "Registered Nurse"
          ]
         ],
         "hovertemplate": "region=%{x}<br>education=%{y}<br>title=%{customdata[0]}<extra></extra>",
         "legendgroup": "MD",
         "marker": {
          "color": "#FF97FF",
          "pattern": {
           "shape": ""
          }
         },
         "name": "MD",
         "offsetgroup": "MD",
         "orientation": "v",
         "showlegend": true,
         "textposition": "auto",
         "type": "bar",
         "x": [
          "MD",
          "MD",
          "MD",
          "MD",
          "MD"
         ],
         "xaxis": "x",
         "y": [
          "Doctorate",
          "Master's Degree",
          "Master's Degree",
          "Master's Degree",
          "Master's Degree"
         ],
         "yaxis": "y"
        },
        {
         "alignmentgroup": "True",
         "customdata": [
          [
           "(Senior) Scientist, mRNA/Oligo Analytical Chemistry"
          ],
          [
           "Clinical Supervisor - $3,000 Sign On Bonus"
          ],
          [
           "SLP - School"
          ],
          [
           "Clinical Development Scientist IV - Remote"
          ],
          [
           "Integrated Team Director - ACCS - Team 4"
          ],
          [
           "Business Development Engineer"
          ]
         ],
         "hovertemplate": "region=%{x}<br>education=%{y}<br>title=%{customdata[0]}<extra></extra>",
         "legendgroup": "MA",
         "marker": {
          "color": "#FECB52",
          "pattern": {
           "shape": ""
          }
         },
         "name": "MA",
         "offsetgroup": "MA",
         "orientation": "v",
         "showlegend": true,
         "textposition": "auto",
         "type": "bar",
         "x": [
          "MA",
          "MA",
          "MA",
          "MA",
          "MA",
          "MA"
         ],
         "xaxis": "x",
         "y": [
          "Doctorate",
          "Master's Degree",
          "Master's Degree",
          "Master's Degree",
          "Master's Degree",
          "Master's Degree"
         ],
         "yaxis": "y"
        },
        {
         "alignmentgroup": "True",
         "customdata": [
          [
           "Sales Representative"
          ],
          [
           "Quality Improvement Specialist"
          ],
          [
           "Psychiatric/MH Registered Nurse Practitioner"
          ],
          [
           "MH Outpatient Therapist"
          ],
          [
           "Lead Athletic Trainer"
          ],
          [
           "EAP Care Manager-Remote Position"
          ],
          [
           "Physical Therapist, NICU - Per Diem"
          ]
         ],
         "hovertemplate": "region=%{x}<br>education=%{y}<br>title=%{customdata[0]}<extra></extra>",
         "legendgroup": "PA",
         "marker": {
          "color": "#636efa",
          "pattern": {
           "shape": ""
          }
         },
         "name": "PA",
         "offsetgroup": "PA",
         "orientation": "v",
         "showlegend": true,
         "textposition": "auto",
         "type": "bar",
         "x": [
          "PA",
          "PA",
          "PA",
          "PA",
          "PA",
          "PA",
          "PA"
         ],
         "xaxis": "x",
         "y": [
          "Doctorate",
          "Master's Degree",
          "Master's Degree",
          "Master's Degree",
          "Master's Degree",
          "Master's Degree",
          "Master's Degree"
         ],
         "yaxis": "y"
        },
        {
         "alignmentgroup": "True",
         "customdata": [
          [
           "Sales Representative"
          ]
         ],
         "hovertemplate": "region=%{x}<br>education=%{y}<br>title=%{customdata[0]}<extra></extra>",
         "legendgroup": "LA",
         "marker": {
          "color": "#EF553B",
          "pattern": {
           "shape": ""
          }
         },
         "name": "LA",
         "offsetgroup": "LA",
         "orientation": "v",
         "showlegend": true,
         "textposition": "auto",
         "type": "bar",
         "x": [
          "LA"
         ],
         "xaxis": "x",
         "y": [
          "Doctorate"
         ],
         "yaxis": "y"
        },
        {
         "alignmentgroup": "True",
         "customdata": [
          [
           "General Dentist- Iowa (Sign on plus relocation)"
          ]
         ],
         "hovertemplate": "region=%{x}<br>education=%{y}<br>title=%{customdata[0]}<extra></extra>",
         "legendgroup": "IA",
         "marker": {
          "color": "#00cc96",
          "pattern": {
           "shape": ""
          }
         },
         "name": "IA",
         "offsetgroup": "IA",
         "orientation": "v",
         "showlegend": true,
         "textposition": "auto",
         "type": "bar",
         "x": [
          "IA"
         ],
         "xaxis": "x",
         "y": [
          "Doctorate"
         ],
         "yaxis": "y"
        },
        {
         "alignmentgroup": "True",
         "customdata": [
          [
           "Product Development Scientist - Nutrition - Columbus, OH"
          ],
          [
           "Sales Representative"
          ],
          [
           "SLP Position - Skilled Nursing Facility"
          ]
         ],
         "hovertemplate": "region=%{x}<br>education=%{y}<br>title=%{customdata[0]}<extra></extra>",
         "legendgroup": "OH",
         "marker": {
          "color": "#ab63fa",
          "pattern": {
           "shape": ""
          }
         },
         "name": "OH",
         "offsetgroup": "OH",
         "orientation": "v",
         "showlegend": true,
         "textposition": "auto",
         "type": "bar",
         "x": [
          "OH",
          "OH",
          "OH"
         ],
         "xaxis": "x",
         "y": [
          "Doctorate",
          "Doctorate",
          "Master's Degree"
         ],
         "yaxis": "y"
        },
        {
         "alignmentgroup": "True",
         "customdata": [
          [
           "Attorney - Junior Associate Tax"
          ]
         ],
         "hovertemplate": "region=%{x}<br>education=%{y}<br>title=%{customdata[0]}<extra></extra>",
         "legendgroup": "PR",
         "marker": {
          "color": "#FFA15A",
          "pattern": {
           "shape": ""
          }
         },
         "name": "PR",
         "offsetgroup": "PR",
         "orientation": "v",
         "showlegend": true,
         "textposition": "auto",
         "type": "bar",
         "x": [
          "PR"
         ],
         "xaxis": "x",
         "y": [
          "Doctorate"
         ],
         "yaxis": "y"
        },
        {
         "alignmentgroup": "True",
         "customdata": [
          [
           "MFLC Counselor T4 General"
          ],
          [
           "Operations Supervisor-Swing Shift"
          ]
         ],
         "hovertemplate": "region=%{x}<br>education=%{y}<br>title=%{customdata[0]}<extra></extra>",
         "legendgroup": "CO",
         "marker": {
          "color": "#19d3f3",
          "pattern": {
           "shape": ""
          }
         },
         "name": "CO",
         "offsetgroup": "CO",
         "orientation": "v",
         "showlegend": true,
         "textposition": "auto",
         "type": "bar",
         "x": [
          "CO",
          "CO"
         ],
         "xaxis": "x",
         "y": [
          "Master's Degree",
          "Master's Degree"
         ],
         "yaxis": "y"
        },
        {
         "alignmentgroup": "True",
         "customdata": [
          [
           "AWS Systems Engineer"
          ],
          [
           "Test Engineer-TS/SCI REQUIRED"
          ],
          [
           "Data Engineer II"
          ],
          [
           "Senior Scientist"
          ],
          [
           "SLP Position - Skilled Nursing Facility"
          ]
         ],
         "hovertemplate": "region=%{x}<br>education=%{y}<br>title=%{customdata[0]}<extra></extra>",
         "legendgroup": "VA",
         "marker": {
          "color": "#FF6692",
          "pattern": {
           "shape": ""
          }
         },
         "name": "VA",
         "offsetgroup": "VA",
         "orientation": "v",
         "showlegend": true,
         "textposition": "auto",
         "type": "bar",
         "x": [
          "VA",
          "VA",
          "VA",
          "VA",
          "VA"
         ],
         "xaxis": "x",
         "y": [
          "Master's Degree",
          "Master's Degree",
          "Master's Degree",
          "Master's Degree",
          "Master's Degree"
         ],
         "yaxis": "y"
        },
        {
         "alignmentgroup": "True",
         "customdata": [
          [
           "Labor and Employment Attorney"
          ],
          [
           "Quantitative Finance Analyst - Charlotte, NC"
          ],
          [
           "Senior Commercial Development Director, Drug Product"
          ]
         ],
         "hovertemplate": "region=%{x}<br>education=%{y}<br>title=%{customdata[0]}<extra></extra>",
         "legendgroup": "NC",
         "marker": {
          "color": "#B6E880",
          "pattern": {
           "shape": ""
          }
         },
         "name": "NC",
         "offsetgroup": "NC",
         "orientation": "v",
         "showlegend": true,
         "textposition": "auto",
         "type": "bar",
         "x": [
          "NC",
          "NC",
          "NC"
         ],
         "xaxis": "x",
         "y": [
          "Master's Degree",
          "Master's Degree",
          "Master's Degree"
         ],
         "yaxis": "y"
        },
        {
         "alignmentgroup": "True",
         "customdata": [
          [
           "NP or PA, Palliative Care"
          ],
          [
           "IT Project Manager"
          ],
          [
           "Senior Quantitative Financial Analyst"
          ],
          [
           "Teacher of English for Online Groups!"
          ],
          [
           "Speech Language Pathologist"
          ],
          [
           "Telephonic Crisis Line Clinician - LMSW LCSW or LPC"
          ],
          [
           "Quantitative Finance Analyst"
          ],
          [
           "🚗English Teachers for young learners,🚗 Teach Remotely. Make up to $26/hr,🚗 Get hired within a week!"
          ],
          [
           "Teacher(English) - Online& High-paid Job - Easy hiring process"
          ],
          [
           "English Teachers for young learners, Teach Remotely. Make up to $26/hr, Get hired within a week!"
          ],
          [
           "Quantitative Financial Analyst"
          ],
          [
           "Psychologist - Primary Care"
          ],
          [
           "Android Developer"
          ],
          [
           "Financial Systems Manager"
          ],
          [
           "Redis Engineer (with Python )"
          ],
          [
           "Product Designer"
          ],
          [
           "SLP Position - School"
          ]
         ],
         "hovertemplate": "region=%{x}<br>education=%{y}<br>title=%{customdata[0]}<extra></extra>",
         "legendgroup": "GA",
         "marker": {
          "color": "#FF97FF",
          "pattern": {
           "shape": ""
          }
         },
         "name": "GA",
         "offsetgroup": "GA",
         "orientation": "v",
         "showlegend": true,
         "textposition": "auto",
         "type": "bar",
         "x": [
          "GA",
          "GA",
          "GA",
          "GA",
          "GA",
          "GA",
          "GA",
          "GA",
          "GA",
          "GA",
          "GA",
          "GA",
          "GA",
          "GA",
          "GA",
          "GA",
          "GA"
         ],
         "xaxis": "x",
         "y": [
          "Master's Degree",
          "Master's Degree",
          "Master's Degree",
          "Master's Degree",
          "Master's Degree",
          "Master's Degree",
          "Master's Degree",
          "Master's Degree",
          "Master's Degree",
          "Master's Degree",
          "Master's Degree",
          "Master's Degree",
          "Master's Degree",
          "Master's Degree",
          "Master's Degree",
          "Master's Degree",
          "Master's Degree"
         ],
         "yaxis": "y"
        },
        {
         "alignmentgroup": "True",
         "customdata": [
          [
           "SLP Position - Skilled Nursing Facility"
          ]
         ],
         "hovertemplate": "region=%{x}<br>education=%{y}<br>title=%{customdata[0]}<extra></extra>",
         "legendgroup": "WA",
         "marker": {
          "color": "#FECB52",
          "pattern": {
           "shape": ""
          }
         },
         "name": "WA",
         "offsetgroup": "WA",
         "orientation": "v",
         "showlegend": true,
         "textposition": "auto",
         "type": "bar",
         "x": [
          "WA"
         ],
         "xaxis": "x",
         "y": [
          "Master's Degree"
         ],
         "yaxis": "y"
        },
        {
         "alignmentgroup": "True",
         "customdata": [
          [
           "APRN AdventHealth Medical Group Walgreen’s Express PRN 49th Street"
          ],
          [
           "CRIMINAL JUSTICE / HOMELAND SECURITY INSTRUCTOR"
          ],
          [
           "School Occupational Therapist (OT)"
          ],
          [
           "Chrysler Certified Master Technician"
          ],
          [
           "Social Worker MSW FT Days"
          ],
          [
           "SPEECH INSTRUCTOR"
          ],
          [
           "ENGLISH & LITERATURE INSTRUCTOR"
          ],
          [
           "ASSISTANT IN RESEARCH (ENERGY EFFICIENT BUILDINGS)"
          ],
          [
           "NURSING (OB/GYN) INSTRUCTOR - PT"
          ],
          [
           "Nurse Practitioner (NP)"
          ],
          [
           "Early Childhood Special Educator- Support U.S. Military Families in England!"
          ],
          [
           "Unit Therapist PRN"
          ]
         ],
         "hovertemplate": "region=%{x}<br>education=%{y}<br>title=%{customdata[0]}<extra></extra>",
         "legendgroup": "FL",
         "marker": {
          "color": "#636efa",
          "pattern": {
           "shape": ""
          }
         },
         "name": "FL",
         "offsetgroup": "FL",
         "orientation": "v",
         "showlegend": true,
         "textposition": "auto",
         "type": "bar",
         "x": [
          "FL",
          "FL",
          "FL",
          "FL",
          "FL",
          "FL",
          "FL",
          "FL",
          "FL",
          "FL",
          "FL",
          "FL"
         ],
         "xaxis": "x",
         "y": [
          "Master's Degree",
          "Master's Degree",
          "Master's Degree",
          "Master's Degree",
          "Master's Degree",
          "Master's Degree",
          "Master's Degree",
          "Master's Degree",
          "Master's Degree",
          "Master's Degree",
          "Master's Degree",
          "Master's Degree"
         ],
         "yaxis": "y"
        },
        {
         "alignmentgroup": "True",
         "customdata": [
          [
           "Adjunct Instructor - Online"
          ],
          [
           "Therapist/Open Access Leader"
          ],
          [
           "School Therapist - Elsberry & Winfield Districts"
          ],
          [
           "SLP Position - School"
          ],
          [
           "Social Worker, MSW"
          ],
          [
           "CRITICAL: Therapist- Assertive Community Treatment Team"
          ],
          [
           "Pediatric ICU Pediatric Nurse Practitioner"
          ]
         ],
         "hovertemplate": "region=%{x}<br>education=%{y}<br>title=%{customdata[0]}<extra></extra>",
         "legendgroup": "MO",
         "marker": {
          "color": "#EF553B",
          "pattern": {
           "shape": ""
          }
         },
         "name": "MO",
         "offsetgroup": "MO",
         "orientation": "v",
         "showlegend": true,
         "textposition": "auto",
         "type": "bar",
         "x": [
          "MO",
          "MO",
          "MO",
          "MO",
          "MO",
          "MO",
          "MO"
         ],
         "xaxis": "x",
         "y": [
          "Master's Degree",
          "Master's Degree",
          "Master's Degree",
          "Master's Degree",
          "Master's Degree",
          "Master's Degree",
          "Master's Degree"
         ],
         "yaxis": "y"
        },
        {
         "alignmentgroup": "True",
         "customdata": [
          [
           "Master's Level Counselor /Licensed Therapist"
          ],
          [
           "Master's Level Therapist/ MSW"
          ],
          [
           "Desktop Support Analyst"
          ],
          [
           "Chief Executive Officer"
          ]
         ],
         "hovertemplate": "region=%{x}<br>education=%{y}<br>title=%{customdata[0]}<extra></extra>",
         "legendgroup": "IN",
         "marker": {
          "color": "#00cc96",
          "pattern": {
           "shape": ""
          }
         },
         "name": "IN",
         "offsetgroup": "IN",
         "orientation": "v",
         "showlegend": true,
         "textposition": "auto",
         "type": "bar",
         "x": [
          "IN",
          "IN",
          "IN",
          "IN"
         ],
         "xaxis": "x",
         "y": [
          "Master's Degree",
          "Master's Degree",
          "Master's Degree",
          "Master's Degree"
         ],
         "yaxis": "y"
        },
        {
         "alignmentgroup": "True",
         "customdata": [
          [
           "SLP Position - School"
          ],
          [
           "Manager, Talent Acquisition"
          ],
          [
           "Clinical Supervisor"
          ]
         ],
         "hovertemplate": "region=%{x}<br>education=%{y}<br>title=%{customdata[0]}<extra></extra>",
         "legendgroup": "OR",
         "marker": {
          "color": "#ab63fa",
          "pattern": {
           "shape": ""
          }
         },
         "name": "OR",
         "offsetgroup": "OR",
         "orientation": "v",
         "showlegend": true,
         "textposition": "auto",
         "type": "bar",
         "x": [
          "OR",
          "OR",
          "OR"
         ],
         "xaxis": "x",
         "y": [
          "Master's Degree",
          "Master's Degree",
          "Master's Degree"
         ],
         "yaxis": "y"
        },
        {
         "alignmentgroup": "True",
         "customdata": [
          [
           "Crisis Response Counselor"
          ],
          [
           "Emergency Room Tech"
          ],
          [
           "Crisis Response Counselor"
          ]
         ],
         "hovertemplate": "region=%{x}<br>education=%{y}<br>title=%{customdata[0]}<extra></extra>",
         "legendgroup": "TN",
         "marker": {
          "color": "#FFA15A",
          "pattern": {
           "shape": ""
          }
         },
         "name": "TN",
         "offsetgroup": "TN",
         "orientation": "v",
         "showlegend": true,
         "textposition": "auto",
         "type": "bar",
         "x": [
          "TN",
          "TN",
          "TN"
         ],
         "xaxis": "x",
         "y": [
          "Master's Degree",
          "Master's Degree",
          "Master's Degree"
         ],
         "yaxis": "y"
        },
        {
         "alignmentgroup": "True",
         "customdata": [
          [
           "PHYSICAL THERAPIST PT"
          ],
          [
           "Education Director (Training and Development) - Middle School, Promise Academy"
          ],
          [
           "Speech Language Pathologist for Early Intervention"
          ],
          [
           "Financial Analytics and Derivatives - Senior Associate"
          ],
          [
           "Labor Relations Associate"
          ],
          [
           "Speech Language Pathologist SLP"
          ]
         ],
         "hovertemplate": "region=%{x}<br>education=%{y}<br>title=%{customdata[0]}<extra></extra>",
         "legendgroup": "NY",
         "marker": {
          "color": "#19d3f3",
          "pattern": {
           "shape": ""
          }
         },
         "name": "NY",
         "offsetgroup": "NY",
         "orientation": "v",
         "showlegend": true,
         "textposition": "auto",
         "type": "bar",
         "x": [
          "NY",
          "NY",
          "NY",
          "NY",
          "NY",
          "NY"
         ],
         "xaxis": "x",
         "y": [
          "Master's Degree",
          "Master's Degree",
          "Master's Degree",
          "Master's Degree",
          "Master's Degree",
          "Master's Degree"
         ],
         "yaxis": "y"
        },
        {
         "alignmentgroup": "True",
         "customdata": [
          [
           "Strategy& Healthcare Tech Strategy- Senior Associate"
          ],
          [
           "Small Engine Mechanic"
          ]
         ],
         "hovertemplate": "region=%{x}<br>education=%{y}<br>title=%{customdata[0]}<extra></extra>",
         "legendgroup": "AL",
         "marker": {
          "color": "#FF6692",
          "pattern": {
           "shape": ""
          }
         },
         "name": "AL",
         "offsetgroup": "AL",
         "orientation": "v",
         "showlegend": true,
         "textposition": "auto",
         "type": "bar",
         "x": [
          "AL",
          "AL"
         ],
         "xaxis": "x",
         "y": [
          "Master's Degree",
          "Master's Degree"
         ],
         "yaxis": "y"
        },
        {
         "alignmentgroup": "True",
         "customdata": [
          [
           "Health Care Research Analyst (FT), Heart & Vascular Center"
          ],
          [
           "Continuing Care Manager - Social Worker(FT), Care Management"
          ]
         ],
         "hovertemplate": "region=%{x}<br>education=%{y}<br>title=%{customdata[0]}<extra></extra>",
         "legendgroup": "NH",
         "marker": {
          "color": "#B6E880",
          "pattern": {
           "shape": ""
          }
         },
         "name": "NH",
         "offsetgroup": "NH",
         "orientation": "v",
         "showlegend": true,
         "textposition": "auto",
         "type": "bar",
         "x": [
          "NH",
          "NH"
         ],
         "xaxis": "x",
         "y": [
          "Master's Degree",
          "Master's Degree"
         ],
         "yaxis": "y"
        },
        {
         "alignmentgroup": "True",
         "customdata": [
          [
           "SLP - School"
          ]
         ],
         "hovertemplate": "region=%{x}<br>education=%{y}<br>title=%{customdata[0]}<extra></extra>",
         "legendgroup": "NM",
         "marker": {
          "color": "#FF97FF",
          "pattern": {
           "shape": ""
          }
         },
         "name": "NM",
         "offsetgroup": "NM",
         "orientation": "v",
         "showlegend": true,
         "textposition": "auto",
         "type": "bar",
         "x": [
          "NM"
         ],
         "xaxis": "x",
         "y": [
          "Master's Degree"
         ],
         "yaxis": "y"
        },
        {
         "alignmentgroup": "True",
         "customdata": [
          [
           "SLP - School"
          ],
          [
           "SLP - School"
          ]
         ],
         "hovertemplate": "region=%{x}<br>education=%{y}<br>title=%{customdata[0]}<extra></extra>",
         "legendgroup": "SC",
         "marker": {
          "color": "#FECB52",
          "pattern": {
           "shape": ""
          }
         },
         "name": "SC",
         "offsetgroup": "SC",
         "orientation": "v",
         "showlegend": true,
         "textposition": "auto",
         "type": "bar",
         "x": [
          "SC",
          "SC"
         ],
         "xaxis": "x",
         "y": [
          "Master's Degree",
          "Master's Degree"
         ],
         "yaxis": "y"
        },
        {
         "alignmentgroup": "True",
         "customdata": [
          [
           "Crisis Specialist , Bilingual (English and Spanish)"
          ]
         ],
         "hovertemplate": "region=%{x}<br>education=%{y}<br>title=%{customdata[0]}<extra></extra>",
         "legendgroup": "DC",
         "marker": {
          "color": "#636efa",
          "pattern": {
           "shape": ""
          }
         },
         "name": "DC",
         "offsetgroup": "DC",
         "orientation": "v",
         "showlegend": true,
         "textposition": "auto",
         "type": "bar",
         "x": [
          "DC"
         ],
         "xaxis": "x",
         "y": [
          "Master's Degree"
         ],
         "yaxis": "y"
        },
        {
         "alignmentgroup": "True",
         "customdata": [
          [
           "MFLC Counselor T4 School"
          ]
         ],
         "hovertemplate": "region=%{x}<br>education=%{y}<br>title=%{customdata[0]}<extra></extra>",
         "legendgroup": "AZ",
         "marker": {
          "color": "#EF553B",
          "pattern": {
           "shape": ""
          }
         },
         "name": "AZ",
         "offsetgroup": "AZ",
         "orientation": "v",
         "showlegend": true,
         "textposition": "auto",
         "type": "bar",
         "x": [
          "AZ"
         ],
         "xaxis": "x",
         "y": [
          "Master's Degree"
         ],
         "yaxis": "y"
        }
       ],
       "layout": {
        "barmode": "stack",
        "legend": {
         "title": {
          "text": "region"
         },
         "tracegroupgap": 0
        },
        "margin": {
         "t": 60
        },
        "template": {
         "data": {
          "bar": [
           {
            "error_x": {
             "color": "#2a3f5f"
            },
            "error_y": {
             "color": "#2a3f5f"
            },
            "marker": {
             "line": {
              "color": "#E5ECF6",
              "width": 0.5
             },
             "pattern": {
              "fillmode": "overlay",
              "size": 10,
              "solidity": 0.2
             }
            },
            "type": "bar"
           }
          ],
          "barpolar": [
           {
            "marker": {
             "line": {
              "color": "#E5ECF6",
              "width": 0.5
             },
             "pattern": {
              "fillmode": "overlay",
              "size": 10,
              "solidity": 0.2
             }
            },
            "type": "barpolar"
           }
          ],
          "carpet": [
           {
            "aaxis": {
             "endlinecolor": "#2a3f5f",
             "gridcolor": "white",
             "linecolor": "white",
             "minorgridcolor": "white",
             "startlinecolor": "#2a3f5f"
            },
            "baxis": {
             "endlinecolor": "#2a3f5f",
             "gridcolor": "white",
             "linecolor": "white",
             "minorgridcolor": "white",
             "startlinecolor": "#2a3f5f"
            },
            "type": "carpet"
           }
          ],
          "choropleth": [
           {
            "colorbar": {
             "outlinewidth": 0,
             "ticks": ""
            },
            "type": "choropleth"
           }
          ],
          "contour": [
           {
            "colorbar": {
             "outlinewidth": 0,
             "ticks": ""
            },
            "colorscale": [
             [
              0,
              "#0d0887"
             ],
             [
              0.1111111111111111,
              "#46039f"
             ],
             [
              0.2222222222222222,
              "#7201a8"
             ],
             [
              0.3333333333333333,
              "#9c179e"
             ],
             [
              0.4444444444444444,
              "#bd3786"
             ],
             [
              0.5555555555555556,
              "#d8576b"
             ],
             [
              0.6666666666666666,
              "#ed7953"
             ],
             [
              0.7777777777777778,
              "#fb9f3a"
             ],
             [
              0.8888888888888888,
              "#fdca26"
             ],
             [
              1,
              "#f0f921"
             ]
            ],
            "type": "contour"
           }
          ],
          "contourcarpet": [
           {
            "colorbar": {
             "outlinewidth": 0,
             "ticks": ""
            },
            "type": "contourcarpet"
           }
          ],
          "heatmap": [
           {
            "colorbar": {
             "outlinewidth": 0,
             "ticks": ""
            },
            "colorscale": [
             [
              0,
              "#0d0887"
             ],
             [
              0.1111111111111111,
              "#46039f"
             ],
             [
              0.2222222222222222,
              "#7201a8"
             ],
             [
              0.3333333333333333,
              "#9c179e"
             ],
             [
              0.4444444444444444,
              "#bd3786"
             ],
             [
              0.5555555555555556,
              "#d8576b"
             ],
             [
              0.6666666666666666,
              "#ed7953"
             ],
             [
              0.7777777777777778,
              "#fb9f3a"
             ],
             [
              0.8888888888888888,
              "#fdca26"
             ],
             [
              1,
              "#f0f921"
             ]
            ],
            "type": "heatmap"
           }
          ],
          "heatmapgl": [
           {
            "colorbar": {
             "outlinewidth": 0,
             "ticks": ""
            },
            "colorscale": [
             [
              0,
              "#0d0887"
             ],
             [
              0.1111111111111111,
              "#46039f"
             ],
             [
              0.2222222222222222,
              "#7201a8"
             ],
             [
              0.3333333333333333,
              "#9c179e"
             ],
             [
              0.4444444444444444,
              "#bd3786"
             ],
             [
              0.5555555555555556,
              "#d8576b"
             ],
             [
              0.6666666666666666,
              "#ed7953"
             ],
             [
              0.7777777777777778,
              "#fb9f3a"
             ],
             [
              0.8888888888888888,
              "#fdca26"
             ],
             [
              1,
              "#f0f921"
             ]
            ],
            "type": "heatmapgl"
           }
          ],
          "histogram": [
           {
            "marker": {
             "pattern": {
              "fillmode": "overlay",
              "size": 10,
              "solidity": 0.2
             }
            },
            "type": "histogram"
           }
          ],
          "histogram2d": [
           {
            "colorbar": {
             "outlinewidth": 0,
             "ticks": ""
            },
            "colorscale": [
             [
              0,
              "#0d0887"
             ],
             [
              0.1111111111111111,
              "#46039f"
             ],
             [
              0.2222222222222222,
              "#7201a8"
             ],
             [
              0.3333333333333333,
              "#9c179e"
             ],
             [
              0.4444444444444444,
              "#bd3786"
             ],
             [
              0.5555555555555556,
              "#d8576b"
             ],
             [
              0.6666666666666666,
              "#ed7953"
             ],
             [
              0.7777777777777778,
              "#fb9f3a"
             ],
             [
              0.8888888888888888,
              "#fdca26"
             ],
             [
              1,
              "#f0f921"
             ]
            ],
            "type": "histogram2d"
           }
          ],
          "histogram2dcontour": [
           {
            "colorbar": {
             "outlinewidth": 0,
             "ticks": ""
            },
            "colorscale": [
             [
              0,
              "#0d0887"
             ],
             [
              0.1111111111111111,
              "#46039f"
             ],
             [
              0.2222222222222222,
              "#7201a8"
             ],
             [
              0.3333333333333333,
              "#9c179e"
             ],
             [
              0.4444444444444444,
              "#bd3786"
             ],
             [
              0.5555555555555556,
              "#d8576b"
             ],
             [
              0.6666666666666666,
              "#ed7953"
             ],
             [
              0.7777777777777778,
              "#fb9f3a"
             ],
             [
              0.8888888888888888,
              "#fdca26"
             ],
             [
              1,
              "#f0f921"
             ]
            ],
            "type": "histogram2dcontour"
           }
          ],
          "mesh3d": [
           {
            "colorbar": {
             "outlinewidth": 0,
             "ticks": ""
            },
            "type": "mesh3d"
           }
          ],
          "parcoords": [
           {
            "line": {
             "colorbar": {
              "outlinewidth": 0,
              "ticks": ""
             }
            },
            "type": "parcoords"
           }
          ],
          "pie": [
           {
            "automargin": true,
            "type": "pie"
           }
          ],
          "scatter": [
           {
            "marker": {
             "colorbar": {
              "outlinewidth": 0,
              "ticks": ""
             }
            },
            "type": "scatter"
           }
          ],
          "scatter3d": [
           {
            "line": {
             "colorbar": {
              "outlinewidth": 0,
              "ticks": ""
             }
            },
            "marker": {
             "colorbar": {
              "outlinewidth": 0,
              "ticks": ""
             }
            },
            "type": "scatter3d"
           }
          ],
          "scattercarpet": [
           {
            "marker": {
             "colorbar": {
              "outlinewidth": 0,
              "ticks": ""
             }
            },
            "type": "scattercarpet"
           }
          ],
          "scattergeo": [
           {
            "marker": {
             "colorbar": {
              "outlinewidth": 0,
              "ticks": ""
             }
            },
            "type": "scattergeo"
           }
          ],
          "scattergl": [
           {
            "marker": {
             "colorbar": {
              "outlinewidth": 0,
              "ticks": ""
             }
            },
            "type": "scattergl"
           }
          ],
          "scattermapbox": [
           {
            "marker": {
             "colorbar": {
              "outlinewidth": 0,
              "ticks": ""
             }
            },
            "type": "scattermapbox"
           }
          ],
          "scatterpolar": [
           {
            "marker": {
             "colorbar": {
              "outlinewidth": 0,
              "ticks": ""
             }
            },
            "type": "scatterpolar"
           }
          ],
          "scatterpolargl": [
           {
            "marker": {
             "colorbar": {
              "outlinewidth": 0,
              "ticks": ""
             }
            },
            "type": "scatterpolargl"
           }
          ],
          "scatterternary": [
           {
            "marker": {
             "colorbar": {
              "outlinewidth": 0,
              "ticks": ""
             }
            },
            "type": "scatterternary"
           }
          ],
          "surface": [
           {
            "colorbar": {
             "outlinewidth": 0,
             "ticks": ""
            },
            "colorscale": [
             [
              0,
              "#0d0887"
             ],
             [
              0.1111111111111111,
              "#46039f"
             ],
             [
              0.2222222222222222,
              "#7201a8"
             ],
             [
              0.3333333333333333,
              "#9c179e"
             ],
             [
              0.4444444444444444,
              "#bd3786"
             ],
             [
              0.5555555555555556,
              "#d8576b"
             ],
             [
              0.6666666666666666,
              "#ed7953"
             ],
             [
              0.7777777777777778,
              "#fb9f3a"
             ],
             [
              0.8888888888888888,
              "#fdca26"
             ],
             [
              1,
              "#f0f921"
             ]
            ],
            "type": "surface"
           }
          ],
          "table": [
           {
            "cells": {
             "fill": {
              "color": "#EBF0F8"
             },
             "line": {
              "color": "white"
             }
            },
            "header": {
             "fill": {
              "color": "#C8D4E3"
             },
             "line": {
              "color": "white"
             }
            },
            "type": "table"
           }
          ]
         },
         "layout": {
          "annotationdefaults": {
           "arrowcolor": "#2a3f5f",
           "arrowhead": 0,
           "arrowwidth": 1
          },
          "autotypenumbers": "strict",
          "coloraxis": {
           "colorbar": {
            "outlinewidth": 0,
            "ticks": ""
           }
          },
          "colorscale": {
           "diverging": [
            [
             0,
             "#8e0152"
            ],
            [
             0.1,
             "#c51b7d"
            ],
            [
             0.2,
             "#de77ae"
            ],
            [
             0.3,
             "#f1b6da"
            ],
            [
             0.4,
             "#fde0ef"
            ],
            [
             0.5,
             "#f7f7f7"
            ],
            [
             0.6,
             "#e6f5d0"
            ],
            [
             0.7,
             "#b8e186"
            ],
            [
             0.8,
             "#7fbc41"
            ],
            [
             0.9,
             "#4d9221"
            ],
            [
             1,
             "#276419"
            ]
           ],
           "sequential": [
            [
             0,
             "#0d0887"
            ],
            [
             0.1111111111111111,
             "#46039f"
            ],
            [
             0.2222222222222222,
             "#7201a8"
            ],
            [
             0.3333333333333333,
             "#9c179e"
            ],
            [
             0.4444444444444444,
             "#bd3786"
            ],
            [
             0.5555555555555556,
             "#d8576b"
            ],
            [
             0.6666666666666666,
             "#ed7953"
            ],
            [
             0.7777777777777778,
             "#fb9f3a"
            ],
            [
             0.8888888888888888,
             "#fdca26"
            ],
            [
             1,
             "#f0f921"
            ]
           ],
           "sequentialminus": [
            [
             0,
             "#0d0887"
            ],
            [
             0.1111111111111111,
             "#46039f"
            ],
            [
             0.2222222222222222,
             "#7201a8"
            ],
            [
             0.3333333333333333,
             "#9c179e"
            ],
            [
             0.4444444444444444,
             "#bd3786"
            ],
            [
             0.5555555555555556,
             "#d8576b"
            ],
            [
             0.6666666666666666,
             "#ed7953"
            ],
            [
             0.7777777777777778,
             "#fb9f3a"
            ],
            [
             0.8888888888888888,
             "#fdca26"
            ],
            [
             1,
             "#f0f921"
            ]
           ]
          },
          "colorway": [
           "#636efa",
           "#EF553B",
           "#00cc96",
           "#ab63fa",
           "#FFA15A",
           "#19d3f3",
           "#FF6692",
           "#B6E880",
           "#FF97FF",
           "#FECB52"
          ],
          "font": {
           "color": "#2a3f5f"
          },
          "geo": {
           "bgcolor": "white",
           "lakecolor": "white",
           "landcolor": "#E5ECF6",
           "showlakes": true,
           "showland": true,
           "subunitcolor": "white"
          },
          "hoverlabel": {
           "align": "left"
          },
          "hovermode": "closest",
          "mapbox": {
           "style": "light"
          },
          "paper_bgcolor": "white",
          "plot_bgcolor": "#E5ECF6",
          "polar": {
           "angularaxis": {
            "gridcolor": "white",
            "linecolor": "white",
            "ticks": ""
           },
           "bgcolor": "#E5ECF6",
           "radialaxis": {
            "gridcolor": "white",
            "linecolor": "white",
            "ticks": ""
           }
          },
          "scene": {
           "xaxis": {
            "backgroundcolor": "#E5ECF6",
            "gridcolor": "white",
            "gridwidth": 2,
            "linecolor": "white",
            "showbackground": true,
            "ticks": "",
            "zerolinecolor": "white"
           },
           "yaxis": {
            "backgroundcolor": "#E5ECF6",
            "gridcolor": "white",
            "gridwidth": 2,
            "linecolor": "white",
            "showbackground": true,
            "ticks": "",
            "zerolinecolor": "white"
           },
           "zaxis": {
            "backgroundcolor": "#E5ECF6",
            "gridcolor": "white",
            "gridwidth": 2,
            "linecolor": "white",
            "showbackground": true,
            "ticks": "",
            "zerolinecolor": "white"
           }
          },
          "shapedefaults": {
           "line": {
            "color": "#2a3f5f"
           }
          },
          "ternary": {
           "aaxis": {
            "gridcolor": "white",
            "linecolor": "white",
            "ticks": ""
           },
           "baxis": {
            "gridcolor": "white",
            "linecolor": "white",
            "ticks": ""
           },
           "bgcolor": "#E5ECF6",
           "caxis": {
            "gridcolor": "white",
            "linecolor": "white",
            "ticks": ""
           }
          },
          "title": {
           "x": 0.05
          },
          "xaxis": {
           "automargin": true,
           "gridcolor": "white",
           "linecolor": "white",
           "ticks": "",
           "title": {
            "standoff": 15
           },
           "zerolinecolor": "white",
           "zerolinewidth": 2
          },
          "yaxis": {
           "automargin": true,
           "gridcolor": "white",
           "linecolor": "white",
           "ticks": "",
           "title": {
            "standoff": 15
           },
           "zerolinecolor": "white",
           "zerolinewidth": 2
          }
         }
        },
        "xaxis": {
         "anchor": "y",
         "categoryarray": [
          "MI",
          "NJ",
          "MN",
          "CA",
          "IL",
          "TX",
          "OK",
          "ID",
          "MD",
          "MA",
          "PA",
          "LA",
          "IA",
          "OH",
          "PR",
          "CO",
          "VA",
          "NC",
          "GA",
          "WA",
          "FL",
          "MO",
          "IN",
          "OR",
          "TN",
          "NY",
          "AL",
          "NH",
          "NM",
          "SC",
          "DC",
          "AZ"
         ],
         "categoryorder": "array",
         "domain": [
          0,
          1
         ],
         "title": {
          "text": "region"
         }
        },
        "yaxis": {
         "anchor": "x",
         "domain": [
          0,
          1
         ],
         "title": {
          "text": "education"
         }
        }
       }
      },
      "text/html": [
       "<div>                            <div id=\"86e27838-9834-4b68-9b76-8224f578b38a\" class=\"plotly-graph-div\" style=\"height:525px; width:100%;\"></div>            <script type=\"text/javascript\">                require([\"plotly\"], function(Plotly) {                    window.PLOTLYENV=window.PLOTLYENV || {};                                    if (document.getElementById(\"86e27838-9834-4b68-9b76-8224f578b38a\")) {                    Plotly.newPlot(                        \"86e27838-9834-4b68-9b76-8224f578b38a\",                        [{\"alignmentgroup\":\"True\",\"customdata\":[[\"Sales Representative\"],[\"Social Service II Non-Exempt - LHMI\"],[\"SLP Position - Hospital\"]],\"hovertemplate\":\"region=%{x}<br>education=%{y}<br>title=%{customdata[0]}<extra></extra>\",\"legendgroup\":\"MI\",\"marker\":{\"color\":\"#636efa\",\"pattern\":{\"shape\":\"\"}},\"name\":\"MI\",\"offsetgroup\":\"MI\",\"orientation\":\"v\",\"showlegend\":true,\"textposition\":\"auto\",\"type\":\"bar\",\"x\":[\"MI\",\"MI\",\"MI\"],\"xaxis\":\"x\",\"y\":[\"Doctorate\",\"Master's Degree\",\"Master's Degree\"],\"yaxis\":\"y\"},{\"alignmentgroup\":\"True\",\"customdata\":[[\"Postdoctoral Scientist\"],[\"Psychologist\"],[\"Bilingual Therapist\"],[\"Associate Scientist\"],[\"Quantitative Finance Analyst\"],[\"APN - Part Time\"],[\"Sr. Account Executive (IT Solutions and Services / Solution sales)\"]],\"hovertemplate\":\"region=%{x}<br>education=%{y}<br>title=%{customdata[0]}<extra></extra>\",\"legendgroup\":\"NJ\",\"marker\":{\"color\":\"#EF553B\",\"pattern\":{\"shape\":\"\"}},\"name\":\"NJ\",\"offsetgroup\":\"NJ\",\"orientation\":\"v\",\"showlegend\":true,\"textposition\":\"auto\",\"type\":\"bar\",\"x\":[\"NJ\",\"NJ\",\"NJ\",\"NJ\",\"NJ\",\"NJ\",\"NJ\"],\"xaxis\":\"x\",\"y\":[\"Doctorate\",\"Doctorate\",\"Master's Degree\",\"Master's Degree\",\"Master's Degree\",\"Master's Degree\",\"Master's Degree\"],\"yaxis\":\"y\"},{\"alignmentgroup\":\"True\",\"customdata\":[[\"Senior Human Factors Engineer\"],[\"SLP Position - Skilled Nursing Facility\"]],\"hovertemplate\":\"region=%{x}<br>education=%{y}<br>title=%{customdata[0]}<extra></extra>\",\"legendgroup\":\"MN\",\"marker\":{\"color\":\"#00cc96\",\"pattern\":{\"shape\":\"\"}},\"name\":\"MN\",\"offsetgroup\":\"MN\",\"orientation\":\"v\",\"showlegend\":true,\"textposition\":\"auto\",\"type\":\"bar\",\"x\":[\"MN\",\"MN\"],\"xaxis\":\"x\",\"y\":[\"Doctorate\",\"Master's Degree\"],\"yaxis\":\"y\"},{\"alignmentgroup\":\"True\",\"customdata\":[[\"PROFESSIONAL LIABILITY ATTORNEY\"],[\"Senior Scientist - Burlingame, CA\"],[\"Senior Scientist, Assay Technology Innovation & Development\"],[\"Hospital Psychology Intake Manager\"],[\"Mechanical Engineer/Materials Scientist\"],[\"Therapist - Pool\"],[\"Clinical Social Worker\"],[\"Speech-Language Pathologist\"],[\"iOS Developer\"],[\"SLP - School\"],[\"School Psychologist\"],[\"Bilingual Speech Language Pathologist (SLP)\"],[\"Health Program Manager II\"],[\"Quality Analyst\"],[\"Licensed Social Worker (LCSW/LMFT) - SFMC Psych Adult\"],[\"School Occupational Therapist (OT)\"],[\"Principal Data Scientist - Search\"],[\"Medical Assistant\"],[\"Maritime Instructor (On-Call)\"],[\"Sr Director Strategy\"],[\"Clinician - Migrant Services\"],[\"Social Service II\"],[\"Sr Director Corporate Strategy\"]],\"hovertemplate\":\"region=%{x}<br>education=%{y}<br>title=%{customdata[0]}<extra></extra>\",\"legendgroup\":\"CA\",\"marker\":{\"color\":\"#ab63fa\",\"pattern\":{\"shape\":\"\"}},\"name\":\"CA\",\"offsetgroup\":\"CA\",\"orientation\":\"v\",\"showlegend\":true,\"textposition\":\"auto\",\"type\":\"bar\",\"x\":[\"CA\",\"CA\",\"CA\",\"CA\",\"CA\",\"CA\",\"CA\",\"CA\",\"CA\",\"CA\",\"CA\",\"CA\",\"CA\",\"CA\",\"CA\",\"CA\",\"CA\",\"CA\",\"CA\",\"CA\",\"CA\",\"CA\",\"CA\"],\"xaxis\":\"x\",\"y\":[\"Doctorate\",\"Doctorate\",\"Doctorate\",\"Doctorate\",\"Doctorate\",\"Master's Degree\",\"Master's Degree\",\"Master's Degree\",\"Master's Degree\",\"Master's Degree\",\"Master's Degree\",\"Master's Degree\",\"Master's Degree\",\"Master's Degree\",\"Master's Degree\",\"Master's Degree\",\"Master's Degree\",\"Master's Degree\",\"Master's Degree\",\"Master's Degree\",\"Master's Degree\",\"Master's Degree\",\"Master's Degree\"],\"yaxis\":\"y\"},{\"alignmentgroup\":\"True\",\"customdata\":[[\"Litigation/L&E Associate Attorney (Midlevel to Senior)\"],[\"Attorney - Commercial Banking\"],[\"PRVIATE EQUITY FIRM SEEKS TRUST/ESTATE PLANNING ADVISOR!\"],[\"Unlicensed Juris Doctor Appeals Referee- 100% Remote\"],[\"Speech-Language Pathologist\"],[\"\\u2728\\u2728English Teachers for young learners, Teach Remotely. \\ud83c\\udf52\\ud83c\\udf52Make up to $26/hr, Get hired within a week!\\ud83c\\udf87\\ud83c\\udf87\"],[\"Specialist, Regulatory Compliance\"],[\"Social Worker - Gage Park Area\"],[\"Assets Controller\"]],\"hovertemplate\":\"region=%{x}<br>education=%{y}<br>title=%{customdata[0]}<extra></extra>\",\"legendgroup\":\"IL\",\"marker\":{\"color\":\"#FFA15A\",\"pattern\":{\"shape\":\"\"}},\"name\":\"IL\",\"offsetgroup\":\"IL\",\"orientation\":\"v\",\"showlegend\":true,\"textposition\":\"auto\",\"type\":\"bar\",\"x\":[\"IL\",\"IL\",\"IL\",\"IL\",\"IL\",\"IL\",\"IL\",\"IL\",\"IL\"],\"xaxis\":\"x\",\"y\":[\"Doctorate\",\"Doctorate\",\"Doctorate\",\"Doctorate\",\"Master's Degree\",\"Master's Degree\",\"Master's Degree\",\"Master's Degree\",\"Master's Degree\"],\"yaxis\":\"y\"},{\"alignmentgroup\":\"True\",\"customdata\":[[\"Medical Director\"],[\"Scientific Director\"],[\"L1 Master Automotive Technician / Mechanic - White Rock\"],[\"MFLC Counselor T4 School\"],[\"Master Certified Technician / Automotive Mechanic\"],[\"SLP - School\"],[\"Master Data Coordinator\"],[\"Capacity Planner\"],[\"Sr. QA Analyst\"],[\"Lead Clinician (Military Family Clinic)\"]],\"hovertemplate\":\"region=%{x}<br>education=%{y}<br>title=%{customdata[0]}<extra></extra>\",\"legendgroup\":\"TX\",\"marker\":{\"color\":\"#19d3f3\",\"pattern\":{\"shape\":\"\"}},\"name\":\"TX\",\"offsetgroup\":\"TX\",\"orientation\":\"v\",\"showlegend\":true,\"textposition\":\"auto\",\"type\":\"bar\",\"x\":[\"TX\",\"TX\",\"TX\",\"TX\",\"TX\",\"TX\",\"TX\",\"TX\",\"TX\",\"TX\"],\"xaxis\":\"x\",\"y\":[\"Doctorate\",\"Doctorate\",\"Master's Degree\",\"Master's Degree\",\"Master's Degree\",\"Master's Degree\",\"Master's Degree\",\"Master's Degree\",\"Master's Degree\",\"Master's Degree\"],\"yaxis\":\"y\"},{\"alignmentgroup\":\"True\",\"customdata\":[[\"Sales Representative\"]],\"hovertemplate\":\"region=%{x}<br>education=%{y}<br>title=%{customdata[0]}<extra></extra>\",\"legendgroup\":\"OK\",\"marker\":{\"color\":\"#FF6692\",\"pattern\":{\"shape\":\"\"}},\"name\":\"OK\",\"offsetgroup\":\"OK\",\"orientation\":\"v\",\"showlegend\":true,\"textposition\":\"auto\",\"type\":\"bar\",\"x\":[\"OK\"],\"xaxis\":\"x\",\"y\":[\"Doctorate\"],\"yaxis\":\"y\"},{\"alignmentgroup\":\"True\",\"customdata\":[[\"Independent Life Insurance Sales Representative\"],[\"Teach English Online for Chinese Kids! Work Remotely-Flexible Schedule-Without minimum teaching requirments!!!\"]],\"hovertemplate\":\"region=%{x}<br>education=%{y}<br>title=%{customdata[0]}<extra></extra>\",\"legendgroup\":\"ID\",\"marker\":{\"color\":\"#B6E880\",\"pattern\":{\"shape\":\"\"}},\"name\":\"ID\",\"offsetgroup\":\"ID\",\"orientation\":\"v\",\"showlegend\":true,\"textposition\":\"auto\",\"type\":\"bar\",\"x\":[\"ID\",\"ID\"],\"xaxis\":\"x\",\"y\":[\"Doctorate\",\"Master's Degree\"],\"yaxis\":\"y\"},{\"alignmentgroup\":\"True\",\"customdata\":[[\"Hospital Director of Pharmacy\"],[\"Primary Therapist - Full Time\"],[\"Test Engineer-TS/SCI REQUIRED\"],[\"Addiction  Counselor\"],[\"Registered Nurse\"]],\"hovertemplate\":\"region=%{x}<br>education=%{y}<br>title=%{customdata[0]}<extra></extra>\",\"legendgroup\":\"MD\",\"marker\":{\"color\":\"#FF97FF\",\"pattern\":{\"shape\":\"\"}},\"name\":\"MD\",\"offsetgroup\":\"MD\",\"orientation\":\"v\",\"showlegend\":true,\"textposition\":\"auto\",\"type\":\"bar\",\"x\":[\"MD\",\"MD\",\"MD\",\"MD\",\"MD\"],\"xaxis\":\"x\",\"y\":[\"Doctorate\",\"Master's Degree\",\"Master's Degree\",\"Master's Degree\",\"Master's Degree\"],\"yaxis\":\"y\"},{\"alignmentgroup\":\"True\",\"customdata\":[[\"(Senior) Scientist, mRNA/Oligo Analytical Chemistry\"],[\"Clinical Supervisor - $3,000 Sign On Bonus\"],[\"SLP - School\"],[\"Clinical Development Scientist IV - Remote\"],[\"Integrated Team Director - ACCS - Team 4\"],[\"Business Development Engineer\"]],\"hovertemplate\":\"region=%{x}<br>education=%{y}<br>title=%{customdata[0]}<extra></extra>\",\"legendgroup\":\"MA\",\"marker\":{\"color\":\"#FECB52\",\"pattern\":{\"shape\":\"\"}},\"name\":\"MA\",\"offsetgroup\":\"MA\",\"orientation\":\"v\",\"showlegend\":true,\"textposition\":\"auto\",\"type\":\"bar\",\"x\":[\"MA\",\"MA\",\"MA\",\"MA\",\"MA\",\"MA\"],\"xaxis\":\"x\",\"y\":[\"Doctorate\",\"Master's Degree\",\"Master's Degree\",\"Master's Degree\",\"Master's Degree\",\"Master's Degree\"],\"yaxis\":\"y\"},{\"alignmentgroup\":\"True\",\"customdata\":[[\"Sales Representative\"],[\"Quality Improvement Specialist\"],[\"Psychiatric/MH Registered Nurse Practitioner\"],[\"MH Outpatient Therapist\"],[\"Lead Athletic Trainer\"],[\"EAP Care Manager-Remote Position\"],[\"Physical Therapist, NICU - Per Diem\"]],\"hovertemplate\":\"region=%{x}<br>education=%{y}<br>title=%{customdata[0]}<extra></extra>\",\"legendgroup\":\"PA\",\"marker\":{\"color\":\"#636efa\",\"pattern\":{\"shape\":\"\"}},\"name\":\"PA\",\"offsetgroup\":\"PA\",\"orientation\":\"v\",\"showlegend\":true,\"textposition\":\"auto\",\"type\":\"bar\",\"x\":[\"PA\",\"PA\",\"PA\",\"PA\",\"PA\",\"PA\",\"PA\"],\"xaxis\":\"x\",\"y\":[\"Doctorate\",\"Master's Degree\",\"Master's Degree\",\"Master's Degree\",\"Master's Degree\",\"Master's Degree\",\"Master's Degree\"],\"yaxis\":\"y\"},{\"alignmentgroup\":\"True\",\"customdata\":[[\"Sales Representative\"]],\"hovertemplate\":\"region=%{x}<br>education=%{y}<br>title=%{customdata[0]}<extra></extra>\",\"legendgroup\":\"LA\",\"marker\":{\"color\":\"#EF553B\",\"pattern\":{\"shape\":\"\"}},\"name\":\"LA\",\"offsetgroup\":\"LA\",\"orientation\":\"v\",\"showlegend\":true,\"textposition\":\"auto\",\"type\":\"bar\",\"x\":[\"LA\"],\"xaxis\":\"x\",\"y\":[\"Doctorate\"],\"yaxis\":\"y\"},{\"alignmentgroup\":\"True\",\"customdata\":[[\"General Dentist- Iowa (Sign on plus relocation)\"]],\"hovertemplate\":\"region=%{x}<br>education=%{y}<br>title=%{customdata[0]}<extra></extra>\",\"legendgroup\":\"IA\",\"marker\":{\"color\":\"#00cc96\",\"pattern\":{\"shape\":\"\"}},\"name\":\"IA\",\"offsetgroup\":\"IA\",\"orientation\":\"v\",\"showlegend\":true,\"textposition\":\"auto\",\"type\":\"bar\",\"x\":[\"IA\"],\"xaxis\":\"x\",\"y\":[\"Doctorate\"],\"yaxis\":\"y\"},{\"alignmentgroup\":\"True\",\"customdata\":[[\"Product Development Scientist - Nutrition - Columbus, OH\"],[\"Sales Representative\"],[\"SLP Position - Skilled Nursing Facility\"]],\"hovertemplate\":\"region=%{x}<br>education=%{y}<br>title=%{customdata[0]}<extra></extra>\",\"legendgroup\":\"OH\",\"marker\":{\"color\":\"#ab63fa\",\"pattern\":{\"shape\":\"\"}},\"name\":\"OH\",\"offsetgroup\":\"OH\",\"orientation\":\"v\",\"showlegend\":true,\"textposition\":\"auto\",\"type\":\"bar\",\"x\":[\"OH\",\"OH\",\"OH\"],\"xaxis\":\"x\",\"y\":[\"Doctorate\",\"Doctorate\",\"Master's Degree\"],\"yaxis\":\"y\"},{\"alignmentgroup\":\"True\",\"customdata\":[[\"Attorney - Junior Associate Tax\"]],\"hovertemplate\":\"region=%{x}<br>education=%{y}<br>title=%{customdata[0]}<extra></extra>\",\"legendgroup\":\"PR\",\"marker\":{\"color\":\"#FFA15A\",\"pattern\":{\"shape\":\"\"}},\"name\":\"PR\",\"offsetgroup\":\"PR\",\"orientation\":\"v\",\"showlegend\":true,\"textposition\":\"auto\",\"type\":\"bar\",\"x\":[\"PR\"],\"xaxis\":\"x\",\"y\":[\"Doctorate\"],\"yaxis\":\"y\"},{\"alignmentgroup\":\"True\",\"customdata\":[[\"MFLC Counselor T4 General\"],[\"Operations Supervisor-Swing Shift\"]],\"hovertemplate\":\"region=%{x}<br>education=%{y}<br>title=%{customdata[0]}<extra></extra>\",\"legendgroup\":\"CO\",\"marker\":{\"color\":\"#19d3f3\",\"pattern\":{\"shape\":\"\"}},\"name\":\"CO\",\"offsetgroup\":\"CO\",\"orientation\":\"v\",\"showlegend\":true,\"textposition\":\"auto\",\"type\":\"bar\",\"x\":[\"CO\",\"CO\"],\"xaxis\":\"x\",\"y\":[\"Master's Degree\",\"Master's Degree\"],\"yaxis\":\"y\"},{\"alignmentgroup\":\"True\",\"customdata\":[[\"AWS Systems Engineer\"],[\"Test Engineer-TS/SCI REQUIRED\"],[\"Data Engineer II\"],[\"Senior Scientist\"],[\"SLP Position - Skilled Nursing Facility\"]],\"hovertemplate\":\"region=%{x}<br>education=%{y}<br>title=%{customdata[0]}<extra></extra>\",\"legendgroup\":\"VA\",\"marker\":{\"color\":\"#FF6692\",\"pattern\":{\"shape\":\"\"}},\"name\":\"VA\",\"offsetgroup\":\"VA\",\"orientation\":\"v\",\"showlegend\":true,\"textposition\":\"auto\",\"type\":\"bar\",\"x\":[\"VA\",\"VA\",\"VA\",\"VA\",\"VA\"],\"xaxis\":\"x\",\"y\":[\"Master's Degree\",\"Master's Degree\",\"Master's Degree\",\"Master's Degree\",\"Master's Degree\"],\"yaxis\":\"y\"},{\"alignmentgroup\":\"True\",\"customdata\":[[\"Labor and Employment Attorney\"],[\"Quantitative Finance Analyst - Charlotte, NC\"],[\"Senior Commercial Development Director, Drug Product\"]],\"hovertemplate\":\"region=%{x}<br>education=%{y}<br>title=%{customdata[0]}<extra></extra>\",\"legendgroup\":\"NC\",\"marker\":{\"color\":\"#B6E880\",\"pattern\":{\"shape\":\"\"}},\"name\":\"NC\",\"offsetgroup\":\"NC\",\"orientation\":\"v\",\"showlegend\":true,\"textposition\":\"auto\",\"type\":\"bar\",\"x\":[\"NC\",\"NC\",\"NC\"],\"xaxis\":\"x\",\"y\":[\"Master's Degree\",\"Master's Degree\",\"Master's Degree\"],\"yaxis\":\"y\"},{\"alignmentgroup\":\"True\",\"customdata\":[[\"NP or PA, Palliative Care\"],[\"IT Project Manager\"],[\"Senior Quantitative Financial Analyst\"],[\"Teacher of English for Online Groups!\"],[\"Speech Language Pathologist\"],[\"Telephonic Crisis Line Clinician - LMSW LCSW or LPC\"],[\"Quantitative Finance Analyst\"],[\"\\ud83d\\ude97English Teachers for young learners,\\ud83d\\ude97 Teach Remotely. Make up to $26/hr,\\ud83d\\ude97 Get hired within a week!\"],[\"Teacher(English) - Online& High-paid Job - Easy hiring process\"],[\"English Teachers for young learners, Teach Remotely. Make up to $26/hr, Get hired within a week!\"],[\"Quantitative Financial Analyst\"],[\"Psychologist - Primary Care\"],[\"Android Developer\"],[\"Financial Systems Manager\"],[\"Redis Engineer (with Python )\"],[\"Product Designer\"],[\"SLP Position - School\"]],\"hovertemplate\":\"region=%{x}<br>education=%{y}<br>title=%{customdata[0]}<extra></extra>\",\"legendgroup\":\"GA\",\"marker\":{\"color\":\"#FF97FF\",\"pattern\":{\"shape\":\"\"}},\"name\":\"GA\",\"offsetgroup\":\"GA\",\"orientation\":\"v\",\"showlegend\":true,\"textposition\":\"auto\",\"type\":\"bar\",\"x\":[\"GA\",\"GA\",\"GA\",\"GA\",\"GA\",\"GA\",\"GA\",\"GA\",\"GA\",\"GA\",\"GA\",\"GA\",\"GA\",\"GA\",\"GA\",\"GA\",\"GA\"],\"xaxis\":\"x\",\"y\":[\"Master's Degree\",\"Master's Degree\",\"Master's Degree\",\"Master's Degree\",\"Master's Degree\",\"Master's Degree\",\"Master's Degree\",\"Master's Degree\",\"Master's Degree\",\"Master's Degree\",\"Master's Degree\",\"Master's Degree\",\"Master's Degree\",\"Master's Degree\",\"Master's Degree\",\"Master's Degree\",\"Master's Degree\"],\"yaxis\":\"y\"},{\"alignmentgroup\":\"True\",\"customdata\":[[\"SLP Position - Skilled Nursing Facility\"]],\"hovertemplate\":\"region=%{x}<br>education=%{y}<br>title=%{customdata[0]}<extra></extra>\",\"legendgroup\":\"WA\",\"marker\":{\"color\":\"#FECB52\",\"pattern\":{\"shape\":\"\"}},\"name\":\"WA\",\"offsetgroup\":\"WA\",\"orientation\":\"v\",\"showlegend\":true,\"textposition\":\"auto\",\"type\":\"bar\",\"x\":[\"WA\"],\"xaxis\":\"x\",\"y\":[\"Master's Degree\"],\"yaxis\":\"y\"},{\"alignmentgroup\":\"True\",\"customdata\":[[\"APRN AdventHealth Medical Group Walgreen\\u2019s Express PRN 49th Street\"],[\"CRIMINAL JUSTICE / HOMELAND SECURITY INSTRUCTOR\"],[\"School Occupational Therapist (OT)\"],[\"Chrysler Certified Master Technician\"],[\"Social Worker MSW FT Days\"],[\"SPEECH INSTRUCTOR\"],[\"ENGLISH & LITERATURE INSTRUCTOR\"],[\"ASSISTANT IN RESEARCH (ENERGY EFFICIENT BUILDINGS)\"],[\"NURSING (OB/GYN) INSTRUCTOR - PT\"],[\"Nurse Practitioner (NP)\"],[\"Early Childhood Special Educator- Support U.S. Military Families in England!\"],[\"Unit Therapist PRN\"]],\"hovertemplate\":\"region=%{x}<br>education=%{y}<br>title=%{customdata[0]}<extra></extra>\",\"legendgroup\":\"FL\",\"marker\":{\"color\":\"#636efa\",\"pattern\":{\"shape\":\"\"}},\"name\":\"FL\",\"offsetgroup\":\"FL\",\"orientation\":\"v\",\"showlegend\":true,\"textposition\":\"auto\",\"type\":\"bar\",\"x\":[\"FL\",\"FL\",\"FL\",\"FL\",\"FL\",\"FL\",\"FL\",\"FL\",\"FL\",\"FL\",\"FL\",\"FL\"],\"xaxis\":\"x\",\"y\":[\"Master's Degree\",\"Master's Degree\",\"Master's Degree\",\"Master's Degree\",\"Master's Degree\",\"Master's Degree\",\"Master's Degree\",\"Master's Degree\",\"Master's Degree\",\"Master's Degree\",\"Master's Degree\",\"Master's Degree\"],\"yaxis\":\"y\"},{\"alignmentgroup\":\"True\",\"customdata\":[[\"Adjunct Instructor - Online\"],[\"Therapist/Open Access Leader\"],[\"School Therapist - Elsberry & Winfield Districts\"],[\"SLP Position - School\"],[\"Social Worker, MSW\"],[\"CRITICAL: Therapist- Assertive Community Treatment Team\"],[\"Pediatric ICU Pediatric Nurse Practitioner\"]],\"hovertemplate\":\"region=%{x}<br>education=%{y}<br>title=%{customdata[0]}<extra></extra>\",\"legendgroup\":\"MO\",\"marker\":{\"color\":\"#EF553B\",\"pattern\":{\"shape\":\"\"}},\"name\":\"MO\",\"offsetgroup\":\"MO\",\"orientation\":\"v\",\"showlegend\":true,\"textposition\":\"auto\",\"type\":\"bar\",\"x\":[\"MO\",\"MO\",\"MO\",\"MO\",\"MO\",\"MO\",\"MO\"],\"xaxis\":\"x\",\"y\":[\"Master's Degree\",\"Master's Degree\",\"Master's Degree\",\"Master's Degree\",\"Master's Degree\",\"Master's Degree\",\"Master's Degree\"],\"yaxis\":\"y\"},{\"alignmentgroup\":\"True\",\"customdata\":[[\"Master's Level Counselor /Licensed Therapist\"],[\"Master's Level Therapist/ MSW\"],[\"Desktop Support Analyst\"],[\"Chief Executive Officer\"]],\"hovertemplate\":\"region=%{x}<br>education=%{y}<br>title=%{customdata[0]}<extra></extra>\",\"legendgroup\":\"IN\",\"marker\":{\"color\":\"#00cc96\",\"pattern\":{\"shape\":\"\"}},\"name\":\"IN\",\"offsetgroup\":\"IN\",\"orientation\":\"v\",\"showlegend\":true,\"textposition\":\"auto\",\"type\":\"bar\",\"x\":[\"IN\",\"IN\",\"IN\",\"IN\"],\"xaxis\":\"x\",\"y\":[\"Master's Degree\",\"Master's Degree\",\"Master's Degree\",\"Master's Degree\"],\"yaxis\":\"y\"},{\"alignmentgroup\":\"True\",\"customdata\":[[\"SLP Position - School\"],[\"Manager, Talent Acquisition\"],[\"Clinical Supervisor\"]],\"hovertemplate\":\"region=%{x}<br>education=%{y}<br>title=%{customdata[0]}<extra></extra>\",\"legendgroup\":\"OR\",\"marker\":{\"color\":\"#ab63fa\",\"pattern\":{\"shape\":\"\"}},\"name\":\"OR\",\"offsetgroup\":\"OR\",\"orientation\":\"v\",\"showlegend\":true,\"textposition\":\"auto\",\"type\":\"bar\",\"x\":[\"OR\",\"OR\",\"OR\"],\"xaxis\":\"x\",\"y\":[\"Master's Degree\",\"Master's Degree\",\"Master's Degree\"],\"yaxis\":\"y\"},{\"alignmentgroup\":\"True\",\"customdata\":[[\"Crisis Response Counselor\"],[\"Emergency Room Tech\"],[\"Crisis Response Counselor\"]],\"hovertemplate\":\"region=%{x}<br>education=%{y}<br>title=%{customdata[0]}<extra></extra>\",\"legendgroup\":\"TN\",\"marker\":{\"color\":\"#FFA15A\",\"pattern\":{\"shape\":\"\"}},\"name\":\"TN\",\"offsetgroup\":\"TN\",\"orientation\":\"v\",\"showlegend\":true,\"textposition\":\"auto\",\"type\":\"bar\",\"x\":[\"TN\",\"TN\",\"TN\"],\"xaxis\":\"x\",\"y\":[\"Master's Degree\",\"Master's Degree\",\"Master's Degree\"],\"yaxis\":\"y\"},{\"alignmentgroup\":\"True\",\"customdata\":[[\"PHYSICAL THERAPIST PT\"],[\"Education Director (Training and Development) - Middle School, Promise Academy\"],[\"Speech Language Pathologist for Early Intervention\"],[\"Financial Analytics and Derivatives - Senior Associate\"],[\"Labor Relations Associate\"],[\"Speech Language Pathologist SLP\"]],\"hovertemplate\":\"region=%{x}<br>education=%{y}<br>title=%{customdata[0]}<extra></extra>\",\"legendgroup\":\"NY\",\"marker\":{\"color\":\"#19d3f3\",\"pattern\":{\"shape\":\"\"}},\"name\":\"NY\",\"offsetgroup\":\"NY\",\"orientation\":\"v\",\"showlegend\":true,\"textposition\":\"auto\",\"type\":\"bar\",\"x\":[\"NY\",\"NY\",\"NY\",\"NY\",\"NY\",\"NY\"],\"xaxis\":\"x\",\"y\":[\"Master's Degree\",\"Master's Degree\",\"Master's Degree\",\"Master's Degree\",\"Master's Degree\",\"Master's Degree\"],\"yaxis\":\"y\"},{\"alignmentgroup\":\"True\",\"customdata\":[[\"Strategy& Healthcare Tech Strategy- Senior Associate\"],[\"Small Engine Mechanic\"]],\"hovertemplate\":\"region=%{x}<br>education=%{y}<br>title=%{customdata[0]}<extra></extra>\",\"legendgroup\":\"AL\",\"marker\":{\"color\":\"#FF6692\",\"pattern\":{\"shape\":\"\"}},\"name\":\"AL\",\"offsetgroup\":\"AL\",\"orientation\":\"v\",\"showlegend\":true,\"textposition\":\"auto\",\"type\":\"bar\",\"x\":[\"AL\",\"AL\"],\"xaxis\":\"x\",\"y\":[\"Master's Degree\",\"Master's Degree\"],\"yaxis\":\"y\"},{\"alignmentgroup\":\"True\",\"customdata\":[[\"Health Care Research Analyst (FT), Heart & Vascular Center\"],[\"Continuing Care Manager - Social Worker(FT), Care Management\"]],\"hovertemplate\":\"region=%{x}<br>education=%{y}<br>title=%{customdata[0]}<extra></extra>\",\"legendgroup\":\"NH\",\"marker\":{\"color\":\"#B6E880\",\"pattern\":{\"shape\":\"\"}},\"name\":\"NH\",\"offsetgroup\":\"NH\",\"orientation\":\"v\",\"showlegend\":true,\"textposition\":\"auto\",\"type\":\"bar\",\"x\":[\"NH\",\"NH\"],\"xaxis\":\"x\",\"y\":[\"Master's Degree\",\"Master's Degree\"],\"yaxis\":\"y\"},{\"alignmentgroup\":\"True\",\"customdata\":[[\"SLP - School\"]],\"hovertemplate\":\"region=%{x}<br>education=%{y}<br>title=%{customdata[0]}<extra></extra>\",\"legendgroup\":\"NM\",\"marker\":{\"color\":\"#FF97FF\",\"pattern\":{\"shape\":\"\"}},\"name\":\"NM\",\"offsetgroup\":\"NM\",\"orientation\":\"v\",\"showlegend\":true,\"textposition\":\"auto\",\"type\":\"bar\",\"x\":[\"NM\"],\"xaxis\":\"x\",\"y\":[\"Master's Degree\"],\"yaxis\":\"y\"},{\"alignmentgroup\":\"True\",\"customdata\":[[\"SLP - School\"],[\"SLP - School\"]],\"hovertemplate\":\"region=%{x}<br>education=%{y}<br>title=%{customdata[0]}<extra></extra>\",\"legendgroup\":\"SC\",\"marker\":{\"color\":\"#FECB52\",\"pattern\":{\"shape\":\"\"}},\"name\":\"SC\",\"offsetgroup\":\"SC\",\"orientation\":\"v\",\"showlegend\":true,\"textposition\":\"auto\",\"type\":\"bar\",\"x\":[\"SC\",\"SC\"],\"xaxis\":\"x\",\"y\":[\"Master's Degree\",\"Master's Degree\"],\"yaxis\":\"y\"},{\"alignmentgroup\":\"True\",\"customdata\":[[\"Crisis Specialist , Bilingual (English and Spanish)\"]],\"hovertemplate\":\"region=%{x}<br>education=%{y}<br>title=%{customdata[0]}<extra></extra>\",\"legendgroup\":\"DC\",\"marker\":{\"color\":\"#636efa\",\"pattern\":{\"shape\":\"\"}},\"name\":\"DC\",\"offsetgroup\":\"DC\",\"orientation\":\"v\",\"showlegend\":true,\"textposition\":\"auto\",\"type\":\"bar\",\"x\":[\"DC\"],\"xaxis\":\"x\",\"y\":[\"Master's Degree\"],\"yaxis\":\"y\"},{\"alignmentgroup\":\"True\",\"customdata\":[[\"MFLC Counselor T4 School\"]],\"hovertemplate\":\"region=%{x}<br>education=%{y}<br>title=%{customdata[0]}<extra></extra>\",\"legendgroup\":\"AZ\",\"marker\":{\"color\":\"#EF553B\",\"pattern\":{\"shape\":\"\"}},\"name\":\"AZ\",\"offsetgroup\":\"AZ\",\"orientation\":\"v\",\"showlegend\":true,\"textposition\":\"auto\",\"type\":\"bar\",\"x\":[\"AZ\"],\"xaxis\":\"x\",\"y\":[\"Master's Degree\"],\"yaxis\":\"y\"}],                        {\"barmode\":\"stack\",\"legend\":{\"title\":{\"text\":\"region\"},\"tracegroupgap\":0},\"margin\":{\"t\":60},\"template\":{\"data\":{\"bar\":[{\"error_x\":{\"color\":\"#2a3f5f\"},\"error_y\":{\"color\":\"#2a3f5f\"},\"marker\":{\"line\":{\"color\":\"#E5ECF6\",\"width\":0.5},\"pattern\":{\"fillmode\":\"overlay\",\"size\":10,\"solidity\":0.2}},\"type\":\"bar\"}],\"barpolar\":[{\"marker\":{\"line\":{\"color\":\"#E5ECF6\",\"width\":0.5},\"pattern\":{\"fillmode\":\"overlay\",\"size\":10,\"solidity\":0.2}},\"type\":\"barpolar\"}],\"carpet\":[{\"aaxis\":{\"endlinecolor\":\"#2a3f5f\",\"gridcolor\":\"white\",\"linecolor\":\"white\",\"minorgridcolor\":\"white\",\"startlinecolor\":\"#2a3f5f\"},\"baxis\":{\"endlinecolor\":\"#2a3f5f\",\"gridcolor\":\"white\",\"linecolor\":\"white\",\"minorgridcolor\":\"white\",\"startlinecolor\":\"#2a3f5f\"},\"type\":\"carpet\"}],\"choropleth\":[{\"colorbar\":{\"outlinewidth\":0,\"ticks\":\"\"},\"type\":\"choropleth\"}],\"contour\":[{\"colorbar\":{\"outlinewidth\":0,\"ticks\":\"\"},\"colorscale\":[[0.0,\"#0d0887\"],[0.1111111111111111,\"#46039f\"],[0.2222222222222222,\"#7201a8\"],[0.3333333333333333,\"#9c179e\"],[0.4444444444444444,\"#bd3786\"],[0.5555555555555556,\"#d8576b\"],[0.6666666666666666,\"#ed7953\"],[0.7777777777777778,\"#fb9f3a\"],[0.8888888888888888,\"#fdca26\"],[1.0,\"#f0f921\"]],\"type\":\"contour\"}],\"contourcarpet\":[{\"colorbar\":{\"outlinewidth\":0,\"ticks\":\"\"},\"type\":\"contourcarpet\"}],\"heatmap\":[{\"colorbar\":{\"outlinewidth\":0,\"ticks\":\"\"},\"colorscale\":[[0.0,\"#0d0887\"],[0.1111111111111111,\"#46039f\"],[0.2222222222222222,\"#7201a8\"],[0.3333333333333333,\"#9c179e\"],[0.4444444444444444,\"#bd3786\"],[0.5555555555555556,\"#d8576b\"],[0.6666666666666666,\"#ed7953\"],[0.7777777777777778,\"#fb9f3a\"],[0.8888888888888888,\"#fdca26\"],[1.0,\"#f0f921\"]],\"type\":\"heatmap\"}],\"heatmapgl\":[{\"colorbar\":{\"outlinewidth\":0,\"ticks\":\"\"},\"colorscale\":[[0.0,\"#0d0887\"],[0.1111111111111111,\"#46039f\"],[0.2222222222222222,\"#7201a8\"],[0.3333333333333333,\"#9c179e\"],[0.4444444444444444,\"#bd3786\"],[0.5555555555555556,\"#d8576b\"],[0.6666666666666666,\"#ed7953\"],[0.7777777777777778,\"#fb9f3a\"],[0.8888888888888888,\"#fdca26\"],[1.0,\"#f0f921\"]],\"type\":\"heatmapgl\"}],\"histogram\":[{\"marker\":{\"pattern\":{\"fillmode\":\"overlay\",\"size\":10,\"solidity\":0.2}},\"type\":\"histogram\"}],\"histogram2d\":[{\"colorbar\":{\"outlinewidth\":0,\"ticks\":\"\"},\"colorscale\":[[0.0,\"#0d0887\"],[0.1111111111111111,\"#46039f\"],[0.2222222222222222,\"#7201a8\"],[0.3333333333333333,\"#9c179e\"],[0.4444444444444444,\"#bd3786\"],[0.5555555555555556,\"#d8576b\"],[0.6666666666666666,\"#ed7953\"],[0.7777777777777778,\"#fb9f3a\"],[0.8888888888888888,\"#fdca26\"],[1.0,\"#f0f921\"]],\"type\":\"histogram2d\"}],\"histogram2dcontour\":[{\"colorbar\":{\"outlinewidth\":0,\"ticks\":\"\"},\"colorscale\":[[0.0,\"#0d0887\"],[0.1111111111111111,\"#46039f\"],[0.2222222222222222,\"#7201a8\"],[0.3333333333333333,\"#9c179e\"],[0.4444444444444444,\"#bd3786\"],[0.5555555555555556,\"#d8576b\"],[0.6666666666666666,\"#ed7953\"],[0.7777777777777778,\"#fb9f3a\"],[0.8888888888888888,\"#fdca26\"],[1.0,\"#f0f921\"]],\"type\":\"histogram2dcontour\"}],\"mesh3d\":[{\"colorbar\":{\"outlinewidth\":0,\"ticks\":\"\"},\"type\":\"mesh3d\"}],\"parcoords\":[{\"line\":{\"colorbar\":{\"outlinewidth\":0,\"ticks\":\"\"}},\"type\":\"parcoords\"}],\"pie\":[{\"automargin\":true,\"type\":\"pie\"}],\"scatter\":[{\"marker\":{\"colorbar\":{\"outlinewidth\":0,\"ticks\":\"\"}},\"type\":\"scatter\"}],\"scatter3d\":[{\"line\":{\"colorbar\":{\"outlinewidth\":0,\"ticks\":\"\"}},\"marker\":{\"colorbar\":{\"outlinewidth\":0,\"ticks\":\"\"}},\"type\":\"scatter3d\"}],\"scattercarpet\":[{\"marker\":{\"colorbar\":{\"outlinewidth\":0,\"ticks\":\"\"}},\"type\":\"scattercarpet\"}],\"scattergeo\":[{\"marker\":{\"colorbar\":{\"outlinewidth\":0,\"ticks\":\"\"}},\"type\":\"scattergeo\"}],\"scattergl\":[{\"marker\":{\"colorbar\":{\"outlinewidth\":0,\"ticks\":\"\"}},\"type\":\"scattergl\"}],\"scattermapbox\":[{\"marker\":{\"colorbar\":{\"outlinewidth\":0,\"ticks\":\"\"}},\"type\":\"scattermapbox\"}],\"scatterpolar\":[{\"marker\":{\"colorbar\":{\"outlinewidth\":0,\"ticks\":\"\"}},\"type\":\"scatterpolar\"}],\"scatterpolargl\":[{\"marker\":{\"colorbar\":{\"outlinewidth\":0,\"ticks\":\"\"}},\"type\":\"scatterpolargl\"}],\"scatterternary\":[{\"marker\":{\"colorbar\":{\"outlinewidth\":0,\"ticks\":\"\"}},\"type\":\"scatterternary\"}],\"surface\":[{\"colorbar\":{\"outlinewidth\":0,\"ticks\":\"\"},\"colorscale\":[[0.0,\"#0d0887\"],[0.1111111111111111,\"#46039f\"],[0.2222222222222222,\"#7201a8\"],[0.3333333333333333,\"#9c179e\"],[0.4444444444444444,\"#bd3786\"],[0.5555555555555556,\"#d8576b\"],[0.6666666666666666,\"#ed7953\"],[0.7777777777777778,\"#fb9f3a\"],[0.8888888888888888,\"#fdca26\"],[1.0,\"#f0f921\"]],\"type\":\"surface\"}],\"table\":[{\"cells\":{\"fill\":{\"color\":\"#EBF0F8\"},\"line\":{\"color\":\"white\"}},\"header\":{\"fill\":{\"color\":\"#C8D4E3\"},\"line\":{\"color\":\"white\"}},\"type\":\"table\"}]},\"layout\":{\"annotationdefaults\":{\"arrowcolor\":\"#2a3f5f\",\"arrowhead\":0,\"arrowwidth\":1},\"autotypenumbers\":\"strict\",\"coloraxis\":{\"colorbar\":{\"outlinewidth\":0,\"ticks\":\"\"}},\"colorscale\":{\"diverging\":[[0,\"#8e0152\"],[0.1,\"#c51b7d\"],[0.2,\"#de77ae\"],[0.3,\"#f1b6da\"],[0.4,\"#fde0ef\"],[0.5,\"#f7f7f7\"],[0.6,\"#e6f5d0\"],[0.7,\"#b8e186\"],[0.8,\"#7fbc41\"],[0.9,\"#4d9221\"],[1,\"#276419\"]],\"sequential\":[[0.0,\"#0d0887\"],[0.1111111111111111,\"#46039f\"],[0.2222222222222222,\"#7201a8\"],[0.3333333333333333,\"#9c179e\"],[0.4444444444444444,\"#bd3786\"],[0.5555555555555556,\"#d8576b\"],[0.6666666666666666,\"#ed7953\"],[0.7777777777777778,\"#fb9f3a\"],[0.8888888888888888,\"#fdca26\"],[1.0,\"#f0f921\"]],\"sequentialminus\":[[0.0,\"#0d0887\"],[0.1111111111111111,\"#46039f\"],[0.2222222222222222,\"#7201a8\"],[0.3333333333333333,\"#9c179e\"],[0.4444444444444444,\"#bd3786\"],[0.5555555555555556,\"#d8576b\"],[0.6666666666666666,\"#ed7953\"],[0.7777777777777778,\"#fb9f3a\"],[0.8888888888888888,\"#fdca26\"],[1.0,\"#f0f921\"]]},\"colorway\":[\"#636efa\",\"#EF553B\",\"#00cc96\",\"#ab63fa\",\"#FFA15A\",\"#19d3f3\",\"#FF6692\",\"#B6E880\",\"#FF97FF\",\"#FECB52\"],\"font\":{\"color\":\"#2a3f5f\"},\"geo\":{\"bgcolor\":\"white\",\"lakecolor\":\"white\",\"landcolor\":\"#E5ECF6\",\"showlakes\":true,\"showland\":true,\"subunitcolor\":\"white\"},\"hoverlabel\":{\"align\":\"left\"},\"hovermode\":\"closest\",\"mapbox\":{\"style\":\"light\"},\"paper_bgcolor\":\"white\",\"plot_bgcolor\":\"#E5ECF6\",\"polar\":{\"angularaxis\":{\"gridcolor\":\"white\",\"linecolor\":\"white\",\"ticks\":\"\"},\"bgcolor\":\"#E5ECF6\",\"radialaxis\":{\"gridcolor\":\"white\",\"linecolor\":\"white\",\"ticks\":\"\"}},\"scene\":{\"xaxis\":{\"backgroundcolor\":\"#E5ECF6\",\"gridcolor\":\"white\",\"gridwidth\":2,\"linecolor\":\"white\",\"showbackground\":true,\"ticks\":\"\",\"zerolinecolor\":\"white\"},\"yaxis\":{\"backgroundcolor\":\"#E5ECF6\",\"gridcolor\":\"white\",\"gridwidth\":2,\"linecolor\":\"white\",\"showbackground\":true,\"ticks\":\"\",\"zerolinecolor\":\"white\"},\"zaxis\":{\"backgroundcolor\":\"#E5ECF6\",\"gridcolor\":\"white\",\"gridwidth\":2,\"linecolor\":\"white\",\"showbackground\":true,\"ticks\":\"\",\"zerolinecolor\":\"white\"}},\"shapedefaults\":{\"line\":{\"color\":\"#2a3f5f\"}},\"ternary\":{\"aaxis\":{\"gridcolor\":\"white\",\"linecolor\":\"white\",\"ticks\":\"\"},\"baxis\":{\"gridcolor\":\"white\",\"linecolor\":\"white\",\"ticks\":\"\"},\"bgcolor\":\"#E5ECF6\",\"caxis\":{\"gridcolor\":\"white\",\"linecolor\":\"white\",\"ticks\":\"\"}},\"title\":{\"x\":0.05},\"xaxis\":{\"automargin\":true,\"gridcolor\":\"white\",\"linecolor\":\"white\",\"ticks\":\"\",\"title\":{\"standoff\":15},\"zerolinecolor\":\"white\",\"zerolinewidth\":2},\"yaxis\":{\"automargin\":true,\"gridcolor\":\"white\",\"linecolor\":\"white\",\"ticks\":\"\",\"title\":{\"standoff\":15},\"zerolinecolor\":\"white\",\"zerolinewidth\":2}}},\"xaxis\":{\"anchor\":\"y\",\"categoryarray\":[\"MI\",\"NJ\",\"MN\",\"CA\",\"IL\",\"TX\",\"OK\",\"ID\",\"MD\",\"MA\",\"PA\",\"LA\",\"IA\",\"OH\",\"PR\",\"CO\",\"VA\",\"NC\",\"GA\",\"WA\",\"FL\",\"MO\",\"IN\",\"OR\",\"TN\",\"NY\",\"AL\",\"NH\",\"NM\",\"SC\",\"DC\",\"AZ\"],\"categoryorder\":\"array\",\"domain\":[0.0,1.0],\"title\":{\"text\":\"region\"}},\"yaxis\":{\"anchor\":\"x\",\"domain\":[0.0,1.0],\"title\":{\"text\":\"education\"}}},                        {\"responsive\": true}                    ).then(function(){\n",
       "                            \n",
       "var gd = document.getElementById('86e27838-9834-4b68-9b76-8224f578b38a');\n",
       "var x = new MutationObserver(function (mutations, observer) {{\n",
       "        var display = window.getComputedStyle(gd).display;\n",
       "        if (!display || display === 'none') {{\n",
       "            console.log([gd, 'removed!']);\n",
       "            Plotly.purge(gd);\n",
       "            observer.disconnect();\n",
       "        }}\n",
       "}});\n",
       "\n",
       "// Listen for the removal of the full notebook cells\n",
       "var notebookContainer = gd.closest('#notebook-container');\n",
       "if (notebookContainer) {{\n",
       "    x.observe(notebookContainer, {childList: true});\n",
       "}}\n",
       "\n",
       "// Listen for the clearing of the current output cell\n",
       "var outputEl = gd.closest('.output');\n",
       "if (outputEl) {{\n",
       "    x.observe(outputEl, {childList: true});\n",
       "}}\n",
       "\n",
       "                        })                };                });            </script>        </div>"
      ]
     },
     "metadata": {},
     "output_type": "display_data"
    }
   ],
   "source": [
    "fig = px.bar(result_df, x=\"region\", y=\"education\", color=\"region\",\n",
    "            hover_data=['title'], barmode = 'stack')\n",
    " \n",
    "fig.show()"
   ]
  },
  {
   "cell_type": "code",
   "execution_count": 45,
   "metadata": {},
   "outputs": [
    {
     "data": {
      "text/plain": [
       "array(['PART_TIME', 'FULL_TIME', 'TEMPORARY', 'CONTRACTOR', 'PER_DIEM'],\n",
       "      dtype=object)"
      ]
     },
     "execution_count": 45,
     "metadata": {},
     "output_type": "execute_result"
    }
   ],
   "source": [
    "Doctorate_masters_df['employment_type'].unique()"
   ]
  },
  {
   "cell_type": "code",
   "execution_count": 46,
   "metadata": {},
   "outputs": [
    {
     "data": {
      "text/html": [
       "<div>\n",
       "<style scoped>\n",
       "    .dataframe tbody tr th:only-of-type {\n",
       "        vertical-align: middle;\n",
       "    }\n",
       "\n",
       "    .dataframe tbody tr th {\n",
       "        vertical-align: top;\n",
       "    }\n",
       "\n",
       "    .dataframe thead th {\n",
       "        text-align: right;\n",
       "    }\n",
       "</style>\n",
       "<table border=\"1\" class=\"dataframe\">\n",
       "  <thead>\n",
       "    <tr style=\"text-align: right;\">\n",
       "      <th></th>\n",
       "      <th>employment_type</th>\n",
       "      <th>title</th>\n",
       "    </tr>\n",
       "  </thead>\n",
       "  <tbody>\n",
       "    <tr>\n",
       "      <th>0</th>\n",
       "      <td>CONTRACTOR</td>\n",
       "      <td>12</td>\n",
       "    </tr>\n",
       "    <tr>\n",
       "      <th>1</th>\n",
       "      <td>FULL_TIME</td>\n",
       "      <td>121</td>\n",
       "    </tr>\n",
       "    <tr>\n",
       "      <th>2</th>\n",
       "      <td>PART_TIME</td>\n",
       "      <td>12</td>\n",
       "    </tr>\n",
       "    <tr>\n",
       "      <th>3</th>\n",
       "      <td>PER_DIEM</td>\n",
       "      <td>5</td>\n",
       "    </tr>\n",
       "    <tr>\n",
       "      <th>4</th>\n",
       "      <td>TEMPORARY</td>\n",
       "      <td>3</td>\n",
       "    </tr>\n",
       "  </tbody>\n",
       "</table>\n",
       "</div>"
      ],
      "text/plain": [
       "  employment_type  title\n",
       "0      CONTRACTOR     12\n",
       "1       FULL_TIME    121\n",
       "2       PART_TIME     12\n",
       "3        PER_DIEM      5\n",
       "4       TEMPORARY      3"
      ]
     },
     "execution_count": 46,
     "metadata": {},
     "output_type": "execute_result"
    }
   ],
   "source": [
    "employement_category = Doctorate_masters_df.groupby('employment_type')['title'].count()\n",
    "employement_category.reset_index()"
   ]
  }
 ],
 "metadata": {
  "interpreter": {
   "hash": "0507ca4863d74825e19143f64061a0d98fde3c42611721bd9ba5ee5b8cfcb010"
  },
  "kernelspec": {
   "display_name": "Python 3",
   "language": "python",
   "name": "python3"
  },
  "language_info": {
   "codemirror_mode": {
    "name": "ipython",
    "version": 3
   },
   "file_extension": ".py",
   "mimetype": "text/x-python",
   "name": "python",
   "nbconvert_exporter": "python",
   "pygments_lexer": "ipython3",
   "version": "3.8.5"
  }
 },
 "nbformat": 4,
 "nbformat_minor": 2
}
