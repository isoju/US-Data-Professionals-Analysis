{
 "cells": [
  {
   "cell_type": "code",
   "execution_count": 296,
   "metadata": {},
   "outputs": [],
   "source": [
    "from selenium.common.exceptions import NoSuchElementException, ElementClickInterceptedException\n",
    "from selenium import webdriver\n",
    "import time\n",
    "import pandas as pd\n",
    "import numpy as np\n",
    "import re\n",
    "from nltk.corpus import stopwords\n",
    "import matplotlib.pyplot as plt\n",
    "from sklearn.base import BaseEstimator, TransformerMixin\n",
    "from sklearn.model_selection import train_test_split\n",
    "from sklearn.pipeline import Pipeline\n",
    "from sklearn.feature_extraction.text import TfidfVectorizer\n",
    "from sklearn.preprocessing import StandardScaler\n",
    "from sklearn.pipeline import FeatureUnion\n",
    "from sklearn.ensemble import RandomForestClassifier\n",
    "from sklearn.linear_model import LogisticRegression\n",
    "from sklearn.metrics import confusion_matrix\n",
    "stopWords = set(stopwords.words('english'))"
   ]
  },
  {
   "cell_type": "code",
   "execution_count": 297,
   "metadata": {},
   "outputs": [],
   "source": [
    "df1 = pd.read_csv('../resources/cpj_salary_location_cleaned.csv')"
   ]
  },
  {
   "cell_type": "code",
   "execution_count": 298,
   "metadata": {},
   "outputs": [
    {
     "data": {
      "text/html": [
       "<div>\n",
       "<style scoped>\n",
       "    .dataframe tbody tr th:only-of-type {\n",
       "        vertical-align: middle;\n",
       "    }\n",
       "\n",
       "    .dataframe tbody tr th {\n",
       "        vertical-align: top;\n",
       "    }\n",
       "\n",
       "    .dataframe thead th {\n",
       "        text-align: right;\n",
       "    }\n",
       "</style>\n",
       "<table border=\"1\" class=\"dataframe\">\n",
       "  <thead>\n",
       "    <tr style=\"text-align: right;\">\n",
       "      <th></th>\n",
       "      <th>Job Title</th>\n",
       "      <th>Location</th>\n",
       "      <th>Mean_Salary</th>\n",
       "      <th>Description</th>\n",
       "      <th>Category</th>\n",
       "      <th>Skills</th>\n",
       "      <th>Tools</th>\n",
       "      <th>state</th>\n",
       "    </tr>\n",
       "  </thead>\n",
       "  <tbody>\n",
       "    <tr>\n",
       "      <th>2</th>\n",
       "      <td>Junior Data Analyst</td>\n",
       "      <td>Louisville, KY 40223</td>\n",
       "      <td>35750</td>\n",
       "      <td>Basic Function: Develop and process targeted m...</td>\n",
       "      <td>Data Analyst</td>\n",
       "      <td>Data Analysis</td>\n",
       "      <td>SQL, R, Excel</td>\n",
       "      <td>KY</td>\n",
       "    </tr>\n",
       "    <tr>\n",
       "      <th>4</th>\n",
       "      <td>Marketing Data Analyst</td>\n",
       "      <td>Sarasota, FL 34211</td>\n",
       "      <td>42500</td>\n",
       "      <td>Mercedes Scientific is a national leader in th...</td>\n",
       "      <td>Data Analyst</td>\n",
       "      <td></td>\n",
       "      <td>R</td>\n",
       "      <td>FL</td>\n",
       "    </tr>\n",
       "    <tr>\n",
       "      <th>7</th>\n",
       "      <td>Power BI/Data Analyst</td>\n",
       "      <td>Dallas-Fort Worth, TX•Temporarily Remote</td>\n",
       "      <td>95000</td>\n",
       "      <td>About our TeamThe Ethos Group IT team consists...</td>\n",
       "      <td>Data Analyst</td>\n",
       "      <td>Statistics</td>\n",
       "      <td>SQL, R, Excel, Power BI, Tableau</td>\n",
       "      <td>TX</td>\n",
       "    </tr>\n",
       "    <tr>\n",
       "      <th>9</th>\n",
       "      <td>Online Data Analyst - USA</td>\n",
       "      <td>Annapolis, MD•Remote</td>\n",
       "      <td>14500</td>\n",
       "      <td>Company Info: We help companies test and impro...</td>\n",
       "      <td>Data Analyst</td>\n",
       "      <td></td>\n",
       "      <td>R, AI, Machine Learning</td>\n",
       "      <td>MD</td>\n",
       "    </tr>\n",
       "    <tr>\n",
       "      <th>10</th>\n",
       "      <td>Online Data Analyst - USA</td>\n",
       "      <td>New Orleans, LA•Remote</td>\n",
       "      <td>14500</td>\n",
       "      <td>Company Info: We help companies test and impro...</td>\n",
       "      <td>Data Analyst</td>\n",
       "      <td></td>\n",
       "      <td>R, AI, Machine Learning</td>\n",
       "      <td>LA</td>\n",
       "    </tr>\n",
       "    <tr>\n",
       "      <th>...</th>\n",
       "      <td>...</td>\n",
       "      <td>...</td>\n",
       "      <td>...</td>\n",
       "      <td>...</td>\n",
       "      <td>...</td>\n",
       "      <td>...</td>\n",
       "      <td>...</td>\n",
       "      <td>...</td>\n",
       "    </tr>\n",
       "    <tr>\n",
       "      <th>15646</th>\n",
       "      <td>Full Stack Developer (REMOTE)</td>\n",
       "      <td>Tampa, FL 33601•Remote</td>\n",
       "      <td>47500</td>\n",
       "      <td>Join us as we pursue our mission to remove the...</td>\n",
       "      <td>Business Intelligence Developer</td>\n",
       "      <td></td>\n",
       "      <td>Python, Spark, JavaScript, R, Cloud, HTML, CSS...</td>\n",
       "      <td>FL</td>\n",
       "    </tr>\n",
       "    <tr>\n",
       "      <th>15668</th>\n",
       "      <td>Data Analyst II Database developer II Entry le...</td>\n",
       "      <td>Poway, CA•Temporarily Remote</td>\n",
       "      <td>65000</td>\n",
       "      <td>SQL Developer (Training)Responsibilities· Help...</td>\n",
       "      <td>Business Intelligence Developer</td>\n",
       "      <td>ETL</td>\n",
       "      <td>SQL, R, Power BI, Tableau</td>\n",
       "      <td>CA</td>\n",
       "    </tr>\n",
       "    <tr>\n",
       "      <th>15671</th>\n",
       "      <td>Workday Business Intelligence Developer</td>\n",
       "      <td>Las Vegas, NV 89119 (Paradise area)</td>\n",
       "      <td>80000</td>\n",
       "      <td>Workday Business Intelligence Developer\\nThank...</td>\n",
       "      <td>Business Intelligence Developer</td>\n",
       "      <td></td>\n",
       "      <td>R, Cloud, Excel, Java</td>\n",
       "      <td>NV</td>\n",
       "    </tr>\n",
       "    <tr>\n",
       "      <th>15689</th>\n",
       "      <td>Data Developer</td>\n",
       "      <td>Research Triangle Park, NC 27709</td>\n",
       "      <td>52011</td>\n",
       "      <td>TITLE: IT Data Analytics/Data Developer 1\\nDut...</td>\n",
       "      <td>Business Intelligence Developer</td>\n",
       "      <td></td>\n",
       "      <td>SQL, R, Power BI, Tableau, Scala</td>\n",
       "      <td>NC</td>\n",
       "    </tr>\n",
       "    <tr>\n",
       "      <th>15697</th>\n",
       "      <td>BI Developer</td>\n",
       "      <td>San Jose, CA</td>\n",
       "      <td>135000</td>\n",
       "      <td>Business Intelligence Developer\\n\\nMultiple Po...</td>\n",
       "      <td>Business Intelligence Developer</td>\n",
       "      <td>Data Mining, Statistics</td>\n",
       "      <td>Python, SQL, R, Excel, Tableau</td>\n",
       "      <td>CA</td>\n",
       "    </tr>\n",
       "  </tbody>\n",
       "</table>\n",
       "<p>1781 rows × 8 columns</p>\n",
       "</div>"
      ],
      "text/plain": [
       "                                               Job Title  \\\n",
       "2                                    Junior Data Analyst   \n",
       "4                                 Marketing Data Analyst   \n",
       "7                                  Power BI/Data Analyst   \n",
       "9                              Online Data Analyst - USA   \n",
       "10                             Online Data Analyst - USA   \n",
       "...                                                  ...   \n",
       "15646                      Full Stack Developer (REMOTE)   \n",
       "15668  Data Analyst II Database developer II Entry le...   \n",
       "15671            Workday Business Intelligence Developer   \n",
       "15689                                     Data Developer   \n",
       "15697                                       BI Developer   \n",
       "\n",
       "                                       Location  Mean_Salary  \\\n",
       "2                          Louisville, KY 40223        35750   \n",
       "4                            Sarasota, FL 34211        42500   \n",
       "7      Dallas-Fort Worth, TX•Temporarily Remote        95000   \n",
       "9                          Annapolis, MD•Remote        14500   \n",
       "10                       New Orleans, LA•Remote        14500   \n",
       "...                                         ...          ...   \n",
       "15646                    Tampa, FL 33601•Remote        47500   \n",
       "15668              Poway, CA•Temporarily Remote        65000   \n",
       "15671       Las Vegas, NV 89119 (Paradise area)        80000   \n",
       "15689          Research Triangle Park, NC 27709        52011   \n",
       "15697                              San Jose, CA       135000   \n",
       "\n",
       "                                             Description  \\\n",
       "2      Basic Function: Develop and process targeted m...   \n",
       "4      Mercedes Scientific is a national leader in th...   \n",
       "7      About our TeamThe Ethos Group IT team consists...   \n",
       "9      Company Info: We help companies test and impro...   \n",
       "10     Company Info: We help companies test and impro...   \n",
       "...                                                  ...   \n",
       "15646  Join us as we pursue our mission to remove the...   \n",
       "15668  SQL Developer (Training)Responsibilities· Help...   \n",
       "15671  Workday Business Intelligence Developer\\nThank...   \n",
       "15689  TITLE: IT Data Analytics/Data Developer 1\\nDut...   \n",
       "15697  Business Intelligence Developer\\n\\nMultiple Po...   \n",
       "\n",
       "                              Category                    Skills  \\\n",
       "2                         Data Analyst            Data Analysis    \n",
       "4                         Data Analyst                             \n",
       "7                         Data Analyst               Statistics    \n",
       "9                         Data Analyst                             \n",
       "10                        Data Analyst                             \n",
       "...                                ...                       ...   \n",
       "15646  Business Intelligence Developer                             \n",
       "15668  Business Intelligence Developer                      ETL    \n",
       "15671  Business Intelligence Developer                             \n",
       "15689  Business Intelligence Developer                             \n",
       "15697  Business Intelligence Developer  Data Mining, Statistics    \n",
       "\n",
       "                                                   Tools state  \n",
       "2                                         SQL, R, Excel     KY  \n",
       "4                                                     R     FL  \n",
       "7                      SQL, R, Excel, Power BI, Tableau     TX  \n",
       "9                               R, AI, Machine Learning     MD  \n",
       "10                              R, AI, Machine Learning     LA  \n",
       "...                                                  ...   ...  \n",
       "15646  Python, Spark, JavaScript, R, Cloud, HTML, CSS...    FL  \n",
       "15668                         SQL, R, Power BI, Tableau     CA  \n",
       "15671                            R, Cloud, Excel, Java      NV  \n",
       "15689                  SQL, R, Power BI, Tableau, Scala     NC  \n",
       "15697                    Python, SQL, R, Excel, Tableau     CA  \n",
       "\n",
       "[1781 rows x 8 columns]"
      ]
     },
     "execution_count": 298,
     "metadata": {},
     "output_type": "execute_result"
    }
   ],
   "source": [
    "df1=df1[[\"Job Title\",\"Location\",\"Mean_Salary\",\"Description\",\"Category\",\"Skills\",\"Tools\",\"state\"]]\n",
    "df1=df1.dropna()\n",
    "df1=df1.drop_duplicates()\n",
    "df1=df1[df1[\"Mean_Salary\"]!=0]\n",
    "df1"
   ]
  },
  {
   "cell_type": "code",
   "execution_count": 299,
   "metadata": {},
   "outputs": [],
   "source": [
    "# Classifying job titles into each category\n",
    "def title_simplifier(title):\n",
    "    if 'data scientist' in title.lower():\n",
    "        return 'data scientist'\n",
    "    elif 'data engineer' in title.lower():\n",
    "        return 'data engineer'\n",
    "    elif 'analyst' in title.lower():\n",
    "        return 'data analyst'\n",
    "    elif 'machine learning' in title.lower():\n",
    "        return 'machine learning engineer'\n",
    "    elif 'manager' in title.lower():\n",
    "        return 'manager'\n",
    "    elif 'director' in title.lower():\n",
    "        return 'director'\n",
    "    else:\n",
    "        return 'data science related jobs'"
   ]
  },
  {
   "cell_type": "code",
   "execution_count": 300,
   "metadata": {},
   "outputs": [],
   "source": [
    "df1['Job Title'] = df1['Job Title'].apply(title_simplifier)"
   ]
  },
  {
   "cell_type": "code",
   "execution_count": 301,
   "metadata": {},
   "outputs": [],
   "source": [
    "# Python\n",
    "df1['Python'] = df1['Tools'].apply(lambda x: 1 if 'python' in x.lower() else 0)\n",
    "\n",
    "# R studio \n",
    "df1['R'] = df1['Tools'].apply(lambda x: 1 if 'r studio' in x.lower() or 'r-studio' in x.lower() else 0)\n",
    "\n",
    "# SQL \n",
    "df1['SQL'] = df1['Tools'].apply(lambda x: 1 if 'sql' in x.lower() else 0)\n",
    "\n",
    "# AWS \n",
    "df1['AWS'] = df1['Tools'].apply(lambda x: 1 if 'aws' in x.lower() else 0)\n",
    "\n",
    "# Excel\n",
    "df1['Excel'] = df1['Tools'].apply(lambda x: 1 if 'excel' in x.lower() else 0)\n",
    "\n",
    "# Google Cloud\n",
    "df1['GCP'] = df1['Tools'].apply(lambda x: 1 if 'google cloud' in x.lower() or 'gcp' in x.lower() else 0)\n",
    "\n",
    "# Microsoft Azure\n",
    "df1['Azure'] = df1['Tools'].apply(lambda x: 1 if 'microsoft azure' in x.lower() or 'azure' in x.lower() else 0)\n",
    "\n",
    "# Spark\n",
    "df1['Spark'] = df1['Tools'].apply(lambda x: 1 if 'spark' in x.lower() else 0)\n",
    "\n",
    "# Tableau\n",
    "df1['Tableau'] = df1['Tools'].apply(lambda x: 1 if 'tableau' in x.lower() else 0)\n",
    "\n",
    "# Keras\n",
    "df1['Keras'] = df1['Tools'].apply(lambda x: 1 if 'keras' in x.lower() else 0)\n",
    "\n",
    "#NoSQL\n",
    "df1['NoSQL'] = df1['Tools'].apply(lambda x: 1 if 'nosql' in x.lower() else 0)\n",
    "\n",
    "#Machine Learning\n",
    "df1['Machine_Learning'] = df1['Tools'].apply(lambda x: 1 if 'machine learning' in x.lower() else 0)\n",
    "\n",
    "#Hadoop\n",
    "df1['Hadoop'] = df1['Tools'].apply(lambda x: 1 if 'hadoop' in x.lower() else 0)\n",
    "\n",
    "df1['AI'] = df1['Tools'].apply(lambda x: 1 if 'ai' in x.lower() else 0)\n",
    "\n",
    "df1['Power_BI'] = df1['Tools'].apply(lambda x: 1 if 'power bi' in x.lower() else 0)\n"
   ]
  },
  {
   "cell_type": "code",
   "execution_count": 302,
   "metadata": {},
   "outputs": [],
   "source": [
    "df1=df1.drop([\"Skills\",\"Tools\"],axis=1)"
   ]
  },
  {
   "cell_type": "code",
   "execution_count": 303,
   "metadata": {},
   "outputs": [],
   "source": [
    "# Classifying job levels into each category\n",
    "def seniority(title):\n",
    "    if 'sr' in title.lower() or 'senior' in title.lower() or 'vp' in title.lower() or 'lead' in title.lower() or 'principal' in title.lower()or 'experienced' in title.lower() or 'iii' in title.lower() or 'research' in title.lower() or 'manager' in title.lower():\n",
    "        return 'Senior'\n",
    "    elif 'intermediate' in title.lower() or 'staff' in title.lower() or 'ii' in title.lower():\n",
    "        return 'Mid'\n",
    "    elif 'jr' in title.lower() or 'junior' in title.lower() or 'intern' in title.lower() or 'student' in title.lower()or 'associate' in title.lower():\n",
    "        return 'Junior'\n",
    "    else:\n",
    "        return 'Not Specified'"
   ]
  },
  {
   "cell_type": "code",
   "execution_count": 304,
   "metadata": {},
   "outputs": [
    {
     "data": {
      "text/plain": [
       "Text(0.5, 1.0, 'Salary Distribution')"
      ]
     },
     "execution_count": 304,
     "metadata": {},
     "output_type": "execute_result"
    },
    {
     "data": {
      "image/png": "[encoded data removed]",
      "text/plain": [
       "<Figure size 432x288 with 1 Axes>"
      ]
     },
     "metadata": {
      "needs_background": "light"
     },
     "output_type": "display_data"
    }
   ],
   "source": [
    "import matplotlib.pyplot as plt\n",
    "x = list(df1.Mean_Salary)\n",
    "\n",
    "names = ['Salary']\n",
    "         \n",
    "plt.hist([x], bins = 50,\n",
    "         label=names)\n",
    "\n",
    "plt.legend()\n",
    "plt.xlabel('$ Salary')\n",
    "plt.ylabel('Number of Jobs')\n",
    "plt.title('Salary Distribution')"
   ]
  },
  {
   "cell_type": "code",
   "execution_count": 305,
   "metadata": {},
   "outputs": [],
   "source": [
    "# Remove outliers\n",
    "# df1 = df1[50000 <= df1['Mean_Salary']]\n",
    "# df1 = df1[df1['Mean_Salary'] < 200000]"
   ]
  },
  {
   "cell_type": "code",
   "execution_count": 306,
   "metadata": {},
   "outputs": [
    {
     "data": {
      "text/plain": [
       "1781"
      ]
     },
     "execution_count": 306,
     "metadata": {},
     "output_type": "execute_result"
    }
   ],
   "source": [
    "df1['Seniority'] = df1['Job Title'].apply(seniority)\n",
    "# Categorize salary\n",
    "# def salary_category(salary):\n",
    "#     if salary<5000:\n",
    "#         return 0\n",
    "#     if 50000 <= salary < 75000:\n",
    "#         return 1\n",
    "#     if 75000 <= salary < 100000:\n",
    "#         return 2\n",
    "#     if 100000 <= salary < 125000:\n",
    "#         return 3\n",
    "#     if 125000 <= salary < 150000:\n",
    "#         return 4\n",
    "#     if 150000 <= salary < 175000:\n",
    "#         return 5\n",
    "#     if 175000 <= salary < 200000:\n",
    "#         return 6\n",
    "#     else:\n",
    "#         return 7\n",
    "# Categorize salary\n",
    "def salary_category(salary):\n",
    "\n",
    "    if salary < 120000:\n",
    "        return 1\n",
    "    if 120000<=salary < 170000:\n",
    "        return 2\n",
    "    \n",
    "    if 150000<= salary < 200000:\n",
    "        return 3\n",
    "    if salary >= 200000:\n",
    "        return 4\n",
    "\n",
    "target = df1['Mean_Salary'].apply(salary_category)\n",
    "len(target)"
   ]
  },
  {
   "cell_type": "code",
   "execution_count": 307,
   "metadata": {},
   "outputs": [],
   "source": [
    "df1=df1.drop(\"Location\",axis=1)\n"
   ]
  },
  {
   "cell_type": "code",
   "execution_count": 308,
   "metadata": {},
   "outputs": [],
   "source": [
    "df1['Description'] = df1['Description'].apply(lambda x: ' '.join(x.split()))\n",
    "df1['Description'] = df1['Description'].apply(lambda x: re.sub(r'[^\\w\\s]','', x.lower()))\n",
    "df1['Description'] = df1['Description'].apply(lambda x: ' '.join([word for word in x.split() if word not in stopWords]))   "
   ]
  },
  {
   "cell_type": "code",
   "execution_count": 309,
   "metadata": {},
   "outputs": [],
   "source": [
    "from sklearn.model_selection import GridSearchCV\n",
    "model =  RandomForestClassifier()\n",
    "param_grid = {'max_depth': [3, 5, 10,15],\n",
    "         'min_samples_split': [2, 5, 10,15]}\n",
    "grid_search = GridSearchCV(model, param_grid=param_grid)"
   ]
  },
  {
   "cell_type": "code",
   "execution_count": 310,
   "metadata": {},
   "outputs": [],
   "source": [
    "df1=df1.drop([\"Description\",\"Mean_Salary\"],axis=1)"
   ]
  },
  {
   "cell_type": "code",
   "execution_count": 311,
   "metadata": {},
   "outputs": [
    {
     "data": {
      "text/plain": [
       "Index(['Job Title', 'Category', 'state', 'Python', 'R', 'SQL', 'AWS', 'Excel',\n",
       "       'GCP', 'Azure', 'Spark', 'Tableau', 'Keras', 'NoSQL',\n",
       "       'Machine_Learning', 'Hadoop', 'AI', 'Power_BI', 'Seniority'],\n",
       "      dtype='object')"
      ]
     },
     "execution_count": 311,
     "metadata": {},
     "output_type": "execute_result"
    }
   ],
   "source": [
    "df1.columns"
   ]
  },
  {
   "cell_type": "code",
   "execution_count": 312,
   "metadata": {},
   "outputs": [
    {
     "data": {
      "text/plain": [
       "GridSearchCV(estimator=RandomForestClassifier(),\n",
       "             param_grid={'max_depth': [3, 5, 10, 15],\n",
       "                         'min_samples_split': [2, 5, 10, 15]})"
      ]
     },
     "execution_count": 312,
     "metadata": {},
     "output_type": "execute_result"
    }
   ],
   "source": [
    "df2=pd.get_dummies(df1)\n",
    "\n",
    "X_train, X_test, y_train, y_test = train_test_split(df2, target, test_size=0.2, random_state=42)\n",
    "X_train.head(2)\n",
    "grid_search.fit(X_train, y_train)\n"
   ]
  },
  {
   "cell_type": "code",
   "execution_count": 313,
   "metadata": {},
   "outputs": [],
   "source": [
    "preds=grid_search.predict(X_test)"
   ]
  },
  {
   "cell_type": "code",
   "execution_count": 314,
   "metadata": {},
   "outputs": [
    {
     "data": {
      "text/plain": [
       "0.8235294117647058"
      ]
     },
     "execution_count": 314,
     "metadata": {},
     "output_type": "execute_result"
    }
   ],
   "source": [
    "def evaluate(preds, y_test, variation):\n",
    "    counter = 0\n",
    "    for i in range(len(preds)):\n",
    "        if y_test[i]-variation <= preds[i] <= y_test[i]+variation:\n",
    "            counter += 1\n",
    "        else: \n",
    "            counter += 0\n",
    "    accuracy = counter / len(preds) \n",
    "    return accuracy\n",
    "        \n",
    "evaluate(list(preds), list(y_test), 0)"
   ]
  },
  {
   "cell_type": "code",
   "execution_count": 315,
   "metadata": {},
   "outputs": [
    {
     "name": "stdout",
     "output_type": "stream",
     "text": [
      "['Python', 'R', 'SQL', 'AWS', 'Excel', 'GCP', 'Azure', 'Spark', 'Tableau', 'Keras', 'NoSQL', 'Machine_Learning', 'Hadoop', 'AI', 'Power_BI', 'Job Title_data analyst', 'Job Title_data engineer', 'Job Title_data science related jobs', 'Job Title_data scientist', 'Job Title_director', 'Job Title_machine learning engineer', 'Job Title_manager', 'Category_Big Data Software Engineer', 'Category_Business Intelligence Analyst', 'Category_Business Intelligence Developer', 'Category_Business Systems Analyst', 'Category_Data Analyst', 'Category_Data Architect', 'Category_Data Engineer', 'Category_Data Modeler', 'Category_Data Scientist', 'Category_Data Storyteller', 'Category_Data Warehouse Manager', 'Category_Database Administrator', 'Category_Database Manager', 'Category_IT Systems Analyst', 'Category_Logistics Analyst', 'Category_Machine Learning Engineer', 'Category_Machine Learning Scientist', 'Category_Marketing Analyst', 'Category_Quantitative Analyst', 'Category_Statistician', 'state_ AK', 'state_ AL', 'state_ AR', 'state_ AZ', 'state_ CA', 'state_ CO', 'state_ CT', 'state_ DC', 'state_ DE', 'state_ FL', 'state_ GA', 'state_ HI', 'state_ IA', 'state_ ID', 'state_ IL', 'state_ IN', 'state_ KS', 'state_ KY', 'state_ LA', 'state_ MA', 'state_ MD', 'state_ ME', 'state_ MI', 'state_ MN', 'state_ MO', 'state_ MS', 'state_ MT', 'state_ NC', 'state_ ND', 'state_ NE', 'state_ NH', 'state_ NJ', 'state_ NM', 'state_ NV', 'state_ NY', 'state_ OH', 'state_ OK', 'state_ OR', 'state_ PA', 'state_ PR', 'state_ RI', 'state_ SC', 'state_ TN', 'state_ TX', 'state_ UT', 'state_ VA', 'state_ VI', 'state_ VT', 'state_ WA', 'state_ WI', 'state_ WV', 'state_ WY', 'Seniority_Not Specified', 'Seniority_Senior']\n"
     ]
    }
   ],
   "source": [
    "print(X_test.columns.tolist())"
   ]
  },
  {
   "cell_type": "code",
   "execution_count": 316,
   "metadata": {},
   "outputs": [],
   "source": [
    "import pickle\n",
    "with open('salary_predict_model1.pkl', 'wb') as file:\n",
    "    pickle.dump(grid_search, file)"
   ]
  }
 ],
 "metadata": {
  "interpreter": {
   "hash": "0507ca4863d74825e19143f64061a0d98fde3c42611721bd9ba5ee5b8cfcb010"
  },
  "kernelspec": {
   "display_name": "Python 3",
   "language": "python",
   "name": "python3"
  },
  "language_info": {
   "codemirror_mode": {
    "name": "ipython",
    "version": 3
   },
   "file_extension": ".py",
   "mimetype": "text/x-python",
   "name": "python",
   "nbconvert_exporter": "python",
   "pygments_lexer": "ipython3",
   "version": "3.8.5"
  }
 },
 "nbformat": 4,
 "nbformat_minor": 2
}
