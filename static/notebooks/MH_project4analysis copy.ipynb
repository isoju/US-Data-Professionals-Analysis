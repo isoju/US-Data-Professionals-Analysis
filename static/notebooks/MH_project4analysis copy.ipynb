{
 "cells": [
  {
   "cell_type": "code",
   "execution_count": 1,
   "id": "09f79c5d",
   "metadata": {},
   "outputs": [],
   "source": [
    "\n",
    "import pandas as pd\n",
    "from pyspark.sql.functions import col\n",
    "from pyspark.sql.types import StringType,BooleanType,DateType"
   ]
  },
  {
   "cell_type": "code",
   "execution_count": 2,
   "id": "7e129707",
   "metadata": {},
   "outputs": [],
   "source": [
    "from pyspark.sql import SparkSession\n",
    "spark = SparkSession.builder.appName(\"GamingCloudETL\").config(\"spark.driver.extraClassPath\",\"/content/postgresql-42.2.9.jar\").getOrCreate()"
   ]
  },
  {
   "cell_type": "code",
   "execution_count": 15,
   "id": "f3aa2867",
   "metadata": {},
   "outputs": [
    {
     "name": "stdout",
     "output_type": "stream",
     "text": [
      "+--------------------+--------------------+-----------------+------+--------------------+--------------------+\n",
      "|           Job Title|        Company Name|         Location|Salary|         Description|                link|\n",
      "+--------------------+--------------------+-----------------+------+--------------------+--------------------+\n",
      "|Senior Business A...|         Berks Homes|Mohnton, PA 19540|  null|Senior Business A...|https://www.indee...|\n",
      "|ISS-P Data Center...|Consolidated Nucl...|     Amarillo, TX|  null|Location: Amarill...|                null|\n",
      "|Job Title: ISS-P ...|                null|             null|  null|                null|                null|\n",
      "|Career Level From...|                null|             null|  null|                null|                null|\n",
      "|Career Level To: ...|                null|             null|  null|                null|                null|\n",
      "+--------------------+--------------------+-----------------+------+--------------------+--------------------+\n",
      "only showing top 5 rows\n",
      "\n"
     ]
    }
   ],
   "source": [
    "from pyspark import SparkFiles\n",
    "url =\"https://mw-project-4.s3.us-west-1.amazonaws.com/mw_job_listings_scraped.csv\"\n",
    "spark.sparkContext.addFile(url)\n",
    "df = spark.read.csv(SparkFiles.get(\"mw_job_listings_scraped.csv\"), sep=\",\", header=True,inferSchema=True)\n",
    "\n",
    "df.show(5)"
   ]
  },
  {
   "cell_type": "code",
   "execution_count": 16,
   "id": "bd96909b",
   "metadata": {},
   "outputs": [
    {
     "name": "stdout",
     "output_type": "stream",
     "text": [
      "root\n",
      " |-- Job Title: string (nullable = true)\n",
      " |-- Company Name: string (nullable = true)\n",
      " |-- Location: string (nullable = true)\n",
      " |-- Salary: string (nullable = true)\n",
      " |-- Description: string (nullable = true)\n",
      " |-- link: string (nullable = true)\n",
      "\n"
     ]
    }
   ],
   "source": [
    "df.printSchema()"
   ]
  },
  {
   "cell_type": "markdown",
   "id": "7a5fe07a",
   "metadata": {},
   "source": [
    "# Total Job Opening count based on Job title"
   ]
  },
  {
   "cell_type": "code",
   "execution_count": 51,
   "id": "f7844538",
   "metadata": {},
   "outputs": [
    {
     "name": "stdout",
     "output_type": "stream",
     "text": [
      "+--------------------+------+\n",
      "|              Salary| count|\n",
      "+--------------------+------+\n",
      "|                null|360876|\n",
      "|                 sex|  1624|\n",
      "|            religion|  1273|\n",
      "|     gender identity|   723|\n",
      "|               color|   713|\n",
      "|     national origin|   677|\n",
      "|                etc.|   447|\n",
      "|          Statistics|   423|\n",
      "|000 employees in ...|   368|\n",
      "|               etc.)|   349|\n",
      "|          technology|   336|\n",
      "|              gender|   301|\n",
      "| family or medica...|   293|\n",
      "| and more. Learn ...|   261|\n",
      "| in addition to a...|   236|\n",
      "|                 age|   228|\n",
      "| and helps bring ...|   213|\n",
      "|                Java|   204|\n",
      "|         Engineering|   201|\n",
      "|    Computer Science|   189|\n",
      "+--------------------+------+\n",
      "only showing top 20 rows\n",
      "\n"
     ]
    }
   ],
   "source": [
    "df_jobcount=df.groupby('Salary').count().sort('count', ascending=False).show(n=20, truncate=True)"
   ]
  },
  {
   "cell_type": "code",
   "execution_count": null,
   "id": "81790c10",
   "metadata": {},
   "outputs": [],
   "source": [
    "job_count=df1.groupby('Job_Title').count()\n",
    "job_count.orderBy(col('count').asc()).select(\"Job_Title\",\"count\").show()"
   ]
  },
  {
   "cell_type": "code",
   "execution_count": null,
   "id": "3716fb18",
   "metadata": {},
   "outputs": [],
   "source": [
    "df_jobcount.printSchema()\n"
   ]
  },
  {
   "cell_type": "code",
   "execution_count": null,
   "id": "b366ae3e",
   "metadata": {},
   "outputs": [],
   "source": [
    "df1.plot(kind=\"bar\")"
   ]
  },
  {
   "cell_type": "code",
   "execution_count": null,
   "id": "72e65530",
   "metadata": {},
   "outputs": [],
   "source": []
  }
 ],
 "metadata": {
  "kernelspec": {
   "display_name": "Python 3",
   "language": "python",
   "name": "python3"
  },
  "language_info": {
   "codemirror_mode": {
    "name": "ipython",
    "version": 3
   },
   "file_extension": ".py",
   "mimetype": "text/x-python",
   "name": "python",
   "nbconvert_exporter": "python",
   "pygments_lexer": "ipython3",
   "version": "3.8.8"
  }
 },
 "nbformat": 4,
 "nbformat_minor": 5
}
