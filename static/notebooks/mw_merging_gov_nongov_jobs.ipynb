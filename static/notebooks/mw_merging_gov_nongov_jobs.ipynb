{
 "cells": [
  {
   "cell_type": "code",
   "execution_count": 13,
   "metadata": {},
   "outputs": [],
   "source": [
    "import pandas as pd"
   ]
  },
  {
   "cell_type": "code",
   "execution_count": 14,
   "metadata": {},
   "outputs": [],
   "source": [
    "indeed_df = pd.read_csv('../resources/mw_job_listings_scraped.csv')\n",
    "indeed_df['Type'] = 'Non-Government'\n",
    "gov_df = pd.read_csv('../resources/mw_govjob_listings_scraped.csv')\n",
    "gov_df['Type'] = 'Government'"
   ]
  },
  {
   "cell_type": "code",
   "execution_count": 15,
   "metadata": {},
   "outputs": [
    {
     "data": {
      "text/html": [
       "<div>\n",
       "<style scoped>\n",
       "    .dataframe tbody tr th:only-of-type {\n",
       "        vertical-align: middle;\n",
       "    }\n",
       "\n",
       "    .dataframe tbody tr th {\n",
       "        vertical-align: top;\n",
       "    }\n",
       "\n",
       "    .dataframe thead th {\n",
       "        text-align: right;\n",
       "    }\n",
       "</style>\n",
       "<table border=\"1\" class=\"dataframe\">\n",
       "  <thead>\n",
       "    <tr style=\"text-align: right;\">\n",
       "      <th></th>\n",
       "      <th>Job Title</th>\n",
       "      <th>Company Name</th>\n",
       "      <th>Location</th>\n",
       "      <th>Salary</th>\n",
       "      <th>Description</th>\n",
       "      <th>link</th>\n",
       "      <th>Category</th>\n",
       "      <th>Skills</th>\n",
       "      <th>Tools</th>\n",
       "      <th>Type</th>\n",
       "    </tr>\n",
       "  </thead>\n",
       "  <tbody>\n",
       "    <tr>\n",
       "      <th>0</th>\n",
       "      <td>Senior Business Analyst - Land</td>\n",
       "      <td>Berks Homes</td>\n",
       "      <td>Mohnton, PA 19540</td>\n",
       "      <td>NaN</td>\n",
       "      <td>Senior Business Analyst - Land Berks Homes is ...</td>\n",
       "      <td>https://www.indeed.com/pagead/clk?mo=r&amp;ad=-6NY...</td>\n",
       "      <td>Data Analyst</td>\n",
       "      <td></td>\n",
       "      <td>R, Scala</td>\n",
       "      <td>Non-Government</td>\n",
       "    </tr>\n",
       "  </tbody>\n",
       "</table>\n",
       "</div>"
      ],
      "text/plain": [
       "                        Job Title Company Name           Location Salary  \\\n",
       "0  Senior Business Analyst - Land  Berks Homes  Mohnton, PA 19540    NaN   \n",
       "\n",
       "                                         Description  \\\n",
       "0  Senior Business Analyst - Land Berks Homes is ...   \n",
       "\n",
       "                                                link      Category Skills  \\\n",
       "0  https://www.indeed.com/pagead/clk?mo=r&ad=-6NY...  Data Analyst          \n",
       "\n",
       "       Tools            Type  \n",
       "0  R, Scala   Non-Government  "
      ]
     },
     "execution_count": 15,
     "metadata": {},
     "output_type": "execute_result"
    }
   ],
   "source": [
    "indeed_df.head(1)"
   ]
  },
  {
   "cell_type": "code",
   "execution_count": 16,
   "metadata": {},
   "outputs": [
    {
     "data": {
      "text/html": [
       "<div>\n",
       "<style scoped>\n",
       "    .dataframe tbody tr th:only-of-type {\n",
       "        vertical-align: middle;\n",
       "    }\n",
       "\n",
       "    .dataframe tbody tr th {\n",
       "        vertical-align: top;\n",
       "    }\n",
       "\n",
       "    .dataframe thead th {\n",
       "        text-align: right;\n",
       "    }\n",
       "</style>\n",
       "<table border=\"1\" class=\"dataframe\">\n",
       "  <thead>\n",
       "    <tr style=\"text-align: right;\">\n",
       "      <th></th>\n",
       "      <th>Job Title</th>\n",
       "      <th>Company Name</th>\n",
       "      <th>Company Location</th>\n",
       "      <th>Salary</th>\n",
       "      <th>Description</th>\n",
       "      <th>Link</th>\n",
       "      <th>Job Category</th>\n",
       "      <th>Skills</th>\n",
       "      <th>Tools</th>\n",
       "      <th>Type</th>\n",
       "    </tr>\n",
       "  </thead>\n",
       "  <tbody>\n",
       "    <tr>\n",
       "      <th>0</th>\n",
       "      <td>Data Analyst</td>\n",
       "      <td>Other Agencies and Independent Organizations</td>\n",
       "      <td>Washington, District of Columbia</td>\n",
       "      <td>Starting at $87,198 (GS 12)</td>\n",
       "      <td>Help\\r\\n                                    \\n...</td>\n",
       "      <td>https://www.usajobs.gov/GetJob/ViewDetails/622...</td>\n",
       "      <td>Data Analyst</td>\n",
       "      <td>Data Visualization, Data Analysis</td>\n",
       "      <td>SQL, R, Tableau</td>\n",
       "      <td>Government</td>\n",
       "    </tr>\n",
       "  </tbody>\n",
       "</table>\n",
       "</div>"
      ],
      "text/plain": [
       "      Job Title                                  Company Name  \\\n",
       "0  Data Analyst  Other Agencies and Independent Organizations   \n",
       "\n",
       "                   Company Location                       Salary  \\\n",
       "0  Washington, District of Columbia  Starting at $87,198 (GS 12)   \n",
       "\n",
       "                                         Description  \\\n",
       "0  Help\\r\\n                                    \\n...   \n",
       "\n",
       "                                                Link  Job Category  \\\n",
       "0  https://www.usajobs.gov/GetJob/ViewDetails/622...  Data Analyst   \n",
       "\n",
       "                               Skills             Tools        Type  \n",
       "0  Data Visualization, Data Analysis   SQL, R, Tableau   Government  "
      ]
     },
     "execution_count": 16,
     "metadata": {},
     "output_type": "execute_result"
    }
   ],
   "source": [
    "gov_df.head(1)"
   ]
  },
  {
   "cell_type": "code",
   "execution_count": 17,
   "metadata": {},
   "outputs": [],
   "source": [
    "indeed_df = indeed_df.rename(columns={'link':'Link'})"
   ]
  },
  {
   "cell_type": "code",
   "execution_count": 18,
   "metadata": {},
   "outputs": [],
   "source": [
    "gov_df = gov_df.rename(columns={'Company Location':'Location', 'Job Category':'Category'})"
   ]
  },
  {
   "cell_type": "code",
   "execution_count": 19,
   "metadata": {},
   "outputs": [],
   "source": [
    "column_names = [\"Job Title\", \"Company Name\", \"Location\",\"Salary\",\"Description\", \"Link\", \"Category\",\"Skills\", \"Tools\", \"Type\"]\n",
    "merged_jobs_df = pd.DataFrame(columns = column_names)\n",
    "merged_jobs_df = pd.concat([indeed_df, gov_df], ignore_index=True)"
   ]
  },
  {
   "cell_type": "code",
   "execution_count": 22,
   "metadata": {},
   "outputs": [],
   "source": [
    "merged_jobs_df = merged_jobs_df.rename(columns={'Job Title': 'Posted Title', 'Category':'Job Title'})"
   ]
  },
  {
   "cell_type": "code",
   "execution_count": 24,
   "metadata": {},
   "outputs": [],
   "source": [
    "del merged_jobs_df['Location']\n",
    "del merged_jobs_df['Salary']\n",
    "del merged_jobs_df['Description']\n",
    "del merged_jobs_df['Link']"
   ]
  },
  {
   "cell_type": "code",
   "execution_count": 26,
   "metadata": {},
   "outputs": [
    {
     "data": {
      "text/html": [
       "<div>\n",
       "<style scoped>\n",
       "    .dataframe tbody tr th:only-of-type {\n",
       "        vertical-align: middle;\n",
       "    }\n",
       "\n",
       "    .dataframe tbody tr th {\n",
       "        vertical-align: top;\n",
       "    }\n",
       "\n",
       "    .dataframe thead th {\n",
       "        text-align: right;\n",
       "    }\n",
       "</style>\n",
       "<table border=\"1\" class=\"dataframe\">\n",
       "  <thead>\n",
       "    <tr style=\"text-align: right;\">\n",
       "      <th></th>\n",
       "      <th>Posted Title</th>\n",
       "      <th>Company Name</th>\n",
       "      <th>Job Title</th>\n",
       "      <th>Skills</th>\n",
       "      <th>Tools</th>\n",
       "      <th>Type</th>\n",
       "    </tr>\n",
       "  </thead>\n",
       "  <tbody>\n",
       "    <tr>\n",
       "      <th>0</th>\n",
       "      <td>Senior Business Analyst - Land</td>\n",
       "      <td>Berks Homes</td>\n",
       "      <td>Data Analyst</td>\n",
       "      <td></td>\n",
       "      <td>R, Scala</td>\n",
       "      <td>Non-Government</td>\n",
       "    </tr>\n",
       "    <tr>\n",
       "      <th>1</th>\n",
       "      <td>ISS-P Data Center Analyst</td>\n",
       "      <td>Consolidated Nuclear Security</td>\n",
       "      <td>Data Analyst</td>\n",
       "      <td></td>\n",
       "      <td>R</td>\n",
       "      <td>Non-Government</td>\n",
       "    </tr>\n",
       "    <tr>\n",
       "      <th>2</th>\n",
       "      <td>Junior Data Analyst</td>\n",
       "      <td>Strategic Marketing Services</td>\n",
       "      <td>Data Analyst</td>\n",
       "      <td>Data Analysis</td>\n",
       "      <td>SQL, R, Excel</td>\n",
       "      <td>Non-Government</td>\n",
       "    </tr>\n",
       "    <tr>\n",
       "      <th>3</th>\n",
       "      <td>Data Analyst (Louisiana)</td>\n",
       "      <td>Tetra Tech Inc.</td>\n",
       "      <td>Data Analyst</td>\n",
       "      <td>Data Analysis</td>\n",
       "      <td>R, Excel</td>\n",
       "      <td>Non-Government</td>\n",
       "    </tr>\n",
       "    <tr>\n",
       "      <th>4</th>\n",
       "      <td>Marketing Data Analyst</td>\n",
       "      <td>Mercedes Scientific</td>\n",
       "      <td>Data Analyst</td>\n",
       "      <td></td>\n",
       "      <td>R</td>\n",
       "      <td>Non-Government</td>\n",
       "    </tr>\n",
       "  </tbody>\n",
       "</table>\n",
       "</div>"
      ],
      "text/plain": [
       "                     Posted Title                   Company Name  \\\n",
       "0  Senior Business Analyst - Land                    Berks Homes   \n",
       "1       ISS-P Data Center Analyst  Consolidated Nuclear Security   \n",
       "2             Junior Data Analyst   Strategic Marketing Services   \n",
       "3        Data Analyst (Louisiana)                Tetra Tech Inc.   \n",
       "4          Marketing Data Analyst            Mercedes Scientific   \n",
       "\n",
       "      Job Title          Skills           Tools            Type  \n",
       "0  Data Analyst                       R, Scala   Non-Government  \n",
       "1  Data Analyst                              R   Non-Government  \n",
       "2  Data Analyst  Data Analysis   SQL, R, Excel   Non-Government  \n",
       "3  Data Analyst  Data Analysis        R, Excel   Non-Government  \n",
       "4  Data Analyst                              R   Non-Government  "
      ]
     },
     "execution_count": 26,
     "metadata": {},
     "output_type": "execute_result"
    }
   ],
   "source": [
    "merged_jobs_df.head()"
   ]
  },
  {
   "cell_type": "code",
   "execution_count": 29,
   "metadata": {},
   "outputs": [],
   "source": [
    "merged_jobs_df.to_csv('../resources/mw_skills_tools.csv')"
   ]
  },
  {
   "cell_type": "code",
   "execution_count": null,
   "metadata": {},
   "outputs": [],
   "source": []
  }
 ],
 "metadata": {
  "kernelspec": {
   "display_name": "Python 3",
   "language": "python",
   "name": "python3"
  },
  "language_info": {
   "codemirror_mode": {
    "name": "ipython",
    "version": 3
   },
   "file_extension": ".py",
   "mimetype": "text/x-python",
   "name": "python",
   "nbconvert_exporter": "python",
   "pygments_lexer": "ipython3",
   "version": "3.8.5"
  }
 },
 "nbformat": 4,
 "nbformat_minor": 4
}
