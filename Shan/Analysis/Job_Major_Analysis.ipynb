{
 "cells": [
  {
   "cell_type": "code",
   "execution_count": 1,
   "source": [
    "import numpy as np # linear algebra\r\n",
    "import pandas as pd # data processing, CSV file I/O (e.g. pd.read_csv)\r\n"
   ],
   "outputs": [],
   "metadata": {}
  },
  {
   "cell_type": "code",
   "execution_count": 16,
   "source": [
    "print(\"Business\\\\\\\\2\\\\\\\\\")"
   ],
   "outputs": [
    {
     "output_type": "stream",
     "name": "stdout",
     "text": [
      "Business\\\\2\\\\\n"
     ]
    }
   ],
   "metadata": {}
  },
  {
   "cell_type": "code",
   "execution_count": 2,
   "source": [
    "path=\"resources/Indeed_Jobs_with_major_2020.csv\"\r\n",
    "\r\n",
    "df=pd.read_csv(path)"
   ],
   "outputs": [],
   "metadata": {}
  },
  {
   "cell_type": "code",
   "execution_count": 13,
   "source": [
    "df.loc[df[\"Field of study\"]==\"Business\\\\\\\\2\\\\\\\\\"]=\"Business\""
   ],
   "outputs": [],
   "metadata": {}
  },
  {
   "cell_type": "code",
   "execution_count": 14,
   "source": [
    "category=df.groupby('category')['job_title'].count().sort_values(ascending=False)\r\n",
    "category"
   ],
   "outputs": [
    {
     "output_type": "execute_result",
     "data": {
      "text/plain": [
       "category\n",
       "Computer-or-internet                   2242\n",
       "Manufacturing-or-mechanical            2231\n",
       "Customer-Service                       1487\n",
       "Transportation-or-logistics            1350\n",
       "Education-or-training                  1144\n",
       "Engineering-or-architecture             621\n",
       "Upper-Management-or-consulting          589\n",
       "Arts-or-entertainment-or-publishing     355\n",
       "Law-Enforcement-or-security             312\n",
       "Pharmaceutical/bio-tech                 272\n",
       "Government-or-military                  239\n",
       "Legal                                   200\n",
       "Real-Estate                             186\n",
       "Name: job_title, dtype: int64"
      ]
     },
     "metadata": {},
     "execution_count": 14
    }
   ],
   "metadata": {}
  },
  {
   "cell_type": "code",
   "execution_count": 15,
   "source": [
    "major=df.groupby('Field of study')['job_title'].count().sort_values(ascending=False)\r\n",
    "print(major)"
   ],
   "outputs": [
    {
     "output_type": "stream",
     "name": "stdout",
     "text": [
      "Field of study\n",
      "Computer and information sciences                          2242\n",
      "Engineering                                                2231\n",
      "Communication journalism and related programs              1487\n",
      "Transportation and materials moving                        1350\n",
      "Education                                                  1144\n",
      "Architecture and related services                           621\n",
      "Multi/interdisciplinary studies                             589\n",
      "English language and literature/letters                     355\n",
      "Homeland security law enforcement and\\n   firefighting      312\n",
      "Biological and biomedical sciences                          272\n",
      "Homeland security law enforcement and\\n   firefighting      239\n",
      "Legal professions and studies                               200\n",
      "Family and consumer sciences/human sciences                 186\n",
      "Name: job_title, dtype: int64\n"
     ]
    }
   ],
   "metadata": {}
  },
  {
   "cell_type": "code",
   "execution_count": null,
   "source": [],
   "outputs": [],
   "metadata": {}
  }
 ],
 "metadata": {
  "orig_nbformat": 4,
  "language_info": {
   "name": "python",
   "version": "3.8.5",
   "mimetype": "text/x-python",
   "codemirror_mode": {
    "name": "ipython",
    "version": 3
   },
   "pygments_lexer": "ipython3",
   "nbconvert_exporter": "python",
   "file_extension": ".py"
  },
  "kernelspec": {
   "name": "python3",
   "display_name": "Python 3.8.5 64-bit ('base': conda)"
  },
  "interpreter": {
   "hash": "0507ca4863d74825e19143f64061a0d98fde3c42611721bd9ba5ee5b8cfcb010"
  }
 },
 "nbformat": 4,
 "nbformat_minor": 2
}